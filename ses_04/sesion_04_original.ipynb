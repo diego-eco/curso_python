{
 "cells": [
  {
   "cell_type": "markdown",
   "id": "e5ecd7d5",
   "metadata": {
    "slideshow": {
     "slide_type": "slide"
    }
   },
   "source": [
    "# Python para economistas\n",
    "\n",
    "### Mtro. Diego López Tamayo\n",
    "#### El Colegio de México\n",
    "#### BBVA Research"
   ]
  },
  {
   "cell_type": "markdown",
   "id": "be34760b",
   "metadata": {
    "slideshow": {
     "slide_type": "slide"
    }
   },
   "source": [
    "# Manejo de strings e introducción a Pandas\n",
    "## Sesión 4 \n",
    "\n",
    "- Manejo básico de texto (`strings`)\n",
    "- Prefijos, sufijos, cambiar a minúsculas\n",
    "- Introducción a Pandas\n",
    "- DataFrames y Series\n",
    "- Filtrar variables y valores\n",
    "- Renombrar, crear y reemplazar variables\n",
    "- Manejo de fechas y series de tiempo"
   ]
  },
  {
   "cell_type": "markdown",
   "id": "9c523c0b",
   "metadata": {
    "slideshow": {
     "slide_type": "slide"
    }
   },
   "source": [
    "## Trabajando con datos textuales (strings)"
   ]
  },
  {
   "cell_type": "code",
   "execution_count": 33,
   "id": "913e7022",
   "metadata": {},
   "outputs": [
    {
     "name": "stdout",
     "output_type": "stream",
     "text": [
      "hola mundo\n"
     ]
    }
   ],
   "source": [
    "mensaje = 'hola mundo'\n",
    "print(mensaje)"
   ]
  },
  {
   "cell_type": "markdown",
   "id": "94534b21",
   "metadata": {},
   "source": [
    "##### Buenas prácticas\n",
    "\n",
    "- Variables en minúsculas\n",
    "- Variables con nombres contextuales\n",
    "- Múltiples palabras separadas con guión bajo \"_\""
   ]
  },
  {
   "cell_type": "code",
   "execution_count": 34,
   "id": "be551304",
   "metadata": {
    "slideshow": {
     "slide_type": "slide"
    }
   },
   "outputs": [
    {
     "name": "stdout",
     "output_type": "stream",
     "text": [
      "Diego's message\n"
     ]
    }
   ],
   "source": [
    "# Algunos símbolos (caracteres) se deben \"escapar\"\n",
    "# Para escapar caracteres especiales, utilizamos \"\\\" Si queremos usar \\ usamos \"\\\\\"\n",
    "\n",
    "mensaje = 'Diego\\'s message'\n",
    "mensaje = \"Diego's message\" # Podemos distinguir entre comillas\n",
    "print(mensaje)"
   ]
  },
  {
   "cell_type": "code",
   "execution_count": 35,
   "id": "86293523",
   "metadata": {
    "slideshow": {
     "slide_type": "subslide"
    }
   },
   "outputs": [
    {
     "name": "stdout",
     "output_type": "stream",
     "text": [
      "\"Había una vez... \n",
      "Y este es el fin\n"
     ]
    }
   ],
   "source": [
    "# Podemos utilizar triple comilla para utilizar múltiples líneas\n",
    "\n",
    "mensaje = \"\"\"\"Había una vez... \n",
    "Y este es el fin\"\"\"\n",
    "print(mensaje)"
   ]
  },
  {
   "cell_type": "code",
   "execution_count": 36,
   "id": "2c824944",
   "metadata": {
    "slideshow": {
     "slide_type": "slide"
    }
   },
   "outputs": [
    {
     "name": "stdout",
     "output_type": "stream",
     "text": [
      "10\n"
     ]
    }
   ],
   "source": [
    "# Algunas funciones para strings\n",
    "mensaje = 'Hola Mundo'\n",
    "print(len(mensaje))"
   ]
  },
  {
   "cell_type": "markdown",
   "id": "4f670b06",
   "metadata": {},
   "source": [
    "## Strings son una forma de listas - arrays"
   ]
  },
  {
   "cell_type": "code",
   "execution_count": 37,
   "id": "842ed62f",
   "metadata": {
    "slideshow": {
     "slide_type": "subslide"
    }
   },
   "outputs": [
    {
     "name": "stdout",
     "output_type": "stream",
     "text": [
      "o\n",
      "o\n",
      "o\n"
     ]
    }
   ],
   "source": [
    "# Podemos hacer slicing de nuestros strings\n",
    "print(mensaje[9])\n",
    "print(mensaje[-1])\n",
    "print(mensaje[len(mensaje)-1])"
   ]
  },
  {
   "cell_type": "code",
   "execution_count": 38,
   "id": "00f05e93",
   "metadata": {},
   "outputs": [
    {
     "name": "stdout",
     "output_type": "stream",
     "text": [
      "Hola\n",
      "Mundo\n"
     ]
    }
   ],
   "source": [
    "# Podemos hacer slicing de nuestros strings\n",
    "print(mensaje[:4])\n",
    "print(mensaje[5:])"
   ]
  },
  {
   "cell_type": "code",
   "execution_count": 69,
   "id": "cff06a5b",
   "metadata": {
    "slideshow": {
     "slide_type": "slide"
    }
   },
   "outputs": [
    {
     "name": "stdout",
     "output_type": "stream",
     "text": [
      "D\n",
      "i\n",
      "e\n",
      "g\n",
      "o\n",
      " \n",
      "e\n",
      "s\n",
      "t\n",
      "u\n",
      "d\n",
      "i\n",
      "ó\n",
      " \n",
      "e\n",
      "c\n",
      "o\n",
      "n\n",
      "o\n",
      "m\n",
      "í\n",
      "a\n"
     ]
    }
   ],
   "source": [
    "# Los strings son iterables\n",
    "for x in mensaje:\n",
    "    print(x)"
   ]
  },
  {
   "cell_type": "markdown",
   "id": "c1ee7dae",
   "metadata": {
    "slideshow": {
     "slide_type": "slide"
    }
   },
   "source": [
    "### Métodos útiles para strings"
   ]
  },
  {
   "cell_type": "code",
   "execution_count": 75,
   "id": "23d3b5e4",
   "metadata": {
    "slideshow": {
     "slide_type": "-"
    }
   },
   "outputs": [
    {
     "name": "stdout",
     "output_type": "stream",
     "text": [
      "diego estudió economía\n",
      "DIEGO ESTUDIÓ ECONOMÍA\n",
      " Python Para Economistas \n",
      "python para economistas\n"
     ]
    }
   ],
   "source": [
    "print(mensaje.lower())\n",
    "print(mensaje.upper())\n",
    "\n",
    "# Otros métodos útiles\n",
    "\n",
    "curso = ' python para economistas '\n",
    "print(curso.title())\n",
    "print(curso.strip()) # Quitar espacios blancos rstrip, lstrip para enfocarnes al inicio o al final"
   ]
  },
  {
   "cell_type": "code",
   "execution_count": 68,
   "id": "306147a4",
   "metadata": {
    "slideshow": {
     "slide_type": "slide"
    }
   },
   "outputs": [
    {
     "name": "stdout",
     "output_type": "stream",
     "text": [
      "3\n",
      "14\n",
      "False\n"
     ]
    }
   ],
   "source": [
    "mensaje = 'Diego estudió economía'\n",
    "\n",
    "# Contar las repeticiones de un string dentro uno más grande\n",
    "print(mensaje.count('o'))\n",
    "# Encontrar el índice de algunos caracteres\n",
    "print(mensaje.find('economía')) # Nos arroja la primer ocurrencia (donde empieza). Si no existe, nos regresa un -1\n",
    "print('economía' not in mensaje)"
   ]
  },
  {
   "cell_type": "code",
   "execution_count": 53,
   "id": "37f1b62c",
   "metadata": {
    "slideshow": {
     "slide_type": "slide"
    }
   },
   "outputs": [
    {
     "name": "stdout",
     "output_type": "stream",
     "text": [
      "Diego estudió historia\n",
      "Diego estudió economía\n"
     ]
    }
   ],
   "source": [
    "# Método para remplazar elementos en un string\n",
    "print(mensaje.replace('economía','historia'))\n",
    "# No modifica el mensaje original\n",
    "print(mensaje)"
   ]
  },
  {
   "cell_type": "code",
   "execution_count": 55,
   "id": "5cfc3cd8",
   "metadata": {
    "slideshow": {
     "slide_type": "slide"
    }
   },
   "outputs": [
    {
     "name": "stdout",
     "output_type": "stream",
     "text": [
      "Hola Diego\n"
     ]
    }
   ],
   "source": [
    "# Concatenar strings\n",
    "\n",
    "saludo = 'Hola'\n",
    "nombre = 'Diego'\n",
    "\n",
    "mensaje = saludo + ' ' + nombre\n",
    "print(mensaje)"
   ]
  },
  {
   "cell_type": "code",
   "execution_count": 59,
   "id": "edd5a4ca",
   "metadata": {
    "slideshow": {
     "slide_type": "subslide"
    }
   },
   "outputs": [
    {
     "name": "stdout",
     "output_type": "stream",
     "text": [
      "Hola Diego\n"
     ]
    }
   ],
   "source": [
    "# Cuando se vuelven complicados los strings, podemos utilizar placeholders\n",
    "mensaje = '{} {}'.format(saludo,nombre)\n",
    "print(mensaje)"
   ]
  },
  {
   "cell_type": "code",
   "execution_count": 60,
   "id": "9315eb09",
   "metadata": {},
   "outputs": [
    {
     "name": "stdout",
     "output_type": "stream",
     "text": [
      "Hola Diego\n"
     ]
    }
   ],
   "source": [
    "# Python 3.6 hacia arriba tenemos nuevas funciones \"f-strings\"\n",
    "# Para hacer el formato tan simple como sea posible\n",
    "mensaje = f'{saludo} {nombre}'\n",
    "print(mensaje)"
   ]
  },
  {
   "cell_type": "code",
   "execution_count": 61,
   "id": "f1bdbcdf",
   "metadata": {},
   "outputs": [
    {
     "name": "stdout",
     "output_type": "stream",
     "text": [
      "Hola DIEGO\n"
     ]
    }
   ],
   "source": [
    "# Ventajas de \"f-strings\" es escribir código directo en el placeholder\n",
    "mensaje = f'{saludo} {nombre.upper()}'\n",
    "print(mensaje)"
   ]
  },
  {
   "cell_type": "code",
   "execution_count": 64,
   "id": "9ed72a6a",
   "metadata": {
    "slideshow": {
     "slide_type": "slide"
    }
   },
   "outputs": [
    {
     "name": "stdout",
     "output_type": "stream",
     "text": [
      "['__add__', '__class__', '__contains__', '__delattr__', '__dir__', '__doc__', '__eq__', '__format__', '__ge__', '__getattribute__', '__getitem__', '__getnewargs__', '__gt__', '__hash__', '__init__', '__init_subclass__', '__iter__', '__le__', '__len__', '__lt__', '__mod__', '__mul__', '__ne__', '__new__', '__reduce__', '__reduce_ex__', '__repr__', '__rmod__', '__rmul__', '__setattr__', '__sizeof__', '__str__', '__subclasshook__', 'capitalize', 'casefold', 'center', 'count', 'encode', 'endswith', 'expandtabs', 'find', 'format', 'format_map', 'index', 'isalnum', 'isalpha', 'isascii', 'isdecimal', 'isdigit', 'isidentifier', 'islower', 'isnumeric', 'isprintable', 'isspace', 'istitle', 'isupper', 'join', 'ljust', 'lower', 'lstrip', 'maketrans', 'partition', 'replace', 'rfind', 'rindex', 'rjust', 'rpartition', 'rsplit', 'rstrip', 'split', 'splitlines', 'startswith', 'strip', 'swapcase', 'title', 'translate', 'upper', 'zfill']\n"
     ]
    }
   ],
   "source": [
    "# Queremos ver todos los métidos a los que tenemos acceso.\n",
    "print(dir(nombre))\n",
    "# Ignoremos por ahora los que tienen dobre guión al inicio o al final\n",
    "# help(str.find)"
   ]
  },
  {
   "cell_type": "code",
   "execution_count": 97,
   "id": "b2e4804d",
   "metadata": {
    "slideshow": {
     "slide_type": "slide"
    }
   },
   "outputs": [
    {
     "name": "stdout",
     "output_type": "stream",
     "text": [
      "['enigh_2020_ing_cor', 'enigh_2020_gasto', 'enigh_2020_salud', 'enigh_2020_energia', 'enigh_2020_alimentos']\n"
     ]
    }
   ],
   "source": [
    "# Ejemplo\n",
    "\n",
    "variables = [\"ing_cor\",\"gasto\",\"salud\",\"energia\",\"alimentos\"]\n",
    "prefijo = \"enigh_2020_\"\n",
    "\n",
    "\n",
    "variables_pre = []\n",
    "for i in range(len(variables)):\n",
    "    variables_pre.insert(i, prefijo + variables[i])\n",
    "\n",
    "print(variables_pre)"
   ]
  },
  {
   "cell_type": "markdown",
   "id": "1dbb99f6",
   "metadata": {
    "slideshow": {
     "slide_type": "slide"
    }
   },
   "source": [
    "# Introducción a Pandas\n",
    "\n"
   ]
  },
  {
   "cell_type": "markdown",
   "id": "9d9dbdd7-d814-4ffe-bae9-73eec35e1667",
   "metadata": {},
   "source": [
    "- Pandas es una librería que nos da muchas herramientas para análisis de datos.\n",
    "- Pandas está construído sobre `Numpy` agregando funciones adicionales para el manejo de **Dataframes**\n",
    "- Permite leer datos de distintas fuentes, unir bases de datos, cambiar la forma de nuestros datos y realizar análisis.\n",
    "- Buen desempeño al estar construido sobre `Numpy` heredando sus ventajas"
   ]
  },
  {
   "cell_type": "code",
   "execution_count": 2,
   "id": "6655d2e1",
   "metadata": {},
   "outputs": [],
   "source": [
    "import pandas as pd"
   ]
  },
  {
   "cell_type": "markdown",
   "id": "d7c71c92",
   "metadata": {
    "slideshow": {
     "slide_type": "subslide"
    }
   },
   "source": [
    "Pandas es adecuado para muchos tipos diferentes de datos:\n",
    "\n",
    "- Datos tabulares con columnas de tipos heterogéneos, como en una tabla SQL o una hoja de cálculo de Excel\n",
    "- Datos de series de tiempo ordenados y desordenados (no necesariamente de frecuencia fija).\n",
    "- Datos matriciales arbitrarios (homogéneos o heterogéneos) con etiquetas de fila y columna\n",
    "- Cualquier otra forma de conjuntos de datos observacionales / estadísticos. No es necesario etiquetar los datos en absoluto para colocarlos en una estructura de datos de pandas."
   ]
  },
  {
   "cell_type": "markdown",
   "id": "db359c21",
   "metadata": {
    "slideshow": {
     "slide_type": "subslide"
    }
   },
   "source": [
    "- Las dos estructuras de datos principales de pandas, Series (unidimensional y homogéneo) y DataFrame (bidimensional y heterogéneo), manejan la gran mayoría de los casos de uso típicos en finanzas, estadísticas, ciencias sociales y muchas áreas de la ingeniería.  \n",
    "- Para los usuarios de R, DataFrame proporciona todo lo que proporciona el data.frame de R y mucho más. \n",
    "\n",
    "    - Para ver la comparación entre pandas y R [ver aquí](https://pandas.pydata.org/docs/getting_started/comparison/comparison_with_r.html)\n",
    "    \n",
    "- Para los usuarios de Stata, pandas abarca los comandos básicos de manejo de bases de datos\n",
    "\n",
    "    - Para ver la comparación entre pandas y Stata [ver aquí]((https://pandas.pydata.org/docs/getting_started/comparison/comparison_with_stata.html)"
   ]
  },
  {
   "cell_type": "code",
   "execution_count": null,
   "id": "0497405f",
   "metadata": {},
   "outputs": [],
   "source": []
  },
  {
   "cell_type": "code",
   "execution_count": 1,
   "id": "78774da7",
   "metadata": {
    "slideshow": {
     "slide_type": "slide"
    }
   },
   "outputs": [
    {
     "data": {
      "text/html": [
       "<img src=\"https://media.geeksforgeeks.org/wp-content/cdn-uploads/creating_dataframe1.png\"/>"
      ],
      "text/plain": [
       "<IPython.core.display.Image object>"
      ]
     },
     "execution_count": 1,
     "metadata": {},
     "output_type": "execute_result"
    }
   ],
   "source": [
    "from IPython.display import Image\n",
    "from IPython.core.display import HTML \n",
    "Image(url= \"https://media.geeksforgeeks.org/wp-content/cdn-uploads/creating_dataframe1.png\")\n",
    "\n",
    "# La estructura de un DataFrame"
   ]
  },
  {
   "cell_type": "markdown",
   "id": "0595149a",
   "metadata": {
    "slideshow": {
     "slide_type": "slide"
    }
   },
   "source": [
    "#### Utilizaremos un dataset \"famoso\" en la comunidad de Python.\n",
    "\n",
    "Este tutorial utiliza el conjunto de datos de Titanic, almacenado como CSV. Tenemos las siguientes columnas de datos:\n",
    "\n",
    "- PassengerId: Id de cada pasajero.\n",
    "\n",
    "- Survived: esta característica tiene valor 0 y 1. 0 para no sobrevivido y 1 para sobrevivido.\n",
    "\n",
    "- Pclass: Hay 3 clases: Clase 1, Clase 2 y Clase 3.\n",
    "\n",
    "- Name: Nombre del pasajero.\n",
    "\n",
    "- Sex: Género del pasajero.\n",
    "\n",
    "- Age: Edad del pasajero.\n",
    "\n",
    "- SibSp: Indicación de que el pasajero tiene hermanos y cónyuge.\n",
    "\n",
    "- Parch: si un pasajero está solo o tiene familia.\n",
    "\n",
    "- Ticket: número de ticket del pasajero.\n",
    "\n",
    "- Fare: Indicando la tarifa.\n",
    "\n",
    "- Cabin: La cabina del pasajero.\n",
    "\n",
    "- Embarked: La categoría de embarcado."
   ]
  },
  {
   "cell_type": "code",
   "execution_count": 6,
   "id": "47ec8004",
   "metadata": {
    "slideshow": {
     "slide_type": "slide"
    }
   },
   "outputs": [
    {
     "data": {
      "text/html": [
       "<div>\n",
       "<style scoped>\n",
       "    .dataframe tbody tr th:only-of-type {\n",
       "        vertical-align: middle;\n",
       "    }\n",
       "\n",
       "    .dataframe tbody tr th {\n",
       "        vertical-align: top;\n",
       "    }\n",
       "\n",
       "    .dataframe thead th {\n",
       "        text-align: right;\n",
       "    }\n",
       "</style>\n",
       "<table border=\"1\" class=\"dataframe\">\n",
       "  <thead>\n",
       "    <tr style=\"text-align: right;\">\n",
       "      <th></th>\n",
       "      <th>PassengerId</th>\n",
       "      <th>Survived</th>\n",
       "      <th>Pclass</th>\n",
       "      <th>Name</th>\n",
       "      <th>Sex</th>\n",
       "      <th>Age</th>\n",
       "      <th>SibSp</th>\n",
       "      <th>Parch</th>\n",
       "      <th>Ticket</th>\n",
       "      <th>Fare</th>\n",
       "      <th>Cabin</th>\n",
       "      <th>Embarked</th>\n",
       "    </tr>\n",
       "  </thead>\n",
       "  <tbody>\n",
       "    <tr>\n",
       "      <th>0</th>\n",
       "      <td>1</td>\n",
       "      <td>0</td>\n",
       "      <td>3</td>\n",
       "      <td>Braund, Mr. Owen Harris</td>\n",
       "      <td>male</td>\n",
       "      <td>22.0</td>\n",
       "      <td>1</td>\n",
       "      <td>0</td>\n",
       "      <td>A/5 21171</td>\n",
       "      <td>7.2500</td>\n",
       "      <td>NaN</td>\n",
       "      <td>S</td>\n",
       "    </tr>\n",
       "    <tr>\n",
       "      <th>1</th>\n",
       "      <td>2</td>\n",
       "      <td>1</td>\n",
       "      <td>1</td>\n",
       "      <td>Cumings, Mrs. John Bradley (Florence Briggs Th...</td>\n",
       "      <td>female</td>\n",
       "      <td>38.0</td>\n",
       "      <td>1</td>\n",
       "      <td>0</td>\n",
       "      <td>PC 17599</td>\n",
       "      <td>71.2833</td>\n",
       "      <td>C85</td>\n",
       "      <td>C</td>\n",
       "    </tr>\n",
       "    <tr>\n",
       "      <th>2</th>\n",
       "      <td>3</td>\n",
       "      <td>1</td>\n",
       "      <td>3</td>\n",
       "      <td>Heikkinen, Miss. Laina</td>\n",
       "      <td>female</td>\n",
       "      <td>26.0</td>\n",
       "      <td>0</td>\n",
       "      <td>0</td>\n",
       "      <td>STON/O2. 3101282</td>\n",
       "      <td>7.9250</td>\n",
       "      <td>NaN</td>\n",
       "      <td>S</td>\n",
       "    </tr>\n",
       "    <tr>\n",
       "      <th>3</th>\n",
       "      <td>4</td>\n",
       "      <td>1</td>\n",
       "      <td>1</td>\n",
       "      <td>Futrelle, Mrs. Jacques Heath (Lily May Peel)</td>\n",
       "      <td>female</td>\n",
       "      <td>35.0</td>\n",
       "      <td>1</td>\n",
       "      <td>0</td>\n",
       "      <td>113803</td>\n",
       "      <td>53.1000</td>\n",
       "      <td>C123</td>\n",
       "      <td>S</td>\n",
       "    </tr>\n",
       "    <tr>\n",
       "      <th>4</th>\n",
       "      <td>5</td>\n",
       "      <td>0</td>\n",
       "      <td>3</td>\n",
       "      <td>Allen, Mr. William Henry</td>\n",
       "      <td>male</td>\n",
       "      <td>35.0</td>\n",
       "      <td>0</td>\n",
       "      <td>0</td>\n",
       "      <td>373450</td>\n",
       "      <td>8.0500</td>\n",
       "      <td>NaN</td>\n",
       "      <td>S</td>\n",
       "    </tr>\n",
       "    <tr>\n",
       "      <th>...</th>\n",
       "      <td>...</td>\n",
       "      <td>...</td>\n",
       "      <td>...</td>\n",
       "      <td>...</td>\n",
       "      <td>...</td>\n",
       "      <td>...</td>\n",
       "      <td>...</td>\n",
       "      <td>...</td>\n",
       "      <td>...</td>\n",
       "      <td>...</td>\n",
       "      <td>...</td>\n",
       "      <td>...</td>\n",
       "    </tr>\n",
       "    <tr>\n",
       "      <th>886</th>\n",
       "      <td>887</td>\n",
       "      <td>0</td>\n",
       "      <td>2</td>\n",
       "      <td>Montvila, Rev. Juozas</td>\n",
       "      <td>male</td>\n",
       "      <td>27.0</td>\n",
       "      <td>0</td>\n",
       "      <td>0</td>\n",
       "      <td>211536</td>\n",
       "      <td>13.0000</td>\n",
       "      <td>NaN</td>\n",
       "      <td>S</td>\n",
       "    </tr>\n",
       "    <tr>\n",
       "      <th>887</th>\n",
       "      <td>888</td>\n",
       "      <td>1</td>\n",
       "      <td>1</td>\n",
       "      <td>Graham, Miss. Margaret Edith</td>\n",
       "      <td>female</td>\n",
       "      <td>19.0</td>\n",
       "      <td>0</td>\n",
       "      <td>0</td>\n",
       "      <td>112053</td>\n",
       "      <td>30.0000</td>\n",
       "      <td>B42</td>\n",
       "      <td>S</td>\n",
       "    </tr>\n",
       "    <tr>\n",
       "      <th>888</th>\n",
       "      <td>889</td>\n",
       "      <td>0</td>\n",
       "      <td>3</td>\n",
       "      <td>Johnston, Miss. Catherine Helen \"Carrie\"</td>\n",
       "      <td>female</td>\n",
       "      <td>NaN</td>\n",
       "      <td>1</td>\n",
       "      <td>2</td>\n",
       "      <td>W./C. 6607</td>\n",
       "      <td>23.4500</td>\n",
       "      <td>NaN</td>\n",
       "      <td>S</td>\n",
       "    </tr>\n",
       "    <tr>\n",
       "      <th>889</th>\n",
       "      <td>890</td>\n",
       "      <td>1</td>\n",
       "      <td>1</td>\n",
       "      <td>Behr, Mr. Karl Howell</td>\n",
       "      <td>male</td>\n",
       "      <td>26.0</td>\n",
       "      <td>0</td>\n",
       "      <td>0</td>\n",
       "      <td>111369</td>\n",
       "      <td>30.0000</td>\n",
       "      <td>C148</td>\n",
       "      <td>C</td>\n",
       "    </tr>\n",
       "    <tr>\n",
       "      <th>890</th>\n",
       "      <td>891</td>\n",
       "      <td>0</td>\n",
       "      <td>3</td>\n",
       "      <td>Dooley, Mr. Patrick</td>\n",
       "      <td>male</td>\n",
       "      <td>32.0</td>\n",
       "      <td>0</td>\n",
       "      <td>0</td>\n",
       "      <td>370376</td>\n",
       "      <td>7.7500</td>\n",
       "      <td>NaN</td>\n",
       "      <td>Q</td>\n",
       "    </tr>\n",
       "  </tbody>\n",
       "</table>\n",
       "<p>891 rows × 12 columns</p>\n",
       "</div>"
      ],
      "text/plain": [
       "     PassengerId  Survived  Pclass  \\\n",
       "0              1         0       3   \n",
       "1              2         1       1   \n",
       "2              3         1       3   \n",
       "3              4         1       1   \n",
       "4              5         0       3   \n",
       "..           ...       ...     ...   \n",
       "886          887         0       2   \n",
       "887          888         1       1   \n",
       "888          889         0       3   \n",
       "889          890         1       1   \n",
       "890          891         0       3   \n",
       "\n",
       "                                                  Name     Sex   Age  SibSp  \\\n",
       "0                              Braund, Mr. Owen Harris    male  22.0      1   \n",
       "1    Cumings, Mrs. John Bradley (Florence Briggs Th...  female  38.0      1   \n",
       "2                               Heikkinen, Miss. Laina  female  26.0      0   \n",
       "3         Futrelle, Mrs. Jacques Heath (Lily May Peel)  female  35.0      1   \n",
       "4                             Allen, Mr. William Henry    male  35.0      0   \n",
       "..                                                 ...     ...   ...    ...   \n",
       "886                              Montvila, Rev. Juozas    male  27.0      0   \n",
       "887                       Graham, Miss. Margaret Edith  female  19.0      0   \n",
       "888           Johnston, Miss. Catherine Helen \"Carrie\"  female   NaN      1   \n",
       "889                              Behr, Mr. Karl Howell    male  26.0      0   \n",
       "890                                Dooley, Mr. Patrick    male  32.0      0   \n",
       "\n",
       "     Parch            Ticket     Fare Cabin Embarked  \n",
       "0        0         A/5 21171   7.2500   NaN        S  \n",
       "1        0          PC 17599  71.2833   C85        C  \n",
       "2        0  STON/O2. 3101282   7.9250   NaN        S  \n",
       "3        0            113803  53.1000  C123        S  \n",
       "4        0            373450   8.0500   NaN        S  \n",
       "..     ...               ...      ...   ...      ...  \n",
       "886      0            211536  13.0000   NaN        S  \n",
       "887      0            112053  30.0000   B42        S  \n",
       "888      2        W./C. 6607  23.4500   NaN        S  \n",
       "889      0            111369  30.0000  C148        C  \n",
       "890      0            370376   7.7500   NaN        Q  \n",
       "\n",
       "[891 rows x 12 columns]"
      ]
     },
     "execution_count": 6,
     "metadata": {},
     "output_type": "execute_result"
    }
   ],
   "source": [
    "data = pd.read_csv('https://raw.githubusercontent.com/pandas-dev/pandas/master/doc/data/titanic.csv')\n",
    "data"
   ]
  },
  {
   "cell_type": "code",
   "execution_count": 13,
   "id": "ad78aa73",
   "metadata": {},
   "outputs": [
    {
     "data": {
      "text/html": [
       "<div>\n",
       "<style scoped>\n",
       "    .dataframe tbody tr th:only-of-type {\n",
       "        vertical-align: middle;\n",
       "    }\n",
       "\n",
       "    .dataframe tbody tr th {\n",
       "        vertical-align: top;\n",
       "    }\n",
       "\n",
       "    .dataframe thead th {\n",
       "        text-align: right;\n",
       "    }\n",
       "</style>\n",
       "<table border=\"1\" class=\"dataframe\">\n",
       "  <thead>\n",
       "    <tr style=\"text-align: right;\">\n",
       "      <th></th>\n",
       "      <th>PassengerId</th>\n",
       "      <th>Survived</th>\n",
       "      <th>Pclass</th>\n",
       "      <th>Age</th>\n",
       "      <th>SibSp</th>\n",
       "      <th>Parch</th>\n",
       "      <th>Fare</th>\n",
       "    </tr>\n",
       "  </thead>\n",
       "  <tbody>\n",
       "    <tr>\n",
       "      <th>count</th>\n",
       "      <td>891.000000</td>\n",
       "      <td>891.000000</td>\n",
       "      <td>891.000000</td>\n",
       "      <td>714.000000</td>\n",
       "      <td>891.000000</td>\n",
       "      <td>891.000000</td>\n",
       "      <td>891.000000</td>\n",
       "    </tr>\n",
       "    <tr>\n",
       "      <th>mean</th>\n",
       "      <td>446.000000</td>\n",
       "      <td>0.383838</td>\n",
       "      <td>2.308642</td>\n",
       "      <td>29.699118</td>\n",
       "      <td>0.523008</td>\n",
       "      <td>0.381594</td>\n",
       "      <td>32.204208</td>\n",
       "    </tr>\n",
       "    <tr>\n",
       "      <th>std</th>\n",
       "      <td>257.353842</td>\n",
       "      <td>0.486592</td>\n",
       "      <td>0.836071</td>\n",
       "      <td>14.526497</td>\n",
       "      <td>1.102743</td>\n",
       "      <td>0.806057</td>\n",
       "      <td>49.693429</td>\n",
       "    </tr>\n",
       "    <tr>\n",
       "      <th>min</th>\n",
       "      <td>1.000000</td>\n",
       "      <td>0.000000</td>\n",
       "      <td>1.000000</td>\n",
       "      <td>0.420000</td>\n",
       "      <td>0.000000</td>\n",
       "      <td>0.000000</td>\n",
       "      <td>0.000000</td>\n",
       "    </tr>\n",
       "    <tr>\n",
       "      <th>25%</th>\n",
       "      <td>223.500000</td>\n",
       "      <td>0.000000</td>\n",
       "      <td>2.000000</td>\n",
       "      <td>20.125000</td>\n",
       "      <td>0.000000</td>\n",
       "      <td>0.000000</td>\n",
       "      <td>7.910400</td>\n",
       "    </tr>\n",
       "    <tr>\n",
       "      <th>50%</th>\n",
       "      <td>446.000000</td>\n",
       "      <td>0.000000</td>\n",
       "      <td>3.000000</td>\n",
       "      <td>28.000000</td>\n",
       "      <td>0.000000</td>\n",
       "      <td>0.000000</td>\n",
       "      <td>14.454200</td>\n",
       "    </tr>\n",
       "    <tr>\n",
       "      <th>75%</th>\n",
       "      <td>668.500000</td>\n",
       "      <td>1.000000</td>\n",
       "      <td>3.000000</td>\n",
       "      <td>38.000000</td>\n",
       "      <td>1.000000</td>\n",
       "      <td>0.000000</td>\n",
       "      <td>31.000000</td>\n",
       "    </tr>\n",
       "    <tr>\n",
       "      <th>max</th>\n",
       "      <td>891.000000</td>\n",
       "      <td>1.000000</td>\n",
       "      <td>3.000000</td>\n",
       "      <td>80.000000</td>\n",
       "      <td>8.000000</td>\n",
       "      <td>6.000000</td>\n",
       "      <td>512.329200</td>\n",
       "    </tr>\n",
       "  </tbody>\n",
       "</table>\n",
       "</div>"
      ],
      "text/plain": [
       "       PassengerId    Survived      Pclass         Age       SibSp  \\\n",
       "count   891.000000  891.000000  891.000000  714.000000  891.000000   \n",
       "mean    446.000000    0.383838    2.308642   29.699118    0.523008   \n",
       "std     257.353842    0.486592    0.836071   14.526497    1.102743   \n",
       "min       1.000000    0.000000    1.000000    0.420000    0.000000   \n",
       "25%     223.500000    0.000000    2.000000   20.125000    0.000000   \n",
       "50%     446.000000    0.000000    3.000000   28.000000    0.000000   \n",
       "75%     668.500000    1.000000    3.000000   38.000000    1.000000   \n",
       "max     891.000000    1.000000    3.000000   80.000000    8.000000   \n",
       "\n",
       "            Parch        Fare  \n",
       "count  891.000000  891.000000  \n",
       "mean     0.381594   32.204208  \n",
       "std      0.806057   49.693429  \n",
       "min      0.000000    0.000000  \n",
       "25%      0.000000    7.910400  \n",
       "50%      0.000000   14.454200  \n",
       "75%      0.000000   31.000000  \n",
       "max      6.000000  512.329200  "
      ]
     },
     "execution_count": 13,
     "metadata": {},
     "output_type": "execute_result"
    }
   ],
   "source": [
    "# Métodos para explorar\n",
    "data.head()\n",
    "data.describe()"
   ]
  },
  {
   "cell_type": "code",
   "execution_count": 16,
   "id": "59cd4300",
   "metadata": {},
   "outputs": [
    {
     "data": {
      "text/plain": [
       "Index(['PassengerId', 'Survived', 'Pclass', 'Name', 'Sex', 'Age', 'SibSp',\n",
       "       'Parch', 'Ticket', 'Fare', 'Cabin', 'Embarked'],\n",
       "      dtype='object')"
      ]
     },
     "execution_count": 16,
     "metadata": {},
     "output_type": "execute_result"
    }
   ],
   "source": [
    "data.columns"
   ]
  },
  {
   "cell_type": "code",
   "execution_count": 17,
   "id": "e1469504",
   "metadata": {},
   "outputs": [
    {
     "data": {
      "text/html": [
       "<div>\n",
       "<style scoped>\n",
       "    .dataframe tbody tr th:only-of-type {\n",
       "        vertical-align: middle;\n",
       "    }\n",
       "\n",
       "    .dataframe tbody tr th {\n",
       "        vertical-align: top;\n",
       "    }\n",
       "\n",
       "    .dataframe thead th {\n",
       "        text-align: right;\n",
       "    }\n",
       "</style>\n",
       "<table border=\"1\" class=\"dataframe\">\n",
       "  <thead>\n",
       "    <tr style=\"text-align: right;\">\n",
       "      <th></th>\n",
       "      <th>PassengerId</th>\n",
       "      <th>Survived</th>\n",
       "      <th>Pclass</th>\n",
       "      <th>Sex</th>\n",
       "      <th>Age</th>\n",
       "    </tr>\n",
       "  </thead>\n",
       "  <tbody>\n",
       "    <tr>\n",
       "      <th>0</th>\n",
       "      <td>1</td>\n",
       "      <td>0</td>\n",
       "      <td>3</td>\n",
       "      <td>male</td>\n",
       "      <td>22.0</td>\n",
       "    </tr>\n",
       "    <tr>\n",
       "      <th>1</th>\n",
       "      <td>2</td>\n",
       "      <td>1</td>\n",
       "      <td>1</td>\n",
       "      <td>female</td>\n",
       "      <td>38.0</td>\n",
       "    </tr>\n",
       "    <tr>\n",
       "      <th>2</th>\n",
       "      <td>3</td>\n",
       "      <td>1</td>\n",
       "      <td>3</td>\n",
       "      <td>female</td>\n",
       "      <td>26.0</td>\n",
       "    </tr>\n",
       "    <tr>\n",
       "      <th>3</th>\n",
       "      <td>4</td>\n",
       "      <td>1</td>\n",
       "      <td>1</td>\n",
       "      <td>female</td>\n",
       "      <td>35.0</td>\n",
       "    </tr>\n",
       "    <tr>\n",
       "      <th>4</th>\n",
       "      <td>5</td>\n",
       "      <td>0</td>\n",
       "      <td>3</td>\n",
       "      <td>male</td>\n",
       "      <td>35.0</td>\n",
       "    </tr>\n",
       "  </tbody>\n",
       "</table>\n",
       "</div>"
      ],
      "text/plain": [
       "   PassengerId  Survived  Pclass     Sex   Age\n",
       "0            1         0       3    male  22.0\n",
       "1            2         1       1  female  38.0\n",
       "2            3         1       3  female  26.0\n",
       "3            4         1       1  female  35.0\n",
       "4            5         0       3    male  35.0"
      ]
     },
     "execution_count": 17,
     "metadata": {},
     "output_type": "execute_result"
    }
   ],
   "source": [
    "data.drop(['Name', 'SibSp', 'Parch', 'Ticket', 'Fare', 'Cabin', 'Embarked'], axis = 1).head()"
   ]
  },
  {
   "cell_type": "code",
   "execution_count": null,
   "id": "965c887f",
   "metadata": {},
   "outputs": [],
   "source": []
  }
 ],
 "metadata": {
  "celltoolbar": "Slideshow",
  "kernelspec": {
   "display_name": "Python 3",
   "language": "python",
   "name": "python3"
  },
  "language_info": {
   "codemirror_mode": {
    "name": "ipython",
    "version": 3
   },
   "file_extension": ".py",
   "mimetype": "text/x-python",
   "name": "python",
   "nbconvert_exporter": "python",
   "pygments_lexer": "ipython3",
   "version": "3.8.8"
  }
 },
 "nbformat": 4,
 "nbformat_minor": 5
}
