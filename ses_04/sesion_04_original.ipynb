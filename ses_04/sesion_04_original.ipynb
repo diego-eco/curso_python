{
 "cells": [
  {
   "cell_type": "markdown",
   "id": "e5ecd7d5",
   "metadata": {
    "slideshow": {
     "slide_type": "slide"
    }
   },
   "source": [
    "# Python para economistas\n",
    "\n",
    "### Mtro. Diego López Tamayo\n",
    "#### El Colegio de México\n",
    "#### BBVA Research"
   ]
  },
  {
   "cell_type": "markdown",
   "id": "be34760b",
   "metadata": {
    "slideshow": {
     "slide_type": "slide"
    }
   },
   "source": [
    "# Manejo de strings e introducción a Pandas\n",
    "## Sesión 4 \n",
    "\n",
    "- Manejo básico de texto (`strings`)\n",
    "- Prefijos, sufijos, cambiar a minúsculas\n",
    "- Introducción a Pandas\n",
    "- DataFrames y Series\n",
    "- Filtrar variables y valores\n",
    "- Renombrar, crear y reemplazar variables\n",
    "- Manejo de fechas y series de tiempo"
   ]
  },
  {
   "cell_type": "markdown",
   "id": "9c523c0b",
   "metadata": {
    "slideshow": {
     "slide_type": "slide"
    }
   },
   "source": [
    "## Trabajando con datos textuales (strings)"
   ]
  },
  {
   "cell_type": "code",
   "execution_count": 33,
   "id": "913e7022",
   "metadata": {},
   "outputs": [
    {
     "name": "stdout",
     "output_type": "stream",
     "text": [
      "hola mundo\n"
     ]
    }
   ],
   "source": [
    "mensaje = 'hola mundo'\n",
    "print(mensaje)"
   ]
  },
  {
   "cell_type": "markdown",
   "id": "94534b21",
   "metadata": {},
   "source": [
    "##### Buenas prácticas\n",
    "\n",
    "- Variables en minúsculas\n",
    "- Variables con nombres contextuales\n",
    "- Múltiples palabras separadas con guión bajo \"_\""
   ]
  },
  {
   "cell_type": "code",
   "execution_count": 34,
   "id": "be551304",
   "metadata": {
    "slideshow": {
     "slide_type": "slide"
    }
   },
   "outputs": [
    {
     "name": "stdout",
     "output_type": "stream",
     "text": [
      "Diego's message\n"
     ]
    }
   ],
   "source": [
    "# Algunos símbolos (caracteres) se deben \"escapar\"\n",
    "# Para escapar caracteres especiales, utilizamos \"\\\" Si queremos usar \\ usamos \"\\\\\"\n",
    "\n",
    "mensaje = 'Diego\\'s message'\n",
    "mensaje = \"Diego's message\" # Podemos distinguir entre comillas\n",
    "print(mensaje)"
   ]
  },
  {
   "cell_type": "code",
   "execution_count": 35,
   "id": "86293523",
   "metadata": {
    "slideshow": {
     "slide_type": "subslide"
    }
   },
   "outputs": [
    {
     "name": "stdout",
     "output_type": "stream",
     "text": [
      "\"Había una vez... \n",
      "Y este es el fin\n"
     ]
    }
   ],
   "source": [
    "# Podemos utilizar triple comilla para utilizar múltiples líneas\n",
    "\n",
    "mensaje = \"\"\"\"Había una vez... \n",
    "Y este es el fin\"\"\"\n",
    "print(mensaje)"
   ]
  },
  {
   "cell_type": "code",
   "execution_count": 36,
   "id": "2c824944",
   "metadata": {
    "slideshow": {
     "slide_type": "slide"
    }
   },
   "outputs": [
    {
     "name": "stdout",
     "output_type": "stream",
     "text": [
      "10\n"
     ]
    }
   ],
   "source": [
    "# Algunas funciones para strings\n",
    "mensaje = 'Hola Mundo'\n",
    "print(len(mensaje))"
   ]
  },
  {
   "cell_type": "markdown",
   "id": "4f670b06",
   "metadata": {},
   "source": [
    "## Strings son una forma de listas - arrays"
   ]
  },
  {
   "cell_type": "code",
   "execution_count": 37,
   "id": "842ed62f",
   "metadata": {
    "slideshow": {
     "slide_type": "subslide"
    }
   },
   "outputs": [
    {
     "name": "stdout",
     "output_type": "stream",
     "text": [
      "o\n",
      "o\n",
      "o\n"
     ]
    }
   ],
   "source": [
    "# Podemos hacer slicing de nuestros strings\n",
    "print(mensaje[9])\n",
    "print(mensaje[-1])\n",
    "print(mensaje[len(mensaje)-1])"
   ]
  },
  {
   "cell_type": "code",
   "execution_count": 38,
   "id": "00f05e93",
   "metadata": {},
   "outputs": [
    {
     "name": "stdout",
     "output_type": "stream",
     "text": [
      "Hola\n",
      "Mundo\n"
     ]
    }
   ],
   "source": [
    "# Podemos hacer slicing de nuestros strings\n",
    "print(mensaje[:4])\n",
    "print(mensaje[5:])"
   ]
  },
  {
   "cell_type": "code",
   "execution_count": 69,
   "id": "cff06a5b",
   "metadata": {
    "slideshow": {
     "slide_type": "slide"
    }
   },
   "outputs": [
    {
     "name": "stdout",
     "output_type": "stream",
     "text": [
      "D\n",
      "i\n",
      "e\n",
      "g\n",
      "o\n",
      " \n",
      "e\n",
      "s\n",
      "t\n",
      "u\n",
      "d\n",
      "i\n",
      "ó\n",
      " \n",
      "e\n",
      "c\n",
      "o\n",
      "n\n",
      "o\n",
      "m\n",
      "í\n",
      "a\n"
     ]
    }
   ],
   "source": [
    "# Los strings son iterables\n",
    "for x in mensaje:\n",
    "    print(x)"
   ]
  },
  {
   "cell_type": "markdown",
   "id": "c1ee7dae",
   "metadata": {
    "slideshow": {
     "slide_type": "slide"
    }
   },
   "source": [
    "### Métodos útiles para strings"
   ]
  },
  {
   "cell_type": "code",
   "execution_count": 75,
   "id": "23d3b5e4",
   "metadata": {
    "slideshow": {
     "slide_type": "-"
    }
   },
   "outputs": [
    {
     "name": "stdout",
     "output_type": "stream",
     "text": [
      "diego estudió economía\n",
      "DIEGO ESTUDIÓ ECONOMÍA\n",
      " Python Para Economistas \n",
      "python para economistas\n"
     ]
    }
   ],
   "source": [
    "print(mensaje.lower())\n",
    "print(mensaje.upper())\n",
    "\n",
    "# Otros métodos útiles\n",
    "\n",
    "curso = ' python para economistas '\n",
    "print(curso.title())\n",
    "print(curso.strip()) # Quitar espacios blancos rstrip, lstrip para enfocarnes al inicio o al final"
   ]
  },
  {
   "cell_type": "code",
   "execution_count": 68,
   "id": "306147a4",
   "metadata": {
    "slideshow": {
     "slide_type": "slide"
    }
   },
   "outputs": [
    {
     "name": "stdout",
     "output_type": "stream",
     "text": [
      "3\n",
      "14\n",
      "False\n"
     ]
    }
   ],
   "source": [
    "mensaje = 'Diego estudió economía'\n",
    "\n",
    "# Contar las repeticiones de un string dentro uno más grande\n",
    "print(mensaje.count('o'))\n",
    "# Encontrar el índice de algunos caracteres\n",
    "print(mensaje.find('economía')) # Nos arroja la primer ocurrencia (donde empieza). Si no existe, nos regresa un -1\n",
    "print('economía' not in mensaje)"
   ]
  },
  {
   "cell_type": "code",
   "execution_count": 53,
   "id": "37f1b62c",
   "metadata": {
    "slideshow": {
     "slide_type": "slide"
    }
   },
   "outputs": [
    {
     "name": "stdout",
     "output_type": "stream",
     "text": [
      "Diego estudió historia\n",
      "Diego estudió economía\n"
     ]
    }
   ],
   "source": [
    "# Método para remplazar elementos en un string\n",
    "print(mensaje.replace('economía','historia'))\n",
    "# No modifica el mensaje original\n",
    "print(mensaje)"
   ]
  },
  {
   "cell_type": "code",
   "execution_count": 55,
   "id": "5cfc3cd8",
   "metadata": {
    "slideshow": {
     "slide_type": "slide"
    }
   },
   "outputs": [
    {
     "name": "stdout",
     "output_type": "stream",
     "text": [
      "Hola Diego\n"
     ]
    }
   ],
   "source": [
    "# Concatenar strings\n",
    "\n",
    "saludo = 'Hola'\n",
    "nombre = 'Diego'\n",
    "\n",
    "mensaje = saludo + ' ' + nombre\n",
    "print(mensaje)"
   ]
  },
  {
   "cell_type": "code",
   "execution_count": 59,
   "id": "edd5a4ca",
   "metadata": {
    "slideshow": {
     "slide_type": "subslide"
    }
   },
   "outputs": [
    {
     "name": "stdout",
     "output_type": "stream",
     "text": [
      "Hola Diego\n"
     ]
    }
   ],
   "source": [
    "# Cuando se vuelven complicados los strings, podemos utilizar placeholders\n",
    "mensaje = '{} {}'.format(saludo,nombre)\n",
    "print(mensaje)"
   ]
  },
  {
   "cell_type": "code",
   "execution_count": 60,
   "id": "9315eb09",
   "metadata": {},
   "outputs": [
    {
     "name": "stdout",
     "output_type": "stream",
     "text": [
      "Hola Diego\n"
     ]
    }
   ],
   "source": [
    "# Python 3.6 hacia arriba tenemos nuevas funciones \"f-strings\"\n",
    "# Para hacer el formato tan simple como sea posible\n",
    "mensaje = f'{saludo} {nombre}'\n",
    "print(mensaje)"
   ]
  },
  {
   "cell_type": "code",
   "execution_count": 61,
   "id": "f1bdbcdf",
   "metadata": {},
   "outputs": [
    {
     "name": "stdout",
     "output_type": "stream",
     "text": [
      "Hola DIEGO\n"
     ]
    }
   ],
   "source": [
    "# Ventajas de \"f-strings\" es escribir código directo en el placeholder\n",
    "mensaje = f'{saludo} {nombre.upper()}'\n",
    "print(mensaje)"
   ]
  },
  {
   "cell_type": "code",
   "execution_count": 64,
   "id": "9ed72a6a",
   "metadata": {
    "slideshow": {
     "slide_type": "slide"
    }
   },
   "outputs": [
    {
     "name": "stdout",
     "output_type": "stream",
     "text": [
      "['__add__', '__class__', '__contains__', '__delattr__', '__dir__', '__doc__', '__eq__', '__format__', '__ge__', '__getattribute__', '__getitem__', '__getnewargs__', '__gt__', '__hash__', '__init__', '__init_subclass__', '__iter__', '__le__', '__len__', '__lt__', '__mod__', '__mul__', '__ne__', '__new__', '__reduce__', '__reduce_ex__', '__repr__', '__rmod__', '__rmul__', '__setattr__', '__sizeof__', '__str__', '__subclasshook__', 'capitalize', 'casefold', 'center', 'count', 'encode', 'endswith', 'expandtabs', 'find', 'format', 'format_map', 'index', 'isalnum', 'isalpha', 'isascii', 'isdecimal', 'isdigit', 'isidentifier', 'islower', 'isnumeric', 'isprintable', 'isspace', 'istitle', 'isupper', 'join', 'ljust', 'lower', 'lstrip', 'maketrans', 'partition', 'replace', 'rfind', 'rindex', 'rjust', 'rpartition', 'rsplit', 'rstrip', 'split', 'splitlines', 'startswith', 'strip', 'swapcase', 'title', 'translate', 'upper', 'zfill']\n"
     ]
    }
   ],
   "source": [
    "# Queremos ver todos los métidos a los que tenemos acceso.\n",
    "print(dir(nombre))\n",
    "# Ignoremos por ahora los que tienen dobre guión al inicio o al final\n",
    "# help(str.find)"
   ]
  },
  {
   "cell_type": "code",
   "execution_count": 97,
   "id": "b2e4804d",
   "metadata": {
    "slideshow": {
     "slide_type": "slide"
    }
   },
   "outputs": [
    {
     "name": "stdout",
     "output_type": "stream",
     "text": [
      "['enigh_2020_ing_cor', 'enigh_2020_gasto', 'enigh_2020_salud', 'enigh_2020_energia', 'enigh_2020_alimentos']\n"
     ]
    }
   ],
   "source": [
    "# Ejemplo\n",
    "\n",
    "variables = [\"ing_cor\",\"gasto\",\"salud\",\"energia\",\"alimentos\"]\n",
    "prefijo = \"enigh_2020_\"\n",
    "\n",
    "\n",
    "variables_pre = []\n",
    "for i in range(len(variables)):\n",
    "    variables_pre.insert(i, prefijo + variables[i])\n",
    "\n",
    "print(variables_pre)"
   ]
  },
  {
   "cell_type": "markdown",
   "id": "1dbb99f6",
   "metadata": {
    "slideshow": {
     "slide_type": "slide"
    }
   },
   "source": [
    "# Introducción a Pandas\n",
    "\n"
   ]
  },
  {
   "cell_type": "code",
   "execution_count": null,
   "id": "7d3150c5",
   "metadata": {},
   "outputs": [],
   "source": []
  }
 ],
 "metadata": {
  "celltoolbar": "Slideshow",
  "kernelspec": {
   "display_name": "Python 3",
   "language": "python",
   "name": "python3"
  },
  "language_info": {
   "codemirror_mode": {
    "name": "ipython",
    "version": 3
   },
   "file_extension": ".py",
   "mimetype": "text/x-python",
   "name": "python",
   "nbconvert_exporter": "python",
   "pygments_lexer": "ipython3",
   "version": "3.8.8"
  }
 },
 "nbformat": 4,
 "nbformat_minor": 5
}
