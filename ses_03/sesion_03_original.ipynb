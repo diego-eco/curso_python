{
 "cells": [
  {
   "cell_type": "markdown",
   "metadata": {},
   "source": [
    "# Python para economistas\n",
    "\n",
    "### Mtro. Diego López Tamayo\n",
    "#### El Colegio de México\n",
    "#### BBVA Research"
   ]
  },
  {
   "cell_type": "markdown",
   "metadata": {
    "slideshow": {
     "slide_type": "slide"
    }
   },
   "source": [
    "# Introducción a  Numpy & Scipy\n",
    "## Sesión 3 \n",
    "\n",
    "- Introducción a Numpy & Scipy\n",
    "- Funciones principales\n",
    "- Operaciones básicas en Numpy\n",
    "- Vectores y matrices \n",
    "- Operaciones, transp, inversa, determinante\n",
    "- Medias, varianzas, desv.\n",
    "- Álgebra lineal con Scipy\n",
    "- (Extra) Interpolación, Integral, Optimización"
   ]
  },
  {
   "cell_type": "markdown",
   "metadata": {
    "slideshow": {
     "slide_type": "slide"
    }
   },
   "source": [
    "## Numerical Python - Numpy\n",
    "\n",
    "**Numpy** es el paquete fundamental para la computación numérica con Python. Proporciona formas poderosas de crear, almacenar y manipular datos, lo que lo hace capaz de integrarse sin problemas y con rapidez con una amplia variedad de bases de datos y formatos de datos. Esta es también la base sobre la que se basa **Pandas**, que es un paquete centrado en datos de alto rendimiento sobre el que aprenderemos más en este curso. "
   ]
  },
  {
   "cell_type": "markdown",
   "metadata": {
    "slideshow": {
     "slide_type": "subslide"
    }
   },
   "source": [
    "Hoy hablaremos sobre la creación de matrices con ciertos tipos de datos, la manipulación de matrices, la selección de elementos de matrices y la carga de conjuntos de datos en matrices. Estas funciones son útiles para manipular datos y comprender las funcionalidades de otros paquetes de datos de Python comunes."
   ]
  },
  {
   "cell_type": "code",
   "execution_count": 1,
   "metadata": {
    "slideshow": {
     "slide_type": "slide"
    }
   },
   "outputs": [],
   "source": [
    "# Para importar la librería \n",
    "import numpy as np\n",
    "\n",
    "# Para hacer algunas gráficas de ejemplo\n",
    "import matplotlib.pyplot as plt\n",
    "### Sobre las gráficas se hablará a detalle en otra sesión"
   ]
  },
  {
   "cell_type": "markdown",
   "metadata": {
    "slideshow": {
     "slide_type": "slide"
    }
   },
   "source": [
    "### Sobre las diferencias entre listas y numpy array\n",
    "\n",
    "- Similar\n",
    "    - Ambos usan corchetes ([])\n",
    "    - Ambos tipos de datos son mutables\n",
    "    - Ambos se pueden indexar y se pueden utilizar para \"slicing*\n",
    "\n",
    "- Distinto\n",
    "    - Una lista no puede manejar directamente una operación matemática, mientras que un array puede\n",
    "    - Un array consume menos memoria que una lista. Usar un array s más rápido que una lista\n",
    "    - Una lista puede constar de diferentes tamaños de datos anidados\n",
    "    - Una lista puede almacenar diferentes tipos de datos.\n",
    "\n",
    "[Ver más](https://python.plainenglish.io/python-list-vs-numpy-array-whats-the-difference-7308cd4b52f6)\n"
   ]
  },
  {
   "cell_type": "markdown",
   "metadata": {
    "slideshow": {
     "slide_type": "slide"
    }
   },
   "source": [
    "## Arrays\n",
    "Un elemento ndarray (multidimensinoal-array) es un contenedor genérico de datos homogéneos, es decir que todos sus elementos deben ser del mismmo tipo. \n"
   ]
  },
  {
   "cell_type": "code",
   "execution_count": 2,
   "metadata": {
    "slideshow": {
     "slide_type": "slide"
    }
   },
   "outputs": [
    {
     "name": "stdout",
     "output_type": "stream",
     "text": [
      "[1 2 3]\n",
      "1\n"
     ]
    }
   ],
   "source": [
    "# La forma más fácil de crear un array es con la función homónima, \n",
    "# que acepta cualquier secuencia de objetos como listas o otros arrays\n",
    "a = np.array([1,2,3])\n",
    "print(a)\n",
    "# Se puede ver la dimensión de un array con el atributo ndim\n",
    "print(a.ndim)"
   ]
  },
  {
   "cell_type": "code",
   "execution_count": 3,
   "metadata": {
    "slideshow": {
     "slide_type": "slide"
    }
   },
   "outputs": [
    {
     "name": "stdout",
     "output_type": "stream",
     "text": [
      "[[1 2 3]\n",
      " [4 5 6]]\n",
      "(2, 3)\n",
      "int32\n"
     ]
    }
   ],
   "source": [
    "# Si usamos como argumento una lista de listas en np.array se obtiene un array multidimensional (una matriz)\n",
    "b = np.array([[1,2,3], [4,5,6]])\n",
    "print(b)\n",
    "# Usamos el atributo shape para ver la longitud de cada dimensión del ndarray \n",
    "print(b.shape)\n",
    "# También podemos ver el tipo de elementos que contiene con el atributo dtype\n",
    "print(b.dtype)"
   ]
  },
  {
   "cell_type": "code",
   "execution_count": 4,
   "metadata": {
    "slideshow": {
     "slide_type": "slide"
    }
   },
   "outputs": [
    {
     "name": "stdout",
     "output_type": "stream",
     "text": [
      "[0. 0. 0. 0. 0. 0. 0. 0. 0. 0.]\n",
      "[[1. 1. 1.]\n",
      " [1. 1. 1.]\n",
      " [1. 1. 1.]]\n"
     ]
    },
    {
     "data": {
      "text/plain": [
       "array([[0.25544528, 0.7897169 , 0.3385127 ],\n",
       "       [0.08892373, 0.16647822, 0.01327074],\n",
       "       [0.19355774, 0.06123687, 0.36784095]])"
      ]
     },
     "execution_count": 4,
     "metadata": {},
     "output_type": "execute_result"
    }
   ],
   "source": [
    "# También existen funciones especiales para crear ciertos arrays\n",
    "# Vector de ceros\n",
    "d = np.zeros(10)\n",
    "print(d)\n",
    "# Matriz de unos \n",
    "e = np.ones((3,3))\n",
    "print(e)\n",
    "# Matriz de números aleatorios \n",
    "np.random.rand(3,3)"
   ]
  },
  {
   "cell_type": "code",
   "execution_count": 5,
   "metadata": {
    "slideshow": {
     "slide_type": "subslide"
    }
   },
   "outputs": [
    {
     "name": "stdout",
     "output_type": "stream",
     "text": [
      "[0 1 2 3 4 5 6 7 8 9]\n",
      "[10 12 14 16 18 20 22 24 26 28 30 32 34 36 38 40 42 44 46 48]\n"
     ]
    }
   ],
   "source": [
    "# Otra función útil es arange, que crea una secuencia de números dentro de un rango\n",
    "ee = np.arange(10)\n",
    "print(ee)\n",
    "\n",
    "# Cuando introducimos 3 argumentos, el primero determina el elemento inicial, \n",
    "# el segundo el límite superior y el tercero la diferencia entre cada número. \n",
    "# Ejemplo: array del 10 (incluído) al 50 (excluído) en pasos de 2 unidades.\n",
    "f = np.arange(10, 50, 2)\n",
    "print(f)"
   ]
  },
  {
   "cell_type": "code",
   "execution_count": 6,
   "metadata": {
    "slideshow": {
     "slide_type": "subslide"
    }
   },
   "outputs": [
    {
     "data": {
      "text/plain": [
       "array([0.        , 0.14285714, 0.28571429, 0.42857143, 0.57142857,\n",
       "       0.71428571, 0.85714286, 1.        , 1.14285714, 1.28571429,\n",
       "       1.42857143, 1.57142857, 1.71428571, 1.85714286, 2.        ])"
      ]
     },
     "execution_count": 6,
     "metadata": {},
     "output_type": "execute_result"
    }
   ],
   "source": [
    "# Por el contrario, la función linspace crea una sucesión de números \n",
    "# donde el tercer argumento es el número total de elementos.  \n",
    "# Ejemplo: 15 números del 0 al 2 (note que esta función incluye los límites).\n",
    "np.linspace(0, 2, 15) "
   ]
  },
  {
   "cell_type": "markdown",
   "metadata": {
    "slideshow": {
     "slide_type": "slide"
    }
   },
   "source": [
    "# Operaciones con arrays\n",
    "Podemos hacer muchas cosas con arrays como suma, resta, cuadrado, exponentes, así como matrices boleanas. También podemos hacer manipulaciones de matrices, como transposición, inversa, determinantes, etc."
   ]
  },
  {
   "cell_type": "code",
   "execution_count": 7,
   "metadata": {
    "slideshow": {
     "slide_type": "slide"
    }
   },
   "outputs": [
    {
     "name": "stdout",
     "output_type": "stream",
     "text": [
      "[ 9 18 27 36]\n",
      "[ 9 18 27 36]\n",
      "[ 10  40  90 160]\n",
      "[20 40 60 80]\n",
      "[ 6.30957344 10.98560543 15.19487052 19.12705   ]\n"
     ]
    }
   ],
   "source": [
    "# Las operaciones aritméticas sobre arrays son \"element-wise\"\n",
    "a = np.array([10,20,30,40])\n",
    "b = np.array([1,2,3,4])\n",
    "\n",
    "print(a-b) # suma\n",
    "print(a-b) # resta\n",
    "print(a*b) # multiplicación element-wise\n",
    "print(2*a) # multiplicación por un escalar \n",
    "print(a**0.8) # elevar a un exponente"
   ]
  },
  {
   "cell_type": "code",
   "execution_count": 8,
   "metadata": {
    "slideshow": {
     "slide_type": "slide"
    }
   },
   "outputs": [
    {
     "name": "stdout",
     "output_type": "stream",
     "text": [
      "[3.16227766 4.47213595 5.47722558 6.32455532]\n",
      "[ 2.71828183  7.3890561  20.08553692 54.59815003]\n",
      "100\n",
      "25.0\n"
     ]
    }
   ],
   "source": [
    "# Funciones universales (ufunc) \n",
    "# Son funciones que realizan operaciones elementwise sobre arrays. \n",
    "\n",
    "# ufuncs unitarias (un solo argumento)\n",
    "print(np.sqrt(a)) # raíz cuadrada \n",
    "print(np.exp(b)) # exponencial\n",
    "print(np.sum(a)) # suma de elementos\n",
    "print(np.mean(a)) # promedio"
   ]
  },
  {
   "cell_type": "code",
   "execution_count": 9,
   "metadata": {
    "slideshow": {
     "slide_type": "subslide"
    }
   },
   "outputs": [
    {
     "name": "stdout",
     "output_type": "stream",
     "text": [
      "100\n",
      "25.0\n",
      "40\n",
      "10\n"
     ]
    }
   ],
   "source": [
    "# Otra forma de escribir algunas funciones\n",
    "print(a.sum())\n",
    "print(a.mean()) \n",
    "print(a.max())\n",
    "print(a.min())"
   ]
  },
  {
   "cell_type": "code",
   "execution_count": 10,
   "metadata": {
    "slideshow": {
     "slide_type": "subslide"
    }
   },
   "outputs": [
    {
     "name": "stdout",
     "output_type": "stream",
     "text": [
      "[10 20 30 40]\n",
      "[1 2 3 4]\n",
      "[ True  True  True  True]\n",
      "[False False False False]\n"
     ]
    }
   ],
   "source": [
    "# ufuncs binarias (dos argumentos)\n",
    "print(np.maximum(a,b))\n",
    "print(np.minimum(a,b))\n",
    "print(np.greater(a,b)) # <\n",
    "print(np.greater_equal(b,a))"
   ]
  },
  {
   "cell_type": "code",
   "execution_count": 11,
   "metadata": {
    "slideshow": {
     "slide_type": "slide"
    }
   },
   "outputs": [
    {
     "name": "stdout",
     "output_type": "stream",
     "text": [
      "[[5 4]\n",
      " [3 4]]\n",
      "[[5 4]\n",
      " [3 4]]\n",
      "[[5 4]\n",
      " [3 4]]\n"
     ]
    }
   ],
   "source": [
    "# También se pueden hacer operaciones algebráicas con matrices \n",
    "A = np.array([[1,1],[0,1]])\n",
    "B = np.array([[2,0],[3,4]])\n",
    "\n",
    "# Producto de matrices (formas equivalentes)\n",
    "print(A@B) \n",
    "print(np.dot(A, B))\n",
    "print(A.dot(B))"
   ]
  },
  {
   "cell_type": "code",
   "execution_count": 12,
   "metadata": {
    "scrolled": true,
    "slideshow": {
     "slide_type": "subslide"
    }
   },
   "outputs": [
    {
     "name": "stdout",
     "output_type": "stream",
     "text": [
      "[[ 28  64]\n",
      " [ 67 181]]\n",
      "[[ 98 127 156]\n",
      " [ 27  33  39]\n",
      " [ 44  61  78]]\n",
      "[ 6. 15.]\n"
     ]
    }
   ],
   "source": [
    "# Las matrices deben ser conformables para que el producto este determinado\n",
    "A = np.array([[1,2,3],[4,5,6]])\n",
    "B = np.array([[6,23],[-1,7],[8,9]])\n",
    "print(A@B)\n",
    "print(B@A)\n",
    "#print(A@np.ones(2)) # incorrecto\n",
    "print(A@np.ones(3))  # correcto"
   ]
  },
  {
   "cell_type": "markdown",
   "metadata": {
    "slideshow": {
     "slide_type": "slide"
    }
   },
   "source": [
    "`numpy.linalg` contiene un conjunto de operaciones con matrices comunmente utilizadas en álgebra lineal, por ejemplo:\n",
    "\n",
    "| Función      | Descripción |\n",
    "| :---  |    :----   |   \n",
    "| trace | Calcula la traza de una matriz  | \n",
    "| det   | Calcula el determinante        | \n",
    "| eig   | Calcula los eigenvalores y eigenvectores de una matriz |\n",
    "| inv   | Calcula la inversa de una matriz | \n",
    "| solve | Resuelve el sistema lineal $Ax=b$, donde $A$ es matriz cuadrada |"
   ]
  },
  {
   "cell_type": "code",
   "execution_count": 13,
   "metadata": {
    "slideshow": {
     "slide_type": "subslide"
    }
   },
   "outputs": [
    {
     "name": "stdout",
     "output_type": "stream",
     "text": [
      "Help on function eig in module numpy.linalg:\n",
      "\n",
      "eig(a)\n",
      "    Compute the eigenvalues and right eigenvectors of a square array.\n",
      "    \n",
      "    Parameters\n",
      "    ----------\n",
      "    a : (..., M, M) array\n",
      "        Matrices for which the eigenvalues and right eigenvectors will\n",
      "        be computed\n",
      "    \n",
      "    Returns\n",
      "    -------\n",
      "    w : (..., M) array\n",
      "        The eigenvalues, each repeated according to its multiplicity.\n",
      "        The eigenvalues are not necessarily ordered. The resulting\n",
      "        array will be of complex type, unless the imaginary part is\n",
      "        zero in which case it will be cast to a real type. When `a`\n",
      "        is real the resulting eigenvalues will be real (0 imaginary\n",
      "        part) or occur in conjugate pairs\n",
      "    \n",
      "    v : (..., M, M) array\n",
      "        The normalized (unit \"length\") eigenvectors, such that the\n",
      "        column ``v[:,i]`` is the eigenvector corresponding to the\n",
      "        eigenvalue ``w[i]``.\n",
      "    \n",
      "    Raises\n",
      "    ------\n",
      "    LinAlgError\n",
      "        If the eigenvalue computation does not converge.\n",
      "    \n",
      "    See Also\n",
      "    --------\n",
      "    eigvals : eigenvalues of a non-symmetric array.\n",
      "    eigh : eigenvalues and eigenvectors of a real symmetric or complex\n",
      "           Hermitian (conjugate symmetric) array.\n",
      "    eigvalsh : eigenvalues of a real symmetric or complex Hermitian\n",
      "               (conjugate symmetric) array.\n",
      "    scipy.linalg.eig : Similar function in SciPy that also solves the\n",
      "                       generalized eigenvalue problem.\n",
      "    scipy.linalg.schur : Best choice for unitary and other non-Hermitian\n",
      "                         normal matrices.\n",
      "    \n",
      "    Notes\n",
      "    -----\n",
      "    \n",
      "    .. versionadded:: 1.8.0\n",
      "    \n",
      "    Broadcasting rules apply, see the `numpy.linalg` documentation for\n",
      "    details.\n",
      "    \n",
      "    This is implemented using the ``_geev`` LAPACK routines which compute\n",
      "    the eigenvalues and eigenvectors of general square arrays.\n",
      "    \n",
      "    The number `w` is an eigenvalue of `a` if there exists a vector\n",
      "    `v` such that ``a @ v = w * v``. Thus, the arrays `a`, `w`, and\n",
      "    `v` satisfy the equations ``a @ v[:,i] = w[i] * v[:,i]``\n",
      "    for :math:`i \\in \\{0,...,M-1\\}`.\n",
      "    \n",
      "    The array `v` of eigenvectors may not be of maximum rank, that is, some\n",
      "    of the columns may be linearly dependent, although round-off error may\n",
      "    obscure that fact. If the eigenvalues are all different, then theoretically\n",
      "    the eigenvectors are linearly independent and `a` can be diagonalized by\n",
      "    a similarity transformation using `v`, i.e, ``inv(v) @ a @ v`` is diagonal.\n",
      "    \n",
      "    For non-Hermitian normal matrices the SciPy function `scipy.linalg.schur`\n",
      "    is preferred because the matrix `v` is guaranteed to be unitary, which is\n",
      "    not the case when using `eig`. The Schur factorization produces an\n",
      "    upper triangular matrix rather than a diagonal matrix, but for normal\n",
      "    matrices only the diagonal of the upper triangular matrix is needed, the\n",
      "    rest is roundoff error.\n",
      "    \n",
      "    Finally, it is emphasized that `v` consists of the *right* (as in\n",
      "    right-hand side) eigenvectors of `a`.  A vector `y` satisfying\n",
      "    ``y.T @ a = z * y.T`` for some number `z` is called a *left*\n",
      "    eigenvector of `a`, and, in general, the left and right eigenvectors\n",
      "    of a matrix are not necessarily the (perhaps conjugate) transposes\n",
      "    of each other.\n",
      "    \n",
      "    References\n",
      "    ----------\n",
      "    G. Strang, *Linear Algebra and Its Applications*, 2nd Ed., Orlando, FL,\n",
      "    Academic Press, Inc., 1980, Various pp.\n",
      "    \n",
      "    Examples\n",
      "    --------\n",
      "    >>> from numpy import linalg as LA\n",
      "    \n",
      "    (Almost) trivial example with real e-values and e-vectors.\n",
      "    \n",
      "    >>> w, v = LA.eig(np.diag((1, 2, 3)))\n",
      "    >>> w; v\n",
      "    array([1., 2., 3.])\n",
      "    array([[1., 0., 0.],\n",
      "           [0., 1., 0.],\n",
      "           [0., 0., 1.]])\n",
      "    \n",
      "    Real matrix possessing complex e-values and e-vectors; note that the\n",
      "    e-values are complex conjugates of each other.\n",
      "    \n",
      "    >>> w, v = LA.eig(np.array([[1, -1], [1, 1]]))\n",
      "    >>> w; v\n",
      "    array([1.+1.j, 1.-1.j])\n",
      "    array([[0.70710678+0.j        , 0.70710678-0.j        ],\n",
      "           [0.        -0.70710678j, 0.        +0.70710678j]])\n",
      "    \n",
      "    Complex-valued matrix with real e-values (but complex-valued e-vectors);\n",
      "    note that ``a.conj().T == a``, i.e., `a` is Hermitian.\n",
      "    \n",
      "    >>> a = np.array([[1, 1j], [-1j, 1]])\n",
      "    >>> w, v = LA.eig(a)\n",
      "    >>> w; v\n",
      "    array([2.+0.j, 0.+0.j])\n",
      "    array([[ 0.        +0.70710678j,  0.70710678+0.j        ], # may vary\n",
      "           [ 0.70710678+0.j        , -0.        +0.70710678j]])\n",
      "    \n",
      "    Be careful about round-off error!\n",
      "    \n",
      "    >>> a = np.array([[1 + 1e-9, 0], [0, 1 - 1e-9]])\n",
      "    >>> # Theor. e-values are 1 +/- 1e-9\n",
      "    >>> w, v = LA.eig(a)\n",
      "    >>> w; v\n",
      "    array([1., 1.])\n",
      "    array([[1., 0.],\n",
      "           [0., 1.]])\n",
      "\n"
     ]
    }
   ],
   "source": [
    "help(np.linalg.eig)"
   ]
  },
  {
   "cell_type": "markdown",
   "metadata": {
    "slideshow": {
     "slide_type": "slide"
    }
   },
   "source": [
    "## `numpy.linalg`\n",
    "\n",
    "Las funciones de álgebra lineal de NumPy proporcionan implementaciones eficientes de bajo nivel de algoritmos de álgebra lineal estándar."
   ]
  },
  {
   "cell_type": "code",
   "execution_count": 15,
   "metadata": {
    "scrolled": true,
    "slideshow": {
     "slide_type": "-"
    }
   },
   "outputs": [
    {
     "name": "stdout",
     "output_type": "stream",
     "text": [
      "[[0.85279671 0.30441301]\n",
      " [0.19426799 0.44157723]]\n",
      "[[0.85279671 0.19426799]\n",
      " [0.30441301 0.44157723]]\n",
      "[[ 1.39106649 -0.95896871]\n",
      " [-0.61198738  2.68649933]]\n"
     ]
    }
   ],
   "source": [
    "from numpy.linalg import inv, solve \n",
    "A = np.random.rand(2,2)\n",
    "print(A)\n",
    "print(A.T) # transpuesta\n",
    "print(inv(A)) # inversa"
   ]
  },
  {
   "cell_type": "markdown",
   "metadata": {
    "slideshow": {
     "slide_type": "slide"
    }
   },
   "source": [
    "Resuelva el siguiente sistema de ecuaciones: \n",
    "$$\n",
    "3x_0 + x_1 = 9 \\\\ \n",
    "x_0 + 2x_1 = 8\n",
    "$$"
   ]
  },
  {
   "cell_type": "markdown",
   "metadata": {},
   "source": [
    "$$\n",
    "   \\begin{bmatrix}\n",
    "     3 & 1\\\\\n",
    "     1 & 2\n",
    "   \\end{bmatrix}\n",
    "   \\begin{pmatrix}x_0 \\\\x_1 \\end{pmatrix} =\n",
    "   \\begin{pmatrix}9\\\\8\\end{pmatrix}\n",
    "$$"
   ]
  },
  {
   "cell_type": "markdown",
   "metadata": {},
   "source": [
    "$$\n",
    "AX = B\n",
    "$$"
   ]
  },
  {
   "cell_type": "markdown",
   "metadata": {},
   "source": [
    "$$\n",
    "\\begin{array}{r}\\hfill \\left({A}^{-1}\\right)AX=\\left({A}^{-1}\\right)B\\\\ \\hfill \\left[\\left({A}^{-1}\\right)A\\right]X=\\left({A}^{-1}\\right)B\\\\ \\hfill IX=\\left({A}^{-1}\\right)B\\\\ \\hfill X=\\left({A}^{-1}\\right)B\\end{array}\n",
    "$$"
   ]
  },
  {
   "cell_type": "markdown",
   "metadata": {
    "slideshow": {
     "slide_type": "subslide"
    }
   },
   "source": [
    "$$\n",
    "   \\begin{bmatrix}\n",
    "     3 & 1\\\\\n",
    "     1 & 2\n",
    "   \\end{bmatrix}\n",
    "   \\begin{pmatrix}x_0 \\\\x_1 \\end{pmatrix} =\n",
    "   \\begin{pmatrix}9\\\\8\\end{pmatrix}\n",
    "$$"
   ]
  },
  {
   "cell_type": "code",
   "execution_count": 19,
   "metadata": {
    "slideshow": {
     "slide_type": "-"
    }
   },
   "outputs": [
    {
     "name": "stdout",
     "output_type": "stream",
     "text": [
      "[2. 3.]\n",
      "[2. 3.]\n"
     ]
    }
   ],
   "source": [
    "a = np.array([[3,1], [1,2]])\n",
    "b = np.array([9,8])\n",
    "print(inv(a)@b) \n",
    "# O bien \n",
    "x = solve(a, b)\n",
    "print(x)"
   ]
  },
  {
   "cell_type": "markdown",
   "metadata": {
    "slideshow": {
     "slide_type": "slide"
    }
   },
   "source": [
    "# Indexing y Slicing\n"
   ]
  },
  {
   "cell_type": "code",
   "execution_count": 52,
   "metadata": {
    "scrolled": true,
    "slideshow": {
     "slide_type": "slide"
    }
   },
   "outputs": [
    {
     "name": "stdout",
     "output_type": "stream",
     "text": [
      "[ 0  1  2  3  4  5  6  7  8  9 10 11 12 13 14]\n",
      "2\n",
      "[5 6 7]\n"
     ]
    }
   ],
   "source": [
    "# Los arrays unidimensionales se manejan igual que las listas de Python\n",
    "arr1d = np.arange(15)\n",
    "print(arr1d)\n",
    "# Segundo elemento\n",
    "print(arr1d[2])\n",
    "# Elementos del 5 (inclusive) al 8 (excluido)\n",
    "print(arr1d[5:8])"
   ]
  },
  {
   "cell_type": "markdown",
   "metadata": {
    "slideshow": {
     "slide_type": "slide"
    }
   },
   "source": [
    "Una primera distinción importante de las listas integradas de Python es que los slides del array son vistas del array original. Esto significa que los datos no se copian y cualquier modificación a la vista se reflejará en la matriz de origen."
   ]
  },
  {
   "cell_type": "code",
   "execution_count": 51,
   "metadata": {
    "slideshow": {
     "slide_type": "subslide"
    }
   },
   "outputs": [
    {
     "name": "stdout",
     "output_type": "stream",
     "text": [
      "[12 13 14]\n",
      "[22 33 44]\n",
      "[ 0  1  2  3  4  5  6  7  8  9 10 11 22 33 44]\n"
     ]
    }
   ],
   "source": [
    "# Creamos un slice a partir del array original\n",
    "arr1d_slice = arr1d[12:15]\n",
    "print(arr1d_slice)\n",
    "# Modificamos los valores \n",
    "arr1d_slice[0] = 22\n",
    "arr1d_slice[1] = 33\n",
    "arr1d_slice[2] = 44\n",
    "print(arr1d_slice)\n",
    "# Ahora vemos nuestro vector original \n",
    "print(arr1d)\n",
    "# Nótese que los valores han cambiado incluso cuando sólo modificamos el vector creado"
   ]
  },
  {
   "cell_type": "code",
   "execution_count": 35,
   "metadata": {
    "slideshow": {
     "slide_type": "subslide"
    }
   },
   "outputs": [
    {
     "name": "stdout",
     "output_type": "stream",
     "text": [
      "[222 333 444]\n",
      "[22 33 44]\n"
     ]
    }
   ],
   "source": [
    "# Como NumPy ha sido diseñado para poder trabajar con matrices muy grandes, \n",
    "# surgen problemas de rendimiento y memoria si NumPy insistiera en copiar siempre los datos. \n",
    "# Si desea una copia de una porción de un ndarray en lugar de una vista, \n",
    "# se debe copiar explícitamente la matriz, por ejemplo:\n",
    "arr1d_slice2 = arr1d[12:15].copy()\n",
    "# Modificamos los valores \n",
    "arr1d_slice2[0] = 222\n",
    "arr1d_slice2[1] = 333\n",
    "arr1d_slice2[2] = 444\n",
    "print(arr1d_slice2)\n",
    "print(arr1d_slice)"
   ]
  },
  {
   "cell_type": "code",
   "execution_count": 53,
   "metadata": {
    "scrolled": true,
    "slideshow": {
     "slide_type": "slide"
    }
   },
   "outputs": [
    {
     "name": "stdout",
     "output_type": "stream",
     "text": [
      "[3 4]\n"
     ]
    }
   ],
   "source": [
    "# En un array bidimensional, los elementos de cada índice ya no son escalares, \n",
    "# son matrices unidimensionales:\n",
    "arr2d = np.array([[1,2], [3,4], [5,6]])\n",
    "# Para acceder al segundo renglón\n",
    "print(arr2d[1])"
   ]
  },
  {
   "cell_type": "code",
   "execution_count": 41,
   "metadata": {
    "slideshow": {
     "slide_type": "subslide"
    }
   },
   "outputs": [
    {
     "name": "stdout",
     "output_type": "stream",
     "text": [
      "6\n",
      "6\n"
     ]
    }
   ],
   "source": [
    "# Para acceder a cada elemento es necesario usar dos índices, uno de renglón y otro de fila\n",
    "# Tercer renglón, segundo elemento\n",
    "print(arr2d[2,1])\n",
    "print(arr2d[2][1]) # alternativamente"
   ]
  },
  {
   "cell_type": "code",
   "execution_count": 7,
   "metadata": {
    "scrolled": true,
    "slideshow": {
     "slide_type": "subslide"
    }
   },
   "outputs": [
    {
     "name": "stdout",
     "output_type": "stream",
     "text": [
      "[[[ 1  2  3]\n",
      "  [ 4  5  6]]\n",
      "\n",
      " [[ 7  8  9]\n",
      "  [10 11 12]]]\n",
      "[[1 2 3]\n",
      " [4 5 6]]\n",
      "[7 8 9]\n"
     ]
    }
   ],
   "source": [
    "# Array multidimensional (matriz con matrices):\n",
    "arr3d = np.array([[[1, 2, 3], [4, 5, 6]], [[7, 8, 9], [10, 11, 12]]])\n",
    "print(arr3d)\n",
    "# Índice con un solo elemento retorna una matriz \n",
    "print(arr3d[0])\n",
    "# Índice con dos elementos retorna un renglón de una matriz\n",
    "print(arr3d[1, 0])"
   ]
  },
  {
   "cell_type": "markdown",
   "metadata": {
    "slideshow": {
     "slide_type": "slide"
    }
   },
   "source": [
    "## Más sobre **slicing**"
   ]
  },
  {
   "cell_type": "code",
   "execution_count": 50,
   "metadata": {
    "slideshow": {
     "slide_type": "-"
    }
   },
   "outputs": [
    {
     "name": "stdout",
     "output_type": "stream",
     "text": [
      "[ 0  1  2  3  4  5  6  7  8  9 10 11 12 13 14]\n",
      "[5 6 7 8]\n"
     ]
    }
   ],
   "source": [
    "# Al igual que los objetos unidimensionales como las listas de Python, \n",
    "# los ndarrays se pueden dividir con la sintaxis familiar:\n",
    "print(arr1d)\n",
    "print(arr1d[5:9])"
   ]
  },
  {
   "cell_type": "code",
   "execution_count": 57,
   "metadata": {
    "slideshow": {
     "slide_type": "slide"
    }
   },
   "outputs": [
    {
     "name": "stdout",
     "output_type": "stream",
     "text": [
      "[[1 2]\n",
      " [3 4]\n",
      " [5 6]]\n",
      "[[1 2]\n",
      " [3 4]]\n"
     ]
    }
   ],
   "source": [
    "# Esto cambia un poco con los objetos bidimensionales\n",
    "print(arr2d)\n",
    "print(arr2d[:2])\n",
    "# Como puede ver, se ha cortado a lo largo del eje 0, el primer eje. \n",
    "# Por tanto, un sector selecciona un rango de elementos a lo largo de un eje. \n",
    "# Puede resultar útil leer tal expresión como \"seleccione las dos primeras filas de arr2d\"."
   ]
  },
  {
   "cell_type": "code",
   "execution_count": 60,
   "metadata": {
    "scrolled": true,
    "slideshow": {
     "slide_type": "subslide"
    }
   },
   "outputs": [
    {
     "name": "stdout",
     "output_type": "stream",
     "text": [
      "[[2]\n",
      " [4]\n",
      " [6]]\n",
      "[[1 0]\n",
      " [3 0]\n",
      " [5 0]]\n"
     ]
    }
   ],
   "source": [
    "# También pueden utilizar slides múltiples\n",
    "print(arr2d[:, 1:])\n",
    "# Se pueden asignar valores a una selección completa: \n",
    "arr2d[:, 1:] = 0\n",
    "print(arr2d)"
   ]
  },
  {
   "cell_type": "markdown",
   "metadata": {
    "slideshow": {
     "slide_type": "slide"
    }
   },
   "source": [
    "## Boolean Indexing\n",
    "Sirve para crear arrays que satisfacen cierta característica lógica. "
   ]
  },
  {
   "cell_type": "code",
   "execution_count": 3,
   "metadata": {
    "slideshow": {
     "slide_type": "-"
    }
   },
   "outputs": [
    {
     "name": "stdout",
     "output_type": "stream",
     "text": [
      "[ True False False  True False False False]\n",
      "[False  True  True False  True  True  True]\n"
     ]
    }
   ],
   "source": [
    "# Creamos un vector de nombres\n",
    "names = np.array(['Bob', 'Joe', 'Will', 'Bob', 'Will', 'Joe', 'Joe'])\n",
    "# Generamos un vector lógico a partir del vector de nombres\n",
    "print(names == 'Bob')\n",
    "print(names != 'Bob')"
   ]
  },
  {
   "cell_type": "code",
   "execution_count": 5,
   "metadata": {
    "slideshow": {
     "slide_type": "subslide"
    }
   },
   "outputs": [
    {
     "name": "stdout",
     "output_type": "stream",
     "text": [
      "['Joe' 'Will' 'Will' 'Joe' 'Joe']\n",
      "['Joe' 'Will' 'Will' 'Joe' 'Joe']\n",
      "['Bob' 'Will' 'Bob' 'Will']\n"
     ]
    }
   ],
   "source": [
    "# Podemos obtener elementos del vector original que satisfagan cierta característica\n",
    "print(names[names != 'Bob'])\n",
    "# Otra forma equivalente \n",
    "cond = names == 'Bob'\n",
    "print(names[~cond])\n",
    "# También se pueden usar condiciones con \"y (&)\" o \"o (|)\"\"\n",
    "cond2 = (names == 'Bob') | (names == 'Will')\n",
    "print(names[cond2])"
   ]
  },
  {
   "cell_type": "code",
   "execution_count": 73,
   "metadata": {
    "scrolled": true,
    "slideshow": {
     "slide_type": "slide"
    }
   },
   "outputs": [
    {
     "name": "stdout",
     "output_type": "stream",
     "text": [
      "[[-0.07932751  0.65743276 -1.41532763 -0.00607688]\n",
      " [ 0.18477325 -0.28320395  0.14093185  0.87757644]\n",
      " [-0.45279917 -0.20387673 -0.73286203 -0.24533402]\n",
      " [-0.58747067 -0.34703332  0.11754491  0.60283036]\n",
      " [-1.60157992 -0.98343596  0.4354466  -0.55464804]]\n",
      "[[0.         0.65743276 0.         0.        ]\n",
      " [0.18477325 0.         0.14093185 0.87757644]\n",
      " [0.         0.         0.         0.        ]\n",
      " [0.         0.         0.11754491 0.60283036]\n",
      " [0.         0.         0.4354466  0.        ]]\n"
     ]
    }
   ],
   "source": [
    "# Lo mismo se aplica con arrays numéricos. \n",
    "# Ejemplo: establecer en 0 todos los valores negativos en un conjunto de datos\n",
    "data = np.random.randn(5, 4)\n",
    "print(data)\n",
    "data[data < 0] = 0\n",
    "print(data)"
   ]
  },
  {
   "cell_type": "markdown",
   "metadata": {
    "slideshow": {
     "slide_type": "slide"
    }
   },
   "source": [
    "# Métodos estadísticos\n",
    "Se puede acceder a un conjunto de funciones matemáticas que calculan estadísticas sobre un array completo o sobre los datos a lo largo de un eje como métodos de la clase array. Se pueden usar agregaciones (a menudo llamadas reducciones) como suma, media y std (desviación estándar), usando las funciones de NumPy."
   ]
  },
  {
   "cell_type": "code",
   "execution_count": 14,
   "metadata": {
    "scrolled": true,
    "slideshow": {
     "slide_type": "slide"
    }
   },
   "outputs": [
    {
     "name": "stdout",
     "output_type": "stream",
     "text": [
      "[[0 1 2]\n",
      " [3 4 5]\n",
      " [6 7 8]]\n",
      "4.0\n"
     ]
    }
   ],
   "source": [
    "# Creamos una matriz \n",
    "arr = np.array([[0,1,2], [3,4,5], [6,7,8]])\n",
    "print(arr) # Calculamos la media de todos los valores:\n",
    "print(arr.mean()) # np.mean(arr)"
   ]
  },
  {
   "cell_type": "code",
   "execution_count": 10,
   "metadata": {},
   "outputs": [
    {
     "name": "stdout",
     "output_type": "stream",
     "text": [
      "[ 9 12 15]\n",
      "[1. 4. 7.]\n"
     ]
    }
   ],
   "source": [
    "# calcular la suma de las columnas\n",
    "print(arr.sum(axis=0))\n",
    "# Calcular la media de los renglones\n",
    "print(arr.mean(axis=1))"
   ]
  },
  {
   "cell_type": "markdown",
   "metadata": {
    "slideshow": {
     "slide_type": "slide"
    }
   },
   "source": [
    "Otros métodos como `cumsum` y `cumprod` no se agregan, sino que producen una matriz de resultados intermedios:"
   ]
  },
  {
   "cell_type": "code",
   "execution_count": 15,
   "metadata": {},
   "outputs": [
    {
     "data": {
      "text/plain": [
       "array([ 0,  1,  3,  6, 10, 15, 21, 28, 36], dtype=int32)"
      ]
     },
     "execution_count": 15,
     "metadata": {},
     "output_type": "execute_result"
    }
   ],
   "source": [
    "arr.cumsum()"
   ]
  },
  {
   "cell_type": "code",
   "execution_count": 16,
   "metadata": {
    "slideshow": {
     "slide_type": "subslide"
    }
   },
   "outputs": [
    {
     "data": {
      "text/plain": [
       "array([   0,    1,    3,    6,   10,   15,   21,   28,   36,   45,   55,\n",
       "         66,   78,   91,  105,  120,  136,  153,  171,  190,  210,  231,\n",
       "        253,  276,  300,  325,  351,  378,  406,  435,  465,  496,  528,\n",
       "        561,  595,  630,  666,  703,  741,  780,  820,  861,  903,  946,\n",
       "        990, 1035, 1081, 1128, 1176, 1225, 1275, 1326, 1378, 1431, 1485,\n",
       "       1540, 1596, 1653, 1711, 1770, 1830, 1891, 1953, 2016, 2080, 2145,\n",
       "       2211, 2278, 2346, 2415, 2485, 2556, 2628, 2701, 2775, 2850, 2926,\n",
       "       3003, 3081, 3160, 3240, 3321, 3403, 3486, 3570, 3655, 3741, 3828,\n",
       "       3916, 4005, 4095, 4186, 4278, 4371, 4465, 4560, 4656, 4753, 4851,\n",
       "       4950, 5050], dtype=int32)"
      ]
     },
     "execution_count": 16,
     "metadata": {},
     "output_type": "execute_result"
    }
   ],
   "source": [
    "# Suma de Gauss\n",
    "arr2 = np.arange(101)\n",
    "arr2.cumsum()"
   ]
  },
  {
   "cell_type": "markdown",
   "metadata": {
    "slideshow": {
     "slide_type": "subslide"
    }
   },
   "source": [
    "En arrays multidimensionales, las funciones de acumulación como `cumsum` devuelven una matriz del mismo tamaño, pero con los agregados parciales calculados a lo largo del eje indicado de acuerdo con cada corte dimensional inferior."
   ]
  },
  {
   "cell_type": "code",
   "execution_count": 19,
   "metadata": {},
   "outputs": [
    {
     "name": "stdout",
     "output_type": "stream",
     "text": [
      "[[ 0  1  2]\n",
      " [ 3  5  7]\n",
      " [ 9 12 15]]\n",
      "[[ 0  1  3]\n",
      " [ 3  7 12]\n",
      " [ 6 13 21]]\n"
     ]
    }
   ],
   "source": [
    "arr = np.array([[0, 1, 2], [3, 4, 5], [6, 7, 8]])\n",
    "# Suma acumulada por columnas\n",
    "print(arr.cumsum(axis=0))\n",
    "# Suma acumulada por renglones\n",
    "print(arr.cumsum(axis=1))"
   ]
  },
  {
   "cell_type": "markdown",
   "metadata": {
    "slideshow": {
     "slide_type": "slide"
    }
   },
   "source": [
    "Métodos estadísticos básicos de arrays: \n",
    "\n",
    "| Método | Descripción | \n",
    "| :--- | :--- | \n",
    "| sum | Suma de todos los elementos del array o a lo largo de un eje |\n",
    "| mean | Media artimética |\n",
    "| std, var | Desviación estándar y varianza, respectivamente |\n",
    "| cov | Calcula la matriz de covarianza de un conjunto de datos |\n",
    "| min, max | Mínimo y máximo |\n",
    "| argmin, argmax | Iíndices de los elementos mínimo y máximo, respectivamente |\n",
    "| cumsum | Suma acumulada de elementos empezando desde 0 |"
   ]
  },
  {
   "cell_type": "markdown",
   "metadata": {
    "slideshow": {
     "slide_type": "slide"
    }
   },
   "source": [
    "## Métodos para arrays booleanos"
   ]
  },
  {
   "cell_type": "code",
   "execution_count": 11,
   "metadata": {},
   "outputs": [
    {
     "data": {
      "text/plain": [
       "47"
      ]
     },
     "execution_count": 11,
     "metadata": {},
     "output_type": "execute_result"
    }
   ],
   "source": [
    "# Los valores booleanos son tomados como 1 (True) y 0 (False) en los métodos numéricos.\n",
    "# Número de valores positivos generados por una normal estándar\n",
    "arr = np.random.randn(100)\n",
    "(arr > 0).sum()"
   ]
  },
  {
   "cell_type": "code",
   "execution_count": 22,
   "metadata": {
    "slideshow": {
     "slide_type": "subslide"
    }
   },
   "outputs": [
    {
     "name": "stdout",
     "output_type": "stream",
     "text": [
      "True\n",
      "False\n"
     ]
    }
   ],
   "source": [
    "# \"any\" cuenta si uno o más valores en un array es True\n",
    "bools = np.array([False, False, True, False])\n",
    "print(bools.any())\n",
    "# \"all\" cuenta si cada valor en un array es True\n",
    "print(bools.all())"
   ]
  },
  {
   "cell_type": "markdown",
   "metadata": {
    "slideshow": {
     "slide_type": "slide"
    }
   },
   "source": [
    "## Sorting\n",
    "Al igual que el tipo de lista incorporado de Python, las matrices NumPy se pueden ordenar en el lugar con el método de clasificación:"
   ]
  },
  {
   "cell_type": "code",
   "execution_count": 27,
   "metadata": {
    "scrolled": true
   },
   "outputs": [
    {
     "name": "stdout",
     "output_type": "stream",
     "text": [
      "[ 0.95097494  1.24266259  1.07371347 -0.04139593 -0.72714538  0.06995498]\n",
      "[-0.72714538 -0.04139593  0.06995498  0.95097494  1.07371347  1.24266259]\n",
      "[ 1.24266259  1.07371347  0.95097494  0.06995498 -0.04139593 -0.72714538]\n"
     ]
    }
   ],
   "source": [
    "arr = np.random.randn(6)\n",
    "print(arr)\n",
    "# En orden ascendente\n",
    "arr.sort()\n",
    "print(arr)\n",
    "# En orden descendente\n",
    "arr[::-1].sort()\n",
    "print(arr)"
   ]
  },
  {
   "cell_type": "markdown",
   "metadata": {
    "slideshow": {
     "slide_type": "slide"
    }
   },
   "source": [
    "Se puede ordenar cada sección unidimensional de valores en una matriz multidimensional en su lugar a lo largo de un eje pasando el número de eje para ordenar:"
   ]
  },
  {
   "cell_type": "code",
   "execution_count": 25,
   "metadata": {
    "scrolled": true
   },
   "outputs": [
    {
     "data": {
      "text/plain": [
       "array([[-0.20669589, -0.19861356,  1.86123285],\n",
       "       [-0.66454032,  1.07883449,  1.5299197 ],\n",
       "       [ 0.49159633,  1.08784181,  2.37978713],\n",
       "       [-0.9364646 , -0.6832373 , -0.25233133],\n",
       "       [-1.03877738,  0.82731848,  1.02840385]])"
      ]
     },
     "execution_count": 25,
     "metadata": {},
     "output_type": "execute_result"
    }
   ],
   "source": [
    "arr = np.random.randn(5, 3)\n",
    "# Odernar de menor a mayor por renglones \n",
    "arr.sort(1)\n",
    "arr"
   ]
  },
  {
   "cell_type": "markdown",
   "metadata": {
    "slideshow": {
     "slide_type": "slide"
    }
   },
   "source": [
    "# Generación de números aleatorios\n",
    "El módulo `numpy.random` complementa al módulo `random` que viene inetegrado en Python, con funciones para generar de manera más eficiente matrices completas de valores de muestra a partir de muchos tipos de distribuciones de probabilidad."
   ]
  },
  {
   "cell_type": "markdown",
   "metadata": {
    "slideshow": {
     "slide_type": "subslide"
    }
   },
   "source": [
    "Algunas funciones relevantes de `numpy.random`:\n",
    "\n",
    "\n",
    "| Función | Descripción |\n",
    "| : --- | : --- |\n",
    "| seed | Sembrar el generador de números aleatorios |\n",
    "| randint | Extraer números enteros aleatorios dentro de un rango |\n",
    "| randn | Extraer muestras de una distribución normal estándar |\n",
    "| binomial | Sacar muestras de una distribución binomial |\n",
    "| normal | Extraer muestras de una distribución normal (gaussiana) |\n",
    "| beta | Extraer muestras de una distribución beta |\n",
    "| chisquare | Extraer muestras de una distribución de chi-cuadrada |\n",
    "| gamma | Extraer muestras de una distribución gamma |\n",
    "| uniform | Extraer muestras de una distribución [0, 1) uniforme |"
   ]
  },
  {
   "cell_type": "code",
   "execution_count": 12,
   "metadata": {
    "slideshow": {
     "slide_type": "subslide"
    }
   },
   "outputs": [
    {
     "name": "stdout",
     "output_type": "stream",
     "text": [
      "Help on built-in function normal:\n",
      "\n",
      "normal(...) method of numpy.random.mtrand.RandomState instance\n",
      "    normal(loc=0.0, scale=1.0, size=None)\n",
      "    \n",
      "    Draw random samples from a normal (Gaussian) distribution.\n",
      "    \n",
      "    The probability density function of the normal distribution, first\n",
      "    derived by De Moivre and 200 years later by both Gauss and Laplace\n",
      "    independently [2]_, is often called the bell curve because of\n",
      "    its characteristic shape (see the example below).\n",
      "    \n",
      "    The normal distributions occurs often in nature.  For example, it\n",
      "    describes the commonly occurring distribution of samples influenced\n",
      "    by a large number of tiny, random disturbances, each with its own\n",
      "    unique distribution [2]_.\n",
      "    \n",
      "    .. note::\n",
      "        New code should use the ``normal`` method of a ``default_rng()``\n",
      "        instance instead; see `random-quick-start`.\n",
      "    \n",
      "    Parameters\n",
      "    ----------\n",
      "    loc : float or array_like of floats\n",
      "        Mean (\"centre\") of the distribution.\n",
      "    scale : float or array_like of floats\n",
      "        Standard deviation (spread or \"width\") of the distribution. Must be\n",
      "        non-negative.\n",
      "    size : int or tuple of ints, optional\n",
      "        Output shape.  If the given shape is, e.g., ``(m, n, k)``, then\n",
      "        ``m * n * k`` samples are drawn.  If size is ``None`` (default),\n",
      "        a single value is returned if ``loc`` and ``scale`` are both scalars.\n",
      "        Otherwise, ``np.broadcast(loc, scale).size`` samples are drawn.\n",
      "    \n",
      "    Returns\n",
      "    -------\n",
      "    out : ndarray or scalar\n",
      "        Drawn samples from the parameterized normal distribution.\n",
      "    \n",
      "    See Also\n",
      "    --------\n",
      "    scipy.stats.norm : probability density function, distribution or\n",
      "        cumulative density function, etc.\n",
      "    Generator.normal: which should be used for new code.\n",
      "    \n",
      "    Notes\n",
      "    -----\n",
      "    The probability density for the Gaussian distribution is\n",
      "    \n",
      "    .. math:: p(x) = \\frac{1}{\\sqrt{ 2 \\pi \\sigma^2 }}\n",
      "                     e^{ - \\frac{ (x - \\mu)^2 } {2 \\sigma^2} },\n",
      "    \n",
      "    where :math:`\\mu` is the mean and :math:`\\sigma` the standard\n",
      "    deviation. The square of the standard deviation, :math:`\\sigma^2`,\n",
      "    is called the variance.\n",
      "    \n",
      "    The function has its peak at the mean, and its \"spread\" increases with\n",
      "    the standard deviation (the function reaches 0.607 times its maximum at\n",
      "    :math:`x + \\sigma` and :math:`x - \\sigma` [2]_).  This implies that\n",
      "    normal is more likely to return samples lying close to the mean, rather\n",
      "    than those far away.\n",
      "    \n",
      "    References\n",
      "    ----------\n",
      "    .. [1] Wikipedia, \"Normal distribution\",\n",
      "           https://en.wikipedia.org/wiki/Normal_distribution\n",
      "    .. [2] P. R. Peebles Jr., \"Central Limit Theorem\" in \"Probability,\n",
      "           Random Variables and Random Signal Principles\", 4th ed., 2001,\n",
      "           pp. 51, 51, 125.\n",
      "    \n",
      "    Examples\n",
      "    --------\n",
      "    Draw samples from the distribution:\n",
      "    \n",
      "    >>> mu, sigma = 0, 0.1 # mean and standard deviation\n",
      "    >>> s = np.random.normal(mu, sigma, 1000)\n",
      "    \n",
      "    Verify the mean and the variance:\n",
      "    \n",
      "    >>> abs(mu - np.mean(s))\n",
      "    0.0  # may vary\n",
      "    \n",
      "    >>> abs(sigma - np.std(s, ddof=1))\n",
      "    0.1  # may vary\n",
      "    \n",
      "    Display the histogram of the samples, along with\n",
      "    the probability density function:\n",
      "    \n",
      "    >>> import matplotlib.pyplot as plt\n",
      "    >>> count, bins, ignored = plt.hist(s, 30, density=True)\n",
      "    >>> plt.plot(bins, 1/(sigma * np.sqrt(2 * np.pi)) *\n",
      "    ...                np.exp( - (bins - mu)**2 / (2 * sigma**2) ),\n",
      "    ...          linewidth=2, color='r')\n",
      "    >>> plt.show()\n",
      "    \n",
      "    Two-by-four array of samples from N(3, 6.25):\n",
      "    \n",
      "    >>> np.random.normal(3, 2.5, size=(2, 4))\n",
      "    array([[-4.49401501,  4.00950034, -1.81814867,  7.29718677],   # random\n",
      "           [ 0.39924804,  4.68456316,  4.99394529,  4.84057254]])  # random\n",
      "\n"
     ]
    }
   ],
   "source": [
    "help(np.random.normal)"
   ]
  },
  {
   "cell_type": "markdown",
   "metadata": {
    "slideshow": {
     "slide_type": "slide"
    }
   },
   "source": [
    "Decimos que estos son números pseudoaleatorios porque son generados por un algoritmo con comportamiento determinista basado en la semilla del generador de números aleatorios."
   ]
  },
  {
   "cell_type": "code",
   "execution_count": 21,
   "metadata": {
    "scrolled": true,
    "slideshow": {
     "slide_type": "-"
    }
   },
   "outputs": [
    {
     "data": {
      "text/plain": [
       "array([10.23571758,  9.40451215, 10.71635348,  9.84367405,  9.63970563,\n",
       "       10.44358147, 10.42979421,  9.68173825, 10.00784819,  8.87865752])"
      ]
     },
     "execution_count": 21,
     "metadata": {},
     "output_type": "execute_result"
    }
   ],
   "source": [
    "# Semilla \n",
    "np.random.seed(1234)\n",
    "# Media y desviación estándar \n",
    "mu, sigma = 10, 0.5 \n",
    "# Generamos una muestra \"pseudoaleatoria\"\n",
    "s = np.random.normal(mu, sigma, 1000)\n",
    "s[0:10]"
   ]
  },
  {
   "cell_type": "code",
   "execution_count": 44,
   "metadata": {
    "slideshow": {
     "slide_type": "subslide"
    }
   },
   "outputs": [
    {
     "data": {
      "text/plain": [
       "array([[ 0.83532714, -1.90852308,  0.44747372, -0.55670098],\n",
       "       [ 0.29561776, -1.98954322,  0.8795335 ,  0.29906874],\n",
       "       [-0.12903187,  0.03815418,  0.68544808,  0.34782839],\n",
       "       [-0.8341233 ,  0.88507465, -1.06809768,  0.02152768]])"
      ]
     },
     "execution_count": 44,
     "metadata": {},
     "output_type": "execute_result"
    }
   ],
   "source": [
    "# Dentro de esta función también se pueden crear matrices\n",
    "ss = np.random.normal(size=(4, 4))\n",
    "# Idéntico a: \n",
    "# ss = np.random.randn(4,4)\n",
    "ss"
   ]
  },
  {
   "cell_type": "markdown",
   "metadata": {
    "slideshow": {
     "slide_type": "notes"
    }
   },
   "source": [
    "# Random walk\n",
    "\n",
    "Caminar es simplemente la suma acumulativa de pasos aleatorios $\\Rightarrow$ Usamos el módulo np.random para obtener 1,000 monedas lanzadas a la vez, establecerlas en 1 y –1, y calcular la suma acumulada.  \n",
    "\n",
    "Fuente: [Markovian Random Walks : One Dimensional Simple Random Walks](https://fse.studenttheses.ub.rug.nl/22617/1/bMATH_2020_HillAF.pdf). $X_i$ secuencia de v.a. que siguen una distribución simétrica con prob. Ber(p,q)"
   ]
  },
  {
   "cell_type": "code",
   "execution_count": 31,
   "metadata": {
    "slideshow": {
     "slide_type": "notes"
    }
   },
   "outputs": [
    {
     "name": "stdout",
     "output_type": "stream",
     "text": [
      "[0 0 1 1 0 1 0 0 1 1]\n",
      "[-1 -1  1  1 -1  1 -1 -1  1  1]\n"
     ]
    }
   ],
   "source": [
    "nsteps = 10\n",
    "draws = np.random.randint(0, 2, size=nsteps)\n",
    "steps = np.where(draws > 0, 1, -1) # where igual a ifelse() de R\n",
    "\n",
    "print(draws)\n",
    "print(steps)"
   ]
  },
  {
   "cell_type": "code",
   "execution_count": 32,
   "metadata": {},
   "outputs": [
    {
     "name": "stdout",
     "output_type": "stream",
     "text": [
      "[-1 -2 -1  0 -1  0 -1 -2 -1  0]\n"
     ]
    }
   ],
   "source": [
    "walk = steps.cumsum()\n",
    "print(walk)"
   ]
  },
  {
   "cell_type": "code",
   "execution_count": 33,
   "metadata": {
    "slideshow": {
     "slide_type": "notes"
    }
   },
   "outputs": [
    {
     "data": {
      "text/plain": [
       "[<matplotlib.lines.Line2D at 0x17b2aaa6e50>]"
      ]
     },
     "execution_count": 33,
     "metadata": {},
     "output_type": "execute_result"
    },
    {
     "data": {
      "image/png": "[encoded data removed]",
      "text/plain": [
       "<Figure size 432x288 with 1 Axes>"
      ]
     },
     "metadata": {
      "needs_background": "light"
     },
     "output_type": "display_data"
    }
   ],
   "source": [
    "import matplotlib.pyplot as plt\n",
    "plt.plot(walk[:100])"
   ]
  },
  {
   "cell_type": "markdown",
   "metadata": {
    "slideshow": {
     "slide_type": "slide"
    }
   },
   "source": [
    "# Aplicación de econometría\n",
    "\n",
    "## Estimador de MCO univariado\n"
   ]
  },
  {
   "cell_type": "markdown",
   "metadata": {
    "slideshow": {
     "slide_type": "subslide"
    }
   },
   "source": [
    "Pasos: \n",
    "\n",
    "1. Generar una muestra i.i.d. de variables aleatorias $\\{x_i\\}_{i=1}^{200}$ con distribución normal con media 20 y desviación estándar 2. \n",
    "2. Generar una muestra i.i.d. $\\big\\{u_i \\big\\}_{i=1}^{200}$ de v.a.s donde $u_i \\sim N_2(0,1)$, $i=1,2,...,200$ tal que $u_i$ y $x_i$ son independientes $\\forall i \\neq j$ , $i,j \\in  \\{1,2,...,200\\}$.\n"
   ]
  },
  {
   "cell_type": "markdown",
   "metadata": {
    "slideshow": {
     "slide_type": "subslide"
    }
   },
   "source": [
    "3. Usando los datos obtenidos en 1. y 2., generar la muestra $\\{y_i\\}_{i=1}^{200}$  donde $y_i=0.6+0.4x_i+u_i$ , $i=1,2,...,200$.\n",
    "4. Con los datos obtenidos estimar por mínimos cuadrados ordinarios $b_0$ y $b_1$ en: \n",
    "$$ \n",
    "y_i=b_0+b_1x_i+u_i \\;,\\;  i=1,2,...,200\n",
    "$$\n",
    "obteniendo así los estimados $\\hat{b}_{MCO}= \\begin{pmatrix}  \\hat b_{0} \\\\ \\hat b_{1} \\end{pmatrix} = (X'X)^{-1}X'Y$"
   ]
  },
  {
   "cell_type": "code",
   "execution_count": 23,
   "metadata": {
    "slideshow": {
     "slide_type": "subslide"
    }
   },
   "outputs": [
    {
     "data": {
      "text/plain": [
       "array([ 8.65758673,  7.02722636,  9.90316395,  7.77842313,  9.0811622 ,\n",
       "        8.51824154,  8.76304339,  8.16265924, 10.52331652,  7.59381672,\n",
       "       10.03311072,  8.84714054, 10.40660396,  9.0907813 ,  9.79266559,\n",
       "        9.61710015,  9.67354733,  8.15575207, 10.09719295,  8.05144741,\n",
       "        8.16123681,  9.99975784,  9.16594112,  9.93351608,  9.88088447,\n",
       "        6.14593788,  8.75255704,  7.05927125,  9.57989899,  9.69428707,\n",
       "        8.40289962,  9.16893406,  9.28096372,  8.69628158,  8.04332091,\n",
       "        8.75178196,  9.28084368, 11.10560824,  9.67266521, 11.18125658,\n",
       "        8.38518594,  8.64732616,  9.49197841,  5.88839006,  7.40617968,\n",
       "        9.03619681,  9.67250824,  9.0060028 ,  8.32328409,  9.06729482,\n",
       "       11.1366081 ,  5.73107801,  6.07133683,  8.64604663,  8.16516589,\n",
       "        7.21531014,  8.04437334,  9.12551083,  8.54854793,  9.04808686,\n",
       "        9.35001161,  8.74917895,  9.15938821,  9.2997217 ,  9.72611112,\n",
       "        7.75617774, 10.58766024,  9.57957479,  8.28375397,  9.55145096,\n",
       "        7.99520944,  8.30941829,  8.84469765,  8.29614418,  8.03638327,\n",
       "       11.18978709,  8.80507462,  8.23164969,  9.45935285,  8.35601652,\n",
       "        8.48103027,  5.37475007,  7.25938052, 10.26313443,  8.79470817,\n",
       "        7.97148276,  7.94829445, 11.17591551,  8.46215997,  9.60882783,\n",
       "        9.05012754,  9.10280371,  7.09392973,  9.18942876,  9.28515511,\n",
       "        9.87762482,  8.2736475 ,  8.65862056,  6.19146663,  7.87119715,\n",
       "        9.36001074,  9.76433936,  8.78532793, 11.46602776,  7.24529286,\n",
       "        9.5963504 ,  9.40629953,  8.81834431,  9.74995638,  5.82340743,\n",
       "        9.58896173,  6.68884822,  8.4109903 , 10.18214887,  8.41150481,\n",
       "        8.16670722, 10.06896767,  7.08395451,  7.90662397,  7.89310166,\n",
       "        9.39724733,  9.06139261,  8.76753357,  9.08237705,  6.43055147,\n",
       "        8.5729577 , 10.12532046,  8.51671023,  9.91493516,  8.71989751,\n",
       "        8.97331754,  8.99547387,  9.32081414, 10.07784476,  8.94090518,\n",
       "        8.09735017,  8.31478474, 10.12173654,  7.34311627, 10.00274415,\n",
       "        9.5024824 ,  8.86180972,  9.74713406,  7.74542483,  8.47008129,\n",
       "        8.13207062,  8.3154358 ,  9.80245101,  8.92814786,  9.51189055,\n",
       "        8.56908823, 10.73584585,  7.86062672,  8.09640304,  8.3482694 ,\n",
       "        7.91474648,  7.72215176, 10.43099883,  9.17355776,  9.13769627,\n",
       "       10.03256742,  9.08360926,  8.68458958,  7.66896595, 10.39372378,\n",
       "       10.16604327,  7.9484197 ,  7.48112643,  9.96984486,  8.31041358,\n",
       "        7.93063167,  8.26155277,  6.41290397,  7.8194598 ,  7.81484245,\n",
       "        6.69719174, 12.09129271,  7.38510604,  8.02833203,  9.05650746,\n",
       "        8.45445872,  7.41732241, 10.74124945,  8.25484788,  9.8113803 ,\n",
       "        6.94360178,  8.67630422,  6.38670582,  7.51253395,  6.57825248,\n",
       "        9.16140809,  7.17566566,  7.75401349,  8.41167992,  8.36296026,\n",
       "        8.30302459,  8.53307892,  8.28381032,  8.59236611,  9.69094702])"
      ]
     },
     "execution_count": 23,
     "metadata": {},
     "output_type": "execute_result"
    }
   ],
   "source": [
    "# Semilla para reproducibilidad\n",
    "np.random.seed(1234)\n",
    "# Vector x\n",
    "x = np.random.normal(20,2,200)\n",
    "# Vector u\n",
    "u = np.random.randn(200)\n",
    "# Vector Y\n",
    "Y = 0.6 + 0.4*x + u\n",
    "Y"
   ]
  },
  {
   "cell_type": "code",
   "execution_count": 28,
   "metadata": {
    "slideshow": {
     "slide_type": "subslide"
    }
   },
   "outputs": [
    {
     "data": {
      "text/plain": [
       "array([1.74016855, 0.34934729])"
      ]
     },
     "execution_count": 28,
     "metadata": {},
     "output_type": "execute_result"
    }
   ],
   "source": [
    "# from numpy.linalg import inv\n",
    "# Matrix X (que incluye unos para estimar b_0)\n",
    "X = np.array([np.ones(200), x]).T\n",
    "# Estimar vector b\n",
    "b = inv(X.T@X)@X.T@Y\n",
    "b"
   ]
  },
  {
   "cell_type": "markdown",
   "metadata": {
    "slideshow": {
     "slide_type": "slide"
    }
   },
   "source": [
    "## Estimador de MCO multivariado\n",
    "\n"
   ]
  },
  {
   "cell_type": "markdown",
   "metadata": {
    "slideshow": {
     "slide_type": "subslide"
    }
   },
   "source": [
    "Pasos: \n",
    "1. Generar una muestra i.i.d \n",
    "$$\n",
    " \\begin{pmatrix}  Y_i \\\\ X_{1i}\\\\ X_{2i} \\end{pmatrix}_{i=1}^{300} \\sim N_3 \\begin{bmatrix} \\begin{pmatrix}  1 \\\\ 0\\\\ 2 \\end{pmatrix}, \\begin{pmatrix}  0.8 & 0.4 & -0.2 \\\\ 0.4 & 1.0 & -0.8 \\\\ -0.2 & -0.8 & 2.0 \\end{pmatrix}  \\end{bmatrix}\n",
    "$$\n",
    "$\\forall i=1,2,\\dots,300$. "
   ]
  },
  {
   "cell_type": "markdown",
   "metadata": {
    "slideshow": {
     "slide_type": "subslide"
    }
   },
   "source": [
    "2. Con los datos obtenidos estimar el vector $\\hat{b}_{MCO}= (X'X)^{-1}X'Y$"
   ]
  },
  {
   "cell_type": "code",
   "execution_count": 29,
   "metadata": {
    "slideshow": {
     "slide_type": "subslide"
    }
   },
   "outputs": [
    {
     "data": {
      "text/plain": [
       "array([[ 1.15034001, -1.10298349,  4.19780709],\n",
       "       [ 1.9384072 ,  0.52898506,  1.02695762],\n",
       "       [ 1.06271462, -0.58770262,  3.80456607],\n",
       "       [ 1.24624457, -0.6752329 ,  2.4604716 ]])"
      ]
     },
     "execution_count": 29,
     "metadata": {},
     "output_type": "execute_result"
    }
   ],
   "source": [
    "np.random.seed(2021)\n",
    "# Fijamos el número de observaciones \n",
    "# Es útil poner un número bajo primero para ver lo que se está haciendo\n",
    "n = 4\n",
    "# Para los parámetros\n",
    "mu = np.array([1,0,2])\n",
    "sigma = np.array([[0.8, 0.4, -0.2], [0.4, 1, -0.8], [-0.2, -0.8, 2]])\n",
    "# Generamos la muestra aleatoria\n",
    "V = np.random.multivariate_normal(mu, sigma, n)\n",
    "V"
   ]
  },
  {
   "cell_type": "code",
   "execution_count": 87,
   "metadata": {
    "slideshow": {
     "slide_type": "subslide"
    }
   },
   "outputs": [
    {
     "name": "stdout",
     "output_type": "stream",
     "text": [
      "[1.15034001 1.9384072  1.06271462 1.24624457]\n",
      "[[ 1.         -1.10298349  4.19780709]\n",
      " [ 1.          0.52898506  1.02695762]\n",
      " [ 1.         -0.58770262  3.80456607]\n",
      " [ 1.         -0.6752329   2.4604716 ]]\n"
     ]
    }
   ],
   "source": [
    "# El vector Y corresponde a la primera columna de la matriz V\n",
    "Y = V[:,0]\n",
    "print(Y)\n",
    "# La matriz X se compone de un vector de unos y las dos últimas columnas de V\n",
    "# A diferencia del caso anterior, aquí usamos la np.c_[ ... ] para añadir una columna \n",
    "## Análogamente existe np.r_[ ... ] para añadir renglones\n",
    "X = np.c_[np.ones(n), V[:,1:3]]\n",
    "print(X)"
   ]
  },
  {
   "cell_type": "code",
   "execution_count": 79,
   "metadata": {
    "slideshow": {
     "slide_type": "subslide"
    }
   },
   "outputs": [
    {
     "data": {
      "text/plain": [
       "array([0.7036571 , 0.53090539, 0.10805328])"
      ]
     },
     "execution_count": 79,
     "metadata": {},
     "output_type": "execute_result"
    }
   ],
   "source": [
    "# Ahora calculamos b \n",
    "b = inv(X.T@X)@X.T@Y\n",
    "b"
   ]
  },
  {
   "cell_type": "markdown",
   "metadata": {
    "slideshow": {
     "slide_type": "slide"
    }
   },
   "source": [
    "# SciPy\n",
    "SciPy es una colección de paquetes que abordan diferentes problemas estándar en la computación científica. Al igual que NumPy, SciPy es estable, maduro y ampliamente utilizado. De hecho, SciPy es un paquete que contiene varias herramientas que se construyen sobre NumPy, utilizando sus arrays junto con la funcionalidad relacionada. "
   ]
  },
  {
   "cell_type": "markdown",
   "metadata": {
    "slideshow": {
     "slide_type": "subslide"
    }
   },
   "source": [
    "Aquí hay una muestra de los paquetes incluidos:\n",
    "\n",
    "| Paquete | Descripción |\n",
    "| :--- | :--- | \n",
    "| integrate | Rutinas de integración numérica y solucionadores de ecuaciones diferenciales |\n",
    "| linalg | Rutinas de álgebra lineal y descomposiciones matriciales que se extienden más allá de las proporcionadas en `numpy.linalg` |\n",
    "| optimize | Optimizadores de funciones (minimizadores) y algoritmos de búsqueda de raíces |\n",
    "| stats | Distribuciones de probabilidad estándar continuas y discretas (funciones de densidad, muestreadores, funciones de distribución continua), varias pruebas estadísticas y estadísticas descriptivas |\n"
   ]
  },
  {
   "cell_type": "markdown",
   "metadata": {
    "slideshow": {
     "slide_type": "slide"
    }
   },
   "source": [
    "## Scipy. stats\n",
    "\n",
    "Ahora veremos algunos ejemplos de lo que se puede hacer con este paquete y sus ventajas respecto a Numpy. "
   ]
  },
  {
   "cell_type": "markdown",
   "metadata": {
    "slideshow": {
     "slide_type": "subslide"
    }
   },
   "source": [
    "### Regresión lineal \n",
    "\n",
    "El cálculo de los estimadores de regresión lineal puede realizarse fácilmente con este paquete. "
   ]
  },
  {
   "cell_type": "code",
   "execution_count": 106,
   "metadata": {
    "slideshow": {
     "slide_type": "subslide"
    }
   },
   "outputs": [
    {
     "name": "stdout",
     "output_type": "stream",
     "text": [
      "intercepto: 0.048839    pendiente: 2.005699\n",
      "R-cuadrada: 0.806206\n"
     ]
    }
   ],
   "source": [
    "from scipy.stats import linregress\n",
    "# Generamos la muestra aleatoria\n",
    "x = np.random.randn(200)\n",
    "y = 0.1 + 2*x + np.random.randn(200)\n",
    "# Hacemos la estimación \n",
    "slope, intercept, r_value, p_value, std_err = linregress(x, y)\n",
    "# Para ver los resultados con formato bonito\n",
    "#print(\"slope: %f    intercept: %f\" % (slope, intercept))\n",
    "print(\"intercepto: %f    pendiente: %f\" % (intercept, slope))\n",
    "# Se pueden obtener más cosas como la R^2\n",
    "print(\"R-cuadrada: %f\" % r_value**2)"
   ]
  },
  {
   "cell_type": "code",
   "execution_count": 97,
   "metadata": {
    "slideshow": {
     "slide_type": "subslide"
    }
   },
   "outputs": [
    {
     "data": {
      "image/png": "[encoded data removed]",
      "text/plain": [
       "<Figure size 432x288 with 1 Axes>"
      ]
     },
     "metadata": {
      "needs_background": "light"
     },
     "output_type": "display_data"
    }
   ],
   "source": [
    "# Se puede graficar fácilmente    \n",
    "plt.plot(x, y, 'o', label='original data')\n",
    "plt.plot(x, intercept + slope*x, 'r', label='fitted line')\n",
    "plt.legend()\n",
    "plt.show()"
   ]
  },
  {
   "cell_type": "markdown",
   "metadata": {
    "slideshow": {
     "slide_type": "slide"
    }
   },
   "source": [
    "# Variables aleatorias y distribuciones \n",
    "\n",
    "Recordemos que `numpy.random` provee funciones para generar variables aleatorias. Por ejemplo, `np.random.beta(5, 5, size=3)`genera valores a partir de una función de distribución gamma cuando `a=b=5`. A veces necesitamos acceder a más información como la CDF, los cuantiles, etc. Para ello, podemos utilizar `scipy.stats`, que proporciona toda esta funcionalidad, así como la generación de números aleatorios en una única interfaz coherente.\n"
   ]
  },
  {
   "cell_type": "markdown",
   "metadata": {
    "slideshow": {
     "slide_type": "subslide"
    }
   },
   "source": [
    "#### Ejemplo: \n",
    "Graficar el histograma y la pdf de una muestra generada aleatoriamente. "
   ]
  },
  {
   "cell_type": "code",
   "execution_count": 109,
   "metadata": {
    "scrolled": true,
    "slideshow": {
     "slide_type": "subslide"
    }
   },
   "outputs": [
    {
     "data": {
      "image/png": "[encoded data removed]",
      "text/plain": [
       "<Figure size 720x432 with 1 Axes>"
      ]
     },
     "metadata": {
      "needs_background": "light"
     },
     "output_type": "display_data"
    }
   ],
   "source": [
    "obs = beta.rvs(5, 5, size=2000) # Generar la muestra aleatoria\n",
    "grid = np.linspace(0.01, 0.99, 100) # Generar los percentiles\n",
    "# Hacer la gráfica\n",
    "fig, ax = plt.subplots()\n",
    "ax.hist(obs, bins=40, density=True) # Histograma\n",
    "ax.plot(grid, beta.pdf(grid, 5, 5), 'k-', linewidth=2) # Graficar la pdf\n",
    "plt.show()"
   ]
  },
  {
   "cell_type": "markdown",
   "metadata": {
    "slideshow": {
     "slide_type": "slide"
    }
   },
   "source": [
    "## Optimización \n",
    "### Raíces de una función \n",
    "Una **raíz** de una función real $f$ en $[a, b]$ es una $x \\in [a, b]$ tal que $f (x) = 0$. Por ejemplo, si graficamos la función\n",
    "\n",
    "\n",
    "<a id='equation-root-f'> </a>\n",
    "$$\n",
    "f (x) = \\sin (4 (x - 1/4)) + x + x ^ {20} - 1 \\tag {11.2}\n",
    "$$\n",
    "\n",
    "con $x \\ en [0,1]$ obtenemos"
   ]
  },
  {
   "cell_type": "code",
   "execution_count": 110,
   "metadata": {
    "slideshow": {
     "slide_type": "subslide"
    }
   },
   "outputs": [
    {
     "data": {
      "image/png": "[encoded data removed]",
      "text/plain": [
       "<Figure size 720x432 with 1 Axes>"
      ]
     },
     "metadata": {
      "needs_background": "light"
     },
     "output_type": "display_data"
    }
   ],
   "source": [
    "f = lambda x: np.sin(4 * (x - 1/4)) + x + x**20 - 1\n",
    "x = np.linspace(0, 1, 100)\n",
    "\n",
    "fig, ax = plt.subplots()\n",
    "ax.plot(x, f(x), label='$f(x)$')\n",
    "ax.axhline(ls='--', c='k')\n",
    "ax.set_xlabel('$x$', fontsize=12)\n",
    "ax.set_ylabel('$f(x)$', fontsize=12)\n",
    "ax.legend(fontsize=12)\n",
    "plt.show()"
   ]
  },
  {
   "cell_type": "markdown",
   "metadata": {
    "slideshow": {
     "slide_type": "subslide"
    }
   },
   "source": [
    "### El método Newton-Raphson\n",
    "El método de Newton-Raphson es un algoritmo de búsqueda de raíces muy común. En SciPy, este algoritmo es implementado por `scipy.optimize.newton`. Este método utiliza información de pendiente local en un intento de aumentar la velocidad de convergencia. \n",
    "\n",
    "Ahora vemos cómo aplicar el método a la función en cuestión. Para esto, se necesita una condición inicial adecuada para la búsqueda. "
   ]
  },
  {
   "cell_type": "code",
   "execution_count": 111,
   "metadata": {
    "slideshow": {
     "slide_type": "subslide"
    }
   },
   "outputs": [
    {
     "data": {
      "text/plain": [
       "0.40829350427935673"
      ]
     },
     "execution_count": 111,
     "metadata": {},
     "output_type": "execute_result"
    }
   ],
   "source": [
    "from scipy.optimize import newton\n",
    "# Comenzar el algoritmo con la condición inicial x=0.2\n",
    "newton(f, 0.2)   "
   ]
  },
  {
   "cell_type": "code",
   "execution_count": 112,
   "metadata": {
    "slideshow": {
     "slide_type": "subslide"
    }
   },
   "outputs": [
    {
     "data": {
      "text/plain": [
       "0.7001700000000279"
      ]
     },
     "execution_count": 112,
     "metadata": {},
     "output_type": "execute_result"
    }
   ],
   "source": [
    "# Pero nótese que no se llega a la solución para cualquier valor inicial \n",
    "## Si en lugar elegimos x = 0.7 obtenemos algo erroneo\n",
    "newton(f, 0.7)  "
   ]
  },
  {
   "cell_type": "markdown",
   "metadata": {
    "slideshow": {
     "slide_type": "slide"
    }
   },
   "source": [
    "### Integración\n",
    "La mayoría de los métodos de integración numérica funcionan calculando la integral de un polinomio aproximado. El error resultante depende de qué tan bien el polinomio se ajuste al integrando, que a su vez depende de qué tan \"regular\" sea el integrando. En SciPy, el módulo relevante para la integración numérica es `scipy.integrate`. "
   ]
  },
  {
   "cell_type": "markdown",
   "metadata": {
    "slideshow": {
     "slide_type": "subslide"
    }
   },
   "source": [
    "Un buen valor predeterminado para la integración univariante es `quad`. "
   ]
  },
  {
   "cell_type": "markdown",
   "metadata": {
    "slideshow": {
     "slide_type": "subslide"
    }
   },
   "source": [
    "# Ejemplo\n",
    "Calcular: \n",
    "$$\n",
    "y = \\int_0^1 x^2\n",
    "$$"
   ]
  },
  {
   "cell_type": "code",
   "execution_count": 34,
   "metadata": {
    "slideshow": {
     "slide_type": "subslide"
    }
   },
   "outputs": [
    {
     "data": {
      "image/png": "[encoded data removed]",
      "text/plain": [
       "<Figure size 432x288 with 1 Axes>"
      ]
     },
     "metadata": {
      "needs_background": "light"
     },
     "output_type": "display_data"
    }
   ],
   "source": [
    "# Gráfica\n",
    "f = lambda x: x**2\n",
    "x = np.linspace(0, 1, 100)\n",
    "fig, ax = plt.subplots()\n",
    "ax.plot(x, f(x), label='$x^2$')\n",
    "ax.axhline(ls='--', c='k')\n",
    "ax.set_xlabel('$x$', fontsize=12)\n",
    "ax.set_ylabel('$f(x)$', fontsize=12)\n",
    "ax.legend(fontsize=12)\n",
    "plt.show()"
   ]
  },
  {
   "cell_type": "code",
   "execution_count": 36,
   "metadata": {
    "slideshow": {
     "slide_type": "subslide"
    }
   },
   "outputs": [
    {
     "data": {
      "text/plain": [
       "0.33333333333333337"
      ]
     },
     "execution_count": 36,
     "metadata": {},
     "output_type": "execute_result"
    }
   ],
   "source": [
    "from scipy.integrate import quad\n",
    "\n",
    "integral, error = quad(lambda x: x**2, 0, 1)\n",
    "integral"
   ]
  }
 ],
 "metadata": {
  "celltoolbar": "Slideshow",
  "kernelspec": {
   "display_name": "Python 3",
   "language": "python",
   "name": "python3"
  },
  "language_info": {
   "codemirror_mode": {
    "name": "ipython",
    "version": 3
   },
   "file_extension": ".py",
   "mimetype": "text/x-python",
   "name": "python",
   "nbconvert_exporter": "python",
   "pygments_lexer": "ipython3",
   "version": "3.8.8"
  }
 },
 "nbformat": 4,
 "nbformat_minor": 4
}
