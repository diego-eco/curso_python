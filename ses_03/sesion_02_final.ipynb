{
 "cells": [
  {
   "cell_type": "code",
   "execution_count": 2,
   "id": "48d5bbf6",
   "metadata": {
    "slideshow": {
     "slide_type": "slide"
    }
   },
   "outputs": [],
   "source": [
    "materias = [\"Historia\", \"Geografía\", \"Matemáticas\", \"Economía\"]"
   ]
  },
  {
   "cell_type": "code",
   "execution_count": 3,
   "id": "54aa18f1",
   "metadata": {},
   "outputs": [
    {
     "data": {
      "text/plain": [
       "['Historia', 'Geografía', 'Matemáticas']"
      ]
     },
     "execution_count": 3,
     "metadata": {},
     "output_type": "execute_result"
    }
   ],
   "source": [
    "# Eliminar un elemento de una lista\n",
    "\n",
    "# Subset la parte que nos interesa\n",
    "# Es un método que preserva el objeto original = hay que asignar a nueva variable\n",
    "\n",
    "sin_eco = materias[:3]\n",
    "sin_eco"
   ]
  },
  {
   "cell_type": "code",
   "execution_count": 4,
   "id": "1c176c0a",
   "metadata": {
    "slideshow": {
     "slide_type": "slide"
    }
   },
   "outputs": [
    {
     "data": {
      "text/plain": [
       "['Historia', 'Geografía', 'Matemáticas']"
      ]
     },
     "execution_count": 4,
     "metadata": {},
     "output_type": "execute_result"
    }
   ],
   "source": [
    "# Otros métodos modifican el objeto directamente\n",
    "\n",
    "materias.remove(\"Economía\")\n",
    "materias"
   ]
  },
  {
   "cell_type": "code",
   "execution_count": 5,
   "id": "50565732",
   "metadata": {},
   "outputs": [
    {
     "data": {
      "text/plain": [
       "'Economía'"
      ]
     },
     "execution_count": 5,
     "metadata": {},
     "output_type": "execute_result"
    }
   ],
   "source": [
    "materias = [\"Historia\", \"Geografía\", \"Matemáticas\", \"Economía\"]\n",
    "materias.pop()"
   ]
  },
  {
   "cell_type": "code",
   "execution_count": 6,
   "id": "750bab73",
   "metadata": {
    "slideshow": {
     "slide_type": "slide"
    }
   },
   "outputs": [],
   "source": [
    "# Ordenar nuestras listas\n",
    "# Métodos modifican el objeto original\n",
    "\n",
    "materias = [\"Historia\", \"Geografía\", \"Matemáticas\", \"Economía\"]\n",
    "calif = [10,6,7,5]"
   ]
  },
  {
   "cell_type": "code",
   "execution_count": 8,
   "id": "57d2ceb6",
   "metadata": {},
   "outputs": [
    {
     "data": {
      "text/plain": [
       "[5, 6, 7, 10]"
      ]
     },
     "execution_count": 8,
     "metadata": {},
     "output_type": "execute_result"
    }
   ],
   "source": [
    "materias.sort()\n",
    "calif.sort()\n",
    "\n",
    "materias\n",
    "calif"
   ]
  },
  {
   "cell_type": "code",
   "execution_count": 10,
   "id": "af980903",
   "metadata": {},
   "outputs": [
    {
     "data": {
      "text/plain": [
       "[10, 7, 6, 5]"
      ]
     },
     "execution_count": 10,
     "metadata": {},
     "output_type": "execute_result"
    }
   ],
   "source": [
    "calif.sort(reverse = True)\n",
    "calif"
   ]
  },
  {
   "cell_type": "code",
   "execution_count": 11,
   "id": "7b87a37e",
   "metadata": {
    "slideshow": {
     "slide_type": "-"
    }
   },
   "outputs": [
    {
     "data": {
      "text/plain": [
       "[5, 6, 7, 10]"
      ]
     },
     "execution_count": 11,
     "metadata": {},
     "output_type": "execute_result"
    }
   ],
   "source": [
    "# Métodos que no modifican el objeto original\n",
    "sorted(calif)"
   ]
  },
  {
   "cell_type": "code",
   "execution_count": 12,
   "id": "7a0e7024",
   "metadata": {
    "slideshow": {
     "slide_type": "slide"
    }
   },
   "outputs": [
    {
     "data": {
      "text/plain": [
       "2"
      ]
     },
     "execution_count": 12,
     "metadata": {},
     "output_type": "execute_result"
    }
   ],
   "source": [
    "# Obtener los índices\n",
    "materias.index(\"Historia\")"
   ]
  },
  {
   "cell_type": "code",
   "execution_count": 13,
   "id": "885aa08f",
   "metadata": {
    "slideshow": {
     "slide_type": "slide"
    }
   },
   "outputs": [
    {
     "data": {
      "text/plain": [
       "True"
      ]
     },
     "execution_count": 13,
     "metadata": {},
     "output_type": "execute_result"
    }
   ],
   "source": [
    "# Revisar si un elemento se encuentra en la lista\n",
    "\"Historia\" in materias"
   ]
  },
  {
   "cell_type": "code",
   "execution_count": 14,
   "id": "1ff500ab",
   "metadata": {
    "slideshow": {
     "slide_type": "slide"
    }
   },
   "outputs": [
    {
     "name": "stdout",
     "output_type": "stream",
     "text": [
      "Economía\n",
      "Geografía\n",
      "Historia\n",
      "Matemáticas\n"
     ]
    }
   ],
   "source": [
    "# Las listas son objetos iterables\n",
    "\n",
    "for item in materias:\n",
    "    print(item)"
   ]
  },
  {
   "cell_type": "code",
   "execution_count": 15,
   "id": "cb24277d",
   "metadata": {
    "slideshow": {
     "slide_type": "slide"
    }
   },
   "outputs": [],
   "source": [
    "?materias"
   ]
  },
  {
   "cell_type": "markdown",
   "id": "6b071e98",
   "metadata": {
    "slideshow": {
     "slide_type": "slide"
    }
   },
   "source": [
    "## Trabajando con diccionarios\n",
    "\n",
    "En otros lenguajes pueden llamarse \"hash maps\""
   ]
  },
  {
   "cell_type": "code",
   "execution_count": 16,
   "id": "4f20b726",
   "metadata": {},
   "outputs": [],
   "source": [
    "estudiante = {\n",
    "    'nombre' : 'Diego',\n",
    "    'apellido' : 'López',\n",
    "    'edad' : 26,\n",
    "    'cursos' : ['Historia','Geografía']\n",
    "}"
   ]
  },
  {
   "cell_type": "code",
   "execution_count": 17,
   "id": "50db8bcc",
   "metadata": {
    "slideshow": {
     "slide_type": "slide"
    }
   },
   "outputs": [
    {
     "data": {
      "text/plain": [
       "dict_items([('nombre', 'Diego'), ('apellido', 'López'), ('edad', 26), ('cursos', ['Historia', 'Geografía'])])"
      ]
     },
     "execution_count": 17,
     "metadata": {},
     "output_type": "execute_result"
    }
   ],
   "source": [
    "# Las llaves deben ser objetos inmutables: números, strings, tuplas\n",
    "\n",
    "estudiante.keys() # Sólo llaves\n",
    "estudiante.values() # Sólo valores\n",
    "estudiante.items() # En pares\n",
    "\n",
    "\n",
    "# Esto es útil para hacer loops"
   ]
  },
  {
   "cell_type": "code",
   "execution_count": 18,
   "id": "67d86d5e",
   "metadata": {},
   "outputs": [
    {
     "name": "stdout",
     "output_type": "stream",
     "text": [
      "nombre\n",
      "apellido\n",
      "edad\n",
      "cursos\n"
     ]
    }
   ],
   "source": [
    "for key, value in estudiante.items():\n",
    "    print(key)"
   ]
  },
  {
   "cell_type": "code",
   "execution_count": 19,
   "id": "8094d58a",
   "metadata": {
    "slideshow": {
     "slide_type": "slide"
    }
   },
   "outputs": [
    {
     "data": {
      "text/plain": [
       "'López'"
      ]
     },
     "execution_count": 19,
     "metadata": {},
     "output_type": "execute_result"
    }
   ],
   "source": [
    "# Acceso directo, pero propenso a errores\n",
    "estudiante['apellido']"
   ]
  },
  {
   "cell_type": "code",
   "execution_count": 20,
   "id": "3a9a5ca0",
   "metadata": {},
   "outputs": [
    {
     "data": {
      "text/plain": [
       "'No disponible'"
      ]
     },
     "execution_count": 20,
     "metadata": {},
     "output_type": "execute_result"
    }
   ],
   "source": [
    "# Método diseñado para diccionarios\n",
    "estudiante.get('teléfono', 'No disponible')"
   ]
  },
  {
   "cell_type": "code",
   "execution_count": 21,
   "id": "b27a37bd",
   "metadata": {
    "slideshow": {
     "slide_type": "slide"
    }
   },
   "outputs": [],
   "source": [
    "# Agregar directamente un nuevo key-value\n",
    "estudiante['teléfono'] = '55 5555 55555'"
   ]
  },
  {
   "cell_type": "code",
   "execution_count": 22,
   "id": "4bf41662",
   "metadata": {},
   "outputs": [
    {
     "data": {
      "text/plain": [
       "'55 5555 55555'"
      ]
     },
     "execution_count": 22,
     "metadata": {},
     "output_type": "execute_result"
    }
   ],
   "source": [
    "# Método diseñado para diccionarios\n",
    "estudiante.get('teléfono', 'No disponible')"
   ]
  },
  {
   "cell_type": "code",
   "execution_count": 23,
   "id": "4f9af0ef",
   "metadata": {
    "slideshow": {
     "slide_type": "slide"
    }
   },
   "outputs": [
    {
     "data": {
      "text/plain": [
       "{'nombre': 'Angie',\n",
       " 'apellido': 'Fael',\n",
       " 'edad': 26,\n",
       " 'cursos': ['Historia', 'Geografía'],\n",
       " 'teléfono': '55 5555 55555'}"
      ]
     },
     "execution_count": 23,
     "metadata": {},
     "output_type": "execute_result"
    }
   ],
   "source": [
    "# Actualizar un diccionario, utilizo otro diccionario\n",
    "\n",
    "estudiante.update({'nombre' : 'Angie',\n",
    "                  'apellido' : 'Pérez',})\n",
    "\n",
    "estudiante"
   ]
  },
  {
   "cell_type": "code",
   "execution_count": 24,
   "id": "215ae569",
   "metadata": {},
   "outputs": [
    {
     "data": {
      "text/plain": [
       "{'apellido': 'Fael',\n",
       " 'edad': 26,\n",
       " 'cursos': ['Historia', 'Geografía'],\n",
       " 'teléfono': '55 5555 55555'}"
      ]
     },
     "execution_count": 24,
     "metadata": {},
     "output_type": "execute_result"
    }
   ],
   "source": [
    "# Para eliminiar un campo\n",
    "# help(\"del\")\n",
    "del estudiante['nombre']\n",
    "estudiante"
   ]
  },
  {
   "cell_type": "markdown",
   "id": "3b884e0e",
   "metadata": {
    "slideshow": {
     "slide_type": "slide"
    }
   },
   "source": [
    "# Clases en Python\n",
    "\n",
    "Una clase es un tipo de objeto.\n",
    "```python\n",
    "class Perro:\n",
    "    def __init__(self, talla, nariz):\n",
    "        self.size = talla\n",
    "        self.nose = nariz\n",
    "    pass\n",
    "```\n",
    "\n",
    "Una instancia (instance, en inglés) es un ejemplo de objeto.\n",
    "\n",
    "```python\n",
    "\n",
    "# pug es una instancia del objeto Perro\n",
    "pug = Perro(30, \"chata\")\n",
    "```"
   ]
  },
  {
   "cell_type": "markdown",
   "id": "cace3c1f",
   "metadata": {
    "slideshow": {
     "slide_type": "slide"
    }
   },
   "source": [
    "Las Clases en Python son un bloque fundamental de la construcción de programas en Python.  \n",
    "\n",
    "Permiten agrupar lógicamente nuestros datos y funciones para reutilizarlas posteriormente y construir sobre estas clases.  \n",
    "\n",
    "No serán utilizadas frecuentemente en este curso"
   ]
  },
  {
   "cell_type": "code",
   "execution_count": 27,
   "id": "e4fed4d8",
   "metadata": {
    "slideshow": {
     "slide_type": "slide"
    }
   },
   "outputs": [],
   "source": [
    "# Automatizar ciertos procesos\n",
    "\n",
    "# self es la instancia, o el constructor en otros lenguajes.\n",
    "# self es un argumento \"fantasma\", los demás son argumentos normales\n",
    "\n",
    "# Las clases inician con mayúscula\n",
    "\n",
    "class Empleado:\n",
    "    def __init__(self, nombre, apellido, salario):\n",
    "        self.nombre = nombre\n",
    "        self.apellido = apellido\n",
    "        self.salario = salario\n",
    "        self.email = nombre + '.' + apellido + '@empresa.com'\n",
    "    #    \n",
    "    def nom_completo(self):\n",
    "        print(self.nombre + ' ' + self.apellido)\n",
    "        \n",
    "# Tiene que venir (self) que es la instancia para que todo funione."
   ]
  },
  {
   "cell_type": "code",
   "execution_count": 28,
   "id": "89b2d62d",
   "metadata": {},
   "outputs": [
    {
     "data": {
      "text/plain": [
       "<__main__.Empleado at 0x1a49ba41d90>"
      ]
     },
     "execution_count": 28,
     "metadata": {},
     "output_type": "execute_result"
    }
   ],
   "source": [
    "empleado_1 = Empleado('Diego', 'López', 1000)\n",
    "empleado_1"
   ]
  },
  {
   "cell_type": "code",
   "execution_count": 29,
   "id": "9da8d127",
   "metadata": {},
   "outputs": [
    {
     "data": {
      "text/plain": [
       "'Diego.López@empresa.com'"
      ]
     },
     "execution_count": 29,
     "metadata": {},
     "output_type": "execute_result"
    }
   ],
   "source": [
    "empleado_1.email"
   ]
  },
  {
   "cell_type": "code",
   "execution_count": 30,
   "id": "467f5c34",
   "metadata": {},
   "outputs": [
    {
     "name": "stdout",
     "output_type": "stream",
     "text": [
      "Diego López\n"
     ]
    }
   ],
   "source": [
    "print(empleado_1.nombre + ' ' + empleado_1.apellido)\n",
    "\n",
    "# En vez de hacer esto puedo crear un método dentro de la clase."
   ]
  },
  {
   "cell_type": "code",
   "execution_count": 31,
   "id": "e09845d8",
   "metadata": {},
   "outputs": [
    {
     "name": "stdout",
     "output_type": "stream",
     "text": [
      "Diego López\n"
     ]
    }
   ],
   "source": [
    "empleado_1.nom_completo()"
   ]
  },
  {
   "cell_type": "code",
   "execution_count": 32,
   "id": "aab54714",
   "metadata": {},
   "outputs": [
    {
     "name": "stdout",
     "output_type": "stream",
     "text": [
      "Diego López\n"
     ]
    }
   ],
   "source": [
    "Empleado.nom_completo(empleado_1)\n",
    "\n",
    "# Aquí no sabe qué instancia queremos correr dentro del método\n",
    "# Hay que ponerlo.\n",
    "# Ejemplo Pipes"
   ]
  },
  {
   "cell_type": "markdown",
   "id": "51c7ee96",
   "metadata": {
    "slideshow": {
     "slide_type": "slide"
    }
   },
   "source": [
    "# Introducción a Numpy y la estructura Dataframe"
   ]
  },
  {
   "cell_type": "code",
   "execution_count": 33,
   "id": "5b9bc876",
   "metadata": {},
   "outputs": [],
   "source": [
    "import numpy as np\n",
    "\n",
    "# Se abrevia generalmente para acceder a sus método más rápido\n",
    "\n",
    "# Por convención, ciertas librerías utilizan abreviaturas estándar."
   ]
  },
  {
   "cell_type": "markdown",
   "id": "3848a24d",
   "metadata": {
    "slideshow": {
     "slide_type": "-"
    }
   },
   "source": [
    "### Numerical Python (Numpy)\n",
    "\n",
    "Una de las librerías más utilizadas para manejo de datos.\n",
    "\n",
    "Más rápido que utilizar listas y cuenta con muchos métodos."
   ]
  },
  {
   "cell_type": "markdown",
   "id": "2c9e0626",
   "metadata": {
    "slideshow": {
     "slide_type": "slide"
    }
   },
   "source": [
    "La unidad básica es un **numpy array**:  \n",
    "\n",
    "Una forma de vector, similar a una lista pero con más funciones"
   ]
  },
  {
   "cell_type": "code",
   "execution_count": 34,
   "id": "5b119222",
   "metadata": {},
   "outputs": [
    {
     "data": {
      "text/plain": [
       "list"
      ]
     },
     "execution_count": 34,
     "metadata": {},
     "output_type": "execute_result"
    }
   ],
   "source": [
    "type(np.array([1,2,3,4]))\n",
    "type([1,2,3,4])"
   ]
  },
  {
   "cell_type": "code",
   "execution_count": 35,
   "id": "abd4b4be",
   "metadata": {
    "slideshow": {
     "slide_type": "slide"
    }
   },
   "outputs": [],
   "source": [
    "# Array (es un tipo de lista, iterable y permite operaciones vectoriales)\n",
    "\n",
    "numeros = np.array([1,2,3,4])\n",
    "floats = np.array([1.3,2.5,3.7,4.9])\n",
    "strings = np.array(['a','b','c','d'])"
   ]
  },
  {
   "cell_type": "code",
   "execution_count": 36,
   "id": "e7d237f3",
   "metadata": {},
   "outputs": [
    {
     "name": "stdout",
     "output_type": "stream",
     "text": [
      "int32\n",
      "float64\n",
      "<U1\n"
     ]
    }
   ],
   "source": [
    "print(numeros.dtype)\n",
    "print(floats.dtype)\n",
    "print(strings.dtype)"
   ]
  },
  {
   "cell_type": "code",
   "execution_count": 38,
   "id": "b3cd5a13",
   "metadata": {
    "slideshow": {
     "slide_type": "slide"
    }
   },
   "outputs": [
    {
     "data": {
      "text/plain": [
       "array([ 5, 10, 15, 20])"
      ]
     },
     "execution_count": 38,
     "metadata": {},
     "output_type": "execute_result"
    }
   ],
   "source": [
    "# Operaciones vectoriales\n",
    "numeros * 5"
   ]
  },
  {
   "cell_type": "code",
   "execution_count": 39,
   "id": "72eb503e",
   "metadata": {},
   "outputs": [
    {
     "data": {
      "text/plain": [
       "[1, 2, 3, 4, 1, 2, 3, 4, 1, 2, 3, 4, 1, 2, 3, 4, 1, 2, 3, 4]"
      ]
     },
     "execution_count": 39,
     "metadata": {},
     "output_type": "execute_result"
    }
   ],
   "source": [
    "# En cambio con una lista se repite 5 veces\n",
    "[1,2,3,4]*5"
   ]
  },
  {
   "cell_type": "code",
   "execution_count": 41,
   "id": "51266237",
   "metadata": {
    "slideshow": {
     "slide_type": "-"
    }
   },
   "outputs": [
    {
     "data": {
      "text/plain": [
       "(4,)"
      ]
     },
     "execution_count": 41,
     "metadata": {},
     "output_type": "execute_result"
    }
   ],
   "source": [
    "numeros.shape"
   ]
  },
  {
   "cell_type": "code",
   "execution_count": 9,
   "id": "960cf2b6",
   "metadata": {
    "slideshow": {
     "slide_type": "slide"
    }
   },
   "outputs": [
    {
     "ename": "NameError",
     "evalue": "name 'np' is not defined",
     "output_type": "error",
     "traceback": [
      "\u001b[1;31m---------------------------------------------------------------------------\u001b[0m",
      "\u001b[1;31mNameError\u001b[0m                                 Traceback (most recent call last)",
      "\u001b[1;32m<ipython-input-9-0a5f27dc0cba>\u001b[0m in \u001b[0;36m<module>\u001b[1;34m\u001b[0m\n\u001b[0;32m      1\u001b[0m \u001b[1;31m# Para matrices defino dos listas\u001b[0m\u001b[1;33m\u001b[0m\u001b[1;33m\u001b[0m\u001b[1;33m\u001b[0m\u001b[0m\n\u001b[0;32m      2\u001b[0m \u001b[1;33m\u001b[0m\u001b[0m\n\u001b[1;32m----> 3\u001b[1;33m \u001b[0mA\u001b[0m \u001b[1;33m=\u001b[0m \u001b[0mnp\u001b[0m\u001b[1;33m.\u001b[0m\u001b[0marray\u001b[0m\u001b[1;33m(\u001b[0m\u001b[1;33m[\u001b[0m\u001b[1;33m[\u001b[0m\u001b[1;36m1\u001b[0m\u001b[1;33m,\u001b[0m\u001b[1;36m2\u001b[0m\u001b[1;33m]\u001b[0m\u001b[1;33m,\u001b[0m\u001b[1;33m[\u001b[0m\u001b[1;36m3\u001b[0m\u001b[1;33m,\u001b[0m\u001b[1;36m4\u001b[0m\u001b[1;33m]\u001b[0m\u001b[1;33m]\u001b[0m\u001b[1;33m)\u001b[0m\u001b[1;33m\u001b[0m\u001b[1;33m\u001b[0m\u001b[0m\n\u001b[0m\u001b[0;32m      4\u001b[0m \u001b[0mprint\u001b[0m\u001b[1;33m(\u001b[0m\u001b[0mA\u001b[0m\u001b[1;33m)\u001b[0m\u001b[1;33m\u001b[0m\u001b[1;33m\u001b[0m\u001b[0m\n",
      "\u001b[1;31mNameError\u001b[0m: name 'np' is not defined"
     ]
    }
   ],
   "source": [
    "# Para matrices defino dos listas\n",
    "\n",
    "A = np.array([[1,2],[3,4]])\n",
    "print(A)"
   ]
  },
  {
   "cell_type": "code",
   "execution_count": 43,
   "id": "48bffaff",
   "metadata": {},
   "outputs": [
    {
     "data": {
      "text/plain": [
       "(2, 2)"
      ]
     },
     "execution_count": 43,
     "metadata": {},
     "output_type": "execute_result"
    }
   ],
   "source": [
    "A.shape"
   ]
  },
  {
   "cell_type": "code",
   "execution_count": 44,
   "id": "4f4a98c4",
   "metadata": {},
   "outputs": [],
   "source": [
    "# Para tener ayuda sobre un objeto\n",
    "# ?A\n",
    "# ?A.shape"
   ]
  }
 ],
 "metadata": {
  "celltoolbar": "Slideshow",
  "kernelspec": {
   "display_name": "Python 3",
   "language": "python",
   "name": "python3"
  },
  "language_info": {
   "codemirror_mode": {
    "name": "ipython",
    "version": 3
   },
   "file_extension": ".py",
   "mimetype": "text/x-python",
   "name": "python",
   "nbconvert_exporter": "python",
   "pygments_lexer": "ipython3",
   "version": "3.8.8"
  }
 },
 "nbformat": 4,
 "nbformat_minor": 5
}
