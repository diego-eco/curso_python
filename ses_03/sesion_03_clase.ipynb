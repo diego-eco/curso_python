{
 "cells": [
  {
   "cell_type": "markdown",
   "metadata": {},
   "source": [
    "# Python para economistas\n",
    "\n",
    "### Mtro. Diego López Tamayo\n",
    "#### El Colegio de México\n",
    "#### BBVA Research"
   ]
  },
  {
   "cell_type": "markdown",
   "metadata": {
    "slideshow": {
     "slide_type": "slide"
    }
   },
   "source": [
    "# Introducción a  Numpy & Scipy\n",
    "## Sesión 3 \n",
    "\n",
    "- Introducción a Numpy & Scipy\n",
    "- Funciones principales\n",
    "- Operaciones básicas en Numpy\n",
    "- Vectores y matrices \n",
    "- Operaciones, transp, inversa, determinante\n",
    "- Medias, varianzas, desv.\n",
    "- Álgebra lineal con Scipy\n",
    "- (Extra) Interpolación, Integral, Optimización"
   ]
  },
  {
   "cell_type": "markdown",
   "metadata": {
    "slideshow": {
     "slide_type": "slide"
    }
   },
   "source": [
    "## Numerical Python - Numpy\n",
    "\n",
    "**Numpy** es el paquete fundamental para la computación numérica con Python. Proporciona formas poderosas de crear, almacenar y manipular datos, lo que lo hace capaz de integrarse sin problemas y con rapidez con una amplia variedad de bases de datos y formatos de datos. Esta es también la base sobre la que se basa **Pandas**, que es un paquete centrado en datos de alto rendimiento sobre el que aprenderemos más en este curso. "
   ]
  },
  {
   "cell_type": "markdown",
   "metadata": {
    "slideshow": {
     "slide_type": "subslide"
    }
   },
   "source": [
    "Hoy hablaremos sobre la creación de matrices con ciertos tipos de datos, la manipulación de matrices, la selección de elementos de matrices y la carga de conjuntos de datos en matrices. Estas funciones son útiles para manipular datos y comprender las funcionalidades de otros paquetes de datos de Python comunes."
   ]
  },
  {
   "cell_type": "code",
   "execution_count": null,
   "metadata": {
    "slideshow": {
     "slide_type": "slide"
    }
   },
   "outputs": [],
   "source": [
    "# Para importar la librería \n",
    "import numpy as np\n",
    "\n",
    "# Para hacer algunas gráficas de ejemplo\n",
    "import matplotlib.pyplot as plt\n",
    "### Sobre las gráficas se hablará a detalle en otra sesión"
   ]
  },
  {
   "cell_type": "markdown",
   "metadata": {
    "slideshow": {
     "slide_type": "slide"
    }
   },
   "source": [
    "### Sobre las diferencias entre listas y numpy array\n",
    "\n",
    "- Similar\n",
    "    - Ambos usan corchetes ([])\n",
    "    - Ambos tipos de datos son mutables\n",
    "    - Ambos se pueden indexar y se pueden utilizar para \"slicing*\n",
    "\n",
    "- Distinto\n",
    "    - Una lista no puede manejar directamente una operación matemática, mientras que un array puede\n",
    "    - Un array consume menos memoria que una lista. Usar un array s más rápido que una lista\n",
    "    - Una lista puede constar de diferentes tamaños de datos anidados\n",
    "    - Una lista puede almacenar diferentes tipos de datos.\n",
    "\n",
    "[Ver más](https://python.plainenglish.io/python-list-vs-numpy-array-whats-the-difference-7308cd4b52f6)\n"
   ]
  },
  {
   "cell_type": "markdown",
   "metadata": {
    "slideshow": {
     "slide_type": "slide"
    }
   },
   "source": [
    "## Arrays\n",
    "Un elemento ndarray (multidimensinoal-array) es un contenedor genérico de datos homogéneos, es decir que todos sus elementos deben ser del mismmo tipo. \n"
   ]
  },
  {
   "cell_type": "code",
   "execution_count": null,
   "metadata": {
    "slideshow": {
     "slide_type": "slide"
    }
   },
   "outputs": [],
   "source": [
    "# La forma más fácil de crear un array es con la función homónima, \n",
    "# que acepta cualquier secuencia de objetos como listas o otros arrays\n",
    "\n",
    "# Se puede ver la dimensión de un array con el atributo ndim"
   ]
  },
  {
   "cell_type": "code",
   "execution_count": null,
   "metadata": {
    "slideshow": {
     "slide_type": "slide"
    }
   },
   "outputs": [],
   "source": [
    "# Si usamos como argumento una lista de listas en np.array se obtiene un array multidimensional (una matriz)\n",
    "\n",
    "# Usamos el atributo shape para ver la longitud de cada dimensión del ndarray \n",
    "\n",
    "# También podemos ver el tipo de elementos que contiene con el atributo dtype\n"
   ]
  },
  {
   "cell_type": "code",
   "execution_count": null,
   "metadata": {
    "slideshow": {
     "slide_type": "slide"
    }
   },
   "outputs": [],
   "source": [
    "# También existen funciones especiales para crear ciertos arrays\n",
    "# Vector de ceros\n",
    "\n",
    "\n",
    "# Matriz de unos \n",
    "\n",
    "# Matriz de números aleatorios \n"
   ]
  },
  {
   "cell_type": "code",
   "execution_count": null,
   "metadata": {
    "slideshow": {
     "slide_type": "subslide"
    }
   },
   "outputs": [],
   "source": [
    "# Otra función útil es arange, que crea una secuencia de números dentro de un rango\n",
    "\n",
    "\n",
    "# Cuando introducimos 3 argumentos, el primero determina el elemento inicial, \n",
    "# el segundo el límite superior y el tercero la diferencia entre cada número. \n",
    "# Ejemplo: array del 10 (incluído) al 50 (excluído) en pasos de 2 unidades.\n"
   ]
  },
  {
   "cell_type": "code",
   "execution_count": null,
   "metadata": {
    "slideshow": {
     "slide_type": "subslide"
    }
   },
   "outputs": [],
   "source": [
    "# Por el contrario, la función linspace crea una sucesión de números \n",
    "# donde el tercer argumento es el número total de elementos.  \n",
    "# Ejemplo: 15 números del 0 al 2 (note que esta función incluye los límites).\n",
    " "
   ]
  },
  {
   "cell_type": "markdown",
   "metadata": {
    "slideshow": {
     "slide_type": "slide"
    }
   },
   "source": [
    "# Operaciones con arrays\n",
    "Podemos hacer muchas cosas con arrays como suma, resta, cuadrado, exponentes, así como matrices boleanas. También podemos hacer manipulaciones de matrices, como transposición, inversa, determinantes, etc."
   ]
  },
  {
   "cell_type": "code",
   "execution_count": null,
   "metadata": {
    "slideshow": {
     "slide_type": "slide"
    }
   },
   "outputs": [],
   "source": [
    "# Las operaciones aritméticas sobre arrays son \"element-wise\"\n",
    "\n",
    "\n"
   ]
  },
  {
   "cell_type": "code",
   "execution_count": null,
   "metadata": {
    "slideshow": {
     "slide_type": "slide"
    }
   },
   "outputs": [],
   "source": [
    "# Funciones universales (ufunc) \n",
    "# Son funciones que realizan operaciones elementwise sobre arrays. \n",
    "\n",
    "# ufuncs unitarias (un solo argumento)\n"
   ]
  },
  {
   "cell_type": "code",
   "execution_count": null,
   "metadata": {
    "slideshow": {
     "slide_type": "subslide"
    }
   },
   "outputs": [],
   "source": [
    "# Otra forma de escribir algunas funciones\n"
   ]
  },
  {
   "cell_type": "code",
   "execution_count": null,
   "metadata": {
    "slideshow": {
     "slide_type": "subslide"
    }
   },
   "outputs": [],
   "source": [
    "# ufuncs binarias (dos argumentos)\n"
   ]
  },
  {
   "cell_type": "code",
   "execution_count": null,
   "metadata": {
    "slideshow": {
     "slide_type": "slide"
    }
   },
   "outputs": [],
   "source": [
    "# También se pueden hacer operaciones algebráicas con matrices \n",
    "\n",
    "\n",
    "# Producto de matrices (formas equivalentes)\n"
   ]
  },
  {
   "cell_type": "code",
   "execution_count": null,
   "metadata": {
    "scrolled": true,
    "slideshow": {
     "slide_type": "subslide"
    }
   },
   "outputs": [],
   "source": [
    "# Las matrices deben ser conformables para que el producto este determinado\n"
   ]
  },
  {
   "cell_type": "markdown",
   "metadata": {
    "slideshow": {
     "slide_type": "slide"
    }
   },
   "source": [
    "`numpy.linalg` contiene un conjunto de operaciones con matrices comunmente utilizadas en álgebra lineal, por ejemplo:\n",
    "\n",
    "| Función      | Descripción |\n",
    "| :---  |    :----   |   \n",
    "| trace | Calcula la traza de una matriz  | \n",
    "| det   | Calcula el determinante        | \n",
    "| eig   | Calcula los eigenvalores y eigenvectores de una matriz |\n",
    "| inv   | Calcula la inversa de una matriz | \n",
    "| solve | Resuelve el sistema lineal $Ax=b$, donde $A$ es matriz cuadrada |"
   ]
  },
  {
   "cell_type": "code",
   "execution_count": null,
   "metadata": {
    "slideshow": {
     "slide_type": "subslide"
    }
   },
   "outputs": [],
   "source": [
    "# help(np.linalg.eig)"
   ]
  },
  {
   "cell_type": "markdown",
   "metadata": {
    "slideshow": {
     "slide_type": "slide"
    }
   },
   "source": [
    "## `numpy.linalg`\n",
    "\n",
    "Las funciones de álgebra lineal de NumPy proporcionan implementaciones eficientes de bajo nivel de algoritmos de álgebra lineal estándar."
   ]
  },
  {
   "cell_type": "code",
   "execution_count": null,
   "metadata": {
    "scrolled": true,
    "slideshow": {
     "slide_type": "-"
    }
   },
   "outputs": [],
   "source": [
    "from numpy.linalg import inv, solve \n"
   ]
  },
  {
   "cell_type": "markdown",
   "metadata": {
    "slideshow": {
     "slide_type": "slide"
    }
   },
   "source": [
    "Resuelva el siguiente sistema de ecuaciones: \n",
    "$$\n",
    "3x_0 + x_1 = 9 \\\\ \n",
    "x_0 + 2x_1 = 8\n",
    "$$"
   ]
  },
  {
   "cell_type": "markdown",
   "metadata": {},
   "source": [
    "$$\n",
    "   \\begin{bmatrix}\n",
    "     3 & 1\\\\\n",
    "     1 & 2\n",
    "   \\end{bmatrix}\n",
    "   \\begin{pmatrix}x_0 \\\\x_1 \\end{pmatrix} =\n",
    "   \\begin{pmatrix}9\\\\8\\end{pmatrix}\n",
    "$$"
   ]
  },
  {
   "cell_type": "markdown",
   "metadata": {},
   "source": [
    "$$\n",
    "AX = B\n",
    "$$"
   ]
  },
  {
   "cell_type": "markdown",
   "metadata": {},
   "source": [
    "$$\n",
    "\\begin{array}{r}\\hfill \\left({A}^{-1}\\right)AX=\\left({A}^{-1}\\right)B\\\\ \\hfill \\left[\\left({A}^{-1}\\right)A\\right]X=\\left({A}^{-1}\\right)B\\\\ \\hfill IX=\\left({A}^{-1}\\right)B\\\\ \\hfill X=\\left({A}^{-1}\\right)B\\end{array}\n",
    "$$"
   ]
  },
  {
   "cell_type": "markdown",
   "metadata": {
    "slideshow": {
     "slide_type": "subslide"
    }
   },
   "source": [
    "$$\n",
    "   \\begin{bmatrix}\n",
    "     3 & 1\\\\\n",
    "     1 & 2\n",
    "   \\end{bmatrix}\n",
    "   \\begin{pmatrix}x_0 \\\\x_1 \\end{pmatrix} =\n",
    "   \\begin{pmatrix}9\\\\8\\end{pmatrix}\n",
    "$$"
   ]
  },
  {
   "cell_type": "code",
   "execution_count": null,
   "metadata": {
    "slideshow": {
     "slide_type": "-"
    }
   },
   "outputs": [],
   "source": [
    "a = np.array([[3,1], [1,2]])\n",
    "b = np.array([9,8])\n"
   ]
  },
  {
   "cell_type": "markdown",
   "metadata": {
    "slideshow": {
     "slide_type": "slide"
    }
   },
   "source": [
    "# Indexing y Slicing\n"
   ]
  },
  {
   "cell_type": "code",
   "execution_count": null,
   "metadata": {
    "scrolled": true,
    "slideshow": {
     "slide_type": "slide"
    }
   },
   "outputs": [],
   "source": [
    "# Los arrays unidimensionales se manejan igual que las listas de Python\n",
    "\n",
    "# Segundo elemento\n",
    "\n",
    "# Elementos del 5 (inclusive) al 8 (excluido)\n"
   ]
  },
  {
   "cell_type": "markdown",
   "metadata": {
    "slideshow": {
     "slide_type": "slide"
    }
   },
   "source": [
    "Una primera distinción importante de las listas integradas de Python es que los slides del array son vistas del array original. Esto significa que los datos no se copian y cualquier modificación a la vista se reflejará en la matriz de origen."
   ]
  },
  {
   "cell_type": "code",
   "execution_count": null,
   "metadata": {
    "slideshow": {
     "slide_type": "subslide"
    }
   },
   "outputs": [],
   "source": [
    "# Creamos un slice a partir del array original\n",
    "\n",
    "# Modificamos los valores \n",
    "\n",
    "# Ahora vemos nuestro vector original \n",
    "\n",
    "# Nótese que los valores han cambiado incluso cuando sólo modificamos el vector creado"
   ]
  },
  {
   "cell_type": "code",
   "execution_count": null,
   "metadata": {
    "slideshow": {
     "slide_type": "subslide"
    }
   },
   "outputs": [],
   "source": [
    "# Como NumPy ha sido diseñado para poder trabajar con matrices muy grandes, \n",
    "# surgen problemas de rendimiento y memoria si NumPy insistiera en copiar siempre los datos. \n",
    "# Si desea una copia de una porción de un ndarray en lugar de una vista, \n",
    "# se debe copiar explícitamente la matriz, por ejemplo:\n",
    "\n",
    "\n",
    "# Modificamos los valores \n"
   ]
  },
  {
   "cell_type": "code",
   "execution_count": null,
   "metadata": {
    "scrolled": true,
    "slideshow": {
     "slide_type": "slide"
    }
   },
   "outputs": [],
   "source": [
    "# En un array bidimensional, los elementos de cada índice ya no son escalares, \n",
    "# son matrices unidimensionales:\n",
    "\n",
    "# Para acceder al segundo renglón\n"
   ]
  },
  {
   "cell_type": "code",
   "execution_count": null,
   "metadata": {
    "slideshow": {
     "slide_type": "subslide"
    }
   },
   "outputs": [],
   "source": [
    "# Para acceder a cada elemento es necesario usar dos índices, uno de renglón y otro de fila\n",
    "# Tercer renglón, segundo elemento\n"
   ]
  },
  {
   "cell_type": "code",
   "execution_count": null,
   "metadata": {
    "scrolled": true,
    "slideshow": {
     "slide_type": "subslide"
    }
   },
   "outputs": [],
   "source": [
    "# Array multidimensional (matriz con matrices):\n",
    "\n",
    "# Índice con un solo elemento retorna una matriz \n",
    "\n",
    "# Índice con dos elementos retorna un renglón de una matriz\n"
   ]
  },
  {
   "cell_type": "markdown",
   "metadata": {
    "slideshow": {
     "slide_type": "slide"
    }
   },
   "source": [
    "## Más sobre **slicing**"
   ]
  },
  {
   "cell_type": "code",
   "execution_count": null,
   "metadata": {
    "slideshow": {
     "slide_type": "-"
    }
   },
   "outputs": [],
   "source": [
    "# Al igual que los objetos unidimensionales como las listas de Python, \n",
    "# los ndarrays se pueden dividir con la sintaxis familiar:\n"
   ]
  },
  {
   "cell_type": "code",
   "execution_count": null,
   "metadata": {
    "slideshow": {
     "slide_type": "slide"
    }
   },
   "outputs": [],
   "source": [
    "# Esto cambia un poco con los objetos bidimensionales\n",
    "\n",
    "# Como puede ver, se ha cortado a lo largo del eje 0, el primer eje. \n",
    "# Por tanto, un sector selecciona un rango de elementos a lo largo de un eje. \n",
    "# Puede resultar útil leer tal expresión como \"seleccione las dos primeras filas de arr2d\"."
   ]
  },
  {
   "cell_type": "code",
   "execution_count": null,
   "metadata": {
    "scrolled": true,
    "slideshow": {
     "slide_type": "subslide"
    }
   },
   "outputs": [],
   "source": [
    "# También pueden utilizar slides múltiples\n",
    "\n",
    "# Se pueden asignar valores a una selección completa: \n"
   ]
  },
  {
   "cell_type": "markdown",
   "metadata": {
    "slideshow": {
     "slide_type": "slide"
    }
   },
   "source": [
    "## Boolean Indexing\n",
    "Sirve para crear arrays que satisfacen cierta característica lógica. "
   ]
  },
  {
   "cell_type": "code",
   "execution_count": null,
   "metadata": {
    "slideshow": {
     "slide_type": "-"
    }
   },
   "outputs": [],
   "source": [
    "# Creamos un vector de nombres\n",
    "names = np.array(['Bob', 'Joe', 'Will', 'Bob', 'Will', 'Joe', 'Joe'])\n",
    "# Generamos un vector lógico a partir del vector de nombres\n"
   ]
  },
  {
   "cell_type": "code",
   "execution_count": null,
   "metadata": {
    "slideshow": {
     "slide_type": "subslide"
    }
   },
   "outputs": [],
   "source": [
    "# Podemos obtener elementos del vector original que satisfagan cierta característica\n",
    "\n",
    "# Otra forma equivalente \n",
    "\n",
    "\n",
    "# También se pueden usar condiciones con \"y (&)\" o \"o (|)\"\"\n"
   ]
  },
  {
   "cell_type": "code",
   "execution_count": null,
   "metadata": {
    "scrolled": true,
    "slideshow": {
     "slide_type": "slide"
    }
   },
   "outputs": [],
   "source": [
    "# Lo mismo se aplica con arrays numéricos. \n",
    "# Ejemplo: establecer en 0 todos los valores negativos en un conjunto de datos\n"
   ]
  },
  {
   "cell_type": "markdown",
   "metadata": {
    "slideshow": {
     "slide_type": "slide"
    }
   },
   "source": [
    "# Métodos estadísticos\n",
    "Se puede acceder a un conjunto de funciones matemáticas que calculan estadísticas sobre un array completo o sobre los datos a lo largo de un eje como métodos de la clase array. Se pueden usar agregaciones (a menudo llamadas reducciones) como suma, media y std (desviación estándar), usando las funciones de NumPy."
   ]
  },
  {
   "cell_type": "code",
   "execution_count": null,
   "metadata": {
    "scrolled": true,
    "slideshow": {
     "slide_type": "slide"
    }
   },
   "outputs": [],
   "source": [
    "# Creamos una matriz \n",
    "arr = np.array([[0,1,2], [3,4,5], [6,7,8]])\n"
   ]
  },
  {
   "cell_type": "code",
   "execution_count": null,
   "metadata": {},
   "outputs": [],
   "source": [
    "# calcular la suma de las columnas\n",
    "\n",
    "# Calcular la media de los renglones\n"
   ]
  },
  {
   "cell_type": "markdown",
   "metadata": {
    "slideshow": {
     "slide_type": "slide"
    }
   },
   "source": [
    "Otros métodos como `cumsum` y `cumprod` no se agregan, sino que producen una matriz de resultados intermedios:"
   ]
  },
  {
   "cell_type": "code",
   "execution_count": null,
   "metadata": {},
   "outputs": [],
   "source": []
  },
  {
   "cell_type": "code",
   "execution_count": null,
   "metadata": {
    "slideshow": {
     "slide_type": "subslide"
    }
   },
   "outputs": [],
   "source": [
    "# Suma de Gauss\n"
   ]
  },
  {
   "cell_type": "markdown",
   "metadata": {
    "slideshow": {
     "slide_type": "subslide"
    }
   },
   "source": [
    "En arrays multidimensionales, las funciones de acumulación como `cumsum` devuelven una matriz del mismo tamaño, pero con los agregados parciales calculados a lo largo del eje indicado de acuerdo con cada corte dimensional inferior."
   ]
  },
  {
   "cell_type": "code",
   "execution_count": null,
   "metadata": {},
   "outputs": [],
   "source": [
    "arr = np.array([[0, 1, 2], [3, 4, 5], [6, 7, 8]])\n",
    "# Suma acumulada por columnas\n",
    "\n",
    "# Suma acumulada por renglones\n"
   ]
  },
  {
   "cell_type": "markdown",
   "metadata": {
    "slideshow": {
     "slide_type": "slide"
    }
   },
   "source": [
    "Métodos estadísticos básicos de arrays: \n",
    "\n",
    "| Método | Descripción | \n",
    "| :--- | :--- | \n",
    "| sum | Suma de todos los elementos del array o a lo largo de un eje |\n",
    "| mean | Media artimética |\n",
    "| std, var | Desviación estándar y varianza, respectivamente |\n",
    "| cov | Calcula la matriz de covarianza de un conjunto de datos |\n",
    "| min, max | Mínimo y máximo |\n",
    "| argmin, argmax | Iíndices de los elementos mínimo y máximo, respectivamente |\n",
    "| cumsum | Suma acumulada de elementos empezando desde 0 |"
   ]
  },
  {
   "cell_type": "markdown",
   "metadata": {
    "slideshow": {
     "slide_type": "slide"
    }
   },
   "source": [
    "## Métodos para arrays booleanos"
   ]
  },
  {
   "cell_type": "code",
   "execution_count": null,
   "metadata": {},
   "outputs": [],
   "source": [
    "# Los valores booleanos son tomados como 1 (True) y 0 (False) en los métodos numéricos.\n",
    "# Número de valores positivos generados por una normal estándar\n"
   ]
  },
  {
   "cell_type": "code",
   "execution_count": null,
   "metadata": {
    "slideshow": {
     "slide_type": "subslide"
    }
   },
   "outputs": [],
   "source": [
    "# \"any\" cuenta si uno o más valores en un array es True\n",
    "\n",
    "# \"all\" cuenta si cada valor en un array es True\n"
   ]
  },
  {
   "cell_type": "markdown",
   "metadata": {
    "slideshow": {
     "slide_type": "slide"
    }
   },
   "source": [
    "## Sorting\n",
    "Al igual que el tipo de lista incorporado de Python, las matrices NumPy se pueden ordenar en el lugar con el método de clasificación:"
   ]
  },
  {
   "cell_type": "code",
   "execution_count": null,
   "metadata": {
    "scrolled": true
   },
   "outputs": [],
   "source": [
    "\n",
    "# En orden ascendente\n",
    "\n",
    "# En orden descendente\n"
   ]
  },
  {
   "cell_type": "markdown",
   "metadata": {
    "slideshow": {
     "slide_type": "slide"
    }
   },
   "source": [
    "Se puede ordenar cada sección unidimensional de valores en una matriz multidimensional en su lugar a lo largo de un eje pasando el número de eje para ordenar:"
   ]
  },
  {
   "cell_type": "code",
   "execution_count": null,
   "metadata": {
    "scrolled": true
   },
   "outputs": [],
   "source": [
    "arr = np.random.randn(5, 3)\n",
    "# Odernar de menor a mayor por renglones \n"
   ]
  },
  {
   "cell_type": "markdown",
   "metadata": {
    "slideshow": {
     "slide_type": "slide"
    }
   },
   "source": [
    "# Generación de números aleatorios\n",
    "El módulo `numpy.random` complementa al módulo `random` que viene inetegrado en Python, con funciones para generar de manera más eficiente matrices completas de valores de muestra a partir de muchos tipos de distribuciones de probabilidad."
   ]
  },
  {
   "cell_type": "markdown",
   "metadata": {
    "slideshow": {
     "slide_type": "subslide"
    }
   },
   "source": [
    "Algunas funciones relevantes de `numpy.random`:\n",
    "\n",
    "\n",
    "| Función | Descripción |\n",
    "| : --- | : --- |\n",
    "| seed | Sembrar el generador de números aleatorios |\n",
    "| randint | Extraer números enteros aleatorios dentro de un rango |\n",
    "| randn | Extraer muestras de una distribución normal estándar |\n",
    "| binomial | Sacar muestras de una distribución binomial |\n",
    "| normal | Extraer muestras de una distribución normal (gaussiana) |\n",
    "| beta | Extraer muestras de una distribución beta |\n",
    "| chisquare | Extraer muestras de una distribución de chi-cuadrada |\n",
    "| gamma | Extraer muestras de una distribución gamma |\n",
    "| uniform | Extraer muestras de una distribución [0, 1) uniforme |"
   ]
  },
  {
   "cell_type": "code",
   "execution_count": null,
   "metadata": {
    "slideshow": {
     "slide_type": "subslide"
    }
   },
   "outputs": [],
   "source": [
    "# help(np.random.normal)"
   ]
  },
  {
   "cell_type": "markdown",
   "metadata": {
    "slideshow": {
     "slide_type": "slide"
    }
   },
   "source": [
    "Decimos que estos son números pseudoaleatorios porque son generados por un algoritmo con comportamiento determinista basado en la semilla del generador de números aleatorios."
   ]
  },
  {
   "cell_type": "code",
   "execution_count": null,
   "metadata": {
    "scrolled": true,
    "slideshow": {
     "slide_type": "-"
    }
   },
   "outputs": [],
   "source": [
    "# Semilla \n",
    "np.random.seed(1234)\n",
    "# Media y desviación estándar \n",
    "\n",
    "# Generamos una muestra \"pseudoaleatoria\"\n"
   ]
  },
  {
   "cell_type": "code",
   "execution_count": null,
   "metadata": {
    "slideshow": {
     "slide_type": "subslide"
    }
   },
   "outputs": [],
   "source": [
    "# Dentro de esta función también se pueden crear matrices\n",
    "\n",
    "# Idéntico a: \n",
    "\n"
   ]
  },
  {
   "cell_type": "markdown",
   "metadata": {
    "slideshow": {
     "slide_type": "notes"
    }
   },
   "source": [
    "# Random walk\n",
    "\n",
    "Caminar es simplemente la suma acumulativa de pasos aleatorios $\\Rightarrow$ Usamos el módulo np.random para obtener 1,000 monedas lanzadas a la vez, establecerlas en 1 y –1, y calcular la suma acumulada.  \n",
    "\n",
    "Fuente: [Markovian Random Walks : One Dimensional Simple Random Walks](https://fse.studenttheses.ub.rug.nl/22617/1/bMATH_2020_HillAF.pdf). $X_i$ secuencia de v.a. que siguen una distribución simétrica con prob. Ber(p,q)"
   ]
  },
  {
   "cell_type": "code",
   "execution_count": null,
   "metadata": {
    "slideshow": {
     "slide_type": "notes"
    }
   },
   "outputs": [],
   "source": [
    "nsteps = 10\n",
    "draws = np.random.randint(0, 2, size=nsteps)\n",
    "steps = np.where(draws > 0, 1, -1) # where igual a ifelse() de R\n",
    "\n",
    "print(draws)\n",
    "print(steps)"
   ]
  },
  {
   "cell_type": "code",
   "execution_count": null,
   "metadata": {},
   "outputs": [],
   "source": [
    "walk = steps.cumsum()\n",
    "print(walk)"
   ]
  },
  {
   "cell_type": "code",
   "execution_count": null,
   "metadata": {
    "slideshow": {
     "slide_type": "notes"
    }
   },
   "outputs": [],
   "source": [
    "import matplotlib.pyplot as plt\n",
    "plt.plot(walk[:100])"
   ]
  },
  {
   "cell_type": "markdown",
   "metadata": {
    "slideshow": {
     "slide_type": "slide"
    }
   },
   "source": [
    "# Aplicación de econometría\n",
    "\n",
    "## Estimador de MCO univariado\n"
   ]
  },
  {
   "cell_type": "markdown",
   "metadata": {
    "slideshow": {
     "slide_type": "subslide"
    }
   },
   "source": [
    "Pasos: \n",
    "\n",
    "1. Generar una muestra i.i.d. de variables aleatorias $\\{x_i\\}_{i=1}^{200}$ con distribución normal con media 20 y desviación estándar 2. \n",
    "2. Generar una muestra i.i.d. $\\big\\{u_i \\big\\}_{i=1}^{200}$ de v.a.s donde $u_i \\sim N_2(0,1)$, $i=1,2,...,200$ tal que $u_i$ y $x_i$ son independientes $\\forall i \\neq j$ , $i,j \\in  \\{1,2,...,200\\}$.\n"
   ]
  },
  {
   "cell_type": "markdown",
   "metadata": {
    "slideshow": {
     "slide_type": "subslide"
    }
   },
   "source": [
    "3. Usando los datos obtenidos en 1. y 2., generar la muestra $\\{y_i\\}_{i=1}^{200}$  donde $y_i=0.6+0.4x_i+u_i$ , $i=1,2,...,200$.\n",
    "4. Con los datos obtenidos estimar por mínimos cuadrados ordinarios $b_0$ y $b_1$ en: \n",
    "$$ \n",
    "y_i=b_0+b_1x_i+u_i \\;,\\;  i=1,2,...,200\n",
    "$$\n",
    "obteniendo así los estimados $\\hat{b}_{MCO}= \\begin{pmatrix}  \\hat b_{0} \\\\ \\hat b_{1} \\end{pmatrix} = (X'X)^{-1}X'Y$"
   ]
  },
  {
   "cell_type": "code",
   "execution_count": null,
   "metadata": {
    "slideshow": {
     "slide_type": "subslide"
    }
   },
   "outputs": [],
   "source": [
    "# Semilla para reproducibilidad\n",
    "np.random.seed(1234)\n",
    "# Vector x\n",
    "\n",
    "# Vector u\n",
    "\n",
    "# Vector Y\n"
   ]
  },
  {
   "cell_type": "code",
   "execution_count": null,
   "metadata": {
    "slideshow": {
     "slide_type": "subslide"
    }
   },
   "outputs": [],
   "source": [
    "# from numpy.linalg import inv\n",
    "# Matrix X (que incluye unos para estimar b_0)\n",
    "\n",
    "# Estimar vector b\n"
   ]
  },
  {
   "cell_type": "markdown",
   "metadata": {
    "slideshow": {
     "slide_type": "slide"
    }
   },
   "source": [
    "## Estimador de MCO multivariado\n",
    "\n"
   ]
  },
  {
   "cell_type": "markdown",
   "metadata": {
    "slideshow": {
     "slide_type": "subslide"
    }
   },
   "source": [
    "Pasos: \n",
    "1. Generar una muestra i.i.d \n",
    "$$\n",
    " \\begin{pmatrix}  Y_i \\\\ X_{1i}\\\\ X_{2i} \\end{pmatrix}_{i=1}^{300} \\sim N_3 \\begin{bmatrix} \\begin{pmatrix}  1 \\\\ 0\\\\ 2 \\end{pmatrix}, \\begin{pmatrix}  0.8 & 0.4 & -0.2 \\\\ 0.4 & 1.0 & -0.8 \\\\ -0.2 & -0.8 & 2.0 \\end{pmatrix}  \\end{bmatrix}\n",
    "$$\n",
    "$\\forall i=1,2,\\dots,300$. "
   ]
  },
  {
   "cell_type": "markdown",
   "metadata": {
    "slideshow": {
     "slide_type": "subslide"
    }
   },
   "source": [
    "2. Con los datos obtenidos estimar el vector $\\hat{b}_{MCO}= (X'X)^{-1}X'Y$"
   ]
  },
  {
   "cell_type": "code",
   "execution_count": null,
   "metadata": {
    "slideshow": {
     "slide_type": "subslide"
    }
   },
   "outputs": [],
   "source": [
    "np.random.seed(2021)\n",
    "# Fijamos el número de observaciones \n",
    "# Es útil poner un número bajo primero para ver lo que se está haciendo\n",
    "n = 4\n",
    "# Para los parámetros\n",
    "\n",
    "# Generamos la muestra aleatoria\n"
   ]
  },
  {
   "cell_type": "code",
   "execution_count": null,
   "metadata": {
    "slideshow": {
     "slide_type": "subslide"
    }
   },
   "outputs": [],
   "source": [
    "# El vector Y corresponde a la primera columna de la matriz V\n",
    "\n",
    "# La matriz X se compone de un vector de unos y las dos últimas columnas de V\n",
    "# A diferencia del caso anterior, aquí usamos la np.c_[ ... ] para añadir una columna \n",
    "## Análogamente existe np.r_[ ... ] para añadir renglones\n"
   ]
  },
  {
   "cell_type": "code",
   "execution_count": null,
   "metadata": {
    "slideshow": {
     "slide_type": "subslide"
    }
   },
   "outputs": [],
   "source": [
    "# Ahora calculamos b \n"
   ]
  },
  {
   "cell_type": "markdown",
   "metadata": {
    "slideshow": {
     "slide_type": "slide"
    }
   },
   "source": [
    "# SciPy\n",
    "SciPy es una colección de paquetes que abordan diferentes problemas estándar en la computación científica. Al igual que NumPy, SciPy es estable, maduro y ampliamente utilizado. De hecho, SciPy es un paquete que contiene varias herramientas que se construyen sobre NumPy, utilizando sus arrays junto con la funcionalidad relacionada. "
   ]
  },
  {
   "cell_type": "markdown",
   "metadata": {
    "slideshow": {
     "slide_type": "subslide"
    }
   },
   "source": [
    "Aquí hay una muestra de los paquetes incluidos:\n",
    "\n",
    "| Paquete | Descripción |\n",
    "| :--- | :--- | \n",
    "| integrate | Rutinas de integración numérica y solucionadores de ecuaciones diferenciales |\n",
    "| linalg | Rutinas de álgebra lineal y descomposiciones matriciales que se extienden más allá de las proporcionadas en `numpy.linalg` |\n",
    "| optimize | Optimizadores de funciones (minimizadores) y algoritmos de búsqueda de raíces |\n",
    "| stats | Distribuciones de probabilidad estándar continuas y discretas (funciones de densidad, muestreadores, funciones de distribución continua), varias pruebas estadísticas y estadísticas descriptivas |\n"
   ]
  },
  {
   "cell_type": "markdown",
   "metadata": {
    "slideshow": {
     "slide_type": "slide"
    }
   },
   "source": [
    "## Scipy. stats\n",
    "\n",
    "Ahora veremos algunos ejemplos de lo que se puede hacer con este paquete y sus ventajas respecto a Numpy. "
   ]
  },
  {
   "cell_type": "markdown",
   "metadata": {
    "slideshow": {
     "slide_type": "subslide"
    }
   },
   "source": [
    "### Regresión lineal \n",
    "\n",
    "El cálculo de los estimadores de regresión lineal puede realizarse fácilmente con este paquete. "
   ]
  },
  {
   "cell_type": "code",
   "execution_count": null,
   "metadata": {
    "slideshow": {
     "slide_type": "subslide"
    }
   },
   "outputs": [],
   "source": [
    "from scipy.stats import linregress\n",
    "# Generamos la muestra aleatoria\n",
    "x = np.random.randn(200)\n",
    "y = 0.1 + 2*x + np.random.randn(200)\n",
    "# Hacemos la estimación \n",
    "\n",
    "\n",
    "# Para ver los resultados con formato bonito\n",
    "#print(\"slope: %f    intercept: %f\" % (slope, intercept))\n",
    "\n",
    "\n",
    "# Se pueden obtener más cosas como la R^2\n"
   ]
  },
  {
   "cell_type": "code",
   "execution_count": null,
   "metadata": {
    "slideshow": {
     "slide_type": "subslide"
    }
   },
   "outputs": [],
   "source": [
    "# Se puede graficar fácilmente    \n",
    "plt.plot(x, y, 'o', label='original data')\n",
    "plt.plot(x, intercept + slope*x, 'r', label='fitted line')\n",
    "plt.legend()\n",
    "plt.show()"
   ]
  },
  {
   "cell_type": "markdown",
   "metadata": {
    "slideshow": {
     "slide_type": "slide"
    }
   },
   "source": [
    "# Variables aleatorias y distribuciones \n",
    "\n",
    "Recordemos que `numpy.random` provee funciones para generar variables aleatorias. Por ejemplo, `np.random.beta(5, 5, size=3)`genera valores a partir de una función de distribución gamma cuando `a=b=5`. A veces necesitamos acceder a más información como la CDF, los cuantiles, etc. Para ello, podemos utilizar `scipy.stats`, que proporciona toda esta funcionalidad, así como la generación de números aleatorios en una única interfaz coherente.\n"
   ]
  },
  {
   "cell_type": "markdown",
   "metadata": {
    "slideshow": {
     "slide_type": "subslide"
    }
   },
   "source": [
    "#### Ejemplo: \n",
    "Graficar el histograma y la pdf de una muestra generada aleatoriamente. "
   ]
  },
  {
   "cell_type": "code",
   "execution_count": null,
   "metadata": {
    "scrolled": true,
    "slideshow": {
     "slide_type": "subslide"
    }
   },
   "outputs": [],
   "source": [
    "# Generar la muestra aleatoria\n",
    " # Generar los percentiles\n",
    "# Hacer la gráfica\n",
    "fig, ax = plt.subplots()\n",
    "ax.hist(obs, bins=40, density=True) # Histograma\n",
    "ax.plot(grid, beta.pdf(grid, 5, 5), 'k-', linewidth=2) # Graficar la pdf\n",
    "plt.show()"
   ]
  },
  {
   "cell_type": "markdown",
   "metadata": {
    "slideshow": {
     "slide_type": "slide"
    }
   },
   "source": [
    "## Optimización \n",
    "### Raíces de una función \n",
    "Una **raíz** de una función real $f$ en $[a, b]$ es una $x \\in [a, b]$ tal que $f (x) = 0$. Por ejemplo, si graficamos la función\n",
    "\n",
    "\n",
    "<a id='equation-root-f'> </a>\n",
    "$$\n",
    "f (x) = \\sin (4 (x - 1/4)) + x + x ^ {20} - 1 \\tag {11.2}\n",
    "$$\n",
    "\n",
    "con $x \\ en [0,1]$ obtenemos"
   ]
  },
  {
   "cell_type": "code",
   "execution_count": null,
   "metadata": {
    "slideshow": {
     "slide_type": "subslide"
    }
   },
   "outputs": [],
   "source": [
    "\n",
    "\n",
    "\n",
    "fig, ax = plt.subplots()\n",
    "ax.plot(x, f(x), label='$f(x)$')\n",
    "ax.axhline(ls='--', c='k')\n",
    "ax.set_xlabel('$x$', fontsize=12)\n",
    "ax.set_ylabel('$f(x)$', fontsize=12)\n",
    "ax.legend(fontsize=12)\n",
    "plt.show()"
   ]
  },
  {
   "cell_type": "markdown",
   "metadata": {
    "slideshow": {
     "slide_type": "subslide"
    }
   },
   "source": [
    "### El método Newton-Raphson\n",
    "El método de Newton-Raphson es un algoritmo de búsqueda de raíces muy común. En SciPy, este algoritmo es implementado por `scipy.optimize.newton`. Este método utiliza información de pendiente local en un intento de aumentar la velocidad de convergencia. \n",
    "\n",
    "Ahora vemos cómo aplicar el método a la función en cuestión. Para esto, se necesita una condición inicial adecuada para la búsqueda. "
   ]
  },
  {
   "cell_type": "code",
   "execution_count": null,
   "metadata": {
    "slideshow": {
     "slide_type": "subslide"
    }
   },
   "outputs": [],
   "source": [
    "\n",
    "# Comenzar el algoritmo con la condición inicial x=0.2\n",
    " "
   ]
  },
  {
   "cell_type": "code",
   "execution_count": null,
   "metadata": {
    "slideshow": {
     "slide_type": "subslide"
    }
   },
   "outputs": [],
   "source": [
    "# Pero nótese que no se llega a la solución para cualquier valor inicial \n",
    "## Si en lugar elegimos x = 0.7 obtenemos un resultado erroneo\n"
   ]
  },
  {
   "cell_type": "markdown",
   "metadata": {
    "slideshow": {
     "slide_type": "slide"
    }
   },
   "source": [
    "### Integración\n",
    "La mayoría de los métodos de integración numérica funcionan calculando la integral de un polinomio aproximado. El error resultante depende de qué tan bien el polinomio se ajuste al integrando, que a su vez depende de qué tan \"regular\" sea el integrando. En SciPy, el módulo relevante para la integración numérica es `scipy.integrate`. "
   ]
  },
  {
   "cell_type": "markdown",
   "metadata": {
    "slideshow": {
     "slide_type": "subslide"
    }
   },
   "source": [
    "Un buen valor predeterminado para la integración univariante es `quad`. "
   ]
  },
  {
   "cell_type": "markdown",
   "metadata": {
    "slideshow": {
     "slide_type": "subslide"
    }
   },
   "source": [
    "# Ejemplo\n",
    "Calcular: \n",
    "$$\n",
    "y = \\int_0^1 x^2\n",
    "$$"
   ]
  },
  {
   "cell_type": "code",
   "execution_count": null,
   "metadata": {
    "slideshow": {
     "slide_type": "subslide"
    }
   },
   "outputs": [],
   "source": [
    "# Gráfica\n",
    "\n",
    "\n",
    "\n",
    "fig, ax = plt.subplots()\n",
    "ax.plot(x, f(x), label='$x^2$')\n",
    "ax.axhline(ls='--', c='k')\n",
    "ax.set_xlabel('$x$', fontsize=12)\n",
    "ax.set_ylabel('$f(x)$', fontsize=12)\n",
    "ax.legend(fontsize=12)\n",
    "plt.show()"
   ]
  },
  {
   "cell_type": "code",
   "execution_count": null,
   "metadata": {
    "slideshow": {
     "slide_type": "subslide"
    }
   },
   "outputs": [],
   "source": []
  }
 ],
 "metadata": {
  "celltoolbar": "Slideshow",
  "kernelspec": {
   "display_name": "Python 3",
   "language": "python",
   "name": "python3"
  },
  "language_info": {
   "codemirror_mode": {
    "name": "ipython",
    "version": 3
   },
   "file_extension": ".py",
   "mimetype": "text/x-python",
   "name": "python",
   "nbconvert_exporter": "python",
   "pygments_lexer": "ipython3",
   "version": "3.8.8"
  }
 },
 "nbformat": 4,
 "nbformat_minor": 4
}
