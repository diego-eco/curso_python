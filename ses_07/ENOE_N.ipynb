{
 "cells": [
  {
   "cell_type": "code",
   "execution_count": 81,
   "metadata": {},
   "outputs": [],
   "source": [
    "import pandas as pd\n",
    "import numpy as np"
   ]
  },
  {
   "cell_type": "markdown",
   "metadata": {},
   "source": [
    "# COE2"
   ]
  },
  {
   "cell_type": "code",
   "execution_count": 149,
   "metadata": {},
   "outputs": [
    {
     "name": "stdout",
     "output_type": "stream",
     "text": [
      "<class 'pandas.core.frame.DataFrame'>\n",
      "RangeIndex: 30747 entries, 0 to 30746\n",
      "Data columns (total 74 columns):\n",
      " #   Column     Non-Null Count  Dtype \n",
      "---  ------     --------------  ----- \n",
      " 0   cd_a       30747 non-null  object\n",
      " 1   ent        30747 non-null  object\n",
      " 2   con        30747 non-null  int64 \n",
      " 3   upm        30747 non-null  int64 \n",
      " 4   d_sem      30747 non-null  int64 \n",
      " 5   n_pro_viv  30747 non-null  int64 \n",
      " 6   v_sel      30747 non-null  int64 \n",
      " 7   n_hog      30747 non-null  int64 \n",
      " 8   h_mud      30747 non-null  int64 \n",
      " 9   n_ent      30747 non-null  int64 \n",
      " 10  per        30747 non-null  int64 \n",
      " 11  n_ren      30747 non-null  int64 \n",
      " 12  eda        30747 non-null  int64 \n",
      " 13  n_inf      30747 non-null  int64 \n",
      " 14  p6_1       30747 non-null  object\n",
      " 15  p6_2       30747 non-null  object\n",
      " 16  p6_3       30747 non-null  object\n",
      " 17  p6_4       30747 non-null  object\n",
      " 18  p6_5       30747 non-null  object\n",
      " 19  p6_6       30747 non-null  object\n",
      " 20  p6_7       30747 non-null  object\n",
      " 21  p6_8       30747 non-null  object\n",
      " 22  p6_9       30747 non-null  object\n",
      " 23  p6_10      30747 non-null  object\n",
      " 24  p6_99      30747 non-null  object\n",
      " 25  p6a1       30747 non-null  object\n",
      " 26  p6a2       30747 non-null  object\n",
      " 27  p6a3       30747 non-null  object\n",
      " 28  p6a4       30747 non-null  object\n",
      " 29  p6a9       30747 non-null  object\n",
      " 30  p6b1       30747 non-null  object\n",
      " 31  p6b2       30747 non-null  object\n",
      " 32  p6c        30747 non-null  object\n",
      " 33  p6d        30747 non-null  object\n",
      " 34  p7         30747 non-null  object\n",
      " 35  p7a        30747 non-null  object\n",
      " 36  p7b        30747 non-null  object\n",
      " 37  p7c        30747 non-null  object\n",
      " 38  p8_1       30747 non-null  object\n",
      " 39  p8_2       30747 non-null  object\n",
      " 40  p8_3       30747 non-null  object\n",
      " 41  p8_4       30747 non-null  object\n",
      " 42  p8_9       30747 non-null  object\n",
      " 43  p8a        30747 non-null  object\n",
      " 44  p9_1       30747 non-null  object\n",
      " 45  p9_h1      30747 non-null  object\n",
      " 46  p9_m1      30747 non-null  object\n",
      " 47  p9_2       30747 non-null  object\n",
      " 48  p9_h2      30747 non-null  object\n",
      " 49  p9_m2      30747 non-null  object\n",
      " 50  p9_3       30747 non-null  object\n",
      " 51  p9_h3      30747 non-null  object\n",
      " 52  p9_m3      30747 non-null  object\n",
      " 53  p9_4       30747 non-null  object\n",
      " 54  p9_h4      30747 non-null  object\n",
      " 55  p9_m4      30747 non-null  object\n",
      " 56  p9_5       30747 non-null  object\n",
      " 57  p9_h5      30747 non-null  object\n",
      " 58  p9_m5      30747 non-null  object\n",
      " 59  p9_6       30747 non-null  object\n",
      " 60  p9_h6      30747 non-null  object\n",
      " 61  p9_m6      30747 non-null  object\n",
      " 62  p9_7       30747 non-null  object\n",
      " 63  p9_h7      30747 non-null  object\n",
      " 64  p9_m7      30747 non-null  object\n",
      " 65  p9_8       30747 non-null  object\n",
      " 66  p9_h8      30747 non-null  object\n",
      " 67  p9_m8      30747 non-null  object\n",
      " 68  ur         30747 non-null  int64 \n",
      " 69  tipo       30747 non-null  int64 \n",
      " 70  mes_cal    30747 non-null  int64 \n",
      " 71  ca         30747 non-null  int64 \n",
      " 72  fac_tri    30747 non-null  int64 \n",
      " 73  fac_men    30747 non-null  int64 \n",
      "dtypes: int64(18), object(56)\n",
      "memory usage: 17.4+ MB\n"
     ]
    }
   ],
   "source": [
    "coe2 = pd.read_csv(\"Bases/ENOEN_COE2T221_sample.csv\")\n",
    "coe2.info()"
   ]
  },
  {
   "cell_type": "code",
   "execution_count": 18,
   "metadata": {
    "scrolled": true
   },
   "outputs": [
    {
     "name": "stdout",
     "output_type": "stream",
     "text": [
      "<class 'pandas.core.frame.DataFrame'>\n",
      "RangeIndex: 30747 entries, 0 to 30746\n",
      "Data columns (total 4 columns):\n",
      " #   Column  Non-Null Count  Dtype \n",
      "---  ------  --------------  ----- \n",
      " 0   p6c     30747 non-null  object\n",
      " 1   p6b2    30747 non-null  object\n",
      " 2   p6_9    30747 non-null  object\n",
      " 3   p6a3    30747 non-null  object\n",
      "dtypes: object(4)\n",
      "memory usage: 961.0+ KB\n"
     ]
    }
   ],
   "source": [
    "# Variables de rangos de salario\n",
    "coe2[['p6c', 'p6b2', 'p6_9', 'p6a3']].info()"
   ]
  },
  {
   "cell_type": "markdown",
   "metadata": {},
   "source": [
    "Ver documento *fd_c_bas_amp_15ymas*: \n",
    "\n",
    "P6_9 - No le pagan ni recibe ingresos \n",
    "\n",
    "P6A3 - No le pagan ni recibe ingresos \n",
    "\n",
    "P6B2 - Cantidad en pesos \n",
    "\n",
    "P6C Actualmente el salario mínimo menusual es de $ XX ¿la cantidad que obtiene al mes por su trabajo es ...\n",
    "\n",
    "- 1 - menor? \n",
    "- 2 - igual a esa cantidad? \n",
    "- 3 - más de 1 salario mínimo hasta 2? \n",
    "- 4 - más de 2 salarios mínimos hasta 3? \n",
    "- 5 - más de 3 salarios mínimos hasta 5? \n",
    "- 6 - más de 5 salarios mínimos hasta 10? \n",
    "- 7 - más de 10 salarios mínimos? \n",
    "- 8 - No quiso dar información\n",
    "- 9 - No sabe"
   ]
  },
  {
   "cell_type": "code",
   "execution_count": 32,
   "metadata": {
    "scrolled": true
   },
   "outputs": [
    {
     "name": "stdout",
     "output_type": "stream",
     "text": [
      "<class 'pandas.core.frame.DataFrame'>\n",
      "RangeIndex: 30747 entries, 0 to 30746\n",
      "Data columns (total 7 columns):\n",
      " #   Column  Non-Null Count  Dtype \n",
      "---  ------  --------------  ----- \n",
      " 0   cd_a    30747 non-null  object\n",
      " 1   ent     30747 non-null  object\n",
      " 2   con     30747 non-null  int64 \n",
      " 3   v_sel   30747 non-null  int64 \n",
      " 4   n_hog   30747 non-null  int64 \n",
      " 5   h_mud   30747 non-null  int64 \n",
      " 6   n_ren   30747 non-null  int64 \n",
      "dtypes: int64(5), object(2)\n",
      "memory usage: 1.6+ MB\n"
     ]
    }
   ],
   "source": [
    "# La llave de identificación está dada por las variables\n",
    "coe2[['cd_a', 'ent', 'con', 'v_sel', 'n_hog', 'h_mud', 'n_ren']].info()"
   ]
  },
  {
   "cell_type": "code",
   "execution_count": 34,
   "metadata": {
    "scrolled": true
   },
   "outputs": [
    {
     "data": {
      "text/html": [
       "<div>\n",
       "<style scoped>\n",
       "    .dataframe tbody tr th:only-of-type {\n",
       "        vertical-align: middle;\n",
       "    }\n",
       "\n",
       "    .dataframe tbody tr th {\n",
       "        vertical-align: top;\n",
       "    }\n",
       "\n",
       "    .dataframe thead th {\n",
       "        text-align: right;\n",
       "    }\n",
       "</style>\n",
       "<table border=\"1\" class=\"dataframe\">\n",
       "  <thead>\n",
       "    <tr style=\"text-align: right;\">\n",
       "      <th></th>\n",
       "      <th>cd_a</th>\n",
       "      <th>ent</th>\n",
       "      <th>con</th>\n",
       "      <th>v_sel</th>\n",
       "      <th>n_hog</th>\n",
       "      <th>h_mud</th>\n",
       "      <th>n_ren</th>\n",
       "    </tr>\n",
       "  </thead>\n",
       "  <tbody>\n",
       "    <tr>\n",
       "      <th>0</th>\n",
       "      <td>1</td>\n",
       "      <td></td>\n",
       "      <td>40122</td>\n",
       "      <td>2</td>\n",
       "      <td>1</td>\n",
       "      <td>0</td>\n",
       "      <td>1</td>\n",
       "    </tr>\n",
       "    <tr>\n",
       "      <th>1</th>\n",
       "      <td>86</td>\n",
       "      <td>19</td>\n",
       "      <td>60015</td>\n",
       "      <td>7</td>\n",
       "      <td>1</td>\n",
       "      <td>0</td>\n",
       "      <td>2</td>\n",
       "    </tr>\n",
       "    <tr>\n",
       "      <th>2</th>\n",
       "      <td>86</td>\n",
       "      <td>13</td>\n",
       "      <td>60009</td>\n",
       "      <td>2</td>\n",
       "      <td>1</td>\n",
       "      <td>0</td>\n",
       "      <td>1</td>\n",
       "    </tr>\n",
       "    <tr>\n",
       "      <th>3</th>\n",
       "      <td>6</td>\n",
       "      <td>5</td>\n",
       "      <td>41280</td>\n",
       "      <td>2</td>\n",
       "      <td>1</td>\n",
       "      <td>0</td>\n",
       "      <td>1</td>\n",
       "    </tr>\n",
       "    <tr>\n",
       "      <th>4</th>\n",
       "      <td>36</td>\n",
       "      <td>22</td>\n",
       "      <td>40336</td>\n",
       "      <td>5</td>\n",
       "      <td>1</td>\n",
       "      <td>0</td>\n",
       "      <td>1</td>\n",
       "    </tr>\n",
       "  </tbody>\n",
       "</table>\n",
       "</div>"
      ],
      "text/plain": [
       "  cd_a ent    con v_sel n_hog h_mud n_ren\n",
       "0    1      40122     2     1     0     1\n",
       "1   86  19  60015     7     1     0     2\n",
       "2   86  13  60009     2     1     0     1\n",
       "3    6   5  41280     2     1     0     1\n",
       "4   36  22  40336     5     1     0     1"
      ]
     },
     "execution_count": 34,
     "metadata": {},
     "output_type": "execute_result"
    }
   ],
   "source": [
    "# Convertimos a string las variables de la llave que no lo son \n",
    "coe2[['con', 'v_sel', 'n_hog', 'h_mud', 'n_ren']] = coe2[['con', 'v_sel', 'n_hog', 'h_mud', 'n_ren']].astype(str)\n",
    "\n",
    "coe2[['cd_a', 'ent', 'con', 'v_sel', 'n_hog', 'h_mud', 'n_ren']].head()"
   ]
  },
  {
   "cell_type": "code",
   "execution_count": 37,
   "metadata": {},
   "outputs": [
    {
     "data": {
      "text/plain": [
       "0      1 401222101\n",
       "1    8619600157102\n",
       "2    8613600092101\n",
       "3      65412802101\n",
       "4    3622403365101\n",
       "Name: foliop, dtype: object"
      ]
     },
     "execution_count": 37,
     "metadata": {},
     "output_type": "execute_result"
    }
   ],
   "source": [
    "coe2['foliop'] = coe2.cd_a + coe2.ent + coe2.con + coe2.v_sel + coe2.n_hog + coe2.h_mud + coe2.n_ren\n",
    "coe2['foliop'].head()"
   ]
  },
  {
   "cell_type": "code",
   "execution_count": 40,
   "metadata": {},
   "outputs": [
    {
     "data": {
      "text/html": [
       "<div>\n",
       "<style scoped>\n",
       "    .dataframe tbody tr th:only-of-type {\n",
       "        vertical-align: middle;\n",
       "    }\n",
       "\n",
       "    .dataframe tbody tr th {\n",
       "        vertical-align: top;\n",
       "    }\n",
       "\n",
       "    .dataframe thead th {\n",
       "        text-align: right;\n",
       "    }\n",
       "</style>\n",
       "<table border=\"1\" class=\"dataframe\">\n",
       "  <thead>\n",
       "    <tr style=\"text-align: right;\">\n",
       "      <th></th>\n",
       "      <th>foliop</th>\n",
       "      <th>p6c</th>\n",
       "      <th>p6b2</th>\n",
       "      <th>p6_9</th>\n",
       "      <th>p6a3</th>\n",
       "    </tr>\n",
       "  </thead>\n",
       "  <tbody>\n",
       "    <tr>\n",
       "      <th>0</th>\n",
       "      <td>1 401222101</td>\n",
       "      <td></td>\n",
       "      <td>7000</td>\n",
       "      <td></td>\n",
       "      <td></td>\n",
       "    </tr>\n",
       "    <tr>\n",
       "      <th>1</th>\n",
       "      <td>8619600157102</td>\n",
       "      <td></td>\n",
       "      <td></td>\n",
       "      <td></td>\n",
       "      <td></td>\n",
       "    </tr>\n",
       "    <tr>\n",
       "      <th>2</th>\n",
       "      <td>8613600092101</td>\n",
       "      <td></td>\n",
       "      <td></td>\n",
       "      <td>9</td>\n",
       "      <td></td>\n",
       "    </tr>\n",
       "    <tr>\n",
       "      <th>3</th>\n",
       "      <td>65412802101</td>\n",
       "      <td></td>\n",
       "      <td>4300</td>\n",
       "      <td></td>\n",
       "      <td></td>\n",
       "    </tr>\n",
       "    <tr>\n",
       "      <th>4</th>\n",
       "      <td>3622403365101</td>\n",
       "      <td></td>\n",
       "      <td>7000</td>\n",
       "      <td></td>\n",
       "      <td></td>\n",
       "    </tr>\n",
       "  </tbody>\n",
       "</table>\n",
       "</div>"
      ],
      "text/plain": [
       "          foliop p6c  p6b2 p6_9 p6a3\n",
       "0    1 401222101      7000          \n",
       "1  8619600157102                    \n",
       "2  8613600092101              9     \n",
       "3    65412802101      4300          \n",
       "4  3622403365101      7000          "
      ]
     },
     "execution_count": 40,
     "metadata": {},
     "output_type": "execute_result"
    }
   ],
   "source": [
    "# Mantenemos sólo el folio personal y las variables de salarios \n",
    "coe2_mini = coe2[['foliop', 'p6c', 'p6b2', 'p6_9', 'p6a3']]\n",
    "coe2_mini.head()"
   ]
  },
  {
   "cell_type": "markdown",
   "metadata": {},
   "source": [
    "# SDEM\n"
   ]
  },
  {
   "cell_type": "code",
   "execution_count": 42,
   "metadata": {},
   "outputs": [
    {
     "data": {
      "text/html": [
       "<div>\n",
       "<style scoped>\n",
       "    .dataframe tbody tr th:only-of-type {\n",
       "        vertical-align: middle;\n",
       "    }\n",
       "\n",
       "    .dataframe tbody tr th {\n",
       "        vertical-align: top;\n",
       "    }\n",
       "\n",
       "    .dataframe thead th {\n",
       "        text-align: right;\n",
       "    }\n",
       "</style>\n",
       "<table border=\"1\" class=\"dataframe\">\n",
       "  <thead>\n",
       "    <tr style=\"text-align: right;\">\n",
       "      <th></th>\n",
       "      <th>r_def</th>\n",
       "      <th>loc</th>\n",
       "      <th>mun</th>\n",
       "      <th>est</th>\n",
       "      <th>est_d_tri</th>\n",
       "      <th>est_d_men</th>\n",
       "      <th>ageb</th>\n",
       "      <th>t_loc_tri</th>\n",
       "      <th>t_loc_men</th>\n",
       "      <th>cd_a</th>\n",
       "      <th>...</th>\n",
       "      <th>t_tra</th>\n",
       "      <th>emp_ppal</th>\n",
       "      <th>tue_ppal</th>\n",
       "      <th>trans_ppal</th>\n",
       "      <th>mh_fil2</th>\n",
       "      <th>mh_col</th>\n",
       "      <th>sec_ins</th>\n",
       "      <th>tipo</th>\n",
       "      <th>mes_cal</th>\n",
       "      <th>ca</th>\n",
       "    </tr>\n",
       "  </thead>\n",
       "  <tbody>\n",
       "    <tr>\n",
       "      <th>0</th>\n",
       "      <td>0</td>\n",
       "      <td></td>\n",
       "      <td></td>\n",
       "      <td>40</td>\n",
       "      <td>206</td>\n",
       "      <td>200</td>\n",
       "      <td>0</td>\n",
       "      <td>1</td>\n",
       "      <td>1</td>\n",
       "      <td>1</td>\n",
       "      <td>...</td>\n",
       "      <td>1</td>\n",
       "      <td>0</td>\n",
       "      <td>0</td>\n",
       "      <td>0</td>\n",
       "      <td>0</td>\n",
       "      <td>0</td>\n",
       "      <td>0</td>\n",
       "      <td>1</td>\n",
       "      <td>4</td>\n",
       "      <td>2</td>\n",
       "    </tr>\n",
       "    <tr>\n",
       "      <th>1</th>\n",
       "      <td>0</td>\n",
       "      <td></td>\n",
       "      <td>6</td>\n",
       "      <td>30</td>\n",
       "      <td>360</td>\n",
       "      <td>323</td>\n",
       "      <td>0</td>\n",
       "      <td>1</td>\n",
       "      <td>1</td>\n",
       "      <td>24</td>\n",
       "      <td>...</td>\n",
       "      <td>0</td>\n",
       "      <td>0</td>\n",
       "      <td>0</td>\n",
       "      <td>0</td>\n",
       "      <td>0</td>\n",
       "      <td>0</td>\n",
       "      <td>0</td>\n",
       "      <td>1</td>\n",
       "      <td>6</td>\n",
       "      <td>2</td>\n",
       "    </tr>\n",
       "    <tr>\n",
       "      <th>2</th>\n",
       "      <td>0</td>\n",
       "      <td></td>\n",
       "      <td>9</td>\n",
       "      <td>20</td>\n",
       "      <td>75</td>\n",
       "      <td>71</td>\n",
       "      <td>0</td>\n",
       "      <td>4</td>\n",
       "      <td>4</td>\n",
       "      <td>86</td>\n",
       "      <td>...</td>\n",
       "      <td>1</td>\n",
       "      <td>2</td>\n",
       "      <td>2</td>\n",
       "      <td>0</td>\n",
       "      <td>3</td>\n",
       "      <td>2</td>\n",
       "      <td>2</td>\n",
       "      <td>1</td>\n",
       "      <td>6</td>\n",
       "      <td>2</td>\n",
       "    </tr>\n",
       "    <tr>\n",
       "      <th>3</th>\n",
       "      <td>0</td>\n",
       "      <td></td>\n",
       "      <td>20</td>\n",
       "      <td>30</td>\n",
       "      <td>473</td>\n",
       "      <td>425</td>\n",
       "      <td>0</td>\n",
       "      <td>2</td>\n",
       "      <td>2</td>\n",
       "      <td>83</td>\n",
       "      <td>...</td>\n",
       "      <td>1</td>\n",
       "      <td>0</td>\n",
       "      <td>0</td>\n",
       "      <td>0</td>\n",
       "      <td>0</td>\n",
       "      <td>0</td>\n",
       "      <td>0</td>\n",
       "      <td>1</td>\n",
       "      <td>6</td>\n",
       "      <td>2</td>\n",
       "    </tr>\n",
       "    <tr>\n",
       "      <th>4</th>\n",
       "      <td>0</td>\n",
       "      <td></td>\n",
       "      <td>42</td>\n",
       "      <td>20</td>\n",
       "      <td>416</td>\n",
       "      <td>406</td>\n",
       "      <td>0</td>\n",
       "      <td>3</td>\n",
       "      <td>3</td>\n",
       "      <td>39</td>\n",
       "      <td>...</td>\n",
       "      <td>1</td>\n",
       "      <td>0</td>\n",
       "      <td>0</td>\n",
       "      <td>0</td>\n",
       "      <td>0</td>\n",
       "      <td>0</td>\n",
       "      <td>0</td>\n",
       "      <td>1</td>\n",
       "      <td>5</td>\n",
       "      <td>2</td>\n",
       "    </tr>\n",
       "  </tbody>\n",
       "</table>\n",
       "<p>5 rows × 110 columns</p>\n",
       "</div>"
      ],
      "text/plain": [
       "   r_def loc mun  est  est_d_tri  est_d_men  ageb  t_loc_tri  t_loc_men cd_a  \\\n",
       "0      0           40        206        200     0          1          1    1   \n",
       "1      0       6   30        360        323     0          1          1   24   \n",
       "2      0       9   20         75         71     0          4          4   86   \n",
       "3      0      20   30        473        425     0          2          2   83   \n",
       "4      0      42   20        416        406     0          3          3   39   \n",
       "\n",
       "   ... t_tra  emp_ppal  tue_ppal  trans_ppal  mh_fil2  mh_col  sec_ins  tipo  \\\n",
       "0  ...     1         0         0           0        0       0        0     1   \n",
       "1  ...     0         0         0           0        0       0        0     1   \n",
       "2  ...     1         2         2           0        3       2        2     1   \n",
       "3  ...     1         0         0           0        0       0        0     1   \n",
       "4  ...     1         0         0           0        0       0        0     1   \n",
       "\n",
       "   mes_cal  ca  \n",
       "0        4   2  \n",
       "1        6   2  \n",
       "2        6   2  \n",
       "3        6   2  \n",
       "4        5   2  \n",
       "\n",
       "[5 rows x 110 columns]"
      ]
     },
     "execution_count": 42,
     "metadata": {},
     "output_type": "execute_result"
    }
   ],
   "source": [
    "sdem = pd.read_csv(\"Bases/ENOEN_SDEMT221_sample.csv\")\n",
    "sdem.head()"
   ]
  },
  {
   "cell_type": "code",
   "execution_count": 43,
   "metadata": {
    "scrolled": true
   },
   "outputs": [
    {
     "name": "stdout",
     "output_type": "stream",
     "text": [
      "<class 'pandas.core.frame.DataFrame'>\n",
      "RangeIndex: 38132 entries, 0 to 38131\n",
      "Data columns (total 7 columns):\n",
      " #   Column  Non-Null Count  Dtype \n",
      "---  ------  --------------  ----- \n",
      " 0   cd_a    38132 non-null  object\n",
      " 1   ent     38132 non-null  object\n",
      " 2   con     38132 non-null  int64 \n",
      " 3   v_sel   38132 non-null  int64 \n",
      " 4   n_hog   38132 non-null  int64 \n",
      " 5   h_mud   38132 non-null  int64 \n",
      " 6   n_ren   38132 non-null  int64 \n",
      "dtypes: int64(5), object(2)\n",
      "memory usage: 2.0+ MB\n"
     ]
    }
   ],
   "source": [
    "# La llave de identificación está dada por las variables\n",
    "sdem[['cd_a', 'ent', 'con', 'v_sel', 'n_hog', 'h_mud', 'n_ren']].info()"
   ]
  },
  {
   "cell_type": "code",
   "execution_count": 45,
   "metadata": {
    "scrolled": true
   },
   "outputs": [
    {
     "data": {
      "text/html": [
       "<div>\n",
       "<style scoped>\n",
       "    .dataframe tbody tr th:only-of-type {\n",
       "        vertical-align: middle;\n",
       "    }\n",
       "\n",
       "    .dataframe tbody tr th {\n",
       "        vertical-align: top;\n",
       "    }\n",
       "\n",
       "    .dataframe thead th {\n",
       "        text-align: right;\n",
       "    }\n",
       "</style>\n",
       "<table border=\"1\" class=\"dataframe\">\n",
       "  <thead>\n",
       "    <tr style=\"text-align: right;\">\n",
       "      <th></th>\n",
       "      <th>cd_a</th>\n",
       "      <th>ent</th>\n",
       "      <th>con</th>\n",
       "      <th>v_sel</th>\n",
       "      <th>n_hog</th>\n",
       "      <th>h_mud</th>\n",
       "      <th>n_ren</th>\n",
       "    </tr>\n",
       "  </thead>\n",
       "  <tbody>\n",
       "    <tr>\n",
       "      <th>0</th>\n",
       "      <td>1</td>\n",
       "      <td></td>\n",
       "      <td>40094</td>\n",
       "      <td>4</td>\n",
       "      <td>1</td>\n",
       "      <td>0</td>\n",
       "      <td>4</td>\n",
       "    </tr>\n",
       "    <tr>\n",
       "      <th>1</th>\n",
       "      <td>24</td>\n",
       "      <td>25</td>\n",
       "      <td>40346</td>\n",
       "      <td>1</td>\n",
       "      <td>1</td>\n",
       "      <td>0</td>\n",
       "      <td>2</td>\n",
       "    </tr>\n",
       "    <tr>\n",
       "      <th>2</th>\n",
       "      <td>86</td>\n",
       "      <td>5</td>\n",
       "      <td>60003</td>\n",
       "      <td>4</td>\n",
       "      <td>1</td>\n",
       "      <td>0</td>\n",
       "      <td>7</td>\n",
       "    </tr>\n",
       "    <tr>\n",
       "      <th>3</th>\n",
       "      <td>83</td>\n",
       "      <td>32</td>\n",
       "      <td>50064</td>\n",
       "      <td>13</td>\n",
       "      <td>1</td>\n",
       "      <td>0</td>\n",
       "      <td>1</td>\n",
       "    </tr>\n",
       "    <tr>\n",
       "      <th>4</th>\n",
       "      <td>39</td>\n",
       "      <td>29</td>\n",
       "      <td>40238</td>\n",
       "      <td>2</td>\n",
       "      <td>1</td>\n",
       "      <td>0</td>\n",
       "      <td>2</td>\n",
       "    </tr>\n",
       "  </tbody>\n",
       "</table>\n",
       "</div>"
      ],
      "text/plain": [
       "  cd_a ent    con v_sel n_hog h_mud n_ren\n",
       "0    1      40094     4     1     0     4\n",
       "1   24  25  40346     1     1     0     2\n",
       "2   86   5  60003     4     1     0     7\n",
       "3   83  32  50064    13     1     0     1\n",
       "4   39  29  40238     2     1     0     2"
      ]
     },
     "execution_count": 45,
     "metadata": {},
     "output_type": "execute_result"
    }
   ],
   "source": [
    "# Convertimos a string las variables de la llave que no lo son \n",
    "sdem[['con', 'v_sel', 'n_hog', 'h_mud', 'n_ren']] = sdem[['con', 'v_sel', 'n_hog', 'h_mud', 'n_ren']].astype(str)\n",
    "sdem[['cd_a', 'ent', 'con', 'v_sel', 'n_hog', 'h_mud', 'n_ren']].head()"
   ]
  },
  {
   "cell_type": "code",
   "execution_count": 46,
   "metadata": {
    "scrolled": true
   },
   "outputs": [
    {
     "data": {
      "text/plain": [
       "0       1 400944104\n",
       "1     2425403461102\n",
       "2      865600034107\n",
       "3    83325006413101\n",
       "4     3929402382102\n",
       "Name: foliop, dtype: object"
      ]
     },
     "execution_count": 46,
     "metadata": {},
     "output_type": "execute_result"
    }
   ],
   "source": [
    "sdem['foliop'] = sdem.cd_a + sdem.ent + sdem.con + sdem.v_sel + sdem.n_hog + sdem.h_mud + sdem.n_ren\n",
    "sdem['foliop'].head()"
   ]
  },
  {
   "cell_type": "code",
   "execution_count": 75,
   "metadata": {},
   "outputs": [],
   "source": [
    "# Con cuestionario terminado \n",
    "sdem = sdem[(sdem.r_def==0) & (sdem.c_res==1) | (sdem.c_res==3)]"
   ]
  },
  {
   "cell_type": "code",
   "execution_count": 76,
   "metadata": {},
   "outputs": [
    {
     "data": {
      "text/html": [
       "<div>\n",
       "<style scoped>\n",
       "    .dataframe tbody tr th:only-of-type {\n",
       "        vertical-align: middle;\n",
       "    }\n",
       "\n",
       "    .dataframe tbody tr th {\n",
       "        vertical-align: top;\n",
       "    }\n",
       "\n",
       "    .dataframe thead th {\n",
       "        text-align: right;\n",
       "    }\n",
       "</style>\n",
       "<table border=\"1\" class=\"dataframe\">\n",
       "  <thead>\n",
       "    <tr style=\"text-align: right;\">\n",
       "      <th></th>\n",
       "      <th>foliop</th>\n",
       "      <th>salario</th>\n",
       "      <th>t_loc_tri</th>\n",
       "      <th>fac_tri</th>\n",
       "      <th>clase1</th>\n",
       "      <th>clase2</th>\n",
       "      <th>ent</th>\n",
       "      <th>ingocup</th>\n",
       "    </tr>\n",
       "  </thead>\n",
       "  <tbody>\n",
       "    <tr>\n",
       "      <th>0</th>\n",
       "      <td>1 400944104</td>\n",
       "      <td>4251</td>\n",
       "      <td>1</td>\n",
       "      <td>2093</td>\n",
       "      <td>2</td>\n",
       "      <td>4</td>\n",
       "      <td></td>\n",
       "      <td>0</td>\n",
       "    </tr>\n",
       "    <tr>\n",
       "      <th>1</th>\n",
       "      <td>2425403461102</td>\n",
       "      <td>4251</td>\n",
       "      <td>1</td>\n",
       "      <td>109</td>\n",
       "      <td>0</td>\n",
       "      <td>0</td>\n",
       "      <td>25</td>\n",
       "      <td>0</td>\n",
       "    </tr>\n",
       "    <tr>\n",
       "      <th>2</th>\n",
       "      <td>865600034107</td>\n",
       "      <td>4251</td>\n",
       "      <td>4</td>\n",
       "      <td>270</td>\n",
       "      <td>1</td>\n",
       "      <td>1</td>\n",
       "      <td>5</td>\n",
       "      <td>6450</td>\n",
       "    </tr>\n",
       "    <tr>\n",
       "      <th>3</th>\n",
       "      <td>83325006413101</td>\n",
       "      <td>4251</td>\n",
       "      <td>2</td>\n",
       "      <td>303</td>\n",
       "      <td>2</td>\n",
       "      <td>4</td>\n",
       "      <td>32</td>\n",
       "      <td>0</td>\n",
       "    </tr>\n",
       "    <tr>\n",
       "      <th>4</th>\n",
       "      <td>3929402382102</td>\n",
       "      <td>4251</td>\n",
       "      <td>3</td>\n",
       "      <td>98</td>\n",
       "      <td>2</td>\n",
       "      <td>4</td>\n",
       "      <td>29</td>\n",
       "      <td>0</td>\n",
       "    </tr>\n",
       "  </tbody>\n",
       "</table>\n",
       "</div>"
      ],
      "text/plain": [
       "           foliop  salario  t_loc_tri  fac_tri  clase1  clase2 ent  ingocup\n",
       "0     1 400944104     4251          1     2093       2       4            0\n",
       "1   2425403461102     4251          1      109       0       0  25        0\n",
       "2    865600034107     4251          4      270       1       1   5     6450\n",
       "3  83325006413101     4251          2      303       2       4  32        0\n",
       "4   3929402382102     4251          3       98       2       4  29        0"
      ]
     },
     "execution_count": 76,
     "metadata": {},
     "output_type": "execute_result"
    }
   ],
   "source": [
    "sdem_mini =  sdem[['foliop', 'salario', 't_loc_tri', 'fac_tri', 'clase1', 'clase2', 'ent', 'ingocup']]\n",
    "sdem_mini.head()"
   ]
  },
  {
   "cell_type": "markdown",
   "metadata": {},
   "source": [
    "# Merge\n"
   ]
  },
  {
   "cell_type": "markdown",
   "metadata": {},
   "source": [
    "```{Stata}\n",
    "merge foliop using \"$temp\\ingresoT`x'.dta\";\n",
    "```"
   ]
  },
  {
   "cell_type": "code",
   "execution_count": 105,
   "metadata": {
    "scrolled": true
   },
   "outputs": [
    {
     "name": "stdout",
     "output_type": "stream",
     "text": [
      "<class 'pandas.core.frame.DataFrame'>\n",
      "Int64Index: 3355 entries, 0 to 3354\n",
      "Data columns (total 12 columns):\n",
      " #   Column     Non-Null Count  Dtype \n",
      "---  ------     --------------  ----- \n",
      " 0   foliop     3355 non-null   object\n",
      " 1   salario    3355 non-null   int64 \n",
      " 2   t_loc_tri  3355 non-null   int64 \n",
      " 3   fac_tri    3355 non-null   int64 \n",
      " 4   clase1     3355 non-null   int64 \n",
      " 5   clase2     3355 non-null   int64 \n",
      " 6   ent        3355 non-null   object\n",
      " 7   ingocup    3355 non-null   int64 \n",
      " 8   p6c        3355 non-null   object\n",
      " 9   p6b2       3355 non-null   object\n",
      " 10  p6_9       3355 non-null   object\n",
      " 11  p6a3       3355 non-null   object\n",
      "dtypes: int64(6), object(6)\n",
      "memory usage: 340.7+ KB\n"
     ]
    }
   ],
   "source": [
    "enoe_mini = pd.merge(sdem_mini, coe2_mini, on='foliop', how='inner')\n",
    "enoe_mini.info()"
   ]
  },
  {
   "cell_type": "code",
   "execution_count": 122,
   "metadata": {
    "scrolled": true
   },
   "outputs": [
    {
     "data": {
      "text/html": [
       "<div>\n",
       "<style scoped>\n",
       "    .dataframe tbody tr th:only-of-type {\n",
       "        vertical-align: middle;\n",
       "    }\n",
       "\n",
       "    .dataframe tbody tr th {\n",
       "        vertical-align: top;\n",
       "    }\n",
       "\n",
       "    .dataframe thead th {\n",
       "        text-align: right;\n",
       "    }\n",
       "</style>\n",
       "<table border=\"1\" class=\"dataframe\">\n",
       "  <thead>\n",
       "    <tr style=\"text-align: right;\">\n",
       "      <th></th>\n",
       "      <th>foliop</th>\n",
       "      <th>salario</th>\n",
       "      <th>t_loc_tri</th>\n",
       "      <th>fac_tri</th>\n",
       "      <th>clase1</th>\n",
       "      <th>clase2</th>\n",
       "      <th>ent</th>\n",
       "      <th>ingocup</th>\n",
       "      <th>p6c</th>\n",
       "      <th>p6b2</th>\n",
       "      <th>p6_9</th>\n",
       "      <th>p6a3</th>\n",
       "      <th>ocupado</th>\n",
       "      <th>ingreso</th>\n",
       "    </tr>\n",
       "  </thead>\n",
       "  <tbody>\n",
       "    <tr>\n",
       "      <th>0</th>\n",
       "      <td>815500984106</td>\n",
       "      <td>6402</td>\n",
       "      <td>1</td>\n",
       "      <td>768</td>\n",
       "      <td>2</td>\n",
       "      <td>4</td>\n",
       "      <td>5</td>\n",
       "      <td>0</td>\n",
       "      <td></td>\n",
       "      <td></td>\n",
       "      <td></td>\n",
       "      <td></td>\n",
       "      <td>0</td>\n",
       "      <td>NaN</td>\n",
       "    </tr>\n",
       "    <tr>\n",
       "      <th>1</th>\n",
       "      <td>1827402021103</td>\n",
       "      <td>4251</td>\n",
       "      <td>3</td>\n",
       "      <td>48</td>\n",
       "      <td>2</td>\n",
       "      <td>3</td>\n",
       "      <td>27</td>\n",
       "      <td>0</td>\n",
       "      <td></td>\n",
       "      <td></td>\n",
       "      <td></td>\n",
       "      <td></td>\n",
       "      <td>0</td>\n",
       "      <td>NaN</td>\n",
       "    </tr>\n",
       "    <tr>\n",
       "      <th>2</th>\n",
       "      <td>85225004211101</td>\n",
       "      <td>4251</td>\n",
       "      <td>3</td>\n",
       "      <td>300</td>\n",
       "      <td>1</td>\n",
       "      <td>1</td>\n",
       "      <td>22</td>\n",
       "      <td>9000</td>\n",
       "      <td></td>\n",
       "      <td>9000</td>\n",
       "      <td></td>\n",
       "      <td></td>\n",
       "      <td>1</td>\n",
       "      <td>9000.0</td>\n",
       "    </tr>\n",
       "    <tr>\n",
       "      <th>3</th>\n",
       "      <td>86226001011101</td>\n",
       "      <td>4251</td>\n",
       "      <td>4</td>\n",
       "      <td>119</td>\n",
       "      <td>2</td>\n",
       "      <td>4</td>\n",
       "      <td>22</td>\n",
       "      <td>0</td>\n",
       "      <td></td>\n",
       "      <td></td>\n",
       "      <td></td>\n",
       "      <td></td>\n",
       "      <td>0</td>\n",
       "      <td>NaN</td>\n",
       "    </tr>\n",
       "    <tr>\n",
       "      <th>4</th>\n",
       "      <td>867600032101</td>\n",
       "      <td>4251</td>\n",
       "      <td>4</td>\n",
       "      <td>850</td>\n",
       "      <td>2</td>\n",
       "      <td>4</td>\n",
       "      <td>7</td>\n",
       "      <td>0</td>\n",
       "      <td></td>\n",
       "      <td></td>\n",
       "      <td></td>\n",
       "      <td></td>\n",
       "      <td>0</td>\n",
       "      <td>NaN</td>\n",
       "    </tr>\n",
       "  </tbody>\n",
       "</table>\n",
       "</div>"
      ],
      "text/plain": [
       "           foliop  salario  t_loc_tri  fac_tri  clase1  clase2 ent  ingocup  \\\n",
       "0    815500984106     6402          1      768       2       4   5        0   \n",
       "1   1827402021103     4251          3       48       2       3  27        0   \n",
       "2  85225004211101     4251          3      300       1       1  22     9000   \n",
       "3  86226001011101     4251          4      119       2       4  22        0   \n",
       "4    867600032101     4251          4      850       2       4   7        0   \n",
       "\n",
       "  p6c  p6b2 p6_9 p6a3  ocupado  ingreso  \n",
       "0                            0      NaN  \n",
       "1                            0      NaN  \n",
       "2      9000                  1   9000.0  \n",
       "3                            0      NaN  \n",
       "4                            0      NaN  "
      ]
     },
     "execution_count": 122,
     "metadata": {},
     "output_type": "execute_result"
    }
   ],
   "source": [
    "enoe_mini.head()"
   ]
  },
  {
   "cell_type": "markdown",
   "metadata": {},
   "source": [
    "# Replicar extracción de rangos de salarios "
   ]
  },
  {
   "cell_type": "markdown",
   "metadata": {},
   "source": [
    "```{Stata}\n",
    "gen ocupado=cond(clase1==1 & clase2==1,1,0);\n",
    "```"
   ]
  },
  {
   "cell_type": "code",
   "execution_count": 106,
   "metadata": {
    "scrolled": false
   },
   "outputs": [
    {
     "data": {
      "text/plain": [
       "0       0\n",
       "1       0\n",
       "2       1\n",
       "3       0\n",
       "4       0\n",
       "       ..\n",
       "3350    1\n",
       "3351    1\n",
       "3352    0\n",
       "3353    0\n",
       "3354    1\n",
       "Name: ocupado, Length: 3355, dtype: int32"
      ]
     },
     "execution_count": 106,
     "metadata": {},
     "output_type": "execute_result"
    }
   ],
   "source": [
    "# Ocupado\n",
    "enoe_mini['ocupado'] = np.where((enoe_mini.clase1==1) & (enoe_mini.clase2==1), 1, 0);\n",
    "enoe_mini['ocupado']"
   ]
  },
  {
   "cell_type": "markdown",
   "metadata": {},
   "source": [
    "```{Stata}\n",
    "destring p6b2 p6c, replace;\n",
    "recode p6b2 (999998=.) (999999=.);\n",
    "```"
   ]
  },
  {
   "cell_type": "code",
   "execution_count": 107,
   "metadata": {},
   "outputs": [],
   "source": [
    "# Valores extraños en las preguntas de salario\n",
    "enoe_mini['p6b2'].str.contains(\"999998\").sum()\n",
    "enoe_mini['p6b2'].str.contains(\"999999\").sum()\n",
    "#enoe_mini['p6b2'] = enoe_mini['p6b2'].replace({\"999998\": \"NAN\", \"999999\": \"NAN\"})"
   ]
  },
  {
   "cell_type": "markdown",
   "metadata": {},
   "source": [
    "```{Stata}\n",
    "*Recuperación de ingresos por rangos de salarios mínimos;\n",
    "gen ingreso=p6b2;\n",
    "replace ingreso=0 if ocupado==0;\n",
    "replace ingreso=0 if p6b2==. & (p6_9==9 | p6a3==3);\n",
    "replace ingreso=0.5*salario if p6b2==. & p6c==1;\n",
    "replace ingreso=1*salario if p6b2==. & p6c==2;\n",
    "replace ingreso=1.5*salario if p6b2==. & p6c==3;\n",
    "replace ingreso=2.5*salario if p6b2==. & p6c==4;\n",
    "replace ingreso=4*salario if p6b2==. & p6c==5;\n",
    "replace ingreso=7.5*salario if p6b2==. & p6c==6;\n",
    "replace ingreso=10*salario if p6b2==. & p6c==7;\n",
    "```"
   ]
  },
  {
   "cell_type": "code",
   "execution_count": 139,
   "metadata": {},
   "outputs": [
    {
     "data": {
      "text/plain": [
       "0            \n",
       "1            \n",
       "2        9000\n",
       "3            \n",
       "4            \n",
       "        ...  \n",
       "3350     3010\n",
       "3351     5000\n",
       "3352         \n",
       "3353         \n",
       "3354    10400\n",
       "Name: ingreso, Length: 3355, dtype: object"
      ]
     },
     "execution_count": 139,
     "metadata": {},
     "output_type": "execute_result"
    }
   ],
   "source": [
    "# Recuperación de ingresos por rangos de salarios mínimos;\n",
    "enoe_mini['ingreso'] = enoe_mini.p6b2.copy()\n",
    "enoe_mini['ingreso']"
   ]
  },
  {
   "cell_type": "code",
   "execution_count": 140,
   "metadata": {
    "scrolled": true
   },
   "outputs": [
    {
     "data": {
      "text/plain": [
       "0           NaN\n",
       "1           NaN\n",
       "2        9000.0\n",
       "3           NaN\n",
       "4           NaN\n",
       "         ...   \n",
       "3350     3010.0\n",
       "3351     5000.0\n",
       "3352        NaN\n",
       "3353        NaN\n",
       "3354    10400.0\n",
       "Name: ingreso, Length: 3355, dtype: float64"
      ]
     },
     "execution_count": 140,
     "metadata": {},
     "output_type": "execute_result"
    }
   ],
   "source": [
    "enoe_mini.ingreso = pd.to_numeric(enoe_mini.ingreso, errors='coerce', downcast='integer')\n",
    "enoe_mini.ingreso"
   ]
  },
  {
   "cell_type": "code",
   "execution_count": 141,
   "metadata": {},
   "outputs": [
    {
     "data": {
      "text/plain": [
       "0           0.0\n",
       "1           0.0\n",
       "2        9000.0\n",
       "3           0.0\n",
       "4           0.0\n",
       "         ...   \n",
       "3350     3010.0\n",
       "3351     5000.0\n",
       "3352        0.0\n",
       "3353        0.0\n",
       "3354    10400.0\n",
       "Name: ingreso, Length: 3355, dtype: float64"
      ]
     },
     "execution_count": 141,
     "metadata": {},
     "output_type": "execute_result"
    }
   ],
   "source": [
    "# replace ingreso=0 if ocupado==0;\n",
    "enoe_mini['ingreso'] = np.where(enoe_mini.ocupado==0, 0, enoe_mini.ingreso)\n",
    "enoe_mini.ingreso"
   ]
  },
  {
   "cell_type": "code",
   "execution_count": 143,
   "metadata": {},
   "outputs": [
    {
     "data": {
      "text/plain": [
       "0           0.0\n",
       "1           0.0\n",
       "2        9000.0\n",
       "3           0.0\n",
       "4           0.0\n",
       "         ...   \n",
       "3350     3010.0\n",
       "3351     5000.0\n",
       "3352        0.0\n",
       "3353        0.0\n",
       "3354    10400.0\n",
       "Name: ingreso, Length: 3355, dtype: float64"
      ]
     },
     "execution_count": 143,
     "metadata": {},
     "output_type": "execute_result"
    }
   ],
   "source": [
    "# replace ingreso=0 if p6b2==. & (p6_9==9 | p6a3==3);\n",
    "enoe_mini['ingreso'] = np.where((enoe_mini.p6b2==' ') & (enoe_mini.p6_9=='9') | (enoe_mini.p6a3=='3'), 0, enoe_mini.ingreso)\n",
    "enoe_mini.ingreso"
   ]
  },
  {
   "cell_type": "code",
   "execution_count": 137,
   "metadata": {},
   "outputs": [],
   "source": [
    "# replace ingreso=0.5*salario if p6b2==. & p6c==1;\n",
    "enoe_mini['ingreso'] = np.where((enoe_mini.p6b2==' ') & (enoe_mini.p6c=='1'), 0.5*enoe_mini.salario, enoe_mini.ingreso)"
   ]
  },
  {
   "cell_type": "code",
   "execution_count": 144,
   "metadata": {},
   "outputs": [
    {
     "data": {
      "text/plain": [
       "0           0.0\n",
       "1           0.0\n",
       "2        9000.0\n",
       "3           0.0\n",
       "4           0.0\n",
       "         ...   \n",
       "3350     3010.0\n",
       "3351     5000.0\n",
       "3352        0.0\n",
       "3353        0.0\n",
       "3354    10400.0\n",
       "Name: ingreso, Length: 3355, dtype: float64"
      ]
     },
     "execution_count": 144,
     "metadata": {},
     "output_type": "execute_result"
    }
   ],
   "source": [
    "# replace ingreso=1*salario if p6b2==. & p6c==2;\n",
    "# replace ingreso=1.5*salario if p6b2==. & p6c==3;\n",
    "# replace ingreso=2.5*salario if p6b2==. & p6c==4;\n",
    "# replace ingreso=4*salario if p6b2==. & p6c==5;\n",
    "# replace ingreso=7.5*salario if p6b2==. & p6c==6;\n",
    "# replace ingreso=10*salario if p6b2==. & p6c==7;\n",
    "\n",
    "enoe_mini['ingreso'] = np.where((enoe_mini.p6b2==' ') & (enoe_mini.p6c=='2'), 1*enoe_mini.salario, enoe_mini.ingreso)\n",
    "enoe_mini['ingreso'] = np.where((enoe_mini.p6b2==' ') & (enoe_mini.p6c=='3'), 1.5*enoe_mini.salario, enoe_mini.ingreso)\n",
    "enoe_mini['ingreso'] = np.where((enoe_mini.p6b2==' ') & (enoe_mini.p6c=='4'), 2.5*enoe_mini.salario, enoe_mini.ingreso)\n",
    "enoe_mini['ingreso'] = np.where((enoe_mini.p6b2==' ') & (enoe_mini.p6c=='5'), 4*enoe_mini.salario, enoe_mini.ingreso)\n",
    "enoe_mini['ingreso'] = np.where((enoe_mini.p6b2==' ') & (enoe_mini.p6c=='6'), 7.5*enoe_mini.salario, enoe_mini.ingreso)\n",
    "enoe_mini['ingreso'] = np.where((enoe_mini.p6b2==' ') & (enoe_mini.p6c=='7'), 10*enoe_mini.salario, enoe_mini.ingreso)\n",
    "enoe_mini['ingreso']"
   ]
  },
  {
   "cell_type": "code",
   "execution_count": 148,
   "metadata": {},
   "outputs": [
    {
     "data": {
      "text/plain": [
       "array([    0. ,   150. ,   250. ,   258. ,   300. ,   317. ,   417. ,\n",
       "         430. ,   645. ,   667. ,   688. ,   720. ,   774. ,   800. ,\n",
       "         833. ,   860. ,   900. ,   903. ,  1000. ,  1032. ,  1075. ,\n",
       "        1118. ,  1200. ,  1290. ,  1333. ,  1500. ,  1505. ,  1510. ,\n",
       "        1600. ,  1666. ,  1720. ,  1730. ,  1806. ,  1900. ,  1935. ,\n",
       "        1978. ,  2000. ,  2064. ,  2100. ,  2150. ,  2236. ,  2258. ,\n",
       "        2400. ,  2500. ,  2580. ,  2600. ,  2692. ,  2795. ,  2800. ,\n",
       "        3000. ,  3010. ,  3096. ,  3182. ,  3200. ,  3225. ,  3333. ,\n",
       "        3440. ,  3500. ,  3600. ,  3612. ,  3655. ,  3800. ,  3870. ,\n",
       "        3900. ,  4000. ,  4100. ,  4167. ,  4200. ,  4251. ,  4300. ,\n",
       "        4307. ,  4400. ,  4493. ,  4500. ,  4515. ,  4566. ,  4600. ,\n",
       "        4730. ,  4800. ,  4945. ,  5000. ,  5160. ,  5268. ,  5310. ,\n",
       "        5375. ,  5400. ,  5500. ,  5590. ,  5600. ,  5805. ,  5848. ,\n",
       "        5869. ,  5934. ,  6000. ,  6020. ,  6200. ,  6300. ,  6376.5,\n",
       "        6400. ,  6402. ,  6450. ,  6600. ,  6665. ,  6751. ,  6800. ,\n",
       "        6880. ,  7000. ,  7095. ,  7200. ,  7245. ,  7310. ,  7396. ,\n",
       "        7400. ,  7480. ,  7500. ,  7525. ,  7600. ,  7740. ,  7770. ,\n",
       "        7880. ,  7955. ,  7995. ,  8000. ,  8127. ,  8170. ,  8200. ,\n",
       "        8256. ,  8300. ,  8400. ,  8500. ,  8600. ,  8706. ,  9000. ,\n",
       "        9030. ,  9200. ,  9460. ,  9600. ,  9603. ,  9800. ,  9890. ,\n",
       "       10000. , 10320. , 10400. , 10500. , 10520. , 10600. , 10627.5,\n",
       "       10750. , 10945. , 11000. , 11050. , 11180. , 11200. , 11400. ,\n",
       "       11610. , 11800. , 12000. , 12040. , 12384. , 12400. , 12470. ,\n",
       "       12900. , 13000. , 13330. , 13400. , 13500. , 14000. , 14600. ,\n",
       "       14800. , 15000. , 15050. , 15200. , 15750. , 16000. , 16005. ,\n",
       "       16340. , 16800. , 17004. , 17200. , 18000. , 19000. , 19780. ,\n",
       "       20000. , 20640. , 21000. , 21500. , 22000. , 24000. , 25000. ,\n",
       "       25608. , 25800. , 26000. , 28000. , 30000. , 30100. , 31882.5,\n",
       "       32000. , 33000. , 37500. , 38700. , 40000. , 42510. , 43000. ,\n",
       "       44000. , 45150. , 46000. , 50000. , 60000. , 60200. , 64500. ,\n",
       "       65000. , 70000. ,     nan])"
      ]
     },
     "execution_count": 148,
     "metadata": {},
     "output_type": "execute_result"
    }
   ],
   "source": [
    "enoe_mini['ingreso'].sort_values().unique()"
   ]
  }
 ],
 "metadata": {
  "kernelspec": {
   "display_name": "Python 3",
   "language": "python",
   "name": "python3"
  },
  "language_info": {
   "codemirror_mode": {
    "name": "ipython",
    "version": 3
   },
   "file_extension": ".py",
   "mimetype": "text/x-python",
   "name": "python",
   "nbconvert_exporter": "python",
   "pygments_lexer": "ipython3",
   "version": "3.7.6"
  }
 },
 "nbformat": 4,
 "nbformat_minor": 4
}
