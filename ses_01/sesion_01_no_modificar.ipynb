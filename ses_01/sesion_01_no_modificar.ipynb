{
 "cells": [
  {
   "cell_type": "markdown",
   "id": "1e53b63d",
   "metadata": {
    "slideshow": {
     "slide_type": "slide"
    }
   },
   "source": [
    "# Python para economistas\n",
    "\n",
    "### Mtro. Diego López Tamayo\n",
    "#### El Colegio de México\n",
    "#### BBVA Research"
   ]
  },
  {
   "cell_type": "markdown",
   "id": "61c8a027",
   "metadata": {
    "slideshow": {
     "slide_type": "slide"
    }
   },
   "source": [
    "# Sesión 1. Bienvenidos\n",
    "\n",
    "\n",
    "- Instalación y configuración de Python, Anaconda & VS Code\n",
    "- Configurar Anaconda y un ambiente básico.\n",
    "- Creación de entornos y versiones de Python.\n",
    "- Presentación Jupyter notebooks & Scripts interactivos.\n",
    "- Ambientes alternativos: [Goolge Colab](https://www.google.com/url?sa=t&rct=j&q=&esrc=s&source=web&cd=&cad=rja&uact=8&ved=2ahUKEwimovz3rrLzAhVvlWoFHUiwB0kQFnoECAwQAQ&url=https%3A%2F%2Fresearch.google.com%2Fcolaboratory%2F&usg=AOvVaw38J01zt_Dlb6pQ1fe6FGrI) y [Kaggle](https://www.google.com/url?sa=t&rct=j&q=&esrc=s&source=web&cd=&cad=rja&uact=8&ved=2ahUKEwiggdyDr7LzAhXim2oFHTAOA6QQFnoECA0QAQ&url=https%3A%2F%2Fwww.kaggle.com%2F&usg=AOvVaw358aJVdRF5ENauJCrosrX1)\n",
    "- Tipos de datos y variables\n",
    "- Strings, number, double, lógicas\n",
    "- Operadores lógicos >,<, ==, !=\n",
    "- Funciones base y estructuras básicas (listas, tuplas, conjuntos)\n",
    "- Crear una lista y operaciones con conjuntos\n"
   ]
  },
  {
   "cell_type": "markdown",
   "id": "cd4ef2df",
   "metadata": {
    "slideshow": {
     "slide_type": "slide"
    }
   },
   "source": [
    "# 4 ingredientes para programar en Python\n",
    "\n",
    "1. Operators (Operadores)\n",
    "2. Objects (Objetos)\n",
    "3. Functions (Funciones)\n",
    "4. Statements (Declaraciones)"
   ]
  },
  {
   "cell_type": "markdown",
   "id": "6daf7a9b",
   "metadata": {
    "slideshow": {
     "slide_type": "slide"
    }
   },
   "source": [
    "## Operadores\n",
    "\n",
    " * Aritméticos: `-, +, /, *`\n",
    " * Comparación: `<`, `==`, `>=`\n",
    " * Boolean: `and`, `or`, `not`"
   ]
  },
  {
   "cell_type": "markdown",
   "id": "fc2e1f06",
   "metadata": {
    "slideshow": {
     "slide_type": "slide"
    }
   },
   "source": [
    " ## Aritméticos"
   ]
  },
  {
   "cell_type": "code",
   "execution_count": 94,
   "id": "21cecc99",
   "metadata": {},
   "outputs": [
    {
     "data": {
      "text/plain": [
       "9"
      ]
     },
     "execution_count": 94,
     "metadata": {},
     "output_type": "execute_result"
    }
   ],
   "source": [
    "4 + 5"
   ]
  },
  {
   "cell_type": "code",
   "execution_count": 95,
   "id": "d1d439c9",
   "metadata": {},
   "outputs": [
    {
     "data": {
      "text/plain": [
       "1.5"
      ]
     },
     "execution_count": 95,
     "metadata": {},
     "output_type": "execute_result"
    }
   ],
   "source": [
    "3 / 2"
   ]
  },
  {
   "cell_type": "code",
   "execution_count": 96,
   "id": "9d1e3007",
   "metadata": {},
   "outputs": [
    {
     "data": {
      "text/plain": [
       "18"
      ]
     },
     "execution_count": 96,
     "metadata": {},
     "output_type": "execute_result"
    }
   ],
   "source": [
    "9 * 2"
   ]
  },
  {
   "cell_type": "code",
   "execution_count": 97,
   "id": "73fe8a65",
   "metadata": {},
   "outputs": [
    {
     "data": {
      "text/plain": [
       "8"
      ]
     },
     "execution_count": 97,
     "metadata": {},
     "output_type": "execute_result"
    }
   ],
   "source": [
    "2 ** 3"
   ]
  },
  {
   "cell_type": "markdown",
   "id": "4632dbe3",
   "metadata": {
    "slideshow": {
     "slide_type": "slide"
    }
   },
   "source": [
    " ## Comparación"
   ]
  },
  {
   "cell_type": "code",
   "execution_count": 98,
   "id": "42e01ae4",
   "metadata": {},
   "outputs": [
    {
     "data": {
      "text/plain": [
       "True"
      ]
     },
     "execution_count": 98,
     "metadata": {},
     "output_type": "execute_result"
    }
   ],
   "source": [
    "3 < 4"
   ]
  },
  {
   "cell_type": "code",
   "execution_count": 99,
   "id": "caa398c9",
   "metadata": {},
   "outputs": [
    {
     "data": {
      "text/plain": [
       "True"
      ]
     },
     "execution_count": 99,
     "metadata": {},
     "output_type": "execute_result"
    }
   ],
   "source": [
    "3 <= 3"
   ]
  },
  {
   "cell_type": "code",
   "execution_count": 100,
   "id": "be45cc18",
   "metadata": {},
   "outputs": [
    {
     "data": {
      "text/plain": [
       "True"
      ]
     },
     "execution_count": 100,
     "metadata": {},
     "output_type": "execute_result"
    }
   ],
   "source": [
    "4 == 2 * 2"
   ]
  },
  {
   "cell_type": "markdown",
   "id": "cc98d17d",
   "metadata": {
    "slideshow": {
     "slide_type": "slide"
    }
   },
   "source": [
    "### Operadores booleanos"
   ]
  },
  {
   "cell_type": "code",
   "execution_count": 101,
   "id": "63ef121f",
   "metadata": {},
   "outputs": [
    {
     "data": {
      "text/plain": [
       "False"
      ]
     },
     "execution_count": 101,
     "metadata": {},
     "output_type": "execute_result"
    }
   ],
   "source": [
    "3 < 2 and 4 > 2"
   ]
  },
  {
   "cell_type": "code",
   "execution_count": 102,
   "id": "fff4397d",
   "metadata": {},
   "outputs": [
    {
     "data": {
      "text/plain": [
       "True"
      ]
     },
     "execution_count": 102,
     "metadata": {},
     "output_type": "execute_result"
    }
   ],
   "source": [
    "5 == 10 / 2 or 5 == 3"
   ]
  },
  {
   "cell_type": "code",
   "execution_count": 103,
   "id": "b6168fda",
   "metadata": {},
   "outputs": [
    {
     "data": {
      "text/plain": [
       "True"
      ]
     },
     "execution_count": 103,
     "metadata": {},
     "output_type": "execute_result"
    }
   ],
   "source": [
    "(8 == 8 and 4 == 2 * 2) or (7 < 4)"
   ]
  },
  {
   "cell_type": "code",
   "execution_count": 104,
   "id": "6a84eb19",
   "metadata": {},
   "outputs": [
    {
     "data": {
      "text/plain": [
       "False"
      ]
     },
     "execution_count": 104,
     "metadata": {},
     "output_type": "execute_result"
    }
   ],
   "source": [
    "2 == 3 or 3 > 8 or 3 == 9"
   ]
  },
  {
   "cell_type": "markdown",
   "id": "92a452f0",
   "metadata": {
    "slideshow": {
     "slide_type": "slide"
    }
   },
   "source": [
    "## Objetos y variables\n",
    "\n",
    "\n",
    "En Python, un `tipo` es otra palabra para objeto.\n",
    "\n",
    "Una **variable** es el nombre asignado a un objeto.\n",
    "\n",
    "\n",
    "1. Tipos de datos: `int, float, str`\n",
    "2. Tipo de contenedores: `list, tuple, dict, set`"
   ]
  },
  {
   "cell_type": "code",
   "execution_count": 105,
   "id": "83848c9f",
   "metadata": {
    "slideshow": {
     "slide_type": "slide"
    }
   },
   "outputs": [
    {
     "data": {
      "text/plain": [
       "int"
      ]
     },
     "execution_count": 105,
     "metadata": {},
     "output_type": "execute_result"
    }
   ],
   "source": [
    "type(2)"
   ]
  },
  {
   "cell_type": "code",
   "execution_count": 106,
   "id": "97c6d649",
   "metadata": {},
   "outputs": [
    {
     "data": {
      "text/plain": [
       "str"
      ]
     },
     "execution_count": 106,
     "metadata": {},
     "output_type": "execute_result"
    }
   ],
   "source": [
    "type(\"2\")"
   ]
  },
  {
   "cell_type": "code",
   "execution_count": 107,
   "id": "d3c4f42d",
   "metadata": {},
   "outputs": [
    {
     "data": {
      "text/plain": [
       "float"
      ]
     },
     "execution_count": 107,
     "metadata": {},
     "output_type": "execute_result"
    }
   ],
   "source": [
    "type(2.45)"
   ]
  },
  {
   "cell_type": "markdown",
   "id": "02771fff",
   "metadata": {
    "slideshow": {
     "slide_type": "slide"
    }
   },
   "source": [
    "### Contenedores\n",
    "\n",
    "#### Listas"
   ]
  },
  {
   "cell_type": "code",
   "execution_count": 108,
   "id": "8f2cdc28",
   "metadata": {},
   "outputs": [
    {
     "data": {
      "text/plain": [
       "[1, 2, 3, 4]"
      ]
     },
     "execution_count": 108,
     "metadata": {},
     "output_type": "execute_result"
    }
   ],
   "source": [
    "# LISTAS\n",
    "[1, 2, 3, 4]"
   ]
  },
  {
   "cell_type": "code",
   "execution_count": 109,
   "id": "a876fcb8",
   "metadata": {},
   "outputs": [],
   "source": [
    "seq = [1, 2, 3, 4]"
   ]
  },
  {
   "cell_type": "code",
   "execution_count": 110,
   "id": "7de6b0a4",
   "metadata": {},
   "outputs": [
    {
     "data": {
      "text/plain": [
       "[1, 2, 3, 4]"
      ]
     },
     "execution_count": 110,
     "metadata": {},
     "output_type": "execute_result"
    }
   ],
   "source": [
    "seq"
   ]
  },
  {
   "cell_type": "code",
   "execution_count": 111,
   "id": "0966de5f",
   "metadata": {
    "slideshow": {
     "slide_type": "slide"
    }
   },
   "outputs": [
    {
     "data": {
      "text/plain": [
       "1"
      ]
     },
     "execution_count": 111,
     "metadata": {},
     "output_type": "execute_result"
    }
   ],
   "source": [
    "# Una lista es un objeto indexado\n",
    "# Pyton es un lenguaje 0-indexed\n",
    "\n",
    "seq[0]"
   ]
  },
  {
   "cell_type": "code",
   "execution_count": 112,
   "id": "250259df",
   "metadata": {},
   "outputs": [],
   "source": [
    "# Una lista es un objeto mutable\n",
    "\n",
    "seq[1] = 9"
   ]
  },
  {
   "cell_type": "code",
   "execution_count": 113,
   "id": "068f5266",
   "metadata": {},
   "outputs": [
    {
     "data": {
      "text/plain": [
       "[1, 9, 3, 4]"
      ]
     },
     "execution_count": 113,
     "metadata": {},
     "output_type": "execute_result"
    }
   ],
   "source": [
    "seq"
   ]
  },
  {
   "cell_type": "markdown",
   "id": "14ce9db9",
   "metadata": {
    "slideshow": {
     "slide_type": "slide"
    }
   },
   "source": [
    "### Contenedores\n",
    "\n",
    "#### Tuple"
   ]
  },
  {
   "cell_type": "code",
   "execution_count": 114,
   "id": "ec1ff7ed",
   "metadata": {},
   "outputs": [
    {
     "data": {
      "text/plain": [
       "(1, 2, 3, 4)"
      ]
     },
     "execution_count": 114,
     "metadata": {},
     "output_type": "execute_result"
    }
   ],
   "source": [
    "(1, 2, 3, 4)"
   ]
  },
  {
   "cell_type": "markdown",
   "id": "bd40d12f",
   "metadata": {},
   "source": [
    "Podría decirse que las *Listas* y *Tuplas* son lo que en otros lenguajes se llama *Vectores* o *Arrays*. Sin embargo, presentan varias diferencias.  \n",
    "\n",
    "$$ list \\sim vector $$\n",
    "$$ tuple \\sim array $$"
   ]
  },
  {
   "cell_type": "markdown",
   "id": "db7782f3",
   "metadata": {
    "slideshow": {
     "slide_type": "slide"
    }
   },
   "source": [
    "Ambas son un conjunto ordenado de valores, en donde este último puede ser cualquier objeto: un número, una cadena, una función, una clase, una instancia, etc.  \n",
    "\n",
    "La diferencia es que las listas presentan una serie de funciones adicionales que permiten un amplio manejo de los valores que contienen.  \n",
    "\n",
    "Basándonos en esta definición, puede decirse que las **listas son dinámicas, mientras que las tuplas son estáticas**."
   ]
  },
  {
   "cell_type": "code",
   "execution_count": 115,
   "id": "d17f8fa8",
   "metadata": {
    "slideshow": {
     "slide_type": "slide"
    }
   },
   "outputs": [
    {
     "data": {
      "text/plain": [
       "tuple"
      ]
     },
     "execution_count": 115,
     "metadata": {},
     "output_type": "execute_result"
    }
   ],
   "source": [
    "seq = (1, 2, 3, 4)\n",
    "# Saber cual es el objeto de la variable\n",
    "type(seq)"
   ]
  },
  {
   "cell_type": "code",
   "execution_count": 116,
   "id": "012b5bca",
   "metadata": {},
   "outputs": [
    {
     "data": {
      "text/plain": [
       "2"
      ]
     },
     "execution_count": 116,
     "metadata": {},
     "output_type": "execute_result"
    }
   ],
   "source": [
    "# También son indexados\n",
    "seq[1]"
   ]
  },
  {
   "cell_type": "code",
   "execution_count": 117,
   "id": "51c870a7",
   "metadata": {},
   "outputs": [],
   "source": [
    "# No son objetos mutables, son inmutables\n",
    "# seq[1] = 9"
   ]
  },
  {
   "cell_type": "markdown",
   "id": "de10b9cd",
   "metadata": {},
   "source": [
    "### Contenedores\n",
    "\n",
    "#### Diccionarios"
   ]
  },
  {
   "cell_type": "code",
   "execution_count": 118,
   "id": "edefb8db",
   "metadata": {},
   "outputs": [],
   "source": [
    "# Está compuesto de llaves (keys) y valores (values)\n",
    "# Es equivalente a un mapeo o a un función matemática\n",
    "\n",
    "dic = {0: \"h\",\n",
    "       1: \"o\",\n",
    "       2: \"l\",\n",
    "       3: \"a\"}"
   ]
  },
  {
   "cell_type": "code",
   "execution_count": 119,
   "id": "bcb1bdf6",
   "metadata": {},
   "outputs": [
    {
     "data": {
      "text/plain": [
       "{0: 'h', 1: 'o', 2: 'l', 3: 'a'}"
      ]
     },
     "execution_count": 119,
     "metadata": {},
     "output_type": "execute_result"
    }
   ],
   "source": [
    "dic"
   ]
  },
  {
   "cell_type": "code",
   "execution_count": 120,
   "id": "d3fe2cf8",
   "metadata": {},
   "outputs": [
    {
     "data": {
      "text/plain": [
       "{0: 'h', 1: 'o', 2: 'm', 3: 'a'}"
      ]
     },
     "execution_count": 120,
     "metadata": {},
     "output_type": "execute_result"
    }
   ],
   "source": [
    "dic[2] = \"m\"\n",
    "dic"
   ]
  },
  {
   "cell_type": "code",
   "execution_count": 121,
   "id": "02bb2528",
   "metadata": {},
   "outputs": [],
   "source": [
    "# Un diccionario puede tener objetos inmutables como keys\n",
    "dic[(0, 1, 2)] = \"Z\""
   ]
  },
  {
   "cell_type": "code",
   "execution_count": 122,
   "id": "de6843ad",
   "metadata": {},
   "outputs": [
    {
     "data": {
      "text/plain": [
       "{0: 'h', 1: 'o', 2: 'm', 3: 'a', (0, 1, 2): 'Z'}"
      ]
     },
     "execution_count": 122,
     "metadata": {},
     "output_type": "execute_result"
    }
   ],
   "source": [
    "dic"
   ]
  },
  {
   "cell_type": "markdown",
   "id": "2f2c151d",
   "metadata": {},
   "source": [
    "### Contenedores\n",
    "\n",
    "#### Conjuntos (Set)"
   ]
  },
  {
   "cell_type": "code",
   "execution_count": 123,
   "id": "e31f315f",
   "metadata": {},
   "outputs": [],
   "source": [
    "conjunto = {0, 1, 2, 3, 4}"
   ]
  },
  {
   "cell_type": "code",
   "execution_count": 124,
   "id": "af3c30d8",
   "metadata": {},
   "outputs": [
    {
     "data": {
      "text/plain": [
       "{0, 2}"
      ]
     },
     "execution_count": 124,
     "metadata": {},
     "output_type": "execute_result"
    }
   ],
   "source": [
    "# El conjunto nos representa valores únicos\n",
    "conjunto1 = {0, 2, 2}\n",
    "conjunto1"
   ]
  },
  {
   "cell_type": "code",
   "execution_count": 125,
   "id": "3b90fc03",
   "metadata": {},
   "outputs": [],
   "source": [
    "# conjunto1[0] TypeError: 'set' object is not subscriptable"
   ]
  },
  {
   "cell_type": "code",
   "execution_count": 126,
   "id": "f47ed0ee",
   "metadata": {},
   "outputs": [],
   "source": [
    "conjunto2 = {2, 3}"
   ]
  },
  {
   "cell_type": "code",
   "execution_count": 127,
   "id": "55dc656e",
   "metadata": {
    "slideshow": {
     "slide_type": "slide"
    }
   },
   "outputs": [
    {
     "data": {
      "text/plain": [
       "{0}"
      ]
     },
     "execution_count": 127,
     "metadata": {},
     "output_type": "execute_result"
    }
   ],
   "source": [
    "# Operadores aritméticos para conjuntos\n",
    "\n",
    "conjunto1 - conjunto2"
   ]
  },
  {
   "cell_type": "code",
   "execution_count": 128,
   "id": "32fc0e88",
   "metadata": {},
   "outputs": [
    {
     "data": {
      "text/plain": [
       "{2}"
      ]
     },
     "execution_count": 128,
     "metadata": {},
     "output_type": "execute_result"
    }
   ],
   "source": [
    "conjunto1 & conjunto2"
   ]
  },
  {
   "cell_type": "code",
   "execution_count": 129,
   "id": "4b1a9d99",
   "metadata": {},
   "outputs": [
    {
     "data": {
      "text/plain": [
       "{0, 2, 3}"
      ]
     },
     "execution_count": 129,
     "metadata": {},
     "output_type": "execute_result"
    }
   ],
   "source": [
    "conjunto1 | conjunto2"
   ]
  },
  {
   "cell_type": "markdown",
   "id": "f655ee1e",
   "metadata": {
    "slideshow": {
     "slide_type": "slide"
    }
   },
   "source": [
    "# Funciones\n",
    "\n",
    "* Funciones integradas como `sum` o` print`\n",
    "* Funciones definidas por el usuario con declaración de palabras clave `def`"
   ]
  },
  {
   "cell_type": "code",
   "execution_count": 130,
   "id": "e7d2682a",
   "metadata": {},
   "outputs": [
    {
     "name": "stdout",
     "output_type": "stream",
     "text": [
      "Hola mundo\n"
     ]
    }
   ],
   "source": [
    "print(\"Hola mundo\")"
   ]
  },
  {
   "cell_type": "markdown",
   "id": "5f814026",
   "metadata": {},
   "source": [
    "- Python es un lenguaje indentado (sangrías). Los niveles de indentación vienen dados por un doble espacio / tabulador.\n",
    "- Las variables que definimos dentro de una función, viven sólo dentro de esa función y no podemos acceder a ellas en el ambiente global. \n",
    "- A esto llamamos el **Namespace** -> Todas las variables definidas adentro de un contexto"
   ]
  },
  {
   "cell_type": "markdown",
   "id": "b2452639",
   "metadata": {
    "slideshow": {
     "slide_type": "slide"
    }
   },
   "source": [
    "### *if* statement"
   ]
  },
  {
   "cell_type": "code",
   "execution_count": 131,
   "id": "40c28668",
   "metadata": {},
   "outputs": [
    {
     "name": "stdout",
     "output_type": "stream",
     "text": [
      "Es verdad\n"
     ]
    }
   ],
   "source": [
    "if 2 == 4 - 2: \n",
    "  print(\"Es verdad\")"
   ]
  },
  {
   "cell_type": "code",
   "execution_count": 132,
   "id": "30c05379",
   "metadata": {
    "slideshow": {
     "slide_type": "slide"
    }
   },
   "outputs": [],
   "source": [
    "def user_name_check(user_name):\n",
    "  if user_name == \"Diego\":\n",
    "    return \"Bienvenido Diego\"\n",
    "  if user_name != \"Diego\":\n",
    "    return \"No eres bienvenido desconocido\""
   ]
  },
  {
   "cell_type": "code",
   "execution_count": 133,
   "id": "c6fee5f5",
   "metadata": {},
   "outputs": [
    {
     "data": {
      "text/plain": [
       "'No eres bienvenido desconocido'"
      ]
     },
     "execution_count": 133,
     "metadata": {},
     "output_type": "execute_result"
    }
   ],
   "source": [
    "user_name_check(\"José\")"
   ]
  },
  {
   "cell_type": "markdown",
   "id": "a9f19318",
   "metadata": {
    "slideshow": {
     "slide_type": "slide"
    }
   },
   "source": [
    "### *else* statement"
   ]
  },
  {
   "cell_type": "code",
   "execution_count": 134,
   "id": "3265f204",
   "metadata": {},
   "outputs": [],
   "source": [
    "def user_name_check(user_name):\n",
    "  if user_name == \"Diego\":\n",
    "    return \"Bienvenido Diego\"\n",
    "  else:\n",
    "    return \"No eres bienvenido desconocido\""
   ]
  },
  {
   "cell_type": "code",
   "execution_count": 135,
   "id": "e5c4d206",
   "metadata": {},
   "outputs": [
    {
     "data": {
      "text/plain": [
       "'Bienvenido Diego'"
      ]
     },
     "execution_count": 135,
     "metadata": {},
     "output_type": "execute_result"
    }
   ],
   "source": [
    "user_name_check(\"Diego\")"
   ]
  },
  {
   "cell_type": "markdown",
   "id": "643d4de5",
   "metadata": {
    "slideshow": {
     "slide_type": "slide"
    }
   },
   "source": [
    "### *elif* statement = *else* + *if*"
   ]
  },
  {
   "cell_type": "markdown",
   "id": "533f044b",
   "metadata": {
    "slideshow": {
     "slide_type": "-"
    }
   },
   "source": [
    "Podemos usar declaraciones elif para controlar el orden en que queremos que nuestro programa verifique cada una de nuestras declaraciones condicionales.   \n",
    "\n",
    "Primero, se verifica la instrucción if, luego se verifica cada instrucción elif de arriba a abajo, luego, finalmente, se ejecuta el código else si no se ha cumplido ninguna de las condiciones anteriores."
   ]
  },
  {
   "cell_type": "code",
   "execution_count": 137,
   "id": "e983fc2f",
   "metadata": {},
   "outputs": [],
   "source": [
    "def convertidor_calif(calif):\n",
    "  grade = \"Reprobado\"\n",
    "  if calif >= 9.0:\n",
    "    grade = \"Excelente\"\n",
    "  elif calif >= 8.0:\n",
    "    grade = \"Muy bien\"\n",
    "  elif calif >= 7.0:\n",
    "    grade = \"Bien\"\n",
    "  elif calif >= 6.0:\n",
    "    grade = \"Ánimo\"\n",
    "  return grade"
   ]
  },
  {
   "cell_type": "code",
   "execution_count": 138,
   "id": "3e907dda",
   "metadata": {},
   "outputs": [
    {
     "data": {
      "text/plain": [
       "'Muy bien'"
      ]
     },
     "execution_count": 138,
     "metadata": {},
     "output_type": "execute_result"
    }
   ],
   "source": [
    "convertidor_calif(8.5)"
   ]
  },
  {
   "cell_type": "markdown",
   "id": "a18fb3f7",
   "metadata": {},
   "source": [
    "## Statements, functions and more\n",
    "\n",
    " * Looping: `for`, `while`\n",
    " * Conditional: `if`, `else`\n",
    " * Catching \"bugs\": `try`, `except`"
   ]
  },
  {
   "cell_type": "code",
   "execution_count": 139,
   "id": "b274f209",
   "metadata": {},
   "outputs": [
    {
     "name": "stdout",
     "output_type": "stream",
     "text": [
      "1\n",
      "2\n",
      "3\n"
     ]
    }
   ],
   "source": [
    "for x in [1, 2, 3]:\n",
    "    print(x)"
   ]
  },
  {
   "cell_type": "code",
   "execution_count": 140,
   "id": "a5b0e39d",
   "metadata": {},
   "outputs": [
    {
     "data": {
      "text/plain": [
       "range(1, 8)"
      ]
     },
     "execution_count": 140,
     "metadata": {},
     "output_type": "execute_result"
    }
   ],
   "source": [
    "# Range da un iterador de números enteros entre dos valores dados los argumentos\n",
    "# 8 excluido\n",
    "range(1, 8)"
   ]
  },
  {
   "cell_type": "code",
   "execution_count": 141,
   "id": "4ce7f7c7",
   "metadata": {},
   "outputs": [
    {
     "name": "stdout",
     "output_type": "stream",
     "text": [
      "0\n",
      "1\n",
      "2\n",
      "3\n",
      "4\n",
      "5\n",
      "6\n",
      "7\n",
      "8\n"
     ]
    }
   ],
   "source": [
    "for x in range(9):\n",
    "    print(x)"
   ]
  },
  {
   "cell_type": "code",
   "execution_count": 143,
   "id": "7e4369f1",
   "metadata": {
    "slideshow": {
     "slide_type": "slide"
    }
   },
   "outputs": [],
   "source": [
    "def ejemplo(a, b, c, o):\n",
    "    print(o)"
   ]
  },
  {
   "cell_type": "code",
   "execution_count": 144,
   "id": "0669d7ba",
   "metadata": {},
   "outputs": [
    {
     "name": "stdout",
     "output_type": "stream",
     "text": [
      "4\n",
      "1\n"
     ]
    }
   ],
   "source": [
    "# El orden importa!\n",
    "ejemplo(1, 2, 3, 4)\n",
    "ejemplo(4, 3, 2, 1)"
   ]
  },
  {
   "cell_type": "code",
   "execution_count": 145,
   "id": "6a48488e",
   "metadata": {
    "slideshow": {
     "slide_type": "slide"
    }
   },
   "outputs": [],
   "source": [
    "# Keyword arguments, siempre tiene un valor pr default\n",
    "def ejemplo(a,b, arg=6):\n",
    "    print(arg)"
   ]
  },
  {
   "cell_type": "code",
   "execution_count": 146,
   "id": "6490b9d7",
   "metadata": {},
   "outputs": [
    {
     "name": "stdout",
     "output_type": "stream",
     "text": [
      "10\n"
     ]
    }
   ],
   "source": [
    "# Los  keyword arguments siempre van después de los arguments normales\n",
    "ejemplo(9, 8, arg=10)"
   ]
  },
  {
   "cell_type": "code",
   "execution_count": 147,
   "id": "7c6137fa",
   "metadata": {
    "slideshow": {
     "slide_type": "slide"
    }
   },
   "outputs": [],
   "source": [
    "# Pasar un número indefinido de argumentos a una función\n",
    "# Con el símbolo \"*\"\n",
    "def ejemplo(*args):\n",
    "    print(args)"
   ]
  },
  {
   "cell_type": "code",
   "execution_count": 148,
   "id": "d34f3831",
   "metadata": {},
   "outputs": [
    {
     "name": "stdout",
     "output_type": "stream",
     "text": [
      "(1, 2, 3, 4, 5, 6, 7)\n"
     ]
    }
   ],
   "source": [
    "ejemplo(1, 2, 3, 4, 5, 6, 7)"
   ]
  },
  {
   "cell_type": "markdown",
   "id": "5e8e1b2e",
   "metadata": {
    "slideshow": {
     "slide_type": "slide"
    }
   },
   "source": [
    "Tenga en cuenta que las declaraciones if, elif y else no son la única forma de crear un flujo de control en su programa. Puede utilizar las declaraciones try y except para comprobar los posibles errores que pueda encontrar un usuario."
   ]
  },
  {
   "cell_type": "code",
   "execution_count": null,
   "id": "d97a0181",
   "metadata": {},
   "outputs": [],
   "source": []
  }
 ],
 "metadata": {
  "celltoolbar": "Slideshow",
  "kernelspec": {
   "display_name": "Python 3",
   "language": "python",
   "name": "python3"
  },
  "language_info": {
   "codemirror_mode": {
    "name": "ipython",
    "version": 3
   },
   "file_extension": ".py",
   "mimetype": "text/x-python",
   "name": "python",
   "nbconvert_exporter": "python",
   "pygments_lexer": "ipython3",
   "version": "3.8.8"
  }
 },
 "nbformat": 4,
 "nbformat_minor": 5
}
