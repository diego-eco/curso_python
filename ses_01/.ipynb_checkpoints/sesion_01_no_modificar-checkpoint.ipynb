{
 "cells": [
  {
   "cell_type": "markdown",
   "id": "b11ba212",
   "metadata": {
    "slideshow": {
     "slide_type": "slide"
    }
   },
   "source": [
    "# Python para economistas\n",
    "\n",
    "### Mtro. Diego López Tamayo\n",
    "#### El Colegio de México\n",
    "#### BBVA Research"
   ]
  },
  {
   "cell_type": "markdown",
   "id": "0c225d70",
   "metadata": {
    "slideshow": {
     "slide_type": "slide"
    }
   },
   "source": [
    "# Sesión 1. Bienvenidos\n",
    "\n",
    "\n",
    "- Instalación y configuración de Python, Anaconda & VS Code\n",
    "- Configurar Anaconda y un ambiente básico.\n",
    "- Creación de entornos y versiones de Python.\n",
    "- Presentación Jupyter notebooks & Scripts interactivos.\n",
    "- Ambientes alternativos: [Goolge Colab](https://www.google.com/url?sa=t&rct=j&q=&esrc=s&source=web&cd=&cad=rja&uact=8&ved=2ahUKEwimovz3rrLzAhVvlWoFHUiwB0kQFnoECAwQAQ&url=https%3A%2F%2Fresearch.google.com%2Fcolaboratory%2F&usg=AOvVaw38J01zt_Dlb6pQ1fe6FGrI) y [Kaggle](https://www.google.com/url?sa=t&rct=j&q=&esrc=s&source=web&cd=&cad=rja&uact=8&ved=2ahUKEwiggdyDr7LzAhXim2oFHTAOA6QQFnoECA0QAQ&url=https%3A%2F%2Fwww.kaggle.com%2F&usg=AOvVaw358aJVdRF5ENauJCrosrX1)\n",
    "- Tipos de datos y variables\n",
    "- Strings, number, double, lógicas\n",
    "- Operadores lógicos >,<, ==, !=\n",
    "- Funciones base y estructuras básicas (listas, tuplas, conjuntos)\n",
    "- Crear una lista y operaciones con conjuntos\n"
   ]
  },
  {
   "cell_type": "markdown",
   "id": "0bf9fd3d",
   "metadata": {
    "slideshow": {
     "slide_type": "slide"
    }
   },
   "source": [
    "# 4 ingredientes para programar en Python\n",
    "\n",
    "1. Operators (Operadores)\n",
    "2. Objects (Objetos)\n",
    "3. Functions (Funciones)\n",
    "4. Statements (Declaraciones)"
   ]
  },
  {
   "cell_type": "markdown",
   "id": "8f8a4be0",
   "metadata": {
    "slideshow": {
     "slide_type": "slide"
    }
   },
   "source": [
    "## Operadores\n",
    "\n",
    " * Aritméticos: `-, +, /, *`\n",
    " * Comparación: `<`, `==`, `>=`\n",
    " * Boolean: `and`, `or`, `not`"
   ]
  },
  {
   "cell_type": "markdown",
   "id": "a9810a48",
   "metadata": {
    "slideshow": {
     "slide_type": "slide"
    }
   },
   "source": [
    " ## Aritméticos"
   ]
  },
  {
   "cell_type": "code",
   "execution_count": 25,
   "id": "032a20b5",
   "metadata": {},
   "outputs": [
    {
     "data": {
      "text/plain": [
       "9"
      ]
     },
     "execution_count": 25,
     "metadata": {},
     "output_type": "execute_result"
    }
   ],
   "source": [
    "4 + 5"
   ]
  },
  {
   "cell_type": "code",
   "execution_count": 26,
   "id": "9acfbb09",
   "metadata": {},
   "outputs": [
    {
     "data": {
      "text/plain": [
       "1.5"
      ]
     },
     "execution_count": 26,
     "metadata": {},
     "output_type": "execute_result"
    }
   ],
   "source": [
    "3 / 2"
   ]
  },
  {
   "cell_type": "code",
   "execution_count": 27,
   "id": "d26de90d",
   "metadata": {},
   "outputs": [
    {
     "data": {
      "text/plain": [
       "18"
      ]
     },
     "execution_count": 27,
     "metadata": {},
     "output_type": "execute_result"
    }
   ],
   "source": [
    "9 * 2"
   ]
  },
  {
   "cell_type": "code",
   "execution_count": 28,
   "id": "8d2e46e6",
   "metadata": {},
   "outputs": [
    {
     "data": {
      "text/plain": [
       "8"
      ]
     },
     "execution_count": 28,
     "metadata": {},
     "output_type": "execute_result"
    }
   ],
   "source": [
    "2 ** 3"
   ]
  },
  {
   "cell_type": "markdown",
   "id": "1587bdb2",
   "metadata": {
    "slideshow": {
     "slide_type": "slide"
    }
   },
   "source": [
    " ## Comparación"
   ]
  },
  {
   "cell_type": "code",
   "execution_count": 29,
   "id": "95a1b1b0",
   "metadata": {},
   "outputs": [
    {
     "data": {
      "text/plain": [
       "True"
      ]
     },
     "execution_count": 29,
     "metadata": {},
     "output_type": "execute_result"
    }
   ],
   "source": [
    "3 < 4"
   ]
  },
  {
   "cell_type": "code",
   "execution_count": 30,
   "id": "7774f3e6",
   "metadata": {},
   "outputs": [
    {
     "data": {
      "text/plain": [
       "True"
      ]
     },
     "execution_count": 30,
     "metadata": {},
     "output_type": "execute_result"
    }
   ],
   "source": [
    "3 <= 3"
   ]
  },
  {
   "cell_type": "code",
   "execution_count": 31,
   "id": "37a7189b",
   "metadata": {},
   "outputs": [
    {
     "data": {
      "text/plain": [
       "True"
      ]
     },
     "execution_count": 31,
     "metadata": {},
     "output_type": "execute_result"
    }
   ],
   "source": [
    "4 == 2 * 2"
   ]
  },
  {
   "cell_type": "markdown",
   "id": "bd6f7c7a",
   "metadata": {
    "slideshow": {
     "slide_type": "slide"
    }
   },
   "source": [
    "### Operadores booleanos"
   ]
  },
  {
   "cell_type": "code",
   "execution_count": 32,
   "id": "b8758d61",
   "metadata": {},
   "outputs": [
    {
     "data": {
      "text/plain": [
       "False"
      ]
     },
     "execution_count": 32,
     "metadata": {},
     "output_type": "execute_result"
    }
   ],
   "source": [
    "3 < 2 and 4 > 2"
   ]
  },
  {
   "cell_type": "code",
   "execution_count": 33,
   "id": "0edc70fe",
   "metadata": {},
   "outputs": [
    {
     "data": {
      "text/plain": [
       "True"
      ]
     },
     "execution_count": 33,
     "metadata": {},
     "output_type": "execute_result"
    }
   ],
   "source": [
    "5 == 10 / 2 or 5 == 3"
   ]
  },
  {
   "cell_type": "code",
   "execution_count": 34,
   "id": "118cae9f",
   "metadata": {},
   "outputs": [
    {
     "data": {
      "text/plain": [
       "True"
      ]
     },
     "execution_count": 34,
     "metadata": {},
     "output_type": "execute_result"
    }
   ],
   "source": [
    "(8 == 8 and 4 == 2 * 2) or (7 < 4)"
   ]
  },
  {
   "cell_type": "code",
   "execution_count": 35,
   "id": "d9007ae1",
   "metadata": {},
   "outputs": [
    {
     "data": {
      "text/plain": [
       "False"
      ]
     },
     "execution_count": 35,
     "metadata": {},
     "output_type": "execute_result"
    }
   ],
   "source": [
    "2 == 3 or 3 > 8 or 3 == 9"
   ]
  },
  {
   "cell_type": "markdown",
   "id": "fcdce6c1",
   "metadata": {
    "slideshow": {
     "slide_type": "slide"
    }
   },
   "source": [
    "## Objetos y variables\n",
    "\n",
    "\n",
    "En Python, un `tipo` es otra palabra para objeto.\n",
    "\n",
    "Una **variable** es el nombre asignado a un objeto.\n",
    "\n",
    "\n",
    "1. Tipos de datos: `int, float, str`\n",
    "2. Tipo de contenedores: `list, tuple, dict, set`"
   ]
  },
  {
   "cell_type": "code",
   "execution_count": 36,
   "id": "16a931bb",
   "metadata": {
    "slideshow": {
     "slide_type": "slide"
    }
   },
   "outputs": [
    {
     "data": {
      "text/plain": [
       "int"
      ]
     },
     "execution_count": 36,
     "metadata": {},
     "output_type": "execute_result"
    }
   ],
   "source": [
    "type(2)"
   ]
  },
  {
   "cell_type": "code",
   "execution_count": 37,
   "id": "00e66080",
   "metadata": {},
   "outputs": [
    {
     "data": {
      "text/plain": [
       "str"
      ]
     },
     "execution_count": 37,
     "metadata": {},
     "output_type": "execute_result"
    }
   ],
   "source": [
    "type(\"2\")"
   ]
  },
  {
   "cell_type": "code",
   "execution_count": 38,
   "id": "8e3d4619",
   "metadata": {},
   "outputs": [
    {
     "data": {
      "text/plain": [
       "float"
      ]
     },
     "execution_count": 38,
     "metadata": {},
     "output_type": "execute_result"
    }
   ],
   "source": [
    "type(2.45)"
   ]
  },
  {
   "cell_type": "markdown",
   "id": "38f253e6",
   "metadata": {
    "slideshow": {
     "slide_type": "slide"
    }
   },
   "source": [
    "### Contenedores\n",
    "\n",
    "#### Listas"
   ]
  },
  {
   "cell_type": "code",
   "execution_count": 39,
   "id": "3e031cc7",
   "metadata": {},
   "outputs": [
    {
     "data": {
      "text/plain": [
       "[1, 2, 3, 4]"
      ]
     },
     "execution_count": 39,
     "metadata": {},
     "output_type": "execute_result"
    }
   ],
   "source": [
    "# LISTAS\n",
    "[1, 2, 3, 4]"
   ]
  },
  {
   "cell_type": "code",
   "execution_count": 40,
   "id": "84937324",
   "metadata": {},
   "outputs": [],
   "source": [
    "seq = [1, 2, 3, 4]"
   ]
  },
  {
   "cell_type": "code",
   "execution_count": 41,
   "id": "62d132ee",
   "metadata": {},
   "outputs": [
    {
     "data": {
      "text/plain": [
       "[1, 2, 3, 4]"
      ]
     },
     "execution_count": 41,
     "metadata": {},
     "output_type": "execute_result"
    }
   ],
   "source": [
    "seq"
   ]
  },
  {
   "cell_type": "code",
   "execution_count": 42,
   "id": "806e5ac5",
   "metadata": {
    "slideshow": {
     "slide_type": "slide"
    }
   },
   "outputs": [
    {
     "data": {
      "text/plain": [
       "1"
      ]
     },
     "execution_count": 42,
     "metadata": {},
     "output_type": "execute_result"
    }
   ],
   "source": [
    "# Una lista es un objeto indexado\n",
    "# Pyton es un lenguaje 0-indexed\n",
    "\n",
    "seq[0]"
   ]
  },
  {
   "cell_type": "code",
   "execution_count": 43,
   "id": "cb075055",
   "metadata": {},
   "outputs": [],
   "source": [
    "# Una lista es un objeto mutable\n",
    "\n",
    "seq[1] = 9"
   ]
  },
  {
   "cell_type": "code",
   "execution_count": 44,
   "id": "c7766525",
   "metadata": {},
   "outputs": [
    {
     "data": {
      "text/plain": [
       "[1, 9, 3, 4]"
      ]
     },
     "execution_count": 44,
     "metadata": {},
     "output_type": "execute_result"
    }
   ],
   "source": [
    "seq"
   ]
  },
  {
   "cell_type": "markdown",
   "id": "48a1d816",
   "metadata": {
    "slideshow": {
     "slide_type": "slide"
    }
   },
   "source": [
    "### Contenedores\n",
    "\n",
    "#### Tuple"
   ]
  },
  {
   "cell_type": "code",
   "execution_count": 46,
   "id": "4818b45e",
   "metadata": {},
   "outputs": [
    {
     "data": {
      "text/plain": [
       "(1, 2, 3, 4)"
      ]
     },
     "execution_count": 46,
     "metadata": {},
     "output_type": "execute_result"
    }
   ],
   "source": [
    "(1, 2, 3, 4)"
   ]
  },
  {
   "cell_type": "markdown",
   "id": "96e672af",
   "metadata": {},
   "source": [
    "Podría decirse que las *Listas* y *Tuplas* son lo que en otros lenguajes se llama *Vectores* o *Arrays*. Sin embargo, presentan varias diferencias.  \n",
    "\n",
    "$$ list \\sim vector $$\n",
    "$$ tuple \\sim array $$"
   ]
  },
  {
   "cell_type": "markdown",
   "id": "002d7a7b",
   "metadata": {
    "slideshow": {
     "slide_type": "slide"
    }
   },
   "source": [
    "Ambas son un conjunto ordenado de valores, en donde este último puede ser cualquier objeto: un número, una cadena, una función, una clase, una instancia, etc.  \n",
    "\n",
    "La diferencia es que las listas presentan una serie de funciones adicionales que permiten un amplio manejo de los valores que contienen.  \n",
    "\n",
    "Basándonos en esta definición, puede decirse que las **listas son dinámicas, mientras que las tuplas son estáticas**."
   ]
  },
  {
   "cell_type": "code",
   "execution_count": 47,
   "id": "bf0fb1c4",
   "metadata": {
    "slideshow": {
     "slide_type": "slide"
    }
   },
   "outputs": [
    {
     "data": {
      "text/plain": [
       "tuple"
      ]
     },
     "execution_count": 47,
     "metadata": {},
     "output_type": "execute_result"
    }
   ],
   "source": [
    "seq = (1, 2, 3, 4)\n",
    "# Saber cual es el objeto de la variable\n",
    "type(seq)"
   ]
  },
  {
   "cell_type": "code",
   "execution_count": 48,
   "id": "0b88a7f0",
   "metadata": {},
   "outputs": [
    {
     "data": {
      "text/plain": [
       "2"
      ]
     },
     "execution_count": 48,
     "metadata": {},
     "output_type": "execute_result"
    }
   ],
   "source": [
    "# También son indexados\n",
    "seq[1]"
   ]
  },
  {
   "cell_type": "code",
   "execution_count": null,
   "id": "3d5a06b9",
   "metadata": {},
   "outputs": [],
   "source": [
    "# No son objetos mutables, son inmutables\n",
    "# seq[1] = 9"
   ]
  },
  {
   "cell_type": "markdown",
   "id": "85481240",
   "metadata": {},
   "source": [
    "### Contenedores\n",
    "\n",
    "#### Diccionarios"
   ]
  },
  {
   "cell_type": "code",
   "execution_count": 50,
   "id": "7e3e4f01",
   "metadata": {},
   "outputs": [],
   "source": [
    "# Está compuesto de llaves (keys) y valores (values)\n",
    "# Es equivalente a un mapeo o a un función matemática\n",
    "\n",
    "dic = {0: \"h\",\n",
    "       1: \"o\",\n",
    "       2: \"l\",\n",
    "       3: \"a\"}"
   ]
  },
  {
   "cell_type": "code",
   "execution_count": 52,
   "id": "9f4d7306",
   "metadata": {},
   "outputs": [
    {
     "data": {
      "text/plain": [
       "{0: 'h', 1: 'o', 2: 'l', 3: 'a'}"
      ]
     },
     "execution_count": 52,
     "metadata": {},
     "output_type": "execute_result"
    }
   ],
   "source": [
    "dic"
   ]
  },
  {
   "cell_type": "code",
   "execution_count": 53,
   "id": "5bcdff49",
   "metadata": {},
   "outputs": [
    {
     "data": {
      "text/plain": [
       "{0: 'h', 1: 'o', 2: 'm', 3: 'a'}"
      ]
     },
     "execution_count": 53,
     "metadata": {},
     "output_type": "execute_result"
    }
   ],
   "source": [
    "dic[2] = \"m\"\n",
    "dic"
   ]
  },
  {
   "cell_type": "code",
   "execution_count": 54,
   "id": "0a2fb58f",
   "metadata": {},
   "outputs": [],
   "source": [
    "# Un diccionario puede tener objetos inmutables como keys\n",
    "dic[(0, 1, 2)] = \"Z\""
   ]
  },
  {
   "cell_type": "code",
   "execution_count": 55,
   "id": "9160ea25",
   "metadata": {},
   "outputs": [
    {
     "data": {
      "text/plain": [
       "{0: 'h', 1: 'o', 2: 'm', 3: 'a', (0, 1, 2): 'j'}"
      ]
     },
     "execution_count": 55,
     "metadata": {},
     "output_type": "execute_result"
    }
   ],
   "source": [
    "dic"
   ]
  },
  {
   "cell_type": "markdown",
   "id": "2c08101e",
   "metadata": {},
   "source": [
    "### Contenedores\n",
    "\n",
    "#### Conjuntos (Set)"
   ]
  },
  {
   "cell_type": "code",
   "execution_count": 56,
   "id": "09d8060a",
   "metadata": {},
   "outputs": [],
   "source": [
    "conjunto = {0, 1, 2, 3, 4}"
   ]
  },
  {
   "cell_type": "code",
   "execution_count": 68,
   "id": "105ee4c5",
   "metadata": {},
   "outputs": [
    {
     "data": {
      "text/plain": [
       "{0, 2}"
      ]
     },
     "execution_count": 68,
     "metadata": {},
     "output_type": "execute_result"
    }
   ],
   "source": [
    "# El conjunto nos representa valores únicos\n",
    "conjunto1 = {0, 2, 2}\n",
    "conjunto1"
   ]
  },
  {
   "cell_type": "code",
   "execution_count": 69,
   "id": "f1fe1ace",
   "metadata": {},
   "outputs": [],
   "source": [
    "# conjunto1[0] TypeError: 'set' object is not subscriptable"
   ]
  },
  {
   "cell_type": "code",
   "execution_count": 70,
   "id": "f34168d6",
   "metadata": {},
   "outputs": [],
   "source": [
    "conjunto2 = {2, 3}"
   ]
  },
  {
   "cell_type": "code",
   "execution_count": 71,
   "id": "621ef3f6",
   "metadata": {
    "slideshow": {
     "slide_type": "slide"
    }
   },
   "outputs": [
    {
     "data": {
      "text/plain": [
       "{0}"
      ]
     },
     "execution_count": 71,
     "metadata": {},
     "output_type": "execute_result"
    }
   ],
   "source": [
    "# Operadores aritméticos para conjuntos\n",
    "\n",
    "conjunto1 - conjunto2"
   ]
  },
  {
   "cell_type": "code",
   "execution_count": 72,
   "id": "a47363b3",
   "metadata": {},
   "outputs": [
    {
     "data": {
      "text/plain": [
       "{2}"
      ]
     },
     "execution_count": 72,
     "metadata": {},
     "output_type": "execute_result"
    }
   ],
   "source": [
    "conjunto1 & conjunto2"
   ]
  },
  {
   "cell_type": "code",
   "execution_count": 73,
   "id": "d06958e5",
   "metadata": {},
   "outputs": [
    {
     "data": {
      "text/plain": [
       "{0, 2, 3}"
      ]
     },
     "execution_count": 73,
     "metadata": {},
     "output_type": "execute_result"
    }
   ],
   "source": [
    "conjunto1 | conjunto2"
   ]
  },
  {
   "cell_type": "markdown",
   "id": "3309b1a4",
   "metadata": {
    "slideshow": {
     "slide_type": "slide"
    }
   },
   "source": [
    "# Funciones\n",
    "\n",
    "* Funciones integradas como `sum` o` print`\n",
    "* Funciones definidas por el usuario con declaración de palabras clave `def`"
   ]
  },
  {
   "cell_type": "code",
   "execution_count": 74,
   "id": "cd6f1fd0",
   "metadata": {},
   "outputs": [
    {
     "name": "stdout",
     "output_type": "stream",
     "text": [
      "Hola mundo\n"
     ]
    }
   ],
   "source": [
    "print(\"Hola mundo\")"
   ]
  },
  {
   "cell_type": "markdown",
   "id": "b80924e0",
   "metadata": {},
   "source": [
    "- Python es un lenguaje indentado (sangrías). Los niveles de indentación vienen dados por un doble espacio / tabulador.\n",
    "- Las variables que definimos dentro de una función, viven sólo dentro de esa función y no podemos acceder a ellas en el ambiente global. \n",
    "- A esto llamamos el **Namespace** -> Todas las variables definidas adentro de un contexto"
   ]
  },
  {
   "cell_type": "markdown",
   "id": "dadc40d7",
   "metadata": {
    "slideshow": {
     "slide_type": "slide"
    }
   },
   "source": [
    "### *if* statement"
   ]
  },
  {
   "cell_type": "code",
   "execution_count": 77,
   "id": "e861e863",
   "metadata": {},
   "outputs": [
    {
     "name": "stdout",
     "output_type": "stream",
     "text": [
      "Es verdad\n"
     ]
    }
   ],
   "source": [
    "if 2 == 4 - 2: \n",
    "  print(\"Es verdad\")"
   ]
  },
  {
   "cell_type": "code",
   "execution_count": 79,
   "id": "d0c4ecb0",
   "metadata": {
    "slideshow": {
     "slide_type": "slide"
    }
   },
   "outputs": [],
   "source": [
    "def user_name_check(user_name):\n",
    "  if user_name == \"Diego\":\n",
    "    return \"Bienvenido Diego\"\n",
    "  if user_name != \"Diego\":\n",
    "    return \"No eres bienvenido desconocido\""
   ]
  },
  {
   "cell_type": "code",
   "execution_count": 81,
   "id": "f6546e01",
   "metadata": {},
   "outputs": [
    {
     "data": {
      "text/plain": [
       "'No eres bienvenido desconocido'"
      ]
     },
     "execution_count": 81,
     "metadata": {},
     "output_type": "execute_result"
    }
   ],
   "source": [
    "user_name_check(\"José\")"
   ]
  },
  {
   "cell_type": "markdown",
   "id": "d0e56ec1",
   "metadata": {
    "slideshow": {
     "slide_type": "slide"
    }
   },
   "source": [
    "### *else* statement"
   ]
  },
  {
   "cell_type": "code",
   "execution_count": 85,
   "id": "54c79274",
   "metadata": {},
   "outputs": [],
   "source": [
    "def user_name_check(user_name):\n",
    "  if user_name == \"Diego\":\n",
    "    return \"Bienvenido Diego\"\n",
    "  else:\n",
    "    return \"No eres bienvenido desconocido\""
   ]
  },
  {
   "cell_type": "code",
   "execution_count": 86,
   "id": "1bd6f314",
   "metadata": {},
   "outputs": [
    {
     "data": {
      "text/plain": [
       "'Bienvenido Diego'"
      ]
     },
     "execution_count": 86,
     "metadata": {},
     "output_type": "execute_result"
    }
   ],
   "source": [
    "user_name_check(\"Diego\")"
   ]
  },
  {
   "cell_type": "markdown",
   "id": "f5cc10cc",
   "metadata": {
    "slideshow": {
     "slide_type": "slide"
    }
   },
   "source": [
    "### *elif* statement = *else* + *if*"
   ]
  },
  {
   "cell_type": "markdown",
   "id": "23758e59",
   "metadata": {
    "slideshow": {
     "slide_type": "-"
    }
   },
   "source": [
    "Podemos usar declaraciones elif para controlar el orden en que queremos que nuestro programa verifique cada una de nuestras declaraciones condicionales.   \n",
    "\n",
    "Primero, se verifica la instrucción if, luego se verifica cada instrucción elif de arriba a abajo, luego, finalmente, se ejecuta el código else si no se ha cumplido ninguna de las condiciones anteriores."
   ]
  },
  {
   "cell_type": "code",
   "execution_count": null,
   "id": "967a72a1",
   "metadata": {},
   "outputs": [],
   "source": [
    "def grade_converter(gpa):\n",
    "  grade = \"F\"\n",
    "\n",
    "  if gpa >= 4.0:\n",
    "    grade = \"A\"\n",
    "  elif gpa >= 3.0:\n",
    "    grade = \"B\"\n",
    "  elif gpa >= 2.0:\n",
    "    grade = \"C\"\n",
    "  elif gpa >= 1.0:\n",
    "    grade = \"D\"\n",
    "  return grade\n",
    "  \n",
    "print(grade_converter(3))"
   ]
  }
 ],
 "metadata": {
  "celltoolbar": "Slideshow",
  "kernelspec": {
   "display_name": "Python 3",
   "language": "python",
   "name": "python3"
  },
  "language_info": {
   "codemirror_mode": {
    "name": "ipython",
    "version": 3
   },
   "file_extension": ".py",
   "mimetype": "text/x-python",
   "name": "python",
   "nbconvert_exporter": "python",
   "pygments_lexer": "ipython3",
   "version": "3.8.8"
  }
 },
 "nbformat": 4,
 "nbformat_minor": 5
}
