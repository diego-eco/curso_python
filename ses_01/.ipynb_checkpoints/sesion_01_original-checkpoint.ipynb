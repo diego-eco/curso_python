{
 "cells": [
  {
   "cell_type": "markdown",
   "id": "1e53b63d",
   "metadata": {
    "slideshow": {
     "slide_type": "slide"
    }
   },
   "source": [
    "# Python para economistas\n",
    "\n",
    "### Mtro. Diego López Tamayo\n",
    "#### El Colegio de México\n",
    "#### BBVA Research"
   ]
  },
  {
   "cell_type": "markdown",
   "id": "61c8a027",
   "metadata": {
    "slideshow": {
     "slide_type": "slide"
    }
   },
   "source": [
    "# Sesión 1. Bienvenidos\n",
    "\n",
    "\n",
    "- Instalación y configuración de Python, Anaconda & VS Code\n",
    "- Configurar Anaconda y un ambiente básico.\n",
    "- Creación de entornos y versiones de Python.\n",
    "- Presentación Jupyter notebooks & Scripts interactivos.\n",
    "- Ambientes alternativos: [Goolge Colab](https://www.google.com/url?sa=t&rct=j&q=&esrc=s&source=web&cd=&cad=rja&uact=8&ved=2ahUKEwimovz3rrLzAhVvlWoFHUiwB0kQFnoECAwQAQ&url=https%3A%2F%2Fresearch.google.com%2Fcolaboratory%2F&usg=AOvVaw38J01zt_Dlb6pQ1fe6FGrI) y [Kaggle](https://www.google.com/url?sa=t&rct=j&q=&esrc=s&source=web&cd=&cad=rja&uact=8&ved=2ahUKEwiggdyDr7LzAhXim2oFHTAOA6QQFnoECA0QAQ&url=https%3A%2F%2Fwww.kaggle.com%2F&usg=AOvVaw358aJVdRF5ENauJCrosrX1)\n",
    "- Tipos de datos y variables\n",
    "- Strings, number, double, lógicas\n",
    "- Operadores lógicos >,<, ==, !=\n",
    "- Funciones base y estructuras básicas (listas, tuplas, conjuntos)\n",
    "- Crear una lista y operaciones con conjuntos\n"
   ]
  },
  {
   "cell_type": "markdown",
   "id": "cd4ef2df",
   "metadata": {
    "slideshow": {
     "slide_type": "slide"
    }
   },
   "source": [
    "# 4 ingredientes para programar en Python\n",
    "\n",
    "1. Operators (Operadores)\n",
    "2. Objects (Objetos)\n",
    "3. Functions (Funciones)\n",
    "4. Statements (Declaraciones)"
   ]
  },
  {
   "cell_type": "markdown",
   "id": "6daf7a9b",
   "metadata": {
    "slideshow": {
     "slide_type": "slide"
    }
   },
   "source": [
    "## Operadores\n",
    "\n",
    " * Aritméticos: `-, +, /, *`\n",
    " * Comparación: `<`, `==`, `>=`\n",
    " * Boolean: `and`, `or`, `not`"
   ]
  },
  {
   "cell_type": "markdown",
   "id": "fc2e1f06",
   "metadata": {
    "slideshow": {
     "slide_type": "slide"
    }
   },
   "source": [
    " ## Aritméticos"
   ]
  },
  {
   "cell_type": "code",
   "execution_count": 1,
   "id": "21cecc99",
   "metadata": {},
   "outputs": [
    {
     "data": {
      "text/plain": [
       "9"
      ]
     },
     "execution_count": 1,
     "metadata": {},
     "output_type": "execute_result"
    }
   ],
   "source": [
    "4 + 5"
   ]
  },
  {
   "cell_type": "code",
   "execution_count": 2,
   "id": "d1d439c9",
   "metadata": {},
   "outputs": [
    {
     "data": {
      "text/plain": [
       "1.5"
      ]
     },
     "execution_count": 2,
     "metadata": {},
     "output_type": "execute_result"
    }
   ],
   "source": [
    "3 / 2"
   ]
  },
  {
   "cell_type": "code",
   "execution_count": 3,
   "id": "9d1e3007",
   "metadata": {},
   "outputs": [
    {
     "data": {
      "text/plain": [
       "18"
      ]
     },
     "execution_count": 3,
     "metadata": {},
     "output_type": "execute_result"
    }
   ],
   "source": [
    "9 * 2"
   ]
  },
  {
   "cell_type": "code",
   "execution_count": 4,
   "id": "73fe8a65",
   "metadata": {},
   "outputs": [
    {
     "data": {
      "text/plain": [
       "8"
      ]
     },
     "execution_count": 4,
     "metadata": {},
     "output_type": "execute_result"
    }
   ],
   "source": [
    "2 ** 3"
   ]
  },
  {
   "cell_type": "markdown",
   "id": "4632dbe3",
   "metadata": {
    "slideshow": {
     "slide_type": "slide"
    }
   },
   "source": [
    " ## Comparación"
   ]
  },
  {
   "cell_type": "code",
   "execution_count": 5,
   "id": "42e01ae4",
   "metadata": {},
   "outputs": [
    {
     "data": {
      "text/plain": [
       "True"
      ]
     },
     "execution_count": 5,
     "metadata": {},
     "output_type": "execute_result"
    }
   ],
   "source": [
    "3 < 4"
   ]
  },
  {
   "cell_type": "code",
   "execution_count": 6,
   "id": "caa398c9",
   "metadata": {},
   "outputs": [
    {
     "data": {
      "text/plain": [
       "True"
      ]
     },
     "execution_count": 6,
     "metadata": {},
     "output_type": "execute_result"
    }
   ],
   "source": [
    "3 <= 3"
   ]
  },
  {
   "cell_type": "code",
   "execution_count": 7,
   "id": "be45cc18",
   "metadata": {},
   "outputs": [
    {
     "data": {
      "text/plain": [
       "True"
      ]
     },
     "execution_count": 7,
     "metadata": {},
     "output_type": "execute_result"
    }
   ],
   "source": [
    "4 == 2 * 2"
   ]
  },
  {
   "cell_type": "markdown",
   "id": "cc98d17d",
   "metadata": {
    "slideshow": {
     "slide_type": "slide"
    }
   },
   "source": [
    "### Operadores booleanos"
   ]
  },
  {
   "cell_type": "code",
   "execution_count": 8,
   "id": "63ef121f",
   "metadata": {},
   "outputs": [
    {
     "data": {
      "text/plain": [
       "False"
      ]
     },
     "execution_count": 8,
     "metadata": {},
     "output_type": "execute_result"
    }
   ],
   "source": [
    "3 < 2 and 4 > 2"
   ]
  },
  {
   "cell_type": "code",
   "execution_count": 9,
   "id": "fff4397d",
   "metadata": {},
   "outputs": [
    {
     "data": {
      "text/plain": [
       "True"
      ]
     },
     "execution_count": 9,
     "metadata": {},
     "output_type": "execute_result"
    }
   ],
   "source": [
    "5 == 10 / 2 or 5 == 3"
   ]
  },
  {
   "cell_type": "code",
   "execution_count": 10,
   "id": "b6168fda",
   "metadata": {},
   "outputs": [
    {
     "data": {
      "text/plain": [
       "True"
      ]
     },
     "execution_count": 10,
     "metadata": {},
     "output_type": "execute_result"
    }
   ],
   "source": [
    "(8 == 8 and 4 == 2 * 2) or (7 < 4)"
   ]
  },
  {
   "cell_type": "code",
   "execution_count": 11,
   "id": "6a84eb19",
   "metadata": {},
   "outputs": [
    {
     "data": {
      "text/plain": [
       "False"
      ]
     },
     "execution_count": 11,
     "metadata": {},
     "output_type": "execute_result"
    }
   ],
   "source": [
    "2 == 3 or 3 > 8 or 3 == 9"
   ]
  },
  {
   "cell_type": "markdown",
   "id": "92a452f0",
   "metadata": {
    "slideshow": {
     "slide_type": "slide"
    }
   },
   "source": [
    "## Objetos y variables\n",
    "\n",
    "\n",
    "En Python, un `tipo` es otra palabra para objeto.\n",
    "\n",
    "Una **variable** es el nombre asignado a un objeto.\n",
    "\n",
    "\n",
    "1. Tipos de datos: `int, float, str`\n",
    "2. Tipo de contenedores: `list, tuple, dict, set`"
   ]
  },
  {
   "cell_type": "code",
   "execution_count": 12,
   "id": "83848c9f",
   "metadata": {
    "slideshow": {
     "slide_type": "slide"
    }
   },
   "outputs": [
    {
     "data": {
      "text/plain": [
       "int"
      ]
     },
     "execution_count": 12,
     "metadata": {},
     "output_type": "execute_result"
    }
   ],
   "source": [
    "type(2)"
   ]
  },
  {
   "cell_type": "code",
   "execution_count": 13,
   "id": "97c6d649",
   "metadata": {},
   "outputs": [
    {
     "data": {
      "text/plain": [
       "str"
      ]
     },
     "execution_count": 13,
     "metadata": {},
     "output_type": "execute_result"
    }
   ],
   "source": [
    "type(\"2\")"
   ]
  },
  {
   "cell_type": "code",
   "execution_count": 14,
   "id": "d3c4f42d",
   "metadata": {},
   "outputs": [
    {
     "data": {
      "text/plain": [
       "float"
      ]
     },
     "execution_count": 14,
     "metadata": {},
     "output_type": "execute_result"
    }
   ],
   "source": [
    "type(2.45)"
   ]
  },
  {
   "cell_type": "markdown",
   "id": "02771fff",
   "metadata": {
    "slideshow": {
     "slide_type": "slide"
    }
   },
   "source": [
    "### Contenedores\n",
    "\n",
    "#### Listas"
   ]
  },
  {
   "cell_type": "code",
   "execution_count": 15,
   "id": "8f2cdc28",
   "metadata": {},
   "outputs": [
    {
     "data": {
      "text/plain": [
       "[1, 2, 3, 4]"
      ]
     },
     "execution_count": 15,
     "metadata": {},
     "output_type": "execute_result"
    }
   ],
   "source": [
    "# LISTAS\n",
    "[1, 2, 3, 4]"
   ]
  },
  {
   "cell_type": "code",
   "execution_count": 16,
   "id": "a876fcb8",
   "metadata": {},
   "outputs": [],
   "source": [
    "seq = [1, 2, 3, 4]"
   ]
  },
  {
   "cell_type": "code",
   "execution_count": 17,
   "id": "7de6b0a4",
   "metadata": {},
   "outputs": [
    {
     "data": {
      "text/plain": [
       "[1, 2, 3, 4]"
      ]
     },
     "execution_count": 17,
     "metadata": {},
     "output_type": "execute_result"
    }
   ],
   "source": [
    "seq"
   ]
  },
  {
   "cell_type": "code",
   "execution_count": 18,
   "id": "0966de5f",
   "metadata": {
    "slideshow": {
     "slide_type": "slide"
    }
   },
   "outputs": [
    {
     "data": {
      "text/plain": [
       "1"
      ]
     },
     "execution_count": 18,
     "metadata": {},
     "output_type": "execute_result"
    }
   ],
   "source": [
    "# Una lista es un objeto indexado\n",
    "# Pyton es un lenguaje 0-indexed\n",
    "\n",
    "seq[0]"
   ]
  },
  {
   "cell_type": "code",
   "execution_count": 19,
   "id": "250259df",
   "metadata": {},
   "outputs": [],
   "source": [
    "# Una lista es un objeto mutable\n",
    "\n",
    "seq[1] = 9"
   ]
  },
  {
   "cell_type": "code",
   "execution_count": 20,
   "id": "068f5266",
   "metadata": {},
   "outputs": [
    {
     "data": {
      "text/plain": [
       "[1, 9, 3, 4]"
      ]
     },
     "execution_count": 20,
     "metadata": {},
     "output_type": "execute_result"
    }
   ],
   "source": [
    "seq"
   ]
  },
  {
   "cell_type": "markdown",
   "id": "14ce9db9",
   "metadata": {
    "slideshow": {
     "slide_type": "slide"
    }
   },
   "source": [
    "### Contenedores\n",
    "\n",
    "#### Tuple"
   ]
  },
  {
   "cell_type": "code",
   "execution_count": 21,
   "id": "ec1ff7ed",
   "metadata": {},
   "outputs": [
    {
     "data": {
      "text/plain": [
       "(1, 2, 3, 4)"
      ]
     },
     "execution_count": 21,
     "metadata": {},
     "output_type": "execute_result"
    }
   ],
   "source": [
    "(1, 2, 3, 4)"
   ]
  },
  {
   "cell_type": "markdown",
   "id": "bd40d12f",
   "metadata": {},
   "source": [
    "Podría decirse que las *Listas* y *Tuplas* son lo que en otros lenguajes se llama *Vectores* o *Arrays*. Sin embargo, presentan varias diferencias.  \n",
    "\n",
    "$$ list \\sim vector $$\n",
    "$$ tuple \\sim array $$"
   ]
  },
  {
   "cell_type": "markdown",
   "id": "db7782f3",
   "metadata": {
    "slideshow": {
     "slide_type": "slide"
    }
   },
   "source": [
    "Ambas son un conjunto ordenado de valores, en donde este último puede ser cualquier objeto: un número, una cadena, una función, una clase, una instancia, etc.  \n",
    "\n",
    "La diferencia es que las listas presentan una serie de funciones adicionales que permiten un amplio manejo de los valores que contienen.  \n",
    "\n",
    "Basándonos en esta definición, puede decirse que las **listas son dinámicas, mientras que las tuplas son estáticas**."
   ]
  },
  {
   "cell_type": "code",
   "execution_count": 22,
   "id": "d17f8fa8",
   "metadata": {
    "slideshow": {
     "slide_type": "slide"
    }
   },
   "outputs": [
    {
     "data": {
      "text/plain": [
       "tuple"
      ]
     },
     "execution_count": 22,
     "metadata": {},
     "output_type": "execute_result"
    }
   ],
   "source": [
    "seq = (1, 2, 3, 4)\n",
    "# Saber cual es el objeto de la variable\n",
    "type(seq)"
   ]
  },
  {
   "cell_type": "code",
   "execution_count": 23,
   "id": "012b5bca",
   "metadata": {},
   "outputs": [
    {
     "data": {
      "text/plain": [
       "2"
      ]
     },
     "execution_count": 23,
     "metadata": {},
     "output_type": "execute_result"
    }
   ],
   "source": [
    "# También son indexados\n",
    "seq[1]"
   ]
  },
  {
   "cell_type": "code",
   "execution_count": 24,
   "id": "51c870a7",
   "metadata": {},
   "outputs": [],
   "source": [
    "# No son objetos mutables, son inmutables\n",
    "# seq[1] = 9"
   ]
  },
  {
   "cell_type": "markdown",
   "id": "de10b9cd",
   "metadata": {},
   "source": [
    "### Contenedores\n",
    "\n",
    "#### Diccionarios"
   ]
  },
  {
   "cell_type": "code",
   "execution_count": 25,
   "id": "edefb8db",
   "metadata": {},
   "outputs": [],
   "source": [
    "# Está compuesto de llaves (keys) y valores (values)\n",
    "# Es equivalente a un mapeo o a un función matemática\n",
    "\n",
    "dic = {0: \"h\",\n",
    "       1: \"o\",\n",
    "       2: \"l\",\n",
    "       3: \"a\"}"
   ]
  },
  {
   "cell_type": "code",
   "execution_count": 26,
   "id": "bcb1bdf6",
   "metadata": {},
   "outputs": [
    {
     "data": {
      "text/plain": [
       "{0: 'h', 1: 'o', 2: 'l', 3: 'a'}"
      ]
     },
     "execution_count": 26,
     "metadata": {},
     "output_type": "execute_result"
    }
   ],
   "source": [
    "dic"
   ]
  },
  {
   "cell_type": "code",
   "execution_count": 27,
   "id": "d3fe2cf8",
   "metadata": {},
   "outputs": [
    {
     "data": {
      "text/plain": [
       "{0: 'h', 1: 'o', 2: 'm', 3: 'a'}"
      ]
     },
     "execution_count": 27,
     "metadata": {},
     "output_type": "execute_result"
    }
   ],
   "source": [
    "dic[2] = \"m\"\n",
    "dic"
   ]
  },
  {
   "cell_type": "code",
   "execution_count": 28,
   "id": "02bb2528",
   "metadata": {},
   "outputs": [],
   "source": [
    "# Un diccionario puede tener objetos inmutables como keys\n",
    "dic[(0, 1, 2)] = \"Z\""
   ]
  },
  {
   "cell_type": "code",
   "execution_count": 29,
   "id": "de6843ad",
   "metadata": {},
   "outputs": [
    {
     "data": {
      "text/plain": [
       "{0: 'h', 1: 'o', 2: 'm', 3: 'a', (0, 1, 2): 'Z'}"
      ]
     },
     "execution_count": 29,
     "metadata": {},
     "output_type": "execute_result"
    }
   ],
   "source": [
    "dic"
   ]
  },
  {
   "cell_type": "markdown",
   "id": "2f2c151d",
   "metadata": {},
   "source": [
    "### Contenedores\n",
    "\n",
    "#### Conjuntos (Set)"
   ]
  },
  {
   "cell_type": "code",
   "execution_count": 30,
   "id": "e31f315f",
   "metadata": {},
   "outputs": [],
   "source": [
    "conjunto = {0, 1, 2, 3, 4}"
   ]
  },
  {
   "cell_type": "code",
   "execution_count": 31,
   "id": "af3c30d8",
   "metadata": {},
   "outputs": [
    {
     "data": {
      "text/plain": [
       "{0, 2}"
      ]
     },
     "execution_count": 31,
     "metadata": {},
     "output_type": "execute_result"
    }
   ],
   "source": [
    "# El conjunto nos representa valores únicos\n",
    "conjunto1 = {0, 2, 2}\n",
    "conjunto1"
   ]
  },
  {
   "cell_type": "code",
   "execution_count": 32,
   "id": "3b90fc03",
   "metadata": {},
   "outputs": [],
   "source": [
    "# conjunto1[0] TypeError: 'set' object is not subscriptable"
   ]
  },
  {
   "cell_type": "code",
   "execution_count": 33,
   "id": "f47ed0ee",
   "metadata": {},
   "outputs": [],
   "source": [
    "conjunto2 = {2, 3}"
   ]
  },
  {
   "cell_type": "code",
   "execution_count": 34,
   "id": "55dc656e",
   "metadata": {
    "slideshow": {
     "slide_type": "slide"
    }
   },
   "outputs": [
    {
     "data": {
      "text/plain": [
       "{0}"
      ]
     },
     "execution_count": 34,
     "metadata": {},
     "output_type": "execute_result"
    }
   ],
   "source": [
    "# Operadores aritméticos para conjuntos\n",
    "\n",
    "conjunto1 - conjunto2"
   ]
  },
  {
   "cell_type": "code",
   "execution_count": 35,
   "id": "32fc0e88",
   "metadata": {},
   "outputs": [
    {
     "data": {
      "text/plain": [
       "{2}"
      ]
     },
     "execution_count": 35,
     "metadata": {},
     "output_type": "execute_result"
    }
   ],
   "source": [
    "conjunto1 & conjunto2"
   ]
  },
  {
   "cell_type": "code",
   "execution_count": 36,
   "id": "4b1a9d99",
   "metadata": {},
   "outputs": [
    {
     "data": {
      "text/plain": [
       "{0, 2, 3}"
      ]
     },
     "execution_count": 36,
     "metadata": {},
     "output_type": "execute_result"
    }
   ],
   "source": [
    "conjunto1 | conjunto2"
   ]
  }
 ],
 "metadata": {
  "celltoolbar": "Slideshow",
  "kernelspec": {
   "display_name": "Python 3",
   "language": "python",
   "name": "python3"
  },
  "language_info": {
   "codemirror_mode": {
    "name": "ipython",
    "version": 3
   },
   "file_extension": ".py",
   "mimetype": "text/x-python",
   "name": "python",
   "nbconvert_exporter": "python",
   "pygments_lexer": "ipython3",
   "version": "3.8.8"
  }
 },
 "nbformat": 4,
 "nbformat_minor": 5
}
