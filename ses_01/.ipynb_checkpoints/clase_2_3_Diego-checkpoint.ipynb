{
 "cells": [
  {
   "cell_type": "code",
   "execution_count": 326,
   "metadata": {},
   "outputs": [],
   "source": [
    "import numpy as np\n",
    "\n",
    "# Array (tipo de lista, iterable y operaciones vectoriales)\n",
    "\n",
    "int_array = np.array([1,2,3,4])\n",
    "float_array = np.array([1.,2.,3.,4.])\n",
    "string_array= np.array(['a','b','c','d'])"
   ]
  },
  {
   "cell_type": "code",
   "execution_count": 327,
   "metadata": {},
   "outputs": [
    {
     "name": "stdout",
     "output_type": "stream",
     "text": [
      "int32\n",
      "float64\n",
      "<U1\n"
     ]
    }
   ],
   "source": [
    "print(int_array.dtype)\n",
    "print(float_array.dtype)\n",
    "print(string_array.dtype)"
   ]
  },
  {
   "cell_type": "code",
   "execution_count": 328,
   "metadata": {},
   "outputs": [
    {
     "data": {
      "text/plain": [
       "array([ 5, 10, 15, 20])"
      ]
     },
     "execution_count": 328,
     "metadata": {},
     "output_type": "execute_result"
    }
   ],
   "source": [
    "# Operaciones vectoriales\n",
    "int_array * 5"
   ]
  },
  {
   "cell_type": "code",
   "execution_count": 329,
   "metadata": {},
   "outputs": [
    {
     "data": {
      "text/plain": [
       "[1, 2, 3, 4, 1, 2, 3, 4, 1, 2, 3, 4, 1, 2, 3, 4, 1, 2, 3, 4]"
      ]
     },
     "execution_count": 329,
     "metadata": {},
     "output_type": "execute_result"
    }
   ],
   "source": [
    "# En cambio con una lista se repite 5 veces\n",
    "[1,2,3,4]*5"
   ]
  },
  {
   "cell_type": "code",
   "execution_count": 330,
   "metadata": {},
   "outputs": [
    {
     "name": "stdout",
     "output_type": "stream",
     "text": [
      "[[ 4  8]\n",
      " [12 16]]\n"
     ]
    }
   ],
   "source": [
    "# Para matrices defino dos listas\n",
    "\n",
    "A = np.array([[1,2],[3,4]])\n",
    "print(A*4)"
   ]
  },
  {
   "cell_type": "code",
   "execution_count": 331,
   "metadata": {},
   "outputs": [
    {
     "name": "stdout",
     "output_type": "stream",
     "text": [
      "   col_a  col_b col_c\n",
      "0      1    1.0     a\n",
      "1      2    2.0     b\n",
      "2      3    3.0     c\n",
      "3      4    4.0     d\n"
     ]
    }
   ],
   "source": [
    "# Importamos ahora pandas\n",
    "\n",
    "import pandas as pd\n",
    "\n",
    "df = pd.DataFrame({'col_a': int_array,\n",
    "                  'col_b': float_array,\n",
    "                  'col_c': string_array})\n",
    "print(df)"
   ]
  },
  {
   "cell_type": "code",
   "execution_count": 332,
   "metadata": {
    "scrolled": true
   },
   "outputs": [
    {
     "data": {
      "text/plain": [
       "pandas.core.frame.DataFrame"
      ]
     },
     "execution_count": 332,
     "metadata": {},
     "output_type": "execute_result"
    }
   ],
   "source": [
    "# Acceso al dataframe\n",
    "type(df)"
   ]
  },
  {
   "cell_type": "code",
   "execution_count": 333,
   "metadata": {},
   "outputs": [
    {
     "data": {
      "text/plain": [
       "pandas.core.series.Series"
      ]
     },
     "execution_count": 333,
     "metadata": {},
     "output_type": "execute_result"
    }
   ],
   "source": [
    "type(df['col_a'])"
   ]
  },
  {
   "cell_type": "code",
   "execution_count": 334,
   "metadata": {},
   "outputs": [
    {
     "name": "stdout",
     "output_type": "stream",
     "text": [
      "   col_a  col_b col_c  new_col\n",
      "0      1    1.0     a        9\n",
      "1      2    2.0     b        8\n",
      "2      3    3.0     c        7\n",
      "3      4    4.0     d        6\n"
     ]
    }
   ],
   "source": [
    "# Añado nueva columna sólo escribiendo su nombre\n",
    "df['new_col'] = [9,8,7,6]\n",
    "print(df)"
   ]
  },
  {
   "cell_type": "code",
   "execution_count": 335,
   "metadata": {},
   "outputs": [],
   "source": [
    "# The apply method\n",
    "\n",
    "# Supongamos que tenemos serie y llamamos método \n",
    "# serie.apply() argumento único debe ser una función (predefinida en Python, librería o propia)\n",
    "# Elevar a potencia cada elemento de columna b\n",
    "\n",
    "def potencia(x):\n",
    "    return x**3"
   ]
  },
  {
   "cell_type": "code",
   "execution_count": 336,
   "metadata": {},
   "outputs": [
    {
     "data": {
      "text/plain": [
       "0     1.0\n",
       "1     8.0\n",
       "2    27.0\n",
       "3    64.0\n",
       "Name: col_b, dtype: float64"
      ]
     },
     "execution_count": 336,
     "metadata": {},
     "output_type": "execute_result"
    }
   ],
   "source": [
    "# Tomo la segunda columna (serie)\n",
    "\n",
    "df['col_b'].apply(potencia)\n",
    "# Esto no modifica el df original"
   ]
  },
  {
   "cell_type": "code",
   "execution_count": 337,
   "metadata": {},
   "outputs": [
    {
     "name": "stdout",
     "output_type": "stream",
     "text": [
      "   col_a  col_b col_c  new_col\n",
      "0      1    1.0     a        9\n",
      "1      2    8.0     b        8\n",
      "2      3   27.0     c        7\n",
      "3      4   64.0     d        6\n"
     ]
    }
   ],
   "source": [
    "# Si queremos transformarla, lo asigmanos\n",
    "\n",
    "df['col_b'] = df['col_b'].apply(potencia)\n",
    "print(df)"
   ]
  },
  {
   "cell_type": "markdown",
   "metadata": {},
   "source": [
    "### Inicia ejercicio Game of Thrones"
   ]
  },
  {
   "cell_type": "code",
   "execution_count": 338,
   "metadata": {},
   "outputs": [
    {
     "data": {
      "text/html": [
       "<div>\n",
       "<style scoped>\n",
       "    .dataframe tbody tr th:only-of-type {\n",
       "        vertical-align: middle;\n",
       "    }\n",
       "\n",
       "    .dataframe tbody tr th {\n",
       "        vertical-align: top;\n",
       "    }\n",
       "\n",
       "    .dataframe thead th {\n",
       "        text-align: right;\n",
       "    }\n",
       "</style>\n",
       "<table border=\"1\" class=\"dataframe\">\n",
       "  <thead>\n",
       "    <tr style=\"text-align: right;\">\n",
       "      <th></th>\n",
       "      <th>tt4699982</th>\n",
       "      <th>tt5539140</th>\n",
       "      <th>tt2006040</th>\n",
       "      <th>tt1316616</th>\n",
       "      <th>tt0810823</th>\n",
       "      <th>tt1043496</th>\n",
       "      <th>tt0472160</th>\n",
       "      <th>tt0481459</th>\n",
       "      <th>tt0338806</th>\n",
       "      <th>tt0362192</th>\n",
       "      <th>...</th>\n",
       "      <th>tt0181712</th>\n",
       "      <th>tt0095320</th>\n",
       "      <th>tt0121757</th>\n",
       "      <th>tt0095022</th>\n",
       "      <th>tt0124035</th>\n",
       "      <th>tt1611815</th>\n",
       "      <th>tt0092153</th>\n",
       "      <th>tt0088970</th>\n",
       "      <th>tt0085922</th>\n",
       "      <th>tt0367119</th>\n",
       "    </tr>\n",
       "  </thead>\n",
       "  <tbody>\n",
       "    <tr>\n",
       "      <th>imdb_id</th>\n",
       "      <td>tt4699982</td>\n",
       "      <td>tt5539140</td>\n",
       "      <td>tt2006040</td>\n",
       "      <td>tt1316616</td>\n",
       "      <td>tt0810823</td>\n",
       "      <td>tt1043496</td>\n",
       "      <td>tt0472160</td>\n",
       "      <td>tt0481459</td>\n",
       "      <td>tt0338806</td>\n",
       "      <td>tt0362192</td>\n",
       "      <td>...</td>\n",
       "      <td>tt0181712</td>\n",
       "      <td>tt0095320</td>\n",
       "      <td>tt0121757</td>\n",
       "      <td>tt0095022</td>\n",
       "      <td>tt0124035</td>\n",
       "      <td>tt1611815</td>\n",
       "      <td>tt0092153</td>\n",
       "      <td>tt0088970</td>\n",
       "      <td>tt0085922</td>\n",
       "      <td>tt0367119</td>\n",
       "    </tr>\n",
       "    <tr>\n",
       "      <th>title</th>\n",
       "      <td>Rebellion</td>\n",
       "      <td>Joan of Arc: God's Warrior</td>\n",
       "      <td>A Fantastic Fear of Everything</td>\n",
       "      <td>There Be Dragons</td>\n",
       "      <td>The Deaths of Ian Stone</td>\n",
       "      <td>Sinking of the Lusitania: Terror at Sea</td>\n",
       "      <td>Penelope</td>\n",
       "      <td>The Virgin Queen</td>\n",
       "      <td>Warrior Queen</td>\n",
       "      <td>State of Play</td>\n",
       "      <td>...</td>\n",
       "      <td>Najbolji</td>\n",
       "      <td>Honor Bound</td>\n",
       "      <td>Sokol ga nije volio</td>\n",
       "      <td>The Dirty Dozen: The Fatal Mission</td>\n",
       "      <td>Oficir s ruzom</td>\n",
       "      <td>Bunda</td>\n",
       "      <td>Vecernja zvona</td>\n",
       "      <td>Crveni i crni</td>\n",
       "      <td>Medeni mjesec</td>\n",
       "      <td>Tamburasi</td>\n",
       "    </tr>\n",
       "    <tr>\n",
       "      <th>year</th>\n",
       "      <td>2016</td>\n",
       "      <td>2015</td>\n",
       "      <td>2012</td>\n",
       "      <td>2011</td>\n",
       "      <td>2007</td>\n",
       "      <td>2007</td>\n",
       "      <td>2006</td>\n",
       "      <td>2006</td>\n",
       "      <td>2003</td>\n",
       "      <td>2003</td>\n",
       "      <td>...</td>\n",
       "      <td>1989</td>\n",
       "      <td>1988</td>\n",
       "      <td>1988</td>\n",
       "      <td>1988</td>\n",
       "      <td>1987</td>\n",
       "      <td>1987</td>\n",
       "      <td>1986</td>\n",
       "      <td>1985</td>\n",
       "      <td>1983</td>\n",
       "      <td>1982</td>\n",
       "    </tr>\n",
       "    <tr>\n",
       "      <th>actors</th>\n",
       "      <td>[{'personID': 'nm0269923', 'actorName': 'Micha...</td>\n",
       "      <td>[{'personID': 'nm0269923', 'actorName': 'Micha...</td>\n",
       "      <td>[{'personID': 'nm0269923', 'actorName': 'Micha...</td>\n",
       "      <td>[{'personID': 'nm0269923', 'actorName': 'Micha...</td>\n",
       "      <td>[{'personID': 'nm0269923', 'actorName': 'Micha...</td>\n",
       "      <td>[{'personID': 'nm0269923', 'actorName': 'Micha...</td>\n",
       "      <td>[{'personID': 'nm0269923', 'actorName': 'Micha...</td>\n",
       "      <td>[{'personID': 'nm0269923', 'actorName': 'Micha...</td>\n",
       "      <td>[{'personID': 'nm0269923', 'actorName': 'Micha...</td>\n",
       "      <td>[{'personID': 'nm0269923', 'actorName': 'Micha...</td>\n",
       "      <td>...</td>\n",
       "      <td>[{'personID': 'nm0432838', 'actorName': 'Slavk...</td>\n",
       "      <td>[{'personID': 'nm0432838', 'actorName': 'Slavk...</td>\n",
       "      <td>[{'personID': 'nm0432838', 'actorName': 'Slavk...</td>\n",
       "      <td>[{'personID': 'nm0432838', 'actorName': 'Slavk...</td>\n",
       "      <td>[{'personID': 'nm0432838', 'actorName': 'Slavk...</td>\n",
       "      <td>[{'personID': 'nm0432838', 'actorName': 'Slavk...</td>\n",
       "      <td>[{'personID': 'nm0432838', 'actorName': 'Slavk...</td>\n",
       "      <td>[{'personID': 'nm0432838', 'actorName': 'Slavk...</td>\n",
       "      <td>[{'personID': 'nm0432838', 'actorName': 'Slavk...</td>\n",
       "      <td>[{'personID': 'nm0432838', 'actorName': 'Slavk...</td>\n",
       "    </tr>\n",
       "  </tbody>\n",
       "</table>\n",
       "<p>4 rows × 5649 columns</p>\n",
       "</div>"
      ],
      "text/plain": [
       "                                                 tt4699982  \\\n",
       "imdb_id                                          tt4699982   \n",
       "title                                            Rebellion   \n",
       "year                                                  2016   \n",
       "actors   [{'personID': 'nm0269923', 'actorName': 'Micha...   \n",
       "\n",
       "                                                 tt5539140  \\\n",
       "imdb_id                                          tt5539140   \n",
       "title                           Joan of Arc: God's Warrior   \n",
       "year                                                  2015   \n",
       "actors   [{'personID': 'nm0269923', 'actorName': 'Micha...   \n",
       "\n",
       "                                                 tt2006040  \\\n",
       "imdb_id                                          tt2006040   \n",
       "title                       A Fantastic Fear of Everything   \n",
       "year                                                  2012   \n",
       "actors   [{'personID': 'nm0269923', 'actorName': 'Micha...   \n",
       "\n",
       "                                                 tt1316616  \\\n",
       "imdb_id                                          tt1316616   \n",
       "title                                     There Be Dragons   \n",
       "year                                                  2011   \n",
       "actors   [{'personID': 'nm0269923', 'actorName': 'Micha...   \n",
       "\n",
       "                                                 tt0810823  \\\n",
       "imdb_id                                          tt0810823   \n",
       "title                              The Deaths of Ian Stone   \n",
       "year                                                  2007   \n",
       "actors   [{'personID': 'nm0269923', 'actorName': 'Micha...   \n",
       "\n",
       "                                                 tt1043496  \\\n",
       "imdb_id                                          tt1043496   \n",
       "title              Sinking of the Lusitania: Terror at Sea   \n",
       "year                                                  2007   \n",
       "actors   [{'personID': 'nm0269923', 'actorName': 'Micha...   \n",
       "\n",
       "                                                 tt0472160  \\\n",
       "imdb_id                                          tt0472160   \n",
       "title                                             Penelope   \n",
       "year                                                  2006   \n",
       "actors   [{'personID': 'nm0269923', 'actorName': 'Micha...   \n",
       "\n",
       "                                                 tt0481459  \\\n",
       "imdb_id                                          tt0481459   \n",
       "title                                     The Virgin Queen   \n",
       "year                                                  2006   \n",
       "actors   [{'personID': 'nm0269923', 'actorName': 'Micha...   \n",
       "\n",
       "                                                 tt0338806  \\\n",
       "imdb_id                                          tt0338806   \n",
       "title                                        Warrior Queen   \n",
       "year                                                  2003   \n",
       "actors   [{'personID': 'nm0269923', 'actorName': 'Micha...   \n",
       "\n",
       "                                                 tt0362192  ...  \\\n",
       "imdb_id                                          tt0362192  ...   \n",
       "title                                        State of Play  ...   \n",
       "year                                                  2003  ...   \n",
       "actors   [{'personID': 'nm0269923', 'actorName': 'Micha...  ...   \n",
       "\n",
       "                                                 tt0181712  \\\n",
       "imdb_id                                          tt0181712   \n",
       "title                                             Najbolji   \n",
       "year                                                  1989   \n",
       "actors   [{'personID': 'nm0432838', 'actorName': 'Slavk...   \n",
       "\n",
       "                                                 tt0095320  \\\n",
       "imdb_id                                          tt0095320   \n",
       "title                                          Honor Bound   \n",
       "year                                                  1988   \n",
       "actors   [{'personID': 'nm0432838', 'actorName': 'Slavk...   \n",
       "\n",
       "                                                 tt0121757  \\\n",
       "imdb_id                                          tt0121757   \n",
       "title                                  Sokol ga nije volio   \n",
       "year                                                  1988   \n",
       "actors   [{'personID': 'nm0432838', 'actorName': 'Slavk...   \n",
       "\n",
       "                                                 tt0095022  \\\n",
       "imdb_id                                          tt0095022   \n",
       "title                   The Dirty Dozen: The Fatal Mission   \n",
       "year                                                  1988   \n",
       "actors   [{'personID': 'nm0432838', 'actorName': 'Slavk...   \n",
       "\n",
       "                                                 tt0124035  \\\n",
       "imdb_id                                          tt0124035   \n",
       "title                                       Oficir s ruzom   \n",
       "year                                                  1987   \n",
       "actors   [{'personID': 'nm0432838', 'actorName': 'Slavk...   \n",
       "\n",
       "                                                 tt1611815  \\\n",
       "imdb_id                                          tt1611815   \n",
       "title                                                Bunda   \n",
       "year                                                  1987   \n",
       "actors   [{'personID': 'nm0432838', 'actorName': 'Slavk...   \n",
       "\n",
       "                                                 tt0092153  \\\n",
       "imdb_id                                          tt0092153   \n",
       "title                                       Vecernja zvona   \n",
       "year                                                  1986   \n",
       "actors   [{'personID': 'nm0432838', 'actorName': 'Slavk...   \n",
       "\n",
       "                                                 tt0088970  \\\n",
       "imdb_id                                          tt0088970   \n",
       "title                                        Crveni i crni   \n",
       "year                                                  1985   \n",
       "actors   [{'personID': 'nm0432838', 'actorName': 'Slavk...   \n",
       "\n",
       "                                                 tt0085922  \\\n",
       "imdb_id                                          tt0085922   \n",
       "title                                        Medeni mjesec   \n",
       "year                                                  1983   \n",
       "actors   [{'personID': 'nm0432838', 'actorName': 'Slavk...   \n",
       "\n",
       "                                                 tt0367119  \n",
       "imdb_id                                          tt0367119  \n",
       "title                                            Tamburasi  \n",
       "year                                                  1982  \n",
       "actors   [{'personID': 'nm0432838', 'actorName': 'Slavk...  \n",
       "\n",
       "[4 rows x 5649 columns]"
      ]
     },
     "execution_count": 338,
     "metadata": {},
     "output_type": "execute_result"
    }
   ],
   "source": [
    "# Importemos datos de internet y creamos red\n",
    "\n",
    "thrones = pd.read_json(\"https://raw.githubusercontent.com/jeffreylancaster/game-of-thrones/master/data/costars.json\")\n",
    "thrones.head()\n",
    "# Tenemos 4 líneas, los índices de cada row son los nombres.\n",
    "# id de imdb, título de película, año, lista con diccionarios "
   ]
  },
  {
   "cell_type": "code",
   "execution_count": 339,
   "metadata": {},
   "outputs": [
    {
     "data": {
      "text/html": [
       "<div>\n",
       "<style scoped>\n",
       "    .dataframe tbody tr th:only-of-type {\n",
       "        vertical-align: middle;\n",
       "    }\n",
       "\n",
       "    .dataframe tbody tr th {\n",
       "        vertical-align: top;\n",
       "    }\n",
       "\n",
       "    .dataframe thead th {\n",
       "        text-align: right;\n",
       "    }\n",
       "</style>\n",
       "<table border=\"1\" class=\"dataframe\">\n",
       "  <thead>\n",
       "    <tr style=\"text-align: right;\">\n",
       "      <th></th>\n",
       "      <th>imdb_id</th>\n",
       "      <th>title</th>\n",
       "      <th>year</th>\n",
       "      <th>actors</th>\n",
       "    </tr>\n",
       "  </thead>\n",
       "  <tbody>\n",
       "    <tr>\n",
       "      <th>tt4699982</th>\n",
       "      <td>tt4699982</td>\n",
       "      <td>Rebellion</td>\n",
       "      <td>2016</td>\n",
       "      <td>[{'personID': 'nm0269923', 'actorName': 'Micha...</td>\n",
       "    </tr>\n",
       "    <tr>\n",
       "      <th>tt5539140</th>\n",
       "      <td>tt5539140</td>\n",
       "      <td>Joan of Arc: God's Warrior</td>\n",
       "      <td>2015</td>\n",
       "      <td>[{'personID': 'nm0269923', 'actorName': 'Micha...</td>\n",
       "    </tr>\n",
       "    <tr>\n",
       "      <th>tt2006040</th>\n",
       "      <td>tt2006040</td>\n",
       "      <td>A Fantastic Fear of Everything</td>\n",
       "      <td>2012</td>\n",
       "      <td>[{'personID': 'nm0269923', 'actorName': 'Micha...</td>\n",
       "    </tr>\n",
       "    <tr>\n",
       "      <th>tt1316616</th>\n",
       "      <td>tt1316616</td>\n",
       "      <td>There Be Dragons</td>\n",
       "      <td>2011</td>\n",
       "      <td>[{'personID': 'nm0269923', 'actorName': 'Micha...</td>\n",
       "    </tr>\n",
       "    <tr>\n",
       "      <th>tt0810823</th>\n",
       "      <td>tt0810823</td>\n",
       "      <td>The Deaths of Ian Stone</td>\n",
       "      <td>2007</td>\n",
       "      <td>[{'personID': 'nm0269923', 'actorName': 'Micha...</td>\n",
       "    </tr>\n",
       "  </tbody>\n",
       "</table>\n",
       "</div>"
      ],
      "text/plain": [
       "             imdb_id                           title  year  \\\n",
       "tt4699982  tt4699982                       Rebellion  2016   \n",
       "tt5539140  tt5539140      Joan of Arc: God's Warrior  2015   \n",
       "tt2006040  tt2006040  A Fantastic Fear of Everything  2012   \n",
       "tt1316616  tt1316616                There Be Dragons  2011   \n",
       "tt0810823  tt0810823         The Deaths of Ian Stone  2007   \n",
       "\n",
       "                                                      actors  \n",
       "tt4699982  [{'personID': 'nm0269923', 'actorName': 'Micha...  \n",
       "tt5539140  [{'personID': 'nm0269923', 'actorName': 'Micha...  \n",
       "tt2006040  [{'personID': 'nm0269923', 'actorName': 'Micha...  \n",
       "tt1316616  [{'personID': 'nm0269923', 'actorName': 'Micha...  \n",
       "tt0810823  [{'personID': 'nm0269923', 'actorName': 'Micha...  "
      ]
     },
     "execution_count": 339,
     "metadata": {},
     "output_type": "execute_result"
    }
   ],
   "source": [
    "# Así no nos sirve la tabla, necesitamos una tabla tipo tidy, líneas actores, columnas variables\n",
    "thrones = thrones.T\n",
    "thrones.head()"
   ]
  },
  {
   "cell_type": "code",
   "execution_count": 340,
   "metadata": {},
   "outputs": [
    {
     "name": "stdout",
     "output_type": "stream",
     "text": [
      "- first method\n",
      " [{'personID': 'nm0269923', 'actorName': 'Michael Feast', 'characterName': 'Aeron Greyjoy'}, {'personID': 'nm0568400', 'actorName': 'Ian McElhinney', 'characterName': 'Barristan Selmy'}, {'personID': 'nm0265610', 'actorName': 'Michelle Fairley', 'characterName': 'Catelyn Stark'}, {'personID': 'nm0734498', 'actorName': 'Lalor Roddy', 'characterName': 'Catspaw Assassin'}, {'personID': 'nm5697839', 'actorName': 'Jed Murray', 'characterName': 'Northman Rioter'}, {'personID': 'nm6316115', 'actorName': 'Ruairí Heading', 'characterName': \"Night's Watchman #2\"}, {'personID': 'nm4335246', 'actorName': 'Faolan Morga', 'characterName': 'Stark Guard'}, {'personID': 'nm1788152', 'actorName': 'Brendan McCormack', 'characterName': 'Vardis Egen'}, {'personID': 'nm2228622', 'actorName': 'Marcus Lam', 'characterName': \"Night's Watchman\"}]\n",
      "- second method\n",
      " [{'personID': 'nm0269923', 'actorName': 'Michael Feast', 'characterName': 'Aeron Greyjoy'}]\n"
     ]
    }
   ],
   "source": [
    "# Look into row 1 col 3\n",
    "print('- first method\\n',\n",
    "     thrones.iloc[0,3]) # Le paso al método iloc la fila,columna\n",
    "# Row 'tt5539140' columns 'actors'\n",
    "print('- second method\\n',\n",
    "     thrones.loc['tt5539140','actors']) "
   ]
  },
  {
   "cell_type": "code",
   "execution_count": 341,
   "metadata": {},
   "outputs": [
    {
     "data": {
      "text/html": [
       "<div>\n",
       "<style scoped>\n",
       "    .dataframe tbody tr th:only-of-type {\n",
       "        vertical-align: middle;\n",
       "    }\n",
       "\n",
       "    .dataframe tbody tr th {\n",
       "        vertical-align: top;\n",
       "    }\n",
       "\n",
       "    .dataframe thead th {\n",
       "        text-align: right;\n",
       "    }\n",
       "</style>\n",
       "<table border=\"1\" class=\"dataframe\">\n",
       "  <thead>\n",
       "    <tr style=\"text-align: right;\">\n",
       "      <th></th>\n",
       "      <th>imdb_id</th>\n",
       "      <th>title</th>\n",
       "      <th>year</th>\n",
       "      <th>actors</th>\n",
       "    </tr>\n",
       "  </thead>\n",
       "  <tbody>\n",
       "    <tr>\n",
       "      <th>tt4699982</th>\n",
       "      <td>tt4699982</td>\n",
       "      <td>Rebellion</td>\n",
       "      <td>2016</td>\n",
       "      <td>{'personID': 'nm0269923', 'actorName': 'Michae...</td>\n",
       "    </tr>\n",
       "    <tr>\n",
       "      <th>tt4699982</th>\n",
       "      <td>tt4699982</td>\n",
       "      <td>Rebellion</td>\n",
       "      <td>2016</td>\n",
       "      <td>{'personID': 'nm0568400', 'actorName': 'Ian Mc...</td>\n",
       "    </tr>\n",
       "    <tr>\n",
       "      <th>tt4699982</th>\n",
       "      <td>tt4699982</td>\n",
       "      <td>Rebellion</td>\n",
       "      <td>2016</td>\n",
       "      <td>{'personID': 'nm0265610', 'actorName': 'Michel...</td>\n",
       "    </tr>\n",
       "    <tr>\n",
       "      <th>tt4699982</th>\n",
       "      <td>tt4699982</td>\n",
       "      <td>Rebellion</td>\n",
       "      <td>2016</td>\n",
       "      <td>{'personID': 'nm0734498', 'actorName': 'Lalor ...</td>\n",
       "    </tr>\n",
       "    <tr>\n",
       "      <th>tt4699982</th>\n",
       "      <td>tt4699982</td>\n",
       "      <td>Rebellion</td>\n",
       "      <td>2016</td>\n",
       "      <td>{'personID': 'nm5697839', 'actorName': 'Jed Mu...</td>\n",
       "    </tr>\n",
       "  </tbody>\n",
       "</table>\n",
       "</div>"
      ],
      "text/plain": [
       "             imdb_id      title  year  \\\n",
       "tt4699982  tt4699982  Rebellion  2016   \n",
       "tt4699982  tt4699982  Rebellion  2016   \n",
       "tt4699982  tt4699982  Rebellion  2016   \n",
       "tt4699982  tt4699982  Rebellion  2016   \n",
       "tt4699982  tt4699982  Rebellion  2016   \n",
       "\n",
       "                                                      actors  \n",
       "tt4699982  {'personID': 'nm0269923', 'actorName': 'Michae...  \n",
       "tt4699982  {'personID': 'nm0568400', 'actorName': 'Ian Mc...  \n",
       "tt4699982  {'personID': 'nm0265610', 'actorName': 'Michel...  \n",
       "tt4699982  {'personID': 'nm0734498', 'actorName': 'Lalor ...  \n",
       "tt4699982  {'personID': 'nm5697839', 'actorName': 'Jed Mu...  "
      ]
     },
     "execution_count": 341,
     "metadata": {},
     "output_type": "execute_result"
    }
   ],
   "source": [
    "# Queremos una tabla funcional con 4 columnas, id, nombre, año y para cada actor crear una línea.\n",
    "# Aunque se repitan las filas, así podremos crear una matriz de adyacencia para actores de la misma película\n",
    "\n",
    "thrones = thrones.explode('actors')\n",
    "thrones.head()"
   ]
  },
  {
   "cell_type": "code",
   "execution_count": 342,
   "metadata": {},
   "outputs": [
    {
     "data": {
      "text/plain": [
       "{'personID': 'nm0269923',\n",
       " 'actorName': 'Michael Feast',\n",
       " 'characterName': 'Aeron Greyjoy'}"
      ]
     },
     "execution_count": 342,
     "metadata": {},
     "output_type": "execute_result"
    }
   ],
   "source": [
    "# Ahora tenemos un diccionaro único para cada línea\n",
    "thrones.iloc[0,3]\n",
    "# Ahora queremos crear una nueva columna para cada elemento del diccionario"
   ]
  },
  {
   "cell_type": "code",
   "execution_count": 343,
   "metadata": {},
   "outputs": [],
   "source": [
    "# Usamos método apply\n",
    "\n",
    "# Dos funciones, una para obtener id, y otra nombre\n",
    "def get_actor_id(x):\n",
    "    return x['personID']\n",
    "def get_actor_name(x):\n",
    "    return x['actorName']\n",
    "\n",
    "thrones['id'] = thrones['actors'].apply(get_actor_id)\n",
    "thrones['name'] = thrones['actors'].apply(get_actor_name)"
   ]
  },
  {
   "cell_type": "code",
   "execution_count": 344,
   "metadata": {},
   "outputs": [
    {
     "data": {
      "text/html": [
       "<div>\n",
       "<style scoped>\n",
       "    .dataframe tbody tr th:only-of-type {\n",
       "        vertical-align: middle;\n",
       "    }\n",
       "\n",
       "    .dataframe tbody tr th {\n",
       "        vertical-align: top;\n",
       "    }\n",
       "\n",
       "    .dataframe thead th {\n",
       "        text-align: right;\n",
       "    }\n",
       "</style>\n",
       "<table border=\"1\" class=\"dataframe\">\n",
       "  <thead>\n",
       "    <tr style=\"text-align: right;\">\n",
       "      <th></th>\n",
       "      <th>imdb_id</th>\n",
       "      <th>title</th>\n",
       "      <th>year</th>\n",
       "      <th>actors</th>\n",
       "      <th>id</th>\n",
       "      <th>name</th>\n",
       "    </tr>\n",
       "  </thead>\n",
       "  <tbody>\n",
       "    <tr>\n",
       "      <th>tt4699982</th>\n",
       "      <td>tt4699982</td>\n",
       "      <td>Rebellion</td>\n",
       "      <td>2016</td>\n",
       "      <td>{'personID': 'nm0269923', 'actorName': 'Michae...</td>\n",
       "      <td>nm0269923</td>\n",
       "      <td>Michael Feast</td>\n",
       "    </tr>\n",
       "    <tr>\n",
       "      <th>tt4699982</th>\n",
       "      <td>tt4699982</td>\n",
       "      <td>Rebellion</td>\n",
       "      <td>2016</td>\n",
       "      <td>{'personID': 'nm0568400', 'actorName': 'Ian Mc...</td>\n",
       "      <td>nm0568400</td>\n",
       "      <td>Ian McElhinney</td>\n",
       "    </tr>\n",
       "    <tr>\n",
       "      <th>tt4699982</th>\n",
       "      <td>tt4699982</td>\n",
       "      <td>Rebellion</td>\n",
       "      <td>2016</td>\n",
       "      <td>{'personID': 'nm0265610', 'actorName': 'Michel...</td>\n",
       "      <td>nm0265610</td>\n",
       "      <td>Michelle Fairley</td>\n",
       "    </tr>\n",
       "    <tr>\n",
       "      <th>tt4699982</th>\n",
       "      <td>tt4699982</td>\n",
       "      <td>Rebellion</td>\n",
       "      <td>2016</td>\n",
       "      <td>{'personID': 'nm0734498', 'actorName': 'Lalor ...</td>\n",
       "      <td>nm0734498</td>\n",
       "      <td>Lalor Roddy</td>\n",
       "    </tr>\n",
       "    <tr>\n",
       "      <th>tt4699982</th>\n",
       "      <td>tt4699982</td>\n",
       "      <td>Rebellion</td>\n",
       "      <td>2016</td>\n",
       "      <td>{'personID': 'nm5697839', 'actorName': 'Jed Mu...</td>\n",
       "      <td>nm5697839</td>\n",
       "      <td>Jed Murray</td>\n",
       "    </tr>\n",
       "  </tbody>\n",
       "</table>\n",
       "</div>"
      ],
      "text/plain": [
       "             imdb_id      title  year  \\\n",
       "tt4699982  tt4699982  Rebellion  2016   \n",
       "tt4699982  tt4699982  Rebellion  2016   \n",
       "tt4699982  tt4699982  Rebellion  2016   \n",
       "tt4699982  tt4699982  Rebellion  2016   \n",
       "tt4699982  tt4699982  Rebellion  2016   \n",
       "\n",
       "                                                      actors         id  \\\n",
       "tt4699982  {'personID': 'nm0269923', 'actorName': 'Michae...  nm0269923   \n",
       "tt4699982  {'personID': 'nm0568400', 'actorName': 'Ian Mc...  nm0568400   \n",
       "tt4699982  {'personID': 'nm0265610', 'actorName': 'Michel...  nm0265610   \n",
       "tt4699982  {'personID': 'nm0734498', 'actorName': 'Lalor ...  nm0734498   \n",
       "tt4699982  {'personID': 'nm5697839', 'actorName': 'Jed Mu...  nm5697839   \n",
       "\n",
       "                       name  \n",
       "tt4699982     Michael Feast  \n",
       "tt4699982    Ian McElhinney  \n",
       "tt4699982  Michelle Fairley  \n",
       "tt4699982       Lalor Roddy  \n",
       "tt4699982        Jed Murray  "
      ]
     },
     "execution_count": 344,
     "metadata": {},
     "output_type": "execute_result"
    }
   ],
   "source": [
    "# Acceso a las primeras 5 filas de las \n",
    "# thrones.iloc[0:5,4:6]\n",
    "thrones.head()"
   ]
  },
  {
   "cell_type": "code",
   "execution_count": 345,
   "metadata": {},
   "outputs": [],
   "source": [
    "# Veamos algo nuevo: Funciones anónimas (tipo lambda)\n",
    "# Podemos ir definiendoas en el camino\n",
    "# Puedo usar paréntesis para saltarme de líneas\n",
    "thrones['character'] = (thrones['actors']\n",
    "                        .apply(\n",
    "                        lambda x: x['characterName'] \n",
    "                        ))\n",
    "# La función anónima lambda no se queda guardada"
   ]
  },
  {
   "cell_type": "code",
   "execution_count": 346,
   "metadata": {},
   "outputs": [
    {
     "data": {
      "text/plain": [
       "Index(['imdb_id', 'title', 'year', 'actors', 'id', 'name', 'character'], dtype='object')"
      ]
     },
     "execution_count": 346,
     "metadata": {},
     "output_type": "execute_result"
    }
   ],
   "source": [
    "thrones.columns"
   ]
  },
  {
   "cell_type": "code",
   "execution_count": 347,
   "metadata": {},
   "outputs": [
    {
     "data": {
      "text/html": [
       "<div>\n",
       "<style scoped>\n",
       "    .dataframe tbody tr th:only-of-type {\n",
       "        vertical-align: middle;\n",
       "    }\n",
       "\n",
       "    .dataframe tbody tr th {\n",
       "        vertical-align: top;\n",
       "    }\n",
       "\n",
       "    .dataframe thead th {\n",
       "        text-align: right;\n",
       "    }\n",
       "</style>\n",
       "<table border=\"1\" class=\"dataframe\">\n",
       "  <thead>\n",
       "    <tr style=\"text-align: right;\">\n",
       "      <th></th>\n",
       "      <th>imdb_id</th>\n",
       "      <th>title</th>\n",
       "      <th>year</th>\n",
       "      <th>actors</th>\n",
       "      <th>id</th>\n",
       "      <th>name</th>\n",
       "      <th>character</th>\n",
       "    </tr>\n",
       "  </thead>\n",
       "  <tbody>\n",
       "    <tr>\n",
       "      <th>tt4699982</th>\n",
       "      <td>tt4699982</td>\n",
       "      <td>Rebellion</td>\n",
       "      <td>2016</td>\n",
       "      <td>{'personID': 'nm0269923', 'actorName': 'Michae...</td>\n",
       "      <td>nm0269923</td>\n",
       "      <td>Michael Feast</td>\n",
       "      <td>Aeron Greyjoy</td>\n",
       "    </tr>\n",
       "    <tr>\n",
       "      <th>tt4699982</th>\n",
       "      <td>tt4699982</td>\n",
       "      <td>Rebellion</td>\n",
       "      <td>2016</td>\n",
       "      <td>{'personID': 'nm0568400', 'actorName': 'Ian Mc...</td>\n",
       "      <td>nm0568400</td>\n",
       "      <td>Ian McElhinney</td>\n",
       "      <td>Barristan Selmy</td>\n",
       "    </tr>\n",
       "    <tr>\n",
       "      <th>tt4699982</th>\n",
       "      <td>tt4699982</td>\n",
       "      <td>Rebellion</td>\n",
       "      <td>2016</td>\n",
       "      <td>{'personID': 'nm0265610', 'actorName': 'Michel...</td>\n",
       "      <td>nm0265610</td>\n",
       "      <td>Michelle Fairley</td>\n",
       "      <td>Catelyn Stark</td>\n",
       "    </tr>\n",
       "    <tr>\n",
       "      <th>tt4699982</th>\n",
       "      <td>tt4699982</td>\n",
       "      <td>Rebellion</td>\n",
       "      <td>2016</td>\n",
       "      <td>{'personID': 'nm0734498', 'actorName': 'Lalor ...</td>\n",
       "      <td>nm0734498</td>\n",
       "      <td>Lalor Roddy</td>\n",
       "      <td>Catspaw Assassin</td>\n",
       "    </tr>\n",
       "    <tr>\n",
       "      <th>tt4699982</th>\n",
       "      <td>tt4699982</td>\n",
       "      <td>Rebellion</td>\n",
       "      <td>2016</td>\n",
       "      <td>{'personID': 'nm5697839', 'actorName': 'Jed Mu...</td>\n",
       "      <td>nm5697839</td>\n",
       "      <td>Jed Murray</td>\n",
       "      <td>Northman Rioter</td>\n",
       "    </tr>\n",
       "  </tbody>\n",
       "</table>\n",
       "</div>"
      ],
      "text/plain": [
       "             imdb_id      title  year  \\\n",
       "tt4699982  tt4699982  Rebellion  2016   \n",
       "tt4699982  tt4699982  Rebellion  2016   \n",
       "tt4699982  tt4699982  Rebellion  2016   \n",
       "tt4699982  tt4699982  Rebellion  2016   \n",
       "tt4699982  tt4699982  Rebellion  2016   \n",
       "\n",
       "                                                      actors         id  \\\n",
       "tt4699982  {'personID': 'nm0269923', 'actorName': 'Michae...  nm0269923   \n",
       "tt4699982  {'personID': 'nm0568400', 'actorName': 'Ian Mc...  nm0568400   \n",
       "tt4699982  {'personID': 'nm0265610', 'actorName': 'Michel...  nm0265610   \n",
       "tt4699982  {'personID': 'nm0734498', 'actorName': 'Lalor ...  nm0734498   \n",
       "tt4699982  {'personID': 'nm5697839', 'actorName': 'Jed Mu...  nm5697839   \n",
       "\n",
       "                       name         character  \n",
       "tt4699982     Michael Feast     Aeron Greyjoy  \n",
       "tt4699982    Ian McElhinney   Barristan Selmy  \n",
       "tt4699982  Michelle Fairley     Catelyn Stark  \n",
       "tt4699982       Lalor Roddy  Catspaw Assassin  \n",
       "tt4699982        Jed Murray   Northman Rioter  "
      ]
     },
     "execution_count": 347,
     "metadata": {},
     "output_type": "execute_result"
    }
   ],
   "source": [
    "thrones.head()"
   ]
  },
  {
   "cell_type": "code",
   "execution_count": 348,
   "metadata": {},
   "outputs": [],
   "source": [
    "# Nos deshacemos de la columna actos porque ya no sirve\n",
    "thrones = thrones.drop('actors',axis=1) #axis 0 es para rows, axis 1 para columns"
   ]
  },
  {
   "cell_type": "code",
   "execution_count": 349,
   "metadata": {},
   "outputs": [
    {
     "name": "stdout",
     "output_type": "stream",
     "text": [
      "<class 'pandas.core.frame.DataFrame'>\n",
      "Index: 7363 entries, tt4699982 to tt0367119\n",
      "Data columns (total 6 columns):\n",
      " #   Column     Non-Null Count  Dtype \n",
      "---  ------     --------------  ----- \n",
      " 0   imdb_id    7363 non-null   object\n",
      " 1   title      7363 non-null   object\n",
      " 2   year       6320 non-null   object\n",
      " 3   id         7363 non-null   object\n",
      " 4   name       7363 non-null   object\n",
      " 5   character  7363 non-null   object\n",
      "dtypes: object(6)\n",
      "memory usage: 402.7+ KB\n"
     ]
    }
   ],
   "source": [
    "# La función info nos da información útil\n",
    "thrones.info()"
   ]
  },
  {
   "cell_type": "code",
   "execution_count": 350,
   "metadata": {},
   "outputs": [
    {
     "data": {
      "text/plain": [
       "array(['2016', '2015', '2012', '2011', '2007', '2006', '2003', '2002',\n",
       "       '2001', '2000', '1999', '1998', '1993', '1990', '1989', '1988',\n",
       "       '1986', '1983', '1982', '1980', '1979', '1977', '1974', '1972',\n",
       "       '1971', '1970', '', '2008', '2005', '2004', '1997', '1996', '1995',\n",
       "       '1987', '1985', '1984', '2016/I', '2015/II', '2014', '2014/II',\n",
       "       '2009', '2016/IV', '2013', '1991', nan, '2000/I', '1994', '2010',\n",
       "       '1981', '1978', '1976', '1975', '2019', '2015/I', '2010/I',\n",
       "       '2009/I', '1992', '2017', '2018', '2001/I', '2010/II', '2015-2016',\n",
       "       '2013/I', '2010/IV', '2008/II', '2005/II', '2017/III', '2012/I',\n",
       "       '2016/II', '2017/II', '2014/I', '2012/II', '2011/III', '2008/III',\n",
       "       '2008/I', '2013/III', '2005/I', '1965', '2013/II', '2012/III',\n",
       "       '2003/II', '1988-1989', '1973', '1969', '1966', '1962', '2015/IV',\n",
       "       '2011/I', '1996/II', '2017/I', '2018/II', '2011/IV', '2006/II',\n",
       "       '2014-2016', '2014/III', '2012/V', '2009/II', '2003/III', '1969/I',\n",
       "       '1968', '1967', '1964', '1963', '1960', '1959', '1999/II',\n",
       "       '2009-2010', '1986-1989', '1965-1966', '1957', '2004/I', '2002/I',\n",
       "       '2017/IV', '2016/III', '1992-1994', '2002/II', '1971/I', '2016/V',\n",
       "       '2004/II', '2007/I', '2006/I', '1998/I', '2006/III', '2003/I',\n",
       "       '2009/III', '2001/II', '2000/II', '1999/I', '1974-1975', '1961',\n",
       "       '2014/IV', '2015/III', '2015/VI', '2008/IV', '2016/VI', '2011/II',\n",
       "       '2013/IV', '2012/IV', '1997/I', '2010/III', '2017/VI', '2018/I',\n",
       "       '2007/II', '2013-2014', '1987-1988', '2007/V', '2004/III',\n",
       "       '1992/I', '1958', '1956', '1953', '1951', '1949'], dtype=object)"
      ]
     },
     "execution_count": 350,
     "metadata": {},
     "output_type": "execute_result"
    }
   ],
   "source": [
    "# ¿Cuáles son los años que salieron más actores en películas?\n",
    "# ¿GOT les dió un empuje en su carrera?\n",
    "\n",
    "# Pero la columna year tiene un dtype objeto\n",
    "# Veamos si hay cosas raras\n",
    "\n",
    "# thrones.year.unique() método más avanzado\n",
    "\n",
    "thrones['year'].unique()\n",
    "\n",
    "# Notemos que salen cosas raras como '2015/II\n",
    "# El valor nulo viene como nan (not a number), pero también tenemos \" \""
   ]
  },
  {
   "cell_type": "code",
   "execution_count": 351,
   "metadata": {},
   "outputs": [],
   "source": [
    "# Para pasar de un tipo a otro usamos método .astype(nuevo_tipo)\n",
    "\n",
    "# thrones['year'].astype(int) #Error\n",
    "# invalid literal for int() with base 10: ''  no sabe qué tipo de decimal es"
   ]
  },
  {
   "cell_type": "code",
   "execution_count": 352,
   "metadata": {},
   "outputs": [
    {
     "data": {
      "text/plain": [
       "tt4699982    2016.0\n",
       "tt4699982    2016.0\n",
       "tt4699982    2016.0\n",
       "tt4699982    2016.0\n",
       "tt4699982    2016.0\n",
       "Name: year, dtype: float64"
      ]
     },
     "execution_count": 352,
     "metadata": {},
     "output_type": "execute_result"
    }
   ],
   "source": [
    "# Vamos a limpiar primero.\n",
    "\n",
    "def get_year(x):\n",
    "    # String vacío\n",
    "    if x == '':\n",
    "        return np.nan\n",
    "    if x is np.nan:\n",
    "        return x\n",
    "    # Para todos los otros casos\n",
    "    # regresa primeros 4 caracteres como int\n",
    "    return int(x[:4])\n",
    "\n",
    "thrones['year'] = thrones['year'].apply(get_year)\n",
    "thrones['year'].head()"
   ]
  },
  {
   "cell_type": "code",
   "execution_count": 353,
   "metadata": {},
   "outputs": [
    {
     "data": {
      "text/html": [
       "<div>\n",
       "<style scoped>\n",
       "    .dataframe tbody tr th:only-of-type {\n",
       "        vertical-align: middle;\n",
       "    }\n",
       "\n",
       "    .dataframe tbody tr th {\n",
       "        vertical-align: top;\n",
       "    }\n",
       "\n",
       "    .dataframe thead th {\n",
       "        text-align: right;\n",
       "    }\n",
       "</style>\n",
       "<table border=\"1\" class=\"dataframe\">\n",
       "  <thead>\n",
       "    <tr style=\"text-align: right;\">\n",
       "      <th></th>\n",
       "      <th>imdb_id</th>\n",
       "      <th>title</th>\n",
       "      <th>year</th>\n",
       "      <th>id</th>\n",
       "      <th>name</th>\n",
       "      <th>character</th>\n",
       "    </tr>\n",
       "  </thead>\n",
       "  <tbody>\n",
       "    <tr>\n",
       "      <th>tt4699982</th>\n",
       "      <td>tt4699982</td>\n",
       "      <td>Rebellion</td>\n",
       "      <td>2016.0</td>\n",
       "      <td>nm0269923</td>\n",
       "      <td>Michael Feast</td>\n",
       "      <td>Aeron Greyjoy</td>\n",
       "    </tr>\n",
       "    <tr>\n",
       "      <th>tt4699982</th>\n",
       "      <td>tt4699982</td>\n",
       "      <td>Rebellion</td>\n",
       "      <td>2016.0</td>\n",
       "      <td>nm0568400</td>\n",
       "      <td>Ian McElhinney</td>\n",
       "      <td>Barristan Selmy</td>\n",
       "    </tr>\n",
       "    <tr>\n",
       "      <th>tt4699982</th>\n",
       "      <td>tt4699982</td>\n",
       "      <td>Rebellion</td>\n",
       "      <td>2016.0</td>\n",
       "      <td>nm0265610</td>\n",
       "      <td>Michelle Fairley</td>\n",
       "      <td>Catelyn Stark</td>\n",
       "    </tr>\n",
       "    <tr>\n",
       "      <th>tt4699982</th>\n",
       "      <td>tt4699982</td>\n",
       "      <td>Rebellion</td>\n",
       "      <td>2016.0</td>\n",
       "      <td>nm0734498</td>\n",
       "      <td>Lalor Roddy</td>\n",
       "      <td>Catspaw Assassin</td>\n",
       "    </tr>\n",
       "    <tr>\n",
       "      <th>tt4699982</th>\n",
       "      <td>tt4699982</td>\n",
       "      <td>Rebellion</td>\n",
       "      <td>2016.0</td>\n",
       "      <td>nm5697839</td>\n",
       "      <td>Jed Murray</td>\n",
       "      <td>Northman Rioter</td>\n",
       "    </tr>\n",
       "  </tbody>\n",
       "</table>\n",
       "</div>"
      ],
      "text/plain": [
       "             imdb_id      title    year         id              name  \\\n",
       "tt4699982  tt4699982  Rebellion  2016.0  nm0269923     Michael Feast   \n",
       "tt4699982  tt4699982  Rebellion  2016.0  nm0568400    Ian McElhinney   \n",
       "tt4699982  tt4699982  Rebellion  2016.0  nm0265610  Michelle Fairley   \n",
       "tt4699982  tt4699982  Rebellion  2016.0  nm0734498       Lalor Roddy   \n",
       "tt4699982  tt4699982  Rebellion  2016.0  nm5697839        Jed Murray   \n",
       "\n",
       "                  character  \n",
       "tt4699982     Aeron Greyjoy  \n",
       "tt4699982   Barristan Selmy  \n",
       "tt4699982     Catelyn Stark  \n",
       "tt4699982  Catspaw Assassin  \n",
       "tt4699982   Northman Rioter  "
      ]
     },
     "execution_count": 353,
     "metadata": {},
     "output_type": "execute_result"
    }
   ],
   "source": [
    "thrones.head()"
   ]
  },
  {
   "cell_type": "code",
   "execution_count": 354,
   "metadata": {},
   "outputs": [],
   "source": [
    "# Dibujamos el histograma llamando a seaborn\n",
    "# Librería popular para visualización sobre matplotlib\n",
    "import seaborn as sns"
   ]
  },
  {
   "cell_type": "code",
   "execution_count": 355,
   "metadata": {},
   "outputs": [
    {
     "data": {
      "text/plain": [
       "<seaborn.axisgrid.FacetGrid at 0x22b3b42e040>"
      ]
     },
     "execution_count": 355,
     "metadata": {},
     "output_type": "execute_result"
    },
    {
     "data": {
      "image/png": "[encoded data removed]",
      "text/plain": [
       "<Figure size 360x360 with 1 Axes>"
      ]
     },
     "metadata": {
      "needs_background": "light"
     },
     "output_type": "display_data"
    }
   ],
   "source": [
    "sns.displot(thrones['year'], bins = 20)"
   ]
  },
  {
   "cell_type": "code",
   "execution_count": 356,
   "metadata": {},
   "outputs": [
    {
     "data": {
      "text/plain": [
       "count    6246.000000\n",
       "mean     2004.073167\n",
       "std        11.650196\n",
       "min      1949.000000\n",
       "25%      1998.000000\n",
       "50%      2007.000000\n",
       "75%      2013.000000\n",
       "max      2019.000000\n",
       "Name: year, dtype: float64"
      ]
     },
     "execution_count": 356,
     "metadata": {},
     "output_type": "execute_result"
    }
   ],
   "source": [
    "# Les bajó la chamba cuando termina la serie\n",
    "# Obtenemos estad descriptiva\n",
    "thrones['year'].describe()"
   ]
  },
  {
   "cell_type": "markdown",
   "metadata": {},
   "source": [
    "## Aprendamos a usar group by"
   ]
  },
  {
   "cell_type": "code",
   "execution_count": 357,
   "metadata": {},
   "outputs": [
    {
     "data": {
      "text/html": [
       "<div>\n",
       "<style scoped>\n",
       "    .dataframe tbody tr th:only-of-type {\n",
       "        vertical-align: middle;\n",
       "    }\n",
       "\n",
       "    .dataframe tbody tr th {\n",
       "        vertical-align: top;\n",
       "    }\n",
       "\n",
       "    .dataframe thead th {\n",
       "        text-align: right;\n",
       "    }\n",
       "</style>\n",
       "<table border=\"1\" class=\"dataframe\">\n",
       "  <thead>\n",
       "    <tr style=\"text-align: right;\">\n",
       "      <th></th>\n",
       "      <th>col1</th>\n",
       "      <th>col2</th>\n",
       "    </tr>\n",
       "  </thead>\n",
       "  <tbody>\n",
       "    <tr>\n",
       "      <th>0</th>\n",
       "      <td>1</td>\n",
       "      <td>a</td>\n",
       "    </tr>\n",
       "    <tr>\n",
       "      <th>1</th>\n",
       "      <td>1</td>\n",
       "      <td>b</td>\n",
       "    </tr>\n",
       "    <tr>\n",
       "      <th>2</th>\n",
       "      <td>1</td>\n",
       "      <td>c</td>\n",
       "    </tr>\n",
       "    <tr>\n",
       "      <th>3</th>\n",
       "      <td>2</td>\n",
       "      <td>b</td>\n",
       "    </tr>\n",
       "    <tr>\n",
       "      <th>4</th>\n",
       "      <td>2</td>\n",
       "      <td>c</td>\n",
       "    </tr>\n",
       "    <tr>\n",
       "      <th>5</th>\n",
       "      <td>3</td>\n",
       "      <td>a</td>\n",
       "    </tr>\n",
       "  </tbody>\n",
       "</table>\n",
       "</div>"
      ],
      "text/plain": [
       "   col1 col2\n",
       "0     1    a\n",
       "1     1    b\n",
       "2     1    c\n",
       "3     2    b\n",
       "4     2    c\n",
       "5     3    a"
      ]
     },
     "execution_count": 357,
     "metadata": {},
     "output_type": "execute_result"
    }
   ],
   "source": [
    "# A veces tenemos valores repetidos en distintas columnas\n",
    "# Cada columna representa un valor de interés. A veces quiero agregar de acuerdo a un conjunto\n",
    "# Quiero tener un único valor agregado respecto a otra columna, con una función de agregación (mean,var,median)\n",
    "\n",
    "df = pd.DataFrame({'col1':[1,1,1,2,2,3],'col2':['a','b','c','b','c','a']})\n",
    "df"
   ]
  },
  {
   "cell_type": "code",
   "execution_count": 358,
   "metadata": {},
   "outputs": [
    {
     "data": {
      "text/plain": [
       "col1\n",
       "1    3\n",
       "2    2\n",
       "3    1\n",
       "Name: col2, dtype: int64"
      ]
     },
     "execution_count": 358,
     "metadata": {},
     "output_type": "execute_result"
    }
   ],
   "source": [
    "df.groupby('col1')['col2'].count()"
   ]
  },
  {
   "cell_type": "code",
   "execution_count": 359,
   "metadata": {},
   "outputs": [],
   "source": [
    "# df.groupby('col1')['col2'].apply()"
   ]
  },
  {
   "cell_type": "code",
   "execution_count": 360,
   "metadata": {},
   "outputs": [],
   "source": [
    "# Vamos a agrupar en nuestra base para tener los edges de la red.\n",
    "# Un contenedor con los valores: lista para cada película/actor\n",
    "\n",
    "from itertools import combinations"
   ]
  },
  {
   "cell_type": "code",
   "execution_count": 361,
   "metadata": {},
   "outputs": [
    {
     "data": {
      "text/plain": [
       "[(1, 2, 3), (1, 2, 4), (1, 3, 4), (2, 3, 4)]"
      ]
     },
     "execution_count": 361,
     "metadata": {},
     "output_type": "execute_result"
    }
   ],
   "source": [
    "my_list = [1,2,3,4]\n",
    "# Arroja un iterador, pero lo convierto en lista\n",
    "list(combinations(my_list,2)) # Todos los pares posibles de 2 elementos\n",
    "list(combinations(my_list,3)) # Todos los pares posibles de 3 elementos\n",
    "\n",
    "# Nos va a servir para obtener adyacencias de actores"
   ]
  },
  {
   "cell_type": "code",
   "execution_count": 362,
   "metadata": {
    "scrolled": true
   },
   "outputs": [
    {
     "data": {
      "text/html": [
       "<div>\n",
       "<style scoped>\n",
       "    .dataframe tbody tr th:only-of-type {\n",
       "        vertical-align: middle;\n",
       "    }\n",
       "\n",
       "    .dataframe tbody tr th {\n",
       "        vertical-align: top;\n",
       "    }\n",
       "\n",
       "    .dataframe thead th {\n",
       "        text-align: right;\n",
       "    }\n",
       "</style>\n",
       "<table border=\"1\" class=\"dataframe\">\n",
       "  <thead>\n",
       "    <tr style=\"text-align: right;\">\n",
       "      <th></th>\n",
       "      <th>col1</th>\n",
       "      <th>col2</th>\n",
       "    </tr>\n",
       "  </thead>\n",
       "  <tbody>\n",
       "    <tr>\n",
       "      <th>0</th>\n",
       "      <td>1</td>\n",
       "      <td>a</td>\n",
       "    </tr>\n",
       "    <tr>\n",
       "      <th>1</th>\n",
       "      <td>1</td>\n",
       "      <td>b</td>\n",
       "    </tr>\n",
       "    <tr>\n",
       "      <th>2</th>\n",
       "      <td>1</td>\n",
       "      <td>c</td>\n",
       "    </tr>\n",
       "    <tr>\n",
       "      <th>3</th>\n",
       "      <td>2</td>\n",
       "      <td>b</td>\n",
       "    </tr>\n",
       "    <tr>\n",
       "      <th>4</th>\n",
       "      <td>2</td>\n",
       "      <td>c</td>\n",
       "    </tr>\n",
       "    <tr>\n",
       "      <th>5</th>\n",
       "      <td>3</td>\n",
       "      <td>a</td>\n",
       "    </tr>\n",
       "  </tbody>\n",
       "</table>\n",
       "</div>"
      ],
      "text/plain": [
       "   col1 col2\n",
       "0     1    a\n",
       "1     1    b\n",
       "2     1    c\n",
       "3     2    b\n",
       "4     2    c\n",
       "5     3    a"
      ]
     },
     "execution_count": 362,
     "metadata": {},
     "output_type": "execute_result"
    }
   ],
   "source": [
    "df"
   ]
  },
  {
   "cell_type": "code",
   "execution_count": 363,
   "metadata": {
    "scrolled": true
   },
   "outputs": [
    {
     "data": {
      "text/plain": [
       "col1\n",
       "1    ((a, b), (a, c), (b, c))\n",
       "2                   ((b, c),)\n",
       "3                          ()\n",
       "Name: col2, dtype: object"
      ]
     },
     "execution_count": 363,
     "metadata": {},
     "output_type": "execute_result"
    }
   ],
   "source": [
    "df.groupby('col1')['col2'].apply(lambda x: tuple(combinations(x,2)))\n",
    "# Obtenemos una lista con todos los pares posibles\n",
    "# Usamos tuple porque es inmutable"
   ]
  },
  {
   "cell_type": "code",
   "execution_count": 364,
   "metadata": {
    "scrolled": true
   },
   "outputs": [
    {
     "data": {
      "text/plain": [
       "col1\n",
       "1    ((a, b), (a, c), (b, c))\n",
       "2                   ((b, c),)\n",
       "3                          ()\n",
       "Name: col2, dtype: object"
      ]
     },
     "execution_count": 364,
     "metadata": {},
     "output_type": "execute_result"
    }
   ],
   "source": [
    "# Use combinations, and explode to get a tuple of each\n",
    "# Agrupando por columna 1, agregando por columna 2 con una lambda function\n",
    "df.groupby('col1')['col2'].apply(lambda x: tuple(sorted(combinations(x,2))))\n",
    "# Me da un contenedor con los elementos de cada grupo"
   ]
  },
  {
   "cell_type": "code",
   "execution_count": 365,
   "metadata": {},
   "outputs": [
    {
     "data": {
      "text/plain": [
       "col1\n",
       "1    (a, b)\n",
       "1    (a, c)\n",
       "1    (b, c)\n",
       "2    (b, c)\n",
       "3       NaN\n",
       "Name: col2, dtype: object"
      ]
     },
     "execution_count": 365,
     "metadata": {},
     "output_type": "execute_result"
    }
   ],
   "source": [
    "# Uso explode para que separe los elementos\n",
    "df.groupby('col1')['col2'].apply(lambda x: tuple(combinations(x,2))).explode()\n",
    "# Uso sorted cuando no están ordenados de manera alfabética"
   ]
  },
  {
   "cell_type": "code",
   "execution_count": 366,
   "metadata": {},
   "outputs": [
    {
     "data": {
      "text/html": [
       "<div>\n",
       "<style scoped>\n",
       "    .dataframe tbody tr th:only-of-type {\n",
       "        vertical-align: middle;\n",
       "    }\n",
       "\n",
       "    .dataframe tbody tr th {\n",
       "        vertical-align: top;\n",
       "    }\n",
       "\n",
       "    .dataframe thead th {\n",
       "        text-align: right;\n",
       "    }\n",
       "</style>\n",
       "<table border=\"1\" class=\"dataframe\">\n",
       "  <thead>\n",
       "    <tr style=\"text-align: right;\">\n",
       "      <th></th>\n",
       "      <th>imdb_id</th>\n",
       "      <th>title</th>\n",
       "      <th>year</th>\n",
       "      <th>id</th>\n",
       "      <th>name</th>\n",
       "      <th>character</th>\n",
       "    </tr>\n",
       "  </thead>\n",
       "  <tbody>\n",
       "    <tr>\n",
       "      <th>tt4699982</th>\n",
       "      <td>tt4699982</td>\n",
       "      <td>Rebellion</td>\n",
       "      <td>2016.0</td>\n",
       "      <td>nm0269923</td>\n",
       "      <td>Michael Feast</td>\n",
       "      <td>Aeron Greyjoy</td>\n",
       "    </tr>\n",
       "    <tr>\n",
       "      <th>tt4699982</th>\n",
       "      <td>tt4699982</td>\n",
       "      <td>Rebellion</td>\n",
       "      <td>2016.0</td>\n",
       "      <td>nm0568400</td>\n",
       "      <td>Ian McElhinney</td>\n",
       "      <td>Barristan Selmy</td>\n",
       "    </tr>\n",
       "    <tr>\n",
       "      <th>tt4699982</th>\n",
       "      <td>tt4699982</td>\n",
       "      <td>Rebellion</td>\n",
       "      <td>2016.0</td>\n",
       "      <td>nm0265610</td>\n",
       "      <td>Michelle Fairley</td>\n",
       "      <td>Catelyn Stark</td>\n",
       "    </tr>\n",
       "    <tr>\n",
       "      <th>tt4699982</th>\n",
       "      <td>tt4699982</td>\n",
       "      <td>Rebellion</td>\n",
       "      <td>2016.0</td>\n",
       "      <td>nm0734498</td>\n",
       "      <td>Lalor Roddy</td>\n",
       "      <td>Catspaw Assassin</td>\n",
       "    </tr>\n",
       "    <tr>\n",
       "      <th>tt4699982</th>\n",
       "      <td>tt4699982</td>\n",
       "      <td>Rebellion</td>\n",
       "      <td>2016.0</td>\n",
       "      <td>nm5697839</td>\n",
       "      <td>Jed Murray</td>\n",
       "      <td>Northman Rioter</td>\n",
       "    </tr>\n",
       "  </tbody>\n",
       "</table>\n",
       "</div>"
      ],
      "text/plain": [
       "             imdb_id      title    year         id              name  \\\n",
       "tt4699982  tt4699982  Rebellion  2016.0  nm0269923     Michael Feast   \n",
       "tt4699982  tt4699982  Rebellion  2016.0  nm0568400    Ian McElhinney   \n",
       "tt4699982  tt4699982  Rebellion  2016.0  nm0265610  Michelle Fairley   \n",
       "tt4699982  tt4699982  Rebellion  2016.0  nm0734498       Lalor Roddy   \n",
       "tt4699982  tt4699982  Rebellion  2016.0  nm5697839        Jed Murray   \n",
       "\n",
       "                  character  \n",
       "tt4699982     Aeron Greyjoy  \n",
       "tt4699982   Barristan Selmy  \n",
       "tt4699982     Catelyn Stark  \n",
       "tt4699982  Catspaw Assassin  \n",
       "tt4699982   Northman Rioter  "
      ]
     },
     "execution_count": 366,
     "metadata": {},
     "output_type": "execute_result"
    }
   ],
   "source": [
    "# Tengo ya el modo de crear una lista de adyacencia. Lo hacemos para GOT\n",
    "thrones.head()"
   ]
  },
  {
   "cell_type": "code",
   "execution_count": 367,
   "metadata": {},
   "outputs": [
    {
     "data": {
      "text/plain": [
       "imdb_id\n",
       "tt0041155                           ()\n",
       "tt0043567                           ()\n",
       "tt0045913                           ()\n",
       "tt0049701                           ()\n",
       "tt0050502                           ()\n",
       "                       ...            \n",
       "tt7455076    ((nm2181128, nm1697771),)\n",
       "tt7456410                           ()\n",
       "tt7471028                           ()\n",
       "tt7473890    ((nm0000980, nm0580014),)\n",
       "tt7475940                           ()\n",
       "Name: id, Length: 5649, dtype: object"
      ]
     },
     "execution_count": 367,
     "metadata": {},
     "output_type": "execute_result"
    }
   ],
   "source": [
    "# Agrupo por id y agrego por id_actor\n",
    "\n",
    "# Primero probamos sin explode\n",
    "edgelist = thrones.groupby('imdb_id')['id'].apply(lambda x: tuple(sorted(combinations(x,2))))\n",
    "edgelist\n",
    "# Para cada película obtenemos los pares, hay muchas donde sale uno solo. Tuple vacío\n"
   ]
  },
  {
   "cell_type": "code",
   "execution_count": 368,
   "metadata": {},
   "outputs": [
    {
     "data": {
      "text/plain": [
       "imdb_id\n",
       "tt0041155                       NaN\n",
       "tt0043567                       NaN\n",
       "tt0045913                       NaN\n",
       "tt0049701                       NaN\n",
       "tt0050502                       NaN\n",
       "                      ...          \n",
       "tt7455076    (nm2181128, nm1697771)\n",
       "tt7456410                       NaN\n",
       "tt7471028                       NaN\n",
       "tt7473890    (nm0000980, nm0580014)\n",
       "tt7475940                       NaN\n",
       "Name: id, Length: 7321, dtype: object"
      ]
     },
     "execution_count": 368,
     "metadata": {},
     "output_type": "execute_result"
    }
   ],
   "source": [
    "edgelist = thrones.groupby('imdb_id')['id'].apply(lambda x: tuple(sorted(combinations(x,2)))).explode()\n",
    "edgelist\n",
    "# Ahora sí tenemos una lista para cada par."
   ]
  },
  {
   "cell_type": "markdown",
   "metadata": {},
   "source": [
    "### Guardamos nuestras tablas"
   ]
  },
  {
   "cell_type": "code",
   "execution_count": 369,
   "metadata": {},
   "outputs": [],
   "source": [
    "edgelist.to_csv('../Jupyter_Diego/data/edgelist_got.csv', index=False)\n",
    "thrones.to_csv('../Jupyter_Diego/data/got.csv', index=False)"
   ]
  },
  {
   "cell_type": "markdown",
   "metadata": {},
   "source": [
    "### Cargamos nuestras tablas"
   ]
  },
  {
   "cell_type": "code",
   "execution_count": 370,
   "metadata": {},
   "outputs": [],
   "source": [
    "edgelist = pd.read_csv('../Jupyter_Diego/data/edgelist_got.csv')\n",
    "thrones = pd.read_csv('../Jupyter_Diego/data/got.csv')"
   ]
  },
  {
   "cell_type": "code",
   "execution_count": 371,
   "metadata": {},
   "outputs": [
    {
     "data": {
      "text/html": [
       "<div>\n",
       "<style scoped>\n",
       "    .dataframe tbody tr th:only-of-type {\n",
       "        vertical-align: middle;\n",
       "    }\n",
       "\n",
       "    .dataframe tbody tr th {\n",
       "        vertical-align: top;\n",
       "    }\n",
       "\n",
       "    .dataframe thead th {\n",
       "        text-align: right;\n",
       "    }\n",
       "</style>\n",
       "<table border=\"1\" class=\"dataframe\">\n",
       "  <thead>\n",
       "    <tr style=\"text-align: right;\">\n",
       "      <th></th>\n",
       "      <th>id</th>\n",
       "    </tr>\n",
       "  </thead>\n",
       "  <tbody>\n",
       "    <tr>\n",
       "      <th>24</th>\n",
       "      <td>('nm0574534', 'nm0822062')</td>\n",
       "    </tr>\n",
       "    <tr>\n",
       "      <th>65</th>\n",
       "      <td>('nm0234541', 'nm0891092')</td>\n",
       "    </tr>\n",
       "    <tr>\n",
       "      <th>68</th>\n",
       "      <td>('nm0002103', 'nm0891092')</td>\n",
       "    </tr>\n",
       "    <tr>\n",
       "      <th>71</th>\n",
       "      <td>('nm0574534', 'nm0181920')</td>\n",
       "    </tr>\n",
       "    <tr>\n",
       "      <th>82</th>\n",
       "      <td>('nm0822062', 'nm0838910')</td>\n",
       "    </tr>\n",
       "  </tbody>\n",
       "</table>\n",
       "</div>"
      ],
      "text/plain": [
       "                            id\n",
       "24  ('nm0574534', 'nm0822062')\n",
       "65  ('nm0234541', 'nm0891092')\n",
       "68  ('nm0002103', 'nm0891092')\n",
       "71  ('nm0574534', 'nm0181920')\n",
       "82  ('nm0822062', 'nm0838910')"
      ]
     },
     "execution_count": 371,
     "metadata": {},
     "output_type": "execute_result"
    }
   ],
   "source": [
    "# Quitamos todas las rows con valores NAs\n",
    "edgelist = edgelist.dropna()\n",
    "# Tenemos un data frame de una sola columba.\n",
    "# En cada row tenemos una arista (Id de dos actores que compartieron película)\n",
    "edgelist.head()"
   ]
  },
  {
   "cell_type": "code",
   "execution_count": 372,
   "metadata": {},
   "outputs": [
    {
     "data": {
      "text/html": [
       "<div>\n",
       "<style scoped>\n",
       "    .dataframe tbody tr th:only-of-type {\n",
       "        vertical-align: middle;\n",
       "    }\n",
       "\n",
       "    .dataframe tbody tr th {\n",
       "        vertical-align: top;\n",
       "    }\n",
       "\n",
       "    .dataframe thead th {\n",
       "        text-align: right;\n",
       "    }\n",
       "</style>\n",
       "<table border=\"1\" class=\"dataframe\">\n",
       "  <thead>\n",
       "    <tr style=\"text-align: right;\">\n",
       "      <th></th>\n",
       "      <th>imdb_id</th>\n",
       "      <th>title</th>\n",
       "      <th>year</th>\n",
       "      <th>id</th>\n",
       "      <th>name</th>\n",
       "      <th>character</th>\n",
       "    </tr>\n",
       "  </thead>\n",
       "  <tbody>\n",
       "    <tr>\n",
       "      <th>0</th>\n",
       "      <td>tt4699982</td>\n",
       "      <td>Rebellion</td>\n",
       "      <td>2016.0</td>\n",
       "      <td>nm0269923</td>\n",
       "      <td>Michael Feast</td>\n",
       "      <td>Aeron Greyjoy</td>\n",
       "    </tr>\n",
       "    <tr>\n",
       "      <th>1</th>\n",
       "      <td>tt4699982</td>\n",
       "      <td>Rebellion</td>\n",
       "      <td>2016.0</td>\n",
       "      <td>nm0568400</td>\n",
       "      <td>Ian McElhinney</td>\n",
       "      <td>Barristan Selmy</td>\n",
       "    </tr>\n",
       "    <tr>\n",
       "      <th>2</th>\n",
       "      <td>tt4699982</td>\n",
       "      <td>Rebellion</td>\n",
       "      <td>2016.0</td>\n",
       "      <td>nm0265610</td>\n",
       "      <td>Michelle Fairley</td>\n",
       "      <td>Catelyn Stark</td>\n",
       "    </tr>\n",
       "    <tr>\n",
       "      <th>3</th>\n",
       "      <td>tt4699982</td>\n",
       "      <td>Rebellion</td>\n",
       "      <td>2016.0</td>\n",
       "      <td>nm0734498</td>\n",
       "      <td>Lalor Roddy</td>\n",
       "      <td>Catspaw Assassin</td>\n",
       "    </tr>\n",
       "    <tr>\n",
       "      <th>4</th>\n",
       "      <td>tt4699982</td>\n",
       "      <td>Rebellion</td>\n",
       "      <td>2016.0</td>\n",
       "      <td>nm5697839</td>\n",
       "      <td>Jed Murray</td>\n",
       "      <td>Northman Rioter</td>\n",
       "    </tr>\n",
       "  </tbody>\n",
       "</table>\n",
       "</div>"
      ],
      "text/plain": [
       "     imdb_id      title    year         id              name         character\n",
       "0  tt4699982  Rebellion  2016.0  nm0269923     Michael Feast     Aeron Greyjoy\n",
       "1  tt4699982  Rebellion  2016.0  nm0568400    Ian McElhinney   Barristan Selmy\n",
       "2  tt4699982  Rebellion  2016.0  nm0265610  Michelle Fairley     Catelyn Stark\n",
       "3  tt4699982  Rebellion  2016.0  nm0734498       Lalor Roddy  Catspaw Assassin\n",
       "4  tt4699982  Rebellion  2016.0  nm5697839        Jed Murray   Northman Rioter"
      ]
     },
     "execution_count": 372,
     "metadata": {},
     "output_type": "execute_result"
    }
   ],
   "source": [
    "# Cada línea es una película y un actor\n",
    "thrones.head()"
   ]
  },
  {
   "cell_type": "markdown",
   "metadata": {},
   "source": [
    "### Hasta aquí hubo nuevos comandos\n",
    "\n",
    "Si guardamos una tabla con columnas no numéricas o string, algo distinto: lista, tuples\n",
    "Al cargarlo como csv lo importa como string"
   ]
  },
  {
   "cell_type": "code",
   "execution_count": 373,
   "metadata": {},
   "outputs": [
    {
     "name": "stdout",
     "output_type": "stream",
     "text": [
      "<class 'str'>\n"
     ]
    }
   ],
   "source": [
    "# Ingreo a columna id y le pregunto el tipo de la primer entrada\n",
    "print(type(edgelist['id'].iloc[0]))\n",
    "# Es tipo string, esto quiere decir que nuestros tuples de dos strings lo muestra como uno.\n"
   ]
  },
  {
   "cell_type": "code",
   "execution_count": 374,
   "metadata": {},
   "outputs": [
    {
     "name": "stdout",
     "output_type": "stream",
     "text": [
      "<class 'tuple'>\n"
     ]
    }
   ],
   "source": [
    "# Vamos a aplicarle una función eval, que evalúa un comando pasado en string\n",
    "# A eval le puedo pasar un comando en string y lo evalúa como comando. (debe ser algo con sentido en Python)\n",
    "print(type(eval(edgelist['id'].iloc[0])))"
   ]
  },
  {
   "cell_type": "markdown",
   "metadata": {},
   "source": [
    "###  Ejercicio GOT completo en archivo GOT Network"
   ]
  }
 ],
 "metadata": {
  "kernelspec": {
   "display_name": "Python 3",
   "language": "python",
   "name": "python3"
  },
  "language_info": {
   "codemirror_mode": {
    "name": "ipython",
    "version": 3
   },
   "file_extension": ".py",
   "mimetype": "text/x-python",
   "name": "python",
   "nbconvert_exporter": "python",
   "pygments_lexer": "ipython3",
   "version": "3.8.8"
  }
 },
 "nbformat": 4,
 "nbformat_minor": 4
}
