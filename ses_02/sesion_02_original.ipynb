{
 "cells": [
  {
   "cell_type": "markdown",
   "id": "d92a4de3",
   "metadata": {},
   "source": [
    "# Python para economistas\n",
    "\n",
    "### Mtro. Diego López Tamayo\n",
    "#### El Colegio de México\n",
    "#### BBVA Research"
   ]
  },
  {
   "cell_type": "markdown",
   "id": "c63e1d54",
   "metadata": {
    "slideshow": {
     "slide_type": "slide"
    }
   },
   "source": [
    "# Sesión 2\n",
    "\n",
    "- Definición de funciones por el usuario. Alcance, argumentos\n",
    "- Secuencias y loops: `while, if, else, elif` Ejemplo de cada uno\n",
    "- Lambda functions\n",
    "- Modificando listas\n",
    "- Trabajando con diccionarios\n",
    "- Clases y métodos\n",
    "- Introducción a Numpy arrays"
   ]
  },
  {
   "cell_type": "markdown",
   "id": "5d738d28",
   "metadata": {
    "slideshow": {
     "slide_type": "slide"
    }
   },
   "source": [
    "# Funciones\n",
    "\n",
    "* Funciones integradas como `sum` o` print`\n",
    "* Funciones definidas por el usuario con declaración de palabras clave `def`"
   ]
  },
  {
   "cell_type": "code",
   "execution_count": 248,
   "id": "e66ce908",
   "metadata": {},
   "outputs": [
    {
     "name": "stdout",
     "output_type": "stream",
     "text": [
      "Hola mundo\n"
     ]
    }
   ],
   "source": [
    "print(\"Hola mundo\")"
   ]
  },
  {
   "cell_type": "code",
   "execution_count": null,
   "id": "f2f363f6",
   "metadata": {},
   "outputs": [],
   "source": []
  },
  {
   "cell_type": "markdown",
   "id": "d67386c8",
   "metadata": {
    "slideshow": {
     "slide_type": "slide"
    }
   },
   "source": [
    "- Python es un lenguaje indentado (sangrías). Los niveles de indentación vienen dados por un doble espacio / tabulador.\n",
    "- Las variables que definimos dentro de una función, viven sólo dentro de esa función y no podemos acceder a ellas en el ambiente global. \n",
    "- A esto llamamos el **Namespace** -> Todas las variables definidas adentro de un contexto"
   ]
  },
  {
   "cell_type": "code",
   "execution_count": 249,
   "id": "d97877e1",
   "metadata": {},
   "outputs": [],
   "source": [
    "# La sangría se refiere a agregar espacios en blanco antes de una declaración\n",
    "# La sangría de Python es una forma de decirle a un intérprete de Python que el grupo \n",
    "# de declaraciones pertenece a un bloque de código en particular"
   ]
  },
  {
   "cell_type": "code",
   "execution_count": 250,
   "id": "6576ca2e",
   "metadata": {},
   "outputs": [],
   "source": [
    "def funcion_pruba():\n",
    "    pass"
   ]
  },
  {
   "cell_type": "markdown",
   "id": "e85896ea",
   "metadata": {
    "slideshow": {
     "slide_type": "slide"
    }
   },
   "source": [
    "### *if* statement"
   ]
  },
  {
   "cell_type": "code",
   "execution_count": 251,
   "id": "35351ad2",
   "metadata": {},
   "outputs": [
    {
     "name": "stdout",
     "output_type": "stream",
     "text": [
      "Es verdad\n"
     ]
    }
   ],
   "source": [
    "if 2 == 4 - 2: \n",
    "  print(\"Es verdad\")"
   ]
  },
  {
   "cell_type": "code",
   "execution_count": 252,
   "id": "3cb9b9fe",
   "metadata": {},
   "outputs": [],
   "source": [
    "# return values\n",
    "def user_name_check(user_name):\n",
    "  if user_name == \"Diego\":\n",
    "    return \"Bienvenido Diego\"\n",
    "  if user_name != \"Diego\":\n",
    "    return \"No eres bienvenido desconocido\""
   ]
  },
  {
   "cell_type": "code",
   "execution_count": 253,
   "id": "d99acbe9",
   "metadata": {},
   "outputs": [
    {
     "data": {
      "text/plain": [
       "'No eres bienvenido desconocido'"
      ]
     },
     "execution_count": 253,
     "metadata": {},
     "output_type": "execute_result"
    }
   ],
   "source": [
    "user_name_check(\"José\")"
   ]
  },
  {
   "cell_type": "markdown",
   "id": "69ca2062",
   "metadata": {
    "slideshow": {
     "slide_type": "slide"
    }
   },
   "source": [
    "### *else* statement"
   ]
  },
  {
   "cell_type": "code",
   "execution_count": 254,
   "id": "6cda8d6b",
   "metadata": {},
   "outputs": [],
   "source": [
    "def user_name_check(user_name):\n",
    "  if user_name == \"Diego\":\n",
    "    return \"Bienvenido Diego\"\n",
    "  else:\n",
    "    return \"No eres bienvenido desconocido\""
   ]
  },
  {
   "cell_type": "code",
   "execution_count": 255,
   "id": "0a7e9ae4",
   "metadata": {},
   "outputs": [
    {
     "data": {
      "text/plain": [
       "'Bienvenido Diego'"
      ]
     },
     "execution_count": 255,
     "metadata": {},
     "output_type": "execute_result"
    }
   ],
   "source": [
    "user_name_check(\"Diego\")"
   ]
  },
  {
   "cell_type": "markdown",
   "id": "e08efb97",
   "metadata": {
    "slideshow": {
     "slide_type": "slide"
    }
   },
   "source": [
    "### *elif* statement = *else* + *if*"
   ]
  },
  {
   "cell_type": "markdown",
   "id": "2a51b99d",
   "metadata": {},
   "source": [
    "Podemos usar declaraciones elif para controlar el orden en que queremos que nuestro programa verifique cada una de nuestras declaraciones condicionales.   \n",
    "\n",
    "Primero, se verifica la instrucción if, luego se verifica cada instrucción elif de arriba a abajo, luego, finalmente, se ejecuta el código else si no se ha cumplido ninguna de las condiciones anteriores."
   ]
  },
  {
   "cell_type": "code",
   "execution_count": 256,
   "id": "d77b76bc",
   "metadata": {},
   "outputs": [],
   "source": [
    "def convertidor_calif(calif):\n",
    "  grade = \"Reprobado\"\n",
    "  if calif >= 9.0:\n",
    "    grade = \"Excelente\"\n",
    "  elif calif >= 8.0:\n",
    "    grade = \"Muy bien\"\n",
    "  elif calif >= 7.0:\n",
    "    grade = \"Bien\"\n",
    "  elif calif >= 6.0:\n",
    "    grade = \"Ánimo\"\n",
    "  return grade"
   ]
  },
  {
   "cell_type": "code",
   "execution_count": 257,
   "id": "8cf77921",
   "metadata": {},
   "outputs": [
    {
     "data": {
      "text/plain": [
       "'Muy bien'"
      ]
     },
     "execution_count": 257,
     "metadata": {},
     "output_type": "execute_result"
    }
   ],
   "source": [
    "convertidor_calif(8.5)"
   ]
  },
  {
   "cell_type": "markdown",
   "id": "2e63b2d7",
   "metadata": {
    "slideshow": {
     "slide_type": "slide"
    }
   },
   "source": [
    "## Statements, functions and more\n",
    "\n",
    " * Looping: `for`, `while`\n",
    " * Conditional: `if`, `else`\n",
    " * Catching \"bugs\": `try`, `except`"
   ]
  },
  {
   "cell_type": "code",
   "execution_count": 258,
   "id": "0fc96238",
   "metadata": {},
   "outputs": [
    {
     "name": "stdout",
     "output_type": "stream",
     "text": [
      "1\n",
      "2\n",
      "3\n"
     ]
    }
   ],
   "source": [
    "for x in [1, 2, 3]:\n",
    "    print(x)"
   ]
  },
  {
   "cell_type": "code",
   "execution_count": 259,
   "id": "f449ed69",
   "metadata": {},
   "outputs": [
    {
     "data": {
      "text/plain": [
       "range(1, 8)"
      ]
     },
     "execution_count": 259,
     "metadata": {},
     "output_type": "execute_result"
    }
   ],
   "source": [
    "# Range da un iterador de números enteros entre dos valores dados los argumentos\n",
    "# 8 excluido\n",
    "range(1, 8)"
   ]
  },
  {
   "cell_type": "code",
   "execution_count": 260,
   "id": "b3fda99c",
   "metadata": {
    "slideshow": {
     "slide_type": "-"
    }
   },
   "outputs": [
    {
     "name": "stdout",
     "output_type": "stream",
     "text": [
      "0\n",
      "1\n",
      "2\n",
      "3\n",
      "4\n",
      "5\n",
      "6\n",
      "7\n",
      "8\n"
     ]
    }
   ],
   "source": [
    "for x in range(9):\n",
    "    print(x)"
   ]
  },
  {
   "cell_type": "code",
   "execution_count": 261,
   "id": "4be40341",
   "metadata": {
    "slideshow": {
     "slide_type": "slide"
    }
   },
   "outputs": [],
   "source": [
    "def ejemplo(a, b, c, o):\n",
    "    print(o)"
   ]
  },
  {
   "cell_type": "code",
   "execution_count": 262,
   "id": "01b2e1b6",
   "metadata": {},
   "outputs": [
    {
     "name": "stdout",
     "output_type": "stream",
     "text": [
      "4\n",
      "1\n"
     ]
    }
   ],
   "source": [
    "# El orden importa!\n",
    "ejemplo(1, 2, 3, 4)\n",
    "ejemplo(4, 3, 2, 1)"
   ]
  },
  {
   "cell_type": "code",
   "execution_count": 263,
   "id": "4ec6f4c6",
   "metadata": {
    "slideshow": {
     "slide_type": "slide"
    }
   },
   "outputs": [],
   "source": [
    "# Keyword arguments, siempre tiene un valor pr default\n",
    "def ejemplo(a,b, arg=6):\n",
    "    print(arg)"
   ]
  },
  {
   "cell_type": "code",
   "execution_count": 264,
   "id": "05bd6a81",
   "metadata": {},
   "outputs": [
    {
     "name": "stdout",
     "output_type": "stream",
     "text": [
      "10\n"
     ]
    }
   ],
   "source": [
    "# Los  keyword arguments siempre van después de los arguments normales\n",
    "ejemplo(9, 8, arg=10)"
   ]
  },
  {
   "cell_type": "code",
   "execution_count": 265,
   "id": "a39a4a0f",
   "metadata": {
    "slideshow": {
     "slide_type": "slide"
    }
   },
   "outputs": [],
   "source": [
    "# Pasar un número indefinido de argumentos a una función\n",
    "# Con el símbolo \"*\"\n",
    "def ejemplo(*args):\n",
    "    print(args)"
   ]
  },
  {
   "cell_type": "code",
   "execution_count": 266,
   "id": "feb69667",
   "metadata": {},
   "outputs": [
    {
     "name": "stdout",
     "output_type": "stream",
     "text": [
      "(1, 2, 3, 4, 5, 6, 7)\n"
     ]
    }
   ],
   "source": [
    "ejemplo(1, 2, 3, 4, 5, 6, 7)"
   ]
  },
  {
   "cell_type": "code",
   "execution_count": 267,
   "id": "9efab5f1",
   "metadata": {
    "slideshow": {
     "slide_type": "slide"
    }
   },
   "outputs": [],
   "source": [
    "# Parámetros múltiples\n",
    "\n",
    "def saludar_cliente(nombre_tienda, producto):\n",
    "  print(\"Bienvenido a \"+ nombre_tienda + \".\")\n",
    "  print(\"Hoy en oferta: \" + producto + \".\")\n",
    "  print(\"Excelente día\")"
   ]
  },
  {
   "cell_type": "code",
   "execution_count": 268,
   "id": "a650b6a2",
   "metadata": {},
   "outputs": [
    {
     "name": "stdout",
     "output_type": "stream",
     "text": [
      "Bienvenido a Superama.\n",
      "Hoy en oferta: papayas.\n",
      "Excelente día\n"
     ]
    }
   ],
   "source": [
    "saludar_cliente(\"Superama\", \"papayas\")"
   ]
  },
  {
   "cell_type": "markdown",
   "id": "068fca9d",
   "metadata": {
    "slideshow": {
     "slide_type": "slide"
    }
   },
   "source": [
    "### `try` & `except` statements"
   ]
  },
  {
   "cell_type": "code",
   "execution_count": 269,
   "id": "b54f40f3",
   "metadata": {},
   "outputs": [
    {
     "name": "stdout",
     "output_type": "stream",
     "text": [
      "0.75\n"
     ]
    }
   ],
   "source": [
    "def divides(a,b):\n",
    "  try:\n",
    "    result = a / b\n",
    "    print (result)\n",
    "  except ZeroDivisionError:\n",
    "    print (\"Can't divide by zero!\")\n",
    "\n",
    "divides(3,4)"
   ]
  },
  {
   "cell_type": "markdown",
   "id": "c33f69e4",
   "metadata": {
    "slideshow": {
     "slide_type": "slide"
    }
   },
   "source": [
    "## Lamda function: Funciones \"al momento\"\n",
    "\n",
    "Algunas definiciones de funciones son lo suficientemente simples como para convertirlas en una función lambda. Al hacer esto, escribe menos líneas de código"
   ]
  },
  {
   "cell_type": "code",
   "execution_count": 270,
   "id": "df004fcf",
   "metadata": {},
   "outputs": [],
   "source": [
    "# Sintaxis: \n",
    "\n",
    "# nombre_funcion = lambda argument(s): expression\n",
    "\n",
    "# lambda es una keyword en Python, no la podemos usar para otras cosas"
   ]
  },
  {
   "cell_type": "code",
   "execution_count": 271,
   "id": "ec526bf2",
   "metadata": {},
   "outputs": [
    {
     "data": {
      "text/plain": [
       "<function __main__.<lambda>(x)>"
      ]
     },
     "execution_count": 271,
     "metadata": {},
     "output_type": "execute_result"
    }
   ],
   "source": [
    "#Normal python function\n",
    "def doble(x):\n",
    "    return 2*x\n",
    "#Lambda function\n",
    "lambda x: 2*x"
   ]
  },
  {
   "cell_type": "code",
   "execution_count": 272,
   "id": "3bd4badf",
   "metadata": {},
   "outputs": [
    {
     "data": {
      "text/plain": [
       "8"
      ]
     },
     "execution_count": 272,
     "metadata": {},
     "output_type": "execute_result"
    }
   ],
   "source": [
    "doble(4)"
   ]
  },
  {
   "cell_type": "code",
   "execution_count": 273,
   "id": "96866bef",
   "metadata": {
    "slideshow": {
     "slide_type": "slide"
    }
   },
   "outputs": [],
   "source": [
    "elevar_potencia = lambda x, y: x ** y"
   ]
  },
  {
   "cell_type": "code",
   "execution_count": 274,
   "id": "b893fcdb",
   "metadata": {},
   "outputs": [
    {
     "data": {
      "text/plain": [
       "8"
      ]
     },
     "execution_count": 274,
     "metadata": {},
     "output_type": "execute_result"
    }
   ],
   "source": [
    "elevar_potencia(2, 3)"
   ]
  },
  {
   "cell_type": "markdown",
   "id": "438d1fe3",
   "metadata": {
    "slideshow": {
     "slide_type": "slide"
    }
   },
   "source": [
    "- Bueno para operaciones lógicas simples que son fáciles de entender. Esto también hace que el código sea más legible.\n",
    "\n",
    "- Bueno cuando quieres una función que usarás solo una vez."
   ]
  },
  {
   "cell_type": "markdown",
   "id": "b22b9d1c",
   "metadata": {},
   "source": [
    "- Solo pueden realizar una operación. No es posible tener varias operaciones independientes en una función lambda.\n",
    "- Malo para operaciones que abarcarían más de una línea en una función def normal."
   ]
  },
  {
   "cell_type": "code",
   "execution_count": 275,
   "id": "eb0a9a28",
   "metadata": {},
   "outputs": [
    {
     "data": {
      "text/plain": [
       "True"
      ]
     },
     "execution_count": 275,
     "metadata": {},
     "output_type": "execute_result"
    }
   ],
   "source": [
    "(lambda x: x*2)(12) == doble(12)"
   ]
  },
  {
   "cell_type": "markdown",
   "id": "1629d6c8",
   "metadata": {},
   "source": [
    "## Trabajando con listas"
   ]
  },
  {
   "cell_type": "code",
   "execution_count": 276,
   "id": "d53c722d",
   "metadata": {},
   "outputs": [],
   "source": [
    "# Creamos una lista vacía para después llenarla\n",
    "materias = []"
   ]
  },
  {
   "cell_type": "code",
   "execution_count": 277,
   "id": "aa3d0bce",
   "metadata": {},
   "outputs": [
    {
     "data": {
      "text/plain": [
       "['A']"
      ]
     },
     "execution_count": 277,
     "metadata": {},
     "output_type": "execute_result"
    }
   ],
   "source": [
    "# Los objetos como las listas tienen \"métodos\" = función que pertenece a un objeto\n",
    "\n",
    "# append nos ayuda a insertar un objeto al final de la lista\n",
    "\n",
    "materias.append(\"A\")\n",
    "materias"
   ]
  },
  {
   "cell_type": "code",
   "execution_count": 278,
   "id": "dd4789f8",
   "metadata": {},
   "outputs": [],
   "source": [
    "# ¿Qué pasa si queremos insertar más de un elemento\n",
    "# Por ejemplo, otra lista\n",
    "materias.append([\"B\",\"C\"])"
   ]
  },
  {
   "cell_type": "code",
   "execution_count": 279,
   "id": "c8a31062",
   "metadata": {},
   "outputs": [
    {
     "data": {
      "text/plain": [
       "['A', ['B', 'C']]"
      ]
     },
     "execution_count": 279,
     "metadata": {},
     "output_type": "execute_result"
    }
   ],
   "source": [
    "materias"
   ]
  },
  {
   "cell_type": "code",
   "execution_count": 280,
   "id": "ef3df24f",
   "metadata": {},
   "outputs": [
    {
     "data": {
      "text/plain": [
       "2"
      ]
     },
     "execution_count": 280,
     "metadata": {},
     "output_type": "execute_result"
    }
   ],
   "source": [
    "# Función para conocer la longitud del vector\n",
    "len(materias)"
   ]
  },
  {
   "cell_type": "code",
   "execution_count": 281,
   "id": "3a3d072f",
   "metadata": {},
   "outputs": [
    {
     "data": {
      "text/plain": [
       "['A', 'B', 'C']"
      ]
     },
     "execution_count": 281,
     "metadata": {},
     "output_type": "execute_result"
    }
   ],
   "source": [
    "materias = [\"A\"]\n",
    "materias.extend([\"B\",\"C\"])\n",
    "materias"
   ]
  },
  {
   "cell_type": "code",
   "execution_count": 282,
   "id": "2eb75af9",
   "metadata": {},
   "outputs": [],
   "source": [
    "materias = [\"A\"]"
   ]
  },
  {
   "cell_type": "code",
   "execution_count": 283,
   "id": "8ca719f0",
   "metadata": {},
   "outputs": [
    {
     "data": {
      "text/plain": [
       "['Z', 'A']"
      ]
     },
     "execution_count": 283,
     "metadata": {},
     "output_type": "execute_result"
    }
   ],
   "source": [
    "# Si queremos controlar donde coloca el nuevo elemento podemos utilizar insert \n",
    "materias.insert(0,\"Z\")\n",
    "materias"
   ]
  },
  {
   "cell_type": "code",
   "execution_count": 284,
   "id": "28b6d7bd",
   "metadata": {
    "slideshow": {
     "slide_type": "slide"
    }
   },
   "outputs": [],
   "source": [
    "materias = [\"Historia\", \"Geografía\", \"Matemáticas\", \"Economía\"]"
   ]
  },
  {
   "cell_type": "code",
   "execution_count": 285,
   "id": "56cffe2e",
   "metadata": {},
   "outputs": [
    {
     "data": {
      "text/plain": [
       "['Historia', 'Geografía', 'Matemáticas']"
      ]
     },
     "execution_count": 285,
     "metadata": {},
     "output_type": "execute_result"
    }
   ],
   "source": [
    "# Eliminar un elemento de una lista\n",
    "\n",
    "# Subset la parte que nos interesa\n",
    "# Es un método que preserva el objeto original = hay que asignar a nueva variable\n",
    "\n",
    "sin_eco = materias[:3]\n",
    "sin_eco"
   ]
  },
  {
   "cell_type": "code",
   "execution_count": 286,
   "id": "02ce6bb2",
   "metadata": {
    "slideshow": {
     "slide_type": "slide"
    }
   },
   "outputs": [
    {
     "data": {
      "text/plain": [
       "['Historia', 'Geografía', 'Matemáticas']"
      ]
     },
     "execution_count": 286,
     "metadata": {},
     "output_type": "execute_result"
    }
   ],
   "source": [
    "# Otros métodos modifican el objeto directamente\n",
    "\n",
    "materias.remove(\"Economía\")\n",
    "materias"
   ]
  },
  {
   "cell_type": "code",
   "execution_count": 287,
   "id": "97fcefda",
   "metadata": {},
   "outputs": [
    {
     "data": {
      "text/plain": [
       "'Economía'"
      ]
     },
     "execution_count": 287,
     "metadata": {},
     "output_type": "execute_result"
    }
   ],
   "source": [
    "materias = [\"Historia\", \"Geografía\", \"Matemáticas\", \"Economía\"]\n",
    "materias.pop()"
   ]
  },
  {
   "cell_type": "code",
   "execution_count": 288,
   "id": "41751b0b",
   "metadata": {
    "slideshow": {
     "slide_type": "slide"
    }
   },
   "outputs": [
    {
     "data": {
      "text/plain": [
       "True"
      ]
     },
     "execution_count": 288,
     "metadata": {},
     "output_type": "execute_result"
    }
   ],
   "source": [
    "# Ordenar nuestras listas\n",
    "# Métodos modifican el objeto original\n",
    "\n",
    "materias = [\"Historia\", \"Geografía\", \"Matemáticas\", \"Economía\"]\n",
    "calif = [10,6,7,5]\n",
    "\n",
    "len(materias) == len(calif)"
   ]
  },
  {
   "cell_type": "code",
   "execution_count": 289,
   "id": "88a2c3ae",
   "metadata": {},
   "outputs": [
    {
     "data": {
      "text/plain": [
       "['Economía', 'Geografía', 'Historia', 'Matemáticas']"
      ]
     },
     "execution_count": 289,
     "metadata": {},
     "output_type": "execute_result"
    }
   ],
   "source": [
    "materias.sort()\n",
    "materias"
   ]
  },
  {
   "cell_type": "code",
   "execution_count": 290,
   "id": "f962851d",
   "metadata": {},
   "outputs": [
    {
     "data": {
      "text/plain": [
       "[5, 6, 7, 10]"
      ]
     },
     "execution_count": 290,
     "metadata": {},
     "output_type": "execute_result"
    }
   ],
   "source": [
    "calif.sort()\n",
    "calif"
   ]
  },
  {
   "cell_type": "code",
   "execution_count": 291,
   "id": "5f0bec79",
   "metadata": {},
   "outputs": [
    {
     "data": {
      "text/plain": [
       "[10, 7, 6, 5]"
      ]
     },
     "execution_count": 291,
     "metadata": {},
     "output_type": "execute_result"
    }
   ],
   "source": [
    "calif.sort(reverse = True)\n",
    "calif"
   ]
  },
  {
   "cell_type": "code",
   "execution_count": 292,
   "id": "a4e4c182",
   "metadata": {},
   "outputs": [
    {
     "data": {
      "text/plain": [
       "[5, 6, 7, 10]"
      ]
     },
     "execution_count": 292,
     "metadata": {},
     "output_type": "execute_result"
    }
   ],
   "source": [
    "# Métodos que no modifican el objeto original\n",
    "sorted(calif)"
   ]
  },
  {
   "cell_type": "code",
   "execution_count": 293,
   "id": "e65647cb",
   "metadata": {
    "slideshow": {
     "slide_type": "slide"
    }
   },
   "outputs": [
    {
     "data": {
      "text/plain": [
       "2"
      ]
     },
     "execution_count": 293,
     "metadata": {},
     "output_type": "execute_result"
    }
   ],
   "source": [
    "# Obtener los índices\n",
    "materias.index(\"Historia\")"
   ]
  },
  {
   "cell_type": "code",
   "execution_count": 294,
   "id": "69bbff68",
   "metadata": {
    "slideshow": {
     "slide_type": "-"
    }
   },
   "outputs": [
    {
     "data": {
      "text/plain": [
       "True"
      ]
     },
     "execution_count": 294,
     "metadata": {},
     "output_type": "execute_result"
    }
   ],
   "source": [
    "# Revisar si un elemento se encuentra en la lista\n",
    "\"Historia\" in materias"
   ]
  },
  {
   "cell_type": "code",
   "execution_count": 295,
   "id": "07547234",
   "metadata": {
    "slideshow": {
     "slide_type": "slide"
    }
   },
   "outputs": [
    {
     "name": "stdout",
     "output_type": "stream",
     "text": [
      "Economía\n",
      "Geografía\n",
      "Historia\n",
      "Matemáticas\n"
     ]
    }
   ],
   "source": [
    "# Las listas son objetos iterables\n",
    "\n",
    "for item in materias:\n",
    "    print(item)"
   ]
  },
  {
   "cell_type": "code",
   "execution_count": null,
   "id": "90c8b1dc",
   "metadata": {
    "slideshow": {
     "slide_type": "slide"
    }
   },
   "outputs": [],
   "source": [
    "?materias"
   ]
  },
  {
   "cell_type": "markdown",
   "id": "df0dba7d",
   "metadata": {},
   "source": [
    "A menudo, cuando se trata de iteradores, también tenemos la necesidad de llevar un recuento de. Python facilita la tarea de los programadores al proporcionar una función incorporada enumerate() que agrega un contador a un iterable y lo devuelve en forma de objeto enumerador."
   ]
  },
  {
   "cell_type": "code",
   "execution_count": 296,
   "id": "3a5bfe02",
   "metadata": {},
   "outputs": [
    {
     "name": "stdout",
     "output_type": "stream",
     "text": [
      "0 Economía\n",
      "1 Geografía\n",
      "2 Historia\n",
      "3 Matemáticas\n"
     ]
    }
   ],
   "source": [
    "# Las listas son objetos iterables\n",
    "\n",
    "for index, item in enumerate(materias):\n",
    "    print(index, item)"
   ]
  },
  {
   "cell_type": "markdown",
   "id": "90d95506",
   "metadata": {
    "slideshow": {
     "slide_type": "slide"
    }
   },
   "source": [
    "### Funciones base orientadas a matemáticas"
   ]
  },
  {
   "cell_type": "code",
   "execution_count": 297,
   "id": "b098bfea",
   "metadata": {},
   "outputs": [
    {
     "data": {
      "text/plain": [
       "5"
      ]
     },
     "execution_count": 297,
     "metadata": {},
     "output_type": "execute_result"
    }
   ],
   "source": [
    "min(calif)"
   ]
  },
  {
   "cell_type": "code",
   "execution_count": 298,
   "id": "53fbe401",
   "metadata": {},
   "outputs": [
    {
     "data": {
      "text/plain": [
       "10"
      ]
     },
     "execution_count": 298,
     "metadata": {},
     "output_type": "execute_result"
    }
   ],
   "source": [
    "max(calif)"
   ]
  },
  {
   "cell_type": "code",
   "execution_count": 299,
   "id": "c7cc4fc2",
   "metadata": {},
   "outputs": [
    {
     "data": {
      "text/plain": [
       "28"
      ]
     },
     "execution_count": 299,
     "metadata": {},
     "output_type": "execute_result"
    }
   ],
   "source": [
    "sum(calif)"
   ]
  },
  {
   "cell_type": "code",
   "execution_count": 300,
   "id": "89996aba",
   "metadata": {
    "slideshow": {
     "slide_type": "slide"
    }
   },
   "outputs": [],
   "source": [
    "# mean(calif)"
   ]
  },
  {
   "cell_type": "markdown",
   "id": "f2ee5a51",
   "metadata": {},
   "source": [
    "### Hasta aquí llega Python básico para listas"
   ]
  },
  {
   "cell_type": "markdown",
   "id": "2467f90b",
   "metadata": {
    "slideshow": {
     "slide_type": "slide"
    }
   },
   "source": [
    "## Trabajando con diccionarios\n",
    "\n",
    "En otros lenguajes pueden llamarse \"hash maps\""
   ]
  },
  {
   "cell_type": "code",
   "execution_count": 310,
   "id": "400c819f",
   "metadata": {},
   "outputs": [],
   "source": [
    "estudiante = {\n",
    "    'nombre' : 'Diego',\n",
    "    'apellido' : 'López',\n",
    "    'edad' : 26,\n",
    "    'cursos' : ['Historia','Geografía']\n",
    "}"
   ]
  },
  {
   "cell_type": "code",
   "execution_count": null,
   "id": "797dcbfd",
   "metadata": {
    "slideshow": {
     "slide_type": "slide"
    }
   },
   "outputs": [],
   "source": [
    "# Las llaves deben ser objetos inmutables: números, strings, tuplas\n",
    "\n",
    "estudiante.keys() # Sólo llaves\n",
    "estudiante.values() # Sólo valores\n",
    "estudiante.items() # En pares\n",
    "\n",
    "\n",
    "# Esto es útil para hacer loops"
   ]
  },
  {
   "cell_type": "code",
   "execution_count": 324,
   "id": "cdd44203",
   "metadata": {
    "slideshow": {
     "slide_type": "-"
    }
   },
   "outputs": [
    {
     "name": "stdout",
     "output_type": "stream",
     "text": [
      "nombre\n",
      "apellido\n",
      "edad\n",
      "cursos\n"
     ]
    }
   ],
   "source": [
    "for key, value in estudiante.items():\n",
    "    print(key)"
   ]
  },
  {
   "cell_type": "code",
   "execution_count": 302,
   "id": "cd9afcfc",
   "metadata": {
    "slideshow": {
     "slide_type": "slide"
    }
   },
   "outputs": [
    {
     "data": {
      "text/plain": [
       "'López'"
      ]
     },
     "execution_count": 302,
     "metadata": {},
     "output_type": "execute_result"
    }
   ],
   "source": [
    "# Acceso directo, pero propenso a errores\n",
    "estudiante['apellido']"
   ]
  },
  {
   "cell_type": "code",
   "execution_count": 303,
   "id": "ca981f6d",
   "metadata": {},
   "outputs": [
    {
     "data": {
      "text/plain": [
       "'No disponible'"
      ]
     },
     "execution_count": 303,
     "metadata": {},
     "output_type": "execute_result"
    }
   ],
   "source": [
    "# Método diseñado para diccionarios\n",
    "estudiante.get('teléfono', 'No disponible')"
   ]
  },
  {
   "cell_type": "code",
   "execution_count": 304,
   "id": "8f0b01d5",
   "metadata": {
    "slideshow": {
     "slide_type": "slide"
    }
   },
   "outputs": [],
   "source": [
    "estudiante['teléfono'] = '55 5555 55555'"
   ]
  },
  {
   "cell_type": "code",
   "execution_count": 305,
   "id": "0448c1ab",
   "metadata": {},
   "outputs": [
    {
     "data": {
      "text/plain": [
       "'55 5555 55555'"
      ]
     },
     "execution_count": 305,
     "metadata": {},
     "output_type": "execute_result"
    }
   ],
   "source": [
    "# Método diseñado para diccionarios\n",
    "estudiante.get('teléfono', 'No disponible')"
   ]
  },
  {
   "cell_type": "code",
   "execution_count": 306,
   "id": "c7bcc9d2",
   "metadata": {
    "slideshow": {
     "slide_type": "slide"
    }
   },
   "outputs": [
    {
     "data": {
      "text/plain": [
       "{'nombre': 'Angie',\n",
       " 'apellido': 'Fael',\n",
       " 'edad': 26,\n",
       " 'cursos': ['Historia', 'Geografía'],\n",
       " 'teléfono': '55 5555 55555'}"
      ]
     },
     "execution_count": 306,
     "metadata": {},
     "output_type": "execute_result"
    }
   ],
   "source": [
    "# Actualizar un diccionario, utilizo otro diccionario\n",
    "\n",
    "estudiante.update({'nombre' : 'Angie',\n",
    "                  'apellido' : 'Fael',})\n",
    "\n",
    "estudiante"
   ]
  },
  {
   "cell_type": "code",
   "execution_count": 307,
   "id": "da68150a",
   "metadata": {
    "slideshow": {
     "slide_type": "slide"
    }
   },
   "outputs": [
    {
     "data": {
      "text/plain": [
       "{'apellido': 'Fael',\n",
       " 'edad': 26,\n",
       " 'cursos': ['Historia', 'Geografía'],\n",
       " 'teléfono': '55 5555 55555'}"
      ]
     },
     "execution_count": 307,
     "metadata": {},
     "output_type": "execute_result"
    }
   ],
   "source": [
    "# Para eliminiar un campo\n",
    "# help(\"del\")\n",
    "del estudiante['nombre']\n",
    "estudiante"
   ]
  },
  {
   "cell_type": "code",
   "execution_count": 308,
   "id": "852bd1e5",
   "metadata": {},
   "outputs": [],
   "source": [
    "edad = estudiante.pop('edad')"
   ]
  },
  {
   "cell_type": "code",
   "execution_count": 309,
   "id": "8a24e33b",
   "metadata": {},
   "outputs": [
    {
     "data": {
      "text/plain": [
       "26"
      ]
     },
     "execution_count": 309,
     "metadata": {},
     "output_type": "execute_result"
    }
   ],
   "source": [
    "edad"
   ]
  },
  {
   "cell_type": "markdown",
   "id": "28d4fb17",
   "metadata": {
    "slideshow": {
     "slide_type": "slide"
    }
   },
   "source": [
    "# Clases en Python\n",
    "\n",
    "Una clase es un tipo de objeto.\n",
    "```python\n",
    "class Perro:\n",
    "    def __init__(self, talla, nariz):\n",
    "        self.size = talla\n",
    "        self.nose = nariz\n",
    "    pass\n",
    "```\n",
    "\n",
    "Una instancia (instance, en inglés) es un ejemplo de objeto.\n",
    "\n",
    "```python\n",
    "\n",
    "# pug es una instancia del objeto Perro\n",
    "pug = Perro(30, \"chata\")\n",
    "```"
   ]
  },
  {
   "cell_type": "markdown",
   "id": "b61994e8",
   "metadata": {
    "slideshow": {
     "slide_type": "slide"
    }
   },
   "source": [
    "Las Clases en Python son un bloque fundamental de la construcción de programas en Python.  \n",
    "\n",
    "Permiten agrupar lógicamente nuestros datos y funciones para reutilizarlas posteriormente y construir sobre estas clases.  \n",
    "\n",
    "No serán utilizadas frecuentemente "
   ]
  },
  {
   "cell_type": "code",
   "execution_count": 353,
   "id": "91d2efc8",
   "metadata": {
    "slideshow": {
     "slide_type": "slide"
    }
   },
   "outputs": [],
   "source": [
    "# Automatizar ciertos procesos\n",
    "\n",
    "# self es la instancia, o el constructor en otros lenguajes.\n",
    "# self es un argumento \"fantasma\", los demás son argumentos normales\n",
    "\n",
    "# Las clases inician con mayúscula\n",
    "\n",
    "class Empleado:\n",
    "    def __init__(self, nombre, apellido, salario):\n",
    "        self.nombre = nombre\n",
    "        self.apellido = apellido\n",
    "        self.salario = salario\n",
    "        self.email = nombre + '.' + apellido + '@empresa.com'\n",
    "    #    \n",
    "    def nom_completo(self):\n",
    "        print(self.nombre + ' ' + self.apellido)\n",
    "        \n",
    "# Tiene que venir (self) que es la instancia para que todo funione.\n",
    "# Ver el error que no sucede"
   ]
  },
  {
   "cell_type": "code",
   "execution_count": 354,
   "id": "04b0687c",
   "metadata": {
    "slideshow": {
     "slide_type": "slide"
    }
   },
   "outputs": [
    {
     "data": {
      "text/plain": [
       "<__main__.Empleado at 0x1e846bc37c0>"
      ]
     },
     "execution_count": 354,
     "metadata": {},
     "output_type": "execute_result"
    }
   ],
   "source": [
    "empleado_1 = Empleado('Diego', 'López', 1000)\n",
    "empleado_1"
   ]
  },
  {
   "cell_type": "code",
   "execution_count": 355,
   "id": "489ce0e0",
   "metadata": {},
   "outputs": [
    {
     "data": {
      "text/plain": [
       "'Diego.López@empresa.com'"
      ]
     },
     "execution_count": 355,
     "metadata": {},
     "output_type": "execute_result"
    }
   ],
   "source": [
    "empleado_1.email"
   ]
  },
  {
   "cell_type": "code",
   "execution_count": 356,
   "id": "7a8caad3",
   "metadata": {},
   "outputs": [
    {
     "name": "stdout",
     "output_type": "stream",
     "text": [
      "Diego López\n"
     ]
    }
   ],
   "source": [
    "print(empleado_1.nombre + ' ' + empleado_1.apellido)\n",
    "\n",
    "# En vez de hacer esto puedo crear un método dentro de la clase."
   ]
  },
  {
   "cell_type": "code",
   "execution_count": 357,
   "id": "c942ad57",
   "metadata": {
    "slideshow": {
     "slide_type": "slide"
    }
   },
   "outputs": [
    {
     "name": "stdout",
     "output_type": "stream",
     "text": [
      "Diego López\n"
     ]
    }
   ],
   "source": [
    "empleado_1.nom_completo()"
   ]
  },
  {
   "cell_type": "code",
   "execution_count": 361,
   "id": "32130ba7",
   "metadata": {},
   "outputs": [
    {
     "name": "stdout",
     "output_type": "stream",
     "text": [
      "Diego López\n"
     ]
    }
   ],
   "source": [
    "Empleado.nom_completo(empleado_1)\n",
    "\n",
    "# Aquí no sabe qué instancia queremos correr dentro del método\n",
    "# Hay que ponerlo.\n",
    "# Ejemplo Pipes"
   ]
  },
  {
   "cell_type": "markdown",
   "id": "6efd04a2",
   "metadata": {
    "slideshow": {
     "slide_type": "slide"
    }
   },
   "source": [
    "# Introducción a Numpy y la estructura Dataframe"
   ]
  },
  {
   "cell_type": "code",
   "execution_count": 363,
   "id": "6da0e475",
   "metadata": {},
   "outputs": [],
   "source": [
    "import numpy as np\n",
    "\n",
    "# Se abrevia generalmente para acceder a sus método más rápido\n",
    "\n",
    "# Por convención, ciertas librerías utilizan abreviaturas estándar."
   ]
  },
  {
   "cell_type": "markdown",
   "id": "7f426eb3",
   "metadata": {
    "slideshow": {
     "slide_type": "slide"
    }
   },
   "source": [
    "### Numerical Python (Numpy)\n",
    "\n",
    "Una de las librerías más utilizadas para manejo de datos.\n",
    "\n",
    "Más rápido que utilizar listas con muchos métodos."
   ]
  },
  {
   "cell_type": "markdown",
   "id": "8f8df38d",
   "metadata": {},
   "source": [
    "La unidad básica es un **numpy array**:  \n",
    "\n",
    "Una forma de vector, similar a una lista pero con más funciones"
   ]
  },
  {
   "cell_type": "code",
   "execution_count": 369,
   "id": "998ad776",
   "metadata": {},
   "outputs": [
    {
     "data": {
      "text/plain": [
       "list"
      ]
     },
     "execution_count": 369,
     "metadata": {},
     "output_type": "execute_result"
    }
   ],
   "source": [
    "type(np.array([1,2,3,4]))\n",
    "type([1,2,3,4])"
   ]
  },
  {
   "cell_type": "code",
   "execution_count": 370,
   "id": "ba153f76",
   "metadata": {
    "slideshow": {
     "slide_type": "slide"
    }
   },
   "outputs": [],
   "source": [
    "# Array (es un tipo de lista, iterable y permite operaciones vectoriales)\n",
    "\n",
    "numeros = np.array([1,2,3,4])\n",
    "floats = np.array([1.3,2.5,3.7,4.9])\n",
    "strings = np.array(['a','b','c','d'])"
   ]
  },
  {
   "cell_type": "code",
   "execution_count": 365,
   "id": "c3b5f167",
   "metadata": {},
   "outputs": [
    {
     "name": "stdout",
     "output_type": "stream",
     "text": [
      "int32\n",
      "float64\n",
      "<U1\n"
     ]
    }
   ],
   "source": [
    "print(numeros.dtype)\n",
    "print(floats.dtype)\n",
    "print(strings.dtype)"
   ]
  },
  {
   "cell_type": "code",
   "execution_count": 373,
   "id": "1543e54a",
   "metadata": {
    "slideshow": {
     "slide_type": "slide"
    }
   },
   "outputs": [
    {
     "data": {
      "text/plain": [
       "array([ 5, 10, 15, 20])"
      ]
     },
     "execution_count": 373,
     "metadata": {},
     "output_type": "execute_result"
    }
   ],
   "source": [
    "# Operaciones vectoriales\n",
    "int_array * 5"
   ]
  },
  {
   "cell_type": "code",
   "execution_count": 374,
   "id": "a1987d2b",
   "metadata": {},
   "outputs": [
    {
     "data": {
      "text/plain": [
       "[1, 2, 3, 4, 1, 2, 3, 4, 1, 2, 3, 4, 1, 2, 3, 4, 1, 2, 3, 4]"
      ]
     },
     "execution_count": 374,
     "metadata": {},
     "output_type": "execute_result"
    }
   ],
   "source": [
    "# En cambio con una lista se repite 5 veces\n",
    "[1,2,3,4]*5"
   ]
  },
  {
   "cell_type": "code",
   "execution_count": 378,
   "id": "fce3c7b5",
   "metadata": {},
   "outputs": [
    {
     "data": {
      "text/plain": [
       "(4,)"
      ]
     },
     "execution_count": 378,
     "metadata": {},
     "output_type": "execute_result"
    }
   ],
   "source": [
    "int_array.shape"
   ]
  },
  {
   "cell_type": "code",
   "execution_count": 376,
   "id": "4e2dcc0a",
   "metadata": {
    "slideshow": {
     "slide_type": "slide"
    }
   },
   "outputs": [
    {
     "name": "stdout",
     "output_type": "stream",
     "text": [
      "[[1 2]\n",
      " [3 4]]\n"
     ]
    }
   ],
   "source": [
    "# Para matrices defino dos listas\n",
    "\n",
    "A = np.array([[1,2],[3,4]])\n",
    "print(A)"
   ]
  },
  {
   "cell_type": "code",
   "execution_count": 380,
   "id": "1f85ffd7",
   "metadata": {},
   "outputs": [
    {
     "data": {
      "text/plain": [
       "(2, 2)"
      ]
     },
     "execution_count": 380,
     "metadata": {},
     "output_type": "execute_result"
    }
   ],
   "source": [
    "A.shape"
   ]
  },
  {
   "cell_type": "code",
   "execution_count": 382,
   "id": "f288ef07",
   "metadata": {},
   "outputs": [],
   "source": [
    "# Para tener ayuda sobre un objeto\n",
    "# ?A\n",
    "# ?A.shape"
   ]
  },
  {
   "cell_type": "code",
   "execution_count": 384,
   "id": "39aa559d",
   "metadata": {},
   "outputs": [],
   "source": []
  }
 ],
 "metadata": {
  "celltoolbar": "Slideshow",
  "kernelspec": {
   "display_name": "Python 3",
   "language": "python",
   "name": "python3"
  },
  "language_info": {
   "codemirror_mode": {
    "name": "ipython",
    "version": 3
   },
   "file_extension": ".py",
   "mimetype": "text/x-python",
   "name": "python",
   "nbconvert_exporter": "python",
   "pygments_lexer": "ipython3",
   "version": "3.8.8"
  }
 },
 "nbformat": 4,
 "nbformat_minor": 5
}
