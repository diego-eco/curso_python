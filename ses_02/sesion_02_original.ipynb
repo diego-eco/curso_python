{
 "cells": [
  {
   "cell_type": "markdown",
   "id": "d92a4de3",
   "metadata": {},
   "source": [
    "# Python para economistas\n",
    "\n",
    "### Mtro. Diego López Tamayo\n",
    "#### El Colegio de México\n",
    "#### BBVA Research"
   ]
  },
  {
   "cell_type": "markdown",
   "id": "c63e1d54",
   "metadata": {
    "slideshow": {
     "slide_type": "slide"
    }
   },
   "source": [
    "# Sesión 2\n",
    "\n",
    "- Definición de funciones por el usuario. Alcance, argumentos\n",
    "- Secuencias y loops: `while, if, else, elif` Ejemplo de cada uno\n",
    "- Lambda functions\n",
    "- Diccionarios básicos y por comprensión\n",
    "- Ejemplo: Diccionario\n",
    "- Clases y métodos\n",
    "- Explicar qué es una clase y revisar métodos base Python\n",
    "- Introducción a Numpy arrays\n",
    "- ¿Qué es un data.frame?, propiedades, índices\n",
    "- Configurando Python en Stata, R y Matlab"
   ]
  },
  {
   "cell_type": "markdown",
   "id": "5d738d28",
   "metadata": {
    "slideshow": {
     "slide_type": "slide"
    }
   },
   "source": [
    "# Funciones\n",
    "\n",
    "* Funciones integradas como `sum` o` print`\n",
    "* Funciones definidas por el usuario con declaración de palabras clave `def`"
   ]
  },
  {
   "cell_type": "code",
   "execution_count": null,
   "id": "e66ce908",
   "metadata": {},
   "outputs": [],
   "source": [
    "print(\"Hola mundo\")"
   ]
  },
  {
   "cell_type": "code",
   "execution_count": null,
   "id": "f2f363f6",
   "metadata": {},
   "outputs": [],
   "source": []
  },
  {
   "cell_type": "markdown",
   "id": "d67386c8",
   "metadata": {
    "slideshow": {
     "slide_type": "slide"
    }
   },
   "source": [
    "- Python es un lenguaje indentado (sangrías). Los niveles de indentación vienen dados por un doble espacio / tabulador.\n",
    "- Las variables que definimos dentro de una función, viven sólo dentro de esa función y no podemos acceder a ellas en el ambiente global. \n",
    "- A esto llamamos el **Namespace** -> Todas las variables definidas adentro de un contexto"
   ]
  },
  {
   "cell_type": "code",
   "execution_count": null,
   "id": "d97877e1",
   "metadata": {},
   "outputs": [],
   "source": []
  },
  {
   "cell_type": "code",
   "execution_count": null,
   "id": "6576ca2e",
   "metadata": {},
   "outputs": [],
   "source": []
  },
  {
   "cell_type": "markdown",
   "id": "e85896ea",
   "metadata": {
    "slideshow": {
     "slide_type": "slide"
    }
   },
   "source": [
    "### *if* statement"
   ]
  },
  {
   "cell_type": "code",
   "execution_count": null,
   "id": "35351ad2",
   "metadata": {},
   "outputs": [],
   "source": [
    "if 2 == 4 - 2: \n",
    "  print(\"Es verdad\")"
   ]
  },
  {
   "cell_type": "code",
   "execution_count": 2,
   "id": "3cb9b9fe",
   "metadata": {},
   "outputs": [],
   "source": [
    "# return values\n",
    "def user_name_check(user_name):\n",
    "  if user_name == \"Diego\":\n",
    "    return \"Bienvenido Diego\"\n",
    "  if user_name != \"Diego\":\n",
    "    return \"No eres bienvenido desconocido\""
   ]
  },
  {
   "cell_type": "code",
   "execution_count": null,
   "id": "d99acbe9",
   "metadata": {},
   "outputs": [],
   "source": [
    "user_name_check(\"José\")"
   ]
  },
  {
   "cell_type": "markdown",
   "id": "69ca2062",
   "metadata": {
    "slideshow": {
     "slide_type": "slide"
    }
   },
   "source": [
    "### *else* statement"
   ]
  },
  {
   "cell_type": "code",
   "execution_count": null,
   "id": "6cda8d6b",
   "metadata": {},
   "outputs": [],
   "source": [
    "def user_name_check(user_name):\n",
    "  if user_name == \"Diego\":\n",
    "    return \"Bienvenido Diego\"\n",
    "  else:\n",
    "    return \"No eres bienvenido desconocido\""
   ]
  },
  {
   "cell_type": "code",
   "execution_count": null,
   "id": "0a7e9ae4",
   "metadata": {},
   "outputs": [],
   "source": [
    "user_name_check(\"Diego\")"
   ]
  },
  {
   "cell_type": "markdown",
   "id": "e08efb97",
   "metadata": {
    "slideshow": {
     "slide_type": "slide"
    }
   },
   "source": [
    "### *elif* statement = *else* + *if*"
   ]
  },
  {
   "cell_type": "markdown",
   "id": "2a51b99d",
   "metadata": {},
   "source": [
    "Podemos usar declaraciones elif para controlar el orden en que queremos que nuestro programa verifique cada una de nuestras declaraciones condicionales.   \n",
    "\n",
    "Primero, se verifica la instrucción if, luego se verifica cada instrucción elif de arriba a abajo, luego, finalmente, se ejecuta el código else si no se ha cumplido ninguna de las condiciones anteriores."
   ]
  },
  {
   "cell_type": "code",
   "execution_count": null,
   "id": "d77b76bc",
   "metadata": {},
   "outputs": [],
   "source": [
    "def convertidor_calif(calif):\n",
    "  grade = \"Reprobado\"\n",
    "  if calif >= 9.0:\n",
    "    grade = \"Excelente\"\n",
    "  elif calif >= 8.0:\n",
    "    grade = \"Muy bien\"\n",
    "  elif calif >= 7.0:\n",
    "    grade = \"Bien\"\n",
    "  elif calif >= 6.0:\n",
    "    grade = \"Ánimo\"\n",
    "  return grade"
   ]
  },
  {
   "cell_type": "code",
   "execution_count": null,
   "id": "8cf77921",
   "metadata": {},
   "outputs": [],
   "source": [
    "convertidor_calif(8.5)"
   ]
  },
  {
   "cell_type": "markdown",
   "id": "2e63b2d7",
   "metadata": {
    "slideshow": {
     "slide_type": "slide"
    }
   },
   "source": [
    "## Statements, functions and more\n",
    "\n",
    " * Looping: `for`, `while`\n",
    " * Conditional: `if`, `else`\n",
    " * Catching \"bugs\": `try`, `except`"
   ]
  },
  {
   "cell_type": "code",
   "execution_count": null,
   "id": "0fc96238",
   "metadata": {},
   "outputs": [],
   "source": [
    "for x in [1, 2, 3]:\n",
    "    print(x)"
   ]
  },
  {
   "cell_type": "code",
   "execution_count": null,
   "id": "f449ed69",
   "metadata": {},
   "outputs": [],
   "source": [
    "# Range da un iterador de números enteros entre dos valores dados los argumentos\n",
    "# 8 excluido\n",
    "range(1, 8)"
   ]
  },
  {
   "cell_type": "code",
   "execution_count": null,
   "id": "b3fda99c",
   "metadata": {
    "slideshow": {
     "slide_type": "-"
    }
   },
   "outputs": [],
   "source": [
    "for x in range(9):\n",
    "    print(x)"
   ]
  },
  {
   "cell_type": "code",
   "execution_count": null,
   "id": "4be40341",
   "metadata": {
    "slideshow": {
     "slide_type": "slide"
    }
   },
   "outputs": [],
   "source": [
    "def ejemplo(a, b, c, o):\n",
    "    print(o)"
   ]
  },
  {
   "cell_type": "code",
   "execution_count": null,
   "id": "01b2e1b6",
   "metadata": {},
   "outputs": [],
   "source": [
    "# El orden importa!\n",
    "ejemplo(1, 2, 3, 4)\n",
    "ejemplo(4, 3, 2, 1)"
   ]
  },
  {
   "cell_type": "code",
   "execution_count": null,
   "id": "4ec6f4c6",
   "metadata": {
    "slideshow": {
     "slide_type": "slide"
    }
   },
   "outputs": [],
   "source": [
    "# Keyword arguments, siempre tiene un valor pr default\n",
    "def ejemplo(a,b, arg=6):\n",
    "    print(arg)"
   ]
  },
  {
   "cell_type": "code",
   "execution_count": null,
   "id": "05bd6a81",
   "metadata": {},
   "outputs": [],
   "source": [
    "# Los  keyword arguments siempre van después de los arguments normales\n",
    "ejemplo(9, 8, arg=10)"
   ]
  },
  {
   "cell_type": "code",
   "execution_count": 3,
   "id": "a39a4a0f",
   "metadata": {
    "slideshow": {
     "slide_type": "slide"
    }
   },
   "outputs": [],
   "source": [
    "# Pasar un número indefinido de argumentos a una función\n",
    "# Con el símbolo \"*\"\n",
    "def ejemplo(*args):\n",
    "    print(args)"
   ]
  },
  {
   "cell_type": "code",
   "execution_count": 4,
   "id": "feb69667",
   "metadata": {},
   "outputs": [
    {
     "name": "stdout",
     "output_type": "stream",
     "text": [
      "(1, 2, 3, 4, 5, 6, 7)\n"
     ]
    }
   ],
   "source": [
    "ejemplo(1, 2, 3, 4, 5, 6, 7)"
   ]
  },
  {
   "cell_type": "code",
   "execution_count": 5,
   "id": "9efab5f1",
   "metadata": {
    "slideshow": {
     "slide_type": "slide"
    }
   },
   "outputs": [],
   "source": [
    "# Parámetros múltiples\n",
    "\n",
    "def saludar_cliente(nombre_tienda, producto):\n",
    "  print(\"Bienvenido a \"+ nombre_tienda + \".\")\n",
    "  print(\"Hoy en oferta: \" + producto + \".\")\n",
    "  print(\"Excelente día\")"
   ]
  },
  {
   "cell_type": "code",
   "execution_count": 6,
   "id": "a650b6a2",
   "metadata": {},
   "outputs": [
    {
     "name": "stdout",
     "output_type": "stream",
     "text": [
      "Bienvenido a Superama.\n",
      "Hoy en oferta: papayas.\n",
      "Excelente día\n"
     ]
    }
   ],
   "source": [
    "saludar_cliente(\"Superama\", \"papayas\")"
   ]
  },
  {
   "cell_type": "markdown",
   "id": "068fca9d",
   "metadata": {
    "slideshow": {
     "slide_type": "slide"
    }
   },
   "source": [
    "### `try` & `except` statements"
   ]
  },
  {
   "cell_type": "code",
   "execution_count": 7,
   "id": "b54f40f3",
   "metadata": {},
   "outputs": [
    {
     "name": "stdout",
     "output_type": "stream",
     "text": [
      "0.75\n"
     ]
    }
   ],
   "source": [
    "def divides(a,b):\n",
    "  try:\n",
    "    result = a / b\n",
    "    print (result)\n",
    "  except ZeroDivisionError:\n",
    "    print (\"Can't divide by zero!\")\n",
    "\n",
    "divides(3,4)"
   ]
  },
  {
   "cell_type": "markdown",
   "id": "c33f69e4",
   "metadata": {
    "slideshow": {
     "slide_type": "slide"
    }
   },
   "source": [
    "## Lamda function"
   ]
  },
  {
   "cell_type": "code",
   "execution_count": null,
   "id": "96866bef",
   "metadata": {},
   "outputs": [],
   "source": []
  },
  {
   "cell_type": "markdown",
   "id": "1629d6c8",
   "metadata": {},
   "source": [
    "## Trabajando con listas"
   ]
  },
  {
   "cell_type": "code",
   "execution_count": 8,
   "id": "d53c722d",
   "metadata": {},
   "outputs": [],
   "source": [
    "# Creamos una lista vacía para después llenarla\n",
    "empty_list = []"
   ]
  },
  {
   "cell_type": "code",
   "execution_count": 9,
   "id": "aa3d0bce",
   "metadata": {},
   "outputs": [
    {
     "data": {
      "text/plain": [
       "[1]"
      ]
     },
     "execution_count": 9,
     "metadata": {},
     "output_type": "execute_result"
    }
   ],
   "source": [
    "# Los objetos como las listas tienen \"métodos\" = función que pertenece a un objeto\n",
    "empty_list.append(1)\n",
    "empty_list"
   ]
  },
  {
   "cell_type": "code",
   "execution_count": null,
   "id": "ef3df24f",
   "metadata": {},
   "outputs": [],
   "source": []
  }
 ],
 "metadata": {
  "celltoolbar": "Slideshow",
  "kernelspec": {
   "display_name": "Python 3",
   "language": "python",
   "name": "python3"
  },
  "language_info": {
   "codemirror_mode": {
    "name": "ipython",
    "version": 3
   },
   "file_extension": ".py",
   "mimetype": "text/x-python",
   "name": "python",
   "nbconvert_exporter": "python",
   "pygments_lexer": "ipython3",
   "version": "3.8.8"
  }
 },
 "nbformat": 4,
 "nbformat_minor": 5
}
