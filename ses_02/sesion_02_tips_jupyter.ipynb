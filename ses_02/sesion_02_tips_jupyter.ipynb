{
 "cells": [
  {
   "cell_type": "markdown",
   "id": "ee82f37b",
   "metadata": {},
   "source": [
    "## Tips para utilizar Jupyter Notebooks\n",
    "\n",
    "Recordar que tenemos dos modos para las celdas\n",
    "\n",
    "- Modo edición -> Celda verde, entramos dando clic o con \"Enter\"\n",
    "- Modo administrador (comando) -> Celda azul, salimos de modo edición con \"Escape\"\n",
    "\n",
    "#### Para usuarios de Mac utilizen Cmd en vez de Ctrl"
   ]
  },
  {
   "cell_type": "markdown",
   "id": "ba76811d",
   "metadata": {},
   "source": [
    "### Tips para modo administrador"
   ]
  },
  {
   "cell_type": "code",
   "execution_count": 26,
   "id": "537fa2ae",
   "metadata": {},
   "outputs": [],
   "source": [
    "# \"h\" para ayuda y atajos (help)"
   ]
  },
  {
   "cell_type": "code",
   "execution_count": 27,
   "id": "f6019f97",
   "metadata": {},
   "outputs": [],
   "source": [
    "# Añadir celda nueva con \"a\" (para arriba) y \"b\" (para abajo)"
   ]
  },
  {
   "cell_type": "markdown",
   "id": "acf5568d",
   "metadata": {},
   "source": [
    "Quiero ser una celda de código, oprimimos \"Y\"\n",
    "Quiero ser una celda de markdown, oprimimos \"M\""
   ]
  },
  {
   "cell_type": "code",
   "execution_count": 28,
   "id": "eee3a679",
   "metadata": {},
   "outputs": [],
   "source": [
    "# Cut -> \"x\"\n",
    "# Copy -> \"c\"\n",
    "# Paste -> \"v\"\n",
    "# Undo -> \"z\"\n",
    "# Borrar celda -> \"D + D\""
   ]
  },
  {
   "cell_type": "code",
   "execution_count": 29,
   "id": "7cb2e986",
   "metadata": {},
   "outputs": [],
   "source": [
    "# Cortamos esta celda"
   ]
  },
  {
   "cell_type": "code",
   "execution_count": 30,
   "id": "f69f1765",
   "metadata": {},
   "outputs": [],
   "source": [
    "# Merge celdas con \"shift + M\"\n",
    "# Separamos celdas con \"ctrl + shift + guión medio(-)\" estando al final de la línea"
   ]
  },
  {
   "cell_type": "code",
   "execution_count": 31,
   "id": "b21d9276",
   "metadata": {},
   "outputs": [],
   "source": [
    "# Merge 1"
   ]
  },
  {
   "cell_type": "code",
   "execution_count": 32,
   "id": "26de2ac6",
   "metadata": {},
   "outputs": [],
   "source": [
    "# Merge 2"
   ]
  },
  {
   "cell_type": "code",
   "execution_count": 33,
   "id": "38d1040c",
   "metadata": {},
   "outputs": [],
   "source": [
    "# Merge 3"
   ]
  },
  {
   "cell_type": "markdown",
   "id": "e34532ba",
   "metadata": {},
   "source": [
    "Find and Replace: \"F\"  \n",
    "\n",
    "Reemplazamos Merge con Combine"
   ]
  },
  {
   "cell_type": "code",
   "execution_count": 34,
   "id": "402fd297",
   "metadata": {},
   "outputs": [],
   "source": [
    "# Activamos números de línea con \"shift + L\". Útiles para comentar o debbuging"
   ]
  },
  {
   "cell_type": "markdown",
   "id": "6037395b",
   "metadata": {},
   "source": [
    " ### Tips para modo edición"
   ]
  },
  {
   "cell_type": "code",
   "execution_count": 35,
   "id": "626518bf",
   "metadata": {},
   "outputs": [],
   "source": [
    "# Correr celda: \"ctrl + enter\"\n",
    "# Correr celda e incertar celda debajo \"alt + enter\"\n",
    "# Correr celda y pasar a celda debajo \"shift + enter\" (en la última línea ambos comados hacen lo mismo)"
   ]
  },
  {
   "cell_type": "code",
   "execution_count": 36,
   "id": "1aaf3050",
   "metadata": {},
   "outputs": [],
   "source": [
    "# Ejemplo de tips cuando trabajamos con librerías\n",
    "import pandas as pd"
   ]
  },
  {
   "cell_type": "code",
   "execution_count": 37,
   "id": "c4c9d7f0",
   "metadata": {},
   "outputs": [],
   "source": [
    "#pd. # tab para mostrar los métodos del objeto\n",
    "#pd.read_csv() # Tooltips para conocer la función (\"shift + tab (4 veces para ventana grande)\")"
   ]
  },
  {
   "cell_type": "code",
   "execution_count": 38,
   "id": "69221749",
   "metadata": {},
   "outputs": [],
   "source": [
    "# Autocompletado\n",
    "variable_string = \"Hola mundo\""
   ]
  },
  {
   "cell_type": "code",
   "execution_count": 39,
   "id": "646c7c41",
   "metadata": {},
   "outputs": [],
   "source": [
    "# La variable debe estar en la memoria\n"
   ]
  },
  {
   "cell_type": "code",
   "execution_count": 40,
   "id": "af122a45",
   "metadata": {},
   "outputs": [],
   "source": [
    "# Nombres similares nos muestra todas las coincidencias\n",
    "var_1 = 1\n",
    "var_2 = 2"
   ]
  },
  {
   "cell_type": "code",
   "execution_count": null,
   "id": "d35e8f70",
   "metadata": {},
   "outputs": [],
   "source": []
  },
  {
   "cell_type": "code",
   "execution_count": 41,
   "id": "5d6cbd1c",
   "metadata": {},
   "outputs": [],
   "source": [
    "# Directorio actual (print working directory)"
   ]
  },
  {
   "cell_type": "code",
   "execution_count": 42,
   "id": "a9397d2a",
   "metadata": {},
   "outputs": [
    {
     "data": {
      "text/plain": [
       "'C:\\\\Users\\\\lopez\\\\Curso Python UGTO\\\\ses_02'"
      ]
     },
     "execution_count": 42,
     "metadata": {},
     "output_type": "execute_result"
    }
   ],
   "source": [
    "pwd"
   ]
  },
  {
   "cell_type": "code",
   "execution_count": 43,
   "id": "d8cbef6a",
   "metadata": {},
   "outputs": [],
   "source": [
    "# Autocompletado para archivos y carpetas data/sample.csv\n",
    "# pd.read_csv()"
   ]
  },
  {
   "cell_type": "code",
   "execution_count": 44,
   "id": "53541d6b",
   "metadata": {},
   "outputs": [],
   "source": [
    "# Comentar rápidamente una(s) línea(s) de código \"ctrl + /\"\n",
    "# print(\"Quiero comentar esto\")"
   ]
  },
  {
   "cell_type": "code",
   "execution_count": 45,
   "id": "bf7ff5ff",
   "metadata": {},
   "outputs": [],
   "source": [
    "# Para cambiar el ancho de las casillas en Jupyter para que ocupen toda la pantalla\n",
    "# from IPython.core.display import display,HTML\n",
    "# display(HTML(\"<style>.container { width : 100% !important; }</style>\"))"
   ]
  },
  {
   "cell_type": "code",
   "execution_count": 46,
   "id": "dd58e36a",
   "metadata": {},
   "outputs": [],
   "source": [
    "# \"Lorem ipsum dolor sit amet, consectetur adipiscing elit, sed do eiusmod tempor incididunt ut labore et dolore magna aliqua. Ut enim ad minim veniam, quis nostrud\""
   ]
  },
  {
   "cell_type": "markdown",
   "id": "ede2d750",
   "metadata": {},
   "source": [
    "###  Extra: Cursores múltiples"
   ]
  },
  {
   "cell_type": "code",
   "execution_count": 47,
   "id": "2f68e910",
   "metadata": {},
   "outputs": [],
   "source": [
    "# Queremos añadir el sufijo _2020 a dos o más variables\n",
    "# Mantenemos apretado \"ctrl\" y damos clic donde queremos nuestro cursos adicional\n",
    "ingreso = 25300\n",
    "gasto = 15000"
   ]
  },
  {
   "cell_type": "code",
   "execution_count": 48,
   "id": "7181e95e",
   "metadata": {},
   "outputs": [],
   "source": [
    "# Quizá sea más rápido hacerlo para múltiples líneas al inicio o al final\n",
    "# Mantenemos apretado \"alt\" y la flecha izquierda o derecha para modificar múltiples líneas"
   ]
  },
  {
   "cell_type": "code",
   "execution_count": 1,
   "id": "f27cfa22",
   "metadata": {},
   "outputs": [],
   "source": [
    "consumo = 25300\n",
    "inversion = 15000\n",
    "gasto = 25300\n",
    "exportaciones = 15000\n",
    "importaciones = 25300"
   ]
  }
 ],
 "metadata": {
  "kernelspec": {
   "display_name": "Python 3",
   "language": "python",
   "name": "python3"
  },
  "language_info": {
   "codemirror_mode": {
    "name": "ipython",
    "version": 3
   },
   "file_extension": ".py",
   "mimetype": "text/x-python",
   "name": "python",
   "nbconvert_exporter": "python",
   "pygments_lexer": "ipython3",
   "version": "3.8.8"
  }
 },
 "nbformat": 4,
 "nbformat_minor": 5
}
