{
 "cells": [
  {
   "cell_type": "markdown",
   "id": "ee82f37b",
   "metadata": {},
   "source": [
    "## Tips para utilizar Jupyter Notebooks\n",
    "\n",
    "Recordar que tenemos dos modos para las celdas\n",
    "\n",
    "- Modo edición -> Celda verde, entramos dando clic o con \"Enter\"\n",
    "- Modo administrador (comando) -> Celda azul, salimos de modo edición con \"Escape\"\n",
    "\n",
    "#### Para usuarios de Mac utilizen Cmd en vez de Ctrl"
   ]
  },
  {
   "cell_type": "markdown",
   "id": "ba76811d",
   "metadata": {},
   "source": [
    "### Tips para modo administrador"
   ]
  },
  {
   "cell_type": "code",
   "execution_count": 26,
   "id": "537fa2ae",
   "metadata": {},
   "outputs": [],
   "source": [
    "# \"H\" para ayuda y atajos (help)"
   ]
  },
  {
   "cell_type": "code",
   "execution_count": 27,
   "id": "f6019f97",
   "metadata": {},
   "outputs": [],
   "source": [
    "# Añadir celda nueva con \"a\" (para arriba) y \"b\" (para abajo)"
   ]
  },
  {
   "cell_type": "markdown",
   "id": "1c3794b3",
   "metadata": {},
   "source": [
    "Quiero ser una celda de código, oprimimos \"Y\"\n",
    "Quiero ser una celda de markdown, oprimimos \"M\""
   ]
  },
  {
   "cell_type": "code",
   "execution_count": 28,
   "id": "eee3a679",
   "metadata": {},
   "outputs": [],
   "source": [
    "# Cut -> \"x\"\n",
    "# Copy -> \"c\"\n",
    "# Paste -> \"v\"\n",
    "# Undo -> \"z\"  Recrear el último movimiento\n",
    "# ctrl + z es válido dentro de la casilla\n",
    "# Borrar celda -> \"D + D\""
   ]
  },
  {
   "cell_type": "code",
   "execution_count": 29,
   "id": "7cb2e986",
   "metadata": {},
   "outputs": [],
   "source": [
    "# Cortamos, copiamos y pegamos esta celda"
   ]
  },
  {
   "cell_type": "code",
   "execution_count": null,
   "id": "739d7915",
   "metadata": {},
   "outputs": [],
   "source": [
    "# Merge de celdas con \"shift + M\"\n",
    "# Separar casillas: Nos paramos al final de la línea a partir de la cuál separar. \"ctrl + alt + shift\""
   ]
  },
  {
   "cell_type": "code",
   "execution_count": null,
   "id": "14b3a4b6",
   "metadata": {},
   "outputs": [],
   "source": [
    "# Merge 1"
   ]
  },
  {
   "cell_type": "code",
   "execution_count": null,
   "id": "b5f9aac7",
   "metadata": {},
   "outputs": [],
   "source": [
    "# Merge 2"
   ]
  },
  {
   "cell_type": "code",
   "execution_count": null,
   "id": "cea616f4",
   "metadata": {},
   "outputs": [],
   "source": [
    "# Merge 3 "
   ]
  },
  {
   "cell_type": "markdown",
   "id": "e34532ba",
   "metadata": {},
   "source": [
    "Find and Replace: \"F\"  \n",
    "\n",
    "Reemplazamos Merge con Combine"
   ]
  },
  {
   "cell_type": "code",
   "execution_count": 3,
   "id": "402fd297",
   "metadata": {},
   "outputs": [],
   "source": [
    "# Activamos números de línea con \"shift + L\". Útiles para comentar o debbuging"
   ]
  },
  {
   "cell_type": "markdown",
   "id": "6037395b",
   "metadata": {},
   "source": [
    " ### Tips para modo edición"
   ]
  },
  {
   "cell_type": "code",
   "execution_count": 5,
   "id": "626518bf",
   "metadata": {},
   "outputs": [],
   "source": [
    "# Correr celda: \"ctrl + enter\"\n",
    "# Correr celda e incertar celda debajo \"alt + enter\"\n",
    "# Correr celda y pasar a celda debajo \"shift + enter\" (en la última línea ambos comados hacen lo mismo)"
   ]
  },
  {
   "cell_type": "code",
   "execution_count": 6,
   "id": "1aaf3050",
   "metadata": {},
   "outputs": [],
   "source": [
    "# Ejemplo de tips cuando trabajamos con librerías\n",
    "import pandas as pd\n",
    "import numpy as np\n",
    "\n",
    "# Buenas prácticas: Abreviar la librería"
   ]
  },
  {
   "cell_type": "code",
   "execution_count": 9,
   "id": "c4c9d7f0",
   "metadata": {},
   "outputs": [],
   "source": [
    "# pd. # tab para mostrar los métodos del objeto (tab)\n",
    "# pd.read_csv() # Tooltips para conocer la función (\"shift + tab (4 veces para ventana grande)\")"
   ]
  },
  {
   "cell_type": "code",
   "execution_count": 10,
   "id": "69221749",
   "metadata": {},
   "outputs": [],
   "source": [
    "# Autocompletado\n",
    "variable_string = \"Hola mundo\""
   ]
  },
  {
   "cell_type": "code",
   "execution_count": 11,
   "id": "646c7c41",
   "metadata": {},
   "outputs": [
    {
     "data": {
      "text/plain": [
       "'Hola mundo'"
      ]
     },
     "execution_count": 11,
     "metadata": {},
     "output_type": "execute_result"
    }
   ],
   "source": [
    "# La variable debe estar en la memoria (tab)\n",
    "variable_string"
   ]
  },
  {
   "cell_type": "code",
   "execution_count": 12,
   "id": "af122a45",
   "metadata": {},
   "outputs": [],
   "source": [
    "# Nombres similares nos muestra todas las coincidencias\n",
    "var_1 = 1\n",
    "var_2 = 2"
   ]
  },
  {
   "cell_type": "code",
   "execution_count": 41,
   "id": "5d6cbd1c",
   "metadata": {},
   "outputs": [],
   "source": [
    "# Directorio actual (print working directory)"
   ]
  },
  {
   "cell_type": "code",
   "execution_count": 17,
   "id": "a9397d2a",
   "metadata": {},
   "outputs": [
    {
     "data": {
      "text/plain": [
       "'C:\\\\Users\\\\lopez\\\\Curso Python UGTO\\\\ses_02'"
      ]
     },
     "execution_count": 17,
     "metadata": {},
     "output_type": "execute_result"
    }
   ],
   "source": [
    "pwd"
   ]
  },
  {
   "cell_type": "code",
   "execution_count": 43,
   "id": "d8cbef6a",
   "metadata": {},
   "outputs": [],
   "source": [
    "# Autocompletado para archivos y carpetas data/sample.csv\n",
    "# pd.read_csv(\"data/sample.csv\")"
   ]
  },
  {
   "cell_type": "code",
   "execution_count": 44,
   "id": "53541d6b",
   "metadata": {},
   "outputs": [],
   "source": [
    "# Comentar rápidamente una(s) línea(s) de código \"ctrl + /\"\n",
    "\n",
    "# print(\"Quiero comentar esto\")\n",
    "# print(\"Quiero comentar esto\")\n",
    "# print(\"Quiero comentar esto\")\n",
    "# print(\"Quiero comentar esto\")\n",
    "# print(\"Quiero comentar esto\")"
   ]
  },
  {
   "cell_type": "code",
   "execution_count": 19,
   "id": "bf7ff5ff",
   "metadata": {},
   "outputs": [
    {
     "data": {
      "text/html": [
       "<style>.container { width : 80% !important; }</style>"
      ],
      "text/plain": [
       "<IPython.core.display.HTML object>"
      ]
     },
     "metadata": {},
     "output_type": "display_data"
    }
   ],
   "source": [
    "# Para cambiar el ancho de las casillas en Jupyter para que ocupen toda la pantalla\n",
    "from IPython.core.display import display,HTML\n",
    "display(HTML(\"<style>.container { width : 80% !important; }</style>\"))"
   ]
  },
  {
   "cell_type": "code",
   "execution_count": 46,
   "id": "dd58e36a",
   "metadata": {},
   "outputs": [],
   "source": [
    "# \"Lorem ipsum dolor sit amet, consectetur adipiscing elit, sed do eiusmod tempor incididunt ut labore et dolore magna aliqua. Ut enim ad minim veniam, quis nostrud\""
   ]
  },
  {
   "cell_type": "markdown",
   "id": "ede2d750",
   "metadata": {},
   "source": [
    "###  Extra: Cursores múltiples"
   ]
  },
  {
   "cell_type": "code",
   "execution_count": 47,
   "id": "2f68e910",
   "metadata": {},
   "outputs": [],
   "source": [
    "# Queremos añadir el sufijo _2020 a dos o más variables\n",
    "# Mantenemos apretado \"ctrl\" y damos clic donde queremos nuestro cursos adicional\n",
    "\n",
    "ingreso = 25300\n",
    "gasto = 15000"
   ]
  },
  {
   "cell_type": "code",
   "execution_count": 48,
   "id": "7181e95e",
   "metadata": {},
   "outputs": [],
   "source": [
    "# Quizá sea más rápido hacerlo para múltiples líneas al inicio o al final\n",
    "# Mantenemos apretado \"alt\" y la flecha izquierda o derecha para modificar múltiples líneas"
   ]
  },
  {
   "cell_type": "code",
   "execution_count": 20,
   "id": "f27cfa22",
   "metadata": {},
   "outputs": [],
   "source": [
    "consumo = 25300\n",
    "inversion = 150\n",
    "gasto = 25300\n",
    "exportaciones = 15000\n",
    "importaciones = 25300"
   ]
  }
 ],
 "metadata": {
  "kernelspec": {
   "display_name": "Python 3",
   "language": "python",
   "name": "python3"
  },
  "language_info": {
   "codemirror_mode": {
    "name": "ipython",
    "version": 3
   },
   "file_extension": ".py",
   "mimetype": "text/x-python",
   "name": "python",
   "nbconvert_exporter": "python",
   "pygments_lexer": "ipython3",
   "version": "3.8.8"
  }
 },
 "nbformat": 4,
 "nbformat_minor": 5
}
