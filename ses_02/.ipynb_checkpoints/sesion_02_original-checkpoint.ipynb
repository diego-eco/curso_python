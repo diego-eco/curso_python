{
 "cells": [
  {
   "cell_type": "markdown",
   "id": "d92a4de3",
   "metadata": {},
   "source": [
    "# Python para economistas\n",
    "\n",
    "### Mtro. Diego López Tamayo\n",
    "#### El Colegio de México\n",
    "#### BBVA Research"
   ]
  },
  {
   "cell_type": "markdown",
   "id": "c63e1d54",
   "metadata": {
    "slideshow": {
     "slide_type": "slide"
    }
   },
   "source": [
    "# Sesión 2\n",
    "\n",
    "- Definición de funciones por el usuario. Alcance, argumentos\n",
    "- Secuencias y loops: `while, if, else, elif` Ejemplo de cada uno\n",
    "- Lambda functions\n",
    "- Modificando listas\n",
    "- Trabajando con diccionarios\n",
    "- Clases y métodos\n",
    "- Introducción a Numpy arrays"
   ]
  },
  {
   "cell_type": "markdown",
   "id": "5d738d28",
   "metadata": {
    "slideshow": {
     "slide_type": "slide"
    }
   },
   "source": [
    "# Funciones\n",
    "\n",
    "* Funciones integradas como `sum` o` print`\n",
    "* Funciones definidas por el usuario con declaración de palabras clave `def`"
   ]
  },
  {
   "cell_type": "code",
   "execution_count": 2,
   "id": "e66ce908",
   "metadata": {},
   "outputs": [
    {
     "name": "stdout",
     "output_type": "stream",
     "text": [
      "Hola mundo\n"
     ]
    }
   ],
   "source": [
    "print(\"Hola mundo\")"
   ]
  },
  {
   "cell_type": "code",
   "execution_count": null,
   "id": "f2f363f6",
   "metadata": {},
   "outputs": [],
   "source": []
  },
  {
   "cell_type": "markdown",
   "id": "d67386c8",
   "metadata": {
    "slideshow": {
     "slide_type": "slide"
    }
   },
   "source": [
    "- Python es un lenguaje indentado (sangrías). Los niveles de indentación vienen dados por un doble espacio / tabulador.\n",
    "- Las variables que definimos dentro de una función, viven sólo dentro de esa función y no podemos acceder a ellas en el ambiente global. \n",
    "- A esto llamamos el **Namespace** -> Todas las variables definidas adentro de un contexto"
   ]
  },
  {
   "cell_type": "code",
   "execution_count": 3,
   "id": "d97877e1",
   "metadata": {},
   "outputs": [],
   "source": [
    "# La sangría se refiere a agregar espacios en blanco antes de una declaración\n",
    "# La sangría de Python es una forma de decirle a un intérprete de Python que el grupo \n",
    "# de declaraciones pertenece a un bloque de código en particular"
   ]
  },
  {
   "cell_type": "code",
   "execution_count": 4,
   "id": "6576ca2e",
   "metadata": {},
   "outputs": [],
   "source": [
    "def funcion_pruba():\n",
    "    pass"
   ]
  },
  {
   "cell_type": "markdown",
   "id": "e85896ea",
   "metadata": {
    "slideshow": {
     "slide_type": "slide"
    }
   },
   "source": [
    "### *if* statement"
   ]
  },
  {
   "cell_type": "code",
   "execution_count": 5,
   "id": "35351ad2",
   "metadata": {},
   "outputs": [
    {
     "name": "stdout",
     "output_type": "stream",
     "text": [
      "Es verdad\n"
     ]
    }
   ],
   "source": [
    "if 2 == 4 - 2: \n",
    "  print(\"Es verdad\")"
   ]
  },
  {
   "cell_type": "code",
   "execution_count": 6,
   "id": "3cb9b9fe",
   "metadata": {},
   "outputs": [],
   "source": [
    "# return values\n",
    "def user_name_check(user_name):\n",
    "  if user_name == \"Diego\":\n",
    "    return \"Bienvenido Diego\"\n",
    "  if user_name != \"Diego\":\n",
    "    return \"No eres bienvenido desconocido\""
   ]
  },
  {
   "cell_type": "code",
   "execution_count": 7,
   "id": "d99acbe9",
   "metadata": {},
   "outputs": [
    {
     "data": {
      "text/plain": [
       "'No eres bienvenido desconocido'"
      ]
     },
     "execution_count": 7,
     "metadata": {},
     "output_type": "execute_result"
    }
   ],
   "source": [
    "user_name_check(\"José\")"
   ]
  },
  {
   "cell_type": "markdown",
   "id": "69ca2062",
   "metadata": {
    "slideshow": {
     "slide_type": "slide"
    }
   },
   "source": [
    "### *else* statement"
   ]
  },
  {
   "cell_type": "code",
   "execution_count": 8,
   "id": "6cda8d6b",
   "metadata": {},
   "outputs": [],
   "source": [
    "def user_name_check(user_name):\n",
    "  if user_name == \"Diego\":\n",
    "    return \"Bienvenido Diego\"\n",
    "  else:\n",
    "    return \"No eres bienvenido desconocido\""
   ]
  },
  {
   "cell_type": "code",
   "execution_count": 9,
   "id": "0a7e9ae4",
   "metadata": {},
   "outputs": [
    {
     "data": {
      "text/plain": [
       "'Bienvenido Diego'"
      ]
     },
     "execution_count": 9,
     "metadata": {},
     "output_type": "execute_result"
    }
   ],
   "source": [
    "user_name_check(\"Diego\")"
   ]
  },
  {
   "cell_type": "markdown",
   "id": "e08efb97",
   "metadata": {
    "slideshow": {
     "slide_type": "slide"
    }
   },
   "source": [
    "### *elif* statement = *else* + *if*"
   ]
  },
  {
   "cell_type": "markdown",
   "id": "2a51b99d",
   "metadata": {},
   "source": [
    "Podemos usar declaraciones elif para controlar el orden en que queremos que nuestro programa verifique cada una de nuestras declaraciones condicionales.   \n",
    "\n",
    "Primero, se verifica la instrucción if, luego se verifica cada instrucción elif de arriba a abajo, luego, finalmente, se ejecuta el código else si no se ha cumplido ninguna de las condiciones anteriores."
   ]
  },
  {
   "cell_type": "code",
   "execution_count": 10,
   "id": "d77b76bc",
   "metadata": {},
   "outputs": [],
   "source": [
    "def convertidor_calif(calif):\n",
    "  grade = \"Reprobado\"\n",
    "  if calif >= 9.0:\n",
    "    grade = \"Excelente\"\n",
    "  elif calif >= 8.0:\n",
    "    grade = \"Muy bien\"\n",
    "  elif calif >= 7.0:\n",
    "    grade = \"Bien\"\n",
    "  elif calif >= 6.0:\n",
    "    grade = \"Ánimo\"\n",
    "  return grade"
   ]
  },
  {
   "cell_type": "code",
   "execution_count": 11,
   "id": "8cf77921",
   "metadata": {},
   "outputs": [
    {
     "data": {
      "text/plain": [
       "'Muy bien'"
      ]
     },
     "execution_count": 11,
     "metadata": {},
     "output_type": "execute_result"
    }
   ],
   "source": [
    "convertidor_calif(8.5)"
   ]
  },
  {
   "cell_type": "markdown",
   "id": "2e63b2d7",
   "metadata": {
    "slideshow": {
     "slide_type": "slide"
    }
   },
   "source": [
    "## Statements, functions and more\n",
    "\n",
    " * Looping: `for`, `while`\n",
    " * Conditional: `if`, `else`\n",
    " * Catching \"bugs\": `try`, `except`"
   ]
  },
  {
   "cell_type": "code",
   "execution_count": 12,
   "id": "0fc96238",
   "metadata": {},
   "outputs": [
    {
     "name": "stdout",
     "output_type": "stream",
     "text": [
      "1\n",
      "2\n",
      "3\n"
     ]
    }
   ],
   "source": [
    "for x in [1, 2, 3]:\n",
    "    print(x)"
   ]
  },
  {
   "cell_type": "code",
   "execution_count": 13,
   "id": "f449ed69",
   "metadata": {},
   "outputs": [
    {
     "data": {
      "text/plain": [
       "range(1, 8)"
      ]
     },
     "execution_count": 13,
     "metadata": {},
     "output_type": "execute_result"
    }
   ],
   "source": [
    "# Range da un iterador de números enteros entre dos valores dados los argumentos\n",
    "# 8 excluido\n",
    "range(1, 8)"
   ]
  },
  {
   "cell_type": "code",
   "execution_count": 14,
   "id": "b3fda99c",
   "metadata": {
    "slideshow": {
     "slide_type": "-"
    }
   },
   "outputs": [
    {
     "name": "stdout",
     "output_type": "stream",
     "text": [
      "0\n",
      "1\n",
      "2\n",
      "3\n",
      "4\n",
      "5\n",
      "6\n",
      "7\n",
      "8\n"
     ]
    }
   ],
   "source": [
    "for x in range(9):\n",
    "    print(x)"
   ]
  },
  {
   "cell_type": "code",
   "execution_count": 15,
   "id": "4be40341",
   "metadata": {
    "slideshow": {
     "slide_type": "slide"
    }
   },
   "outputs": [],
   "source": [
    "def ejemplo(a, b, c, o):\n",
    "    print(o)"
   ]
  },
  {
   "cell_type": "code",
   "execution_count": 16,
   "id": "01b2e1b6",
   "metadata": {},
   "outputs": [
    {
     "name": "stdout",
     "output_type": "stream",
     "text": [
      "4\n",
      "1\n"
     ]
    }
   ],
   "source": [
    "# El orden importa!\n",
    "ejemplo(1, 2, 3, 4)\n",
    "ejemplo(4, 3, 2, 1)"
   ]
  },
  {
   "cell_type": "code",
   "execution_count": 17,
   "id": "4ec6f4c6",
   "metadata": {
    "slideshow": {
     "slide_type": "slide"
    }
   },
   "outputs": [],
   "source": [
    "# Keyword arguments, siempre tiene un valor pr default\n",
    "def ejemplo(a,b, arg=6):\n",
    "    print(arg)"
   ]
  },
  {
   "cell_type": "code",
   "execution_count": 18,
   "id": "05bd6a81",
   "metadata": {},
   "outputs": [
    {
     "name": "stdout",
     "output_type": "stream",
     "text": [
      "10\n"
     ]
    }
   ],
   "source": [
    "# Los  keyword arguments siempre van después de los arguments normales\n",
    "ejemplo(9, 8, arg=10)"
   ]
  },
  {
   "cell_type": "code",
   "execution_count": 19,
   "id": "a39a4a0f",
   "metadata": {
    "slideshow": {
     "slide_type": "slide"
    }
   },
   "outputs": [],
   "source": [
    "# Pasar un número indefinido de argumentos a una función\n",
    "# Con el símbolo \"*\"\n",
    "def ejemplo(*args):\n",
    "    print(args)"
   ]
  },
  {
   "cell_type": "code",
   "execution_count": 20,
   "id": "feb69667",
   "metadata": {},
   "outputs": [
    {
     "name": "stdout",
     "output_type": "stream",
     "text": [
      "(1, 2, 3, 4, 5, 6, 7)\n"
     ]
    }
   ],
   "source": [
    "ejemplo(1, 2, 3, 4, 5, 6, 7)"
   ]
  },
  {
   "cell_type": "code",
   "execution_count": 21,
   "id": "9efab5f1",
   "metadata": {
    "slideshow": {
     "slide_type": "slide"
    }
   },
   "outputs": [],
   "source": [
    "# Parámetros múltiples\n",
    "\n",
    "def saludar_cliente(nombre_tienda, producto):\n",
    "  print(\"Bienvenido a \"+ nombre_tienda + \".\")\n",
    "  print(\"Hoy en oferta: \" + producto + \".\")\n",
    "  print(\"Excelente día\")"
   ]
  },
  {
   "cell_type": "code",
   "execution_count": 22,
   "id": "a650b6a2",
   "metadata": {},
   "outputs": [
    {
     "name": "stdout",
     "output_type": "stream",
     "text": [
      "Bienvenido a Superama.\n",
      "Hoy en oferta: papayas.\n",
      "Excelente día\n"
     ]
    }
   ],
   "source": [
    "saludar_cliente(\"Superama\", \"papayas\")"
   ]
  },
  {
   "cell_type": "markdown",
   "id": "068fca9d",
   "metadata": {
    "slideshow": {
     "slide_type": "slide"
    }
   },
   "source": [
    "### `try` & `except` statements"
   ]
  },
  {
   "cell_type": "code",
   "execution_count": 23,
   "id": "b54f40f3",
   "metadata": {},
   "outputs": [
    {
     "name": "stdout",
     "output_type": "stream",
     "text": [
      "0.75\n"
     ]
    }
   ],
   "source": [
    "def divides(a,b):\n",
    "  try:\n",
    "    result = a / b\n",
    "    print (result)\n",
    "  except ZeroDivisionError:\n",
    "    print (\"Can't divide by zero!\")\n",
    "\n",
    "divides(3,4)"
   ]
  },
  {
   "cell_type": "markdown",
   "id": "c33f69e4",
   "metadata": {
    "slideshow": {
     "slide_type": "slide"
    }
   },
   "source": [
    "## Lamda function: Funciones \"al momento\"\n",
    "\n",
    "Algunas definiciones de funciones son lo suficientemente simples como para convertirlas en una función lambda. Al hacer esto, escribe menos líneas de código"
   ]
  },
  {
   "cell_type": "code",
   "execution_count": 24,
   "id": "df004fcf",
   "metadata": {},
   "outputs": [],
   "source": [
    "# Sintaxis: \n",
    "\n",
    "# nombre_funcion = lambda argument(s): expression\n",
    "\n",
    "# lambda es una keyword en Python, no la podemos usar para otras cosas"
   ]
  },
  {
   "cell_type": "code",
   "execution_count": 25,
   "id": "ec526bf2",
   "metadata": {},
   "outputs": [
    {
     "data": {
      "text/plain": [
       "<function __main__.<lambda>(x)>"
      ]
     },
     "execution_count": 25,
     "metadata": {},
     "output_type": "execute_result"
    }
   ],
   "source": [
    "#Normal python function\n",
    "def doble(x):\n",
    "    return 2*x\n",
    "#Lambda function\n",
    "lambda x: 2*x"
   ]
  },
  {
   "cell_type": "code",
   "execution_count": 26,
   "id": "3bd4badf",
   "metadata": {},
   "outputs": [
    {
     "data": {
      "text/plain": [
       "8"
      ]
     },
     "execution_count": 26,
     "metadata": {},
     "output_type": "execute_result"
    }
   ],
   "source": [
    "doble(4)"
   ]
  },
  {
   "cell_type": "code",
   "execution_count": 27,
   "id": "96866bef",
   "metadata": {
    "slideshow": {
     "slide_type": "slide"
    }
   },
   "outputs": [],
   "source": [
    "elevar_potencia = lambda x, y: x ** y"
   ]
  },
  {
   "cell_type": "code",
   "execution_count": 28,
   "id": "b893fcdb",
   "metadata": {},
   "outputs": [
    {
     "data": {
      "text/plain": [
       "8"
      ]
     },
     "execution_count": 28,
     "metadata": {},
     "output_type": "execute_result"
    }
   ],
   "source": [
    "elevar_potencia(2, 3)"
   ]
  },
  {
   "cell_type": "markdown",
   "id": "438d1fe3",
   "metadata": {
    "slideshow": {
     "slide_type": "slide"
    }
   },
   "source": [
    "- Bueno para operaciones lógicas simples que son fáciles de entender. Esto también hace que el código sea más legible.\n",
    "\n",
    "- Bueno cuando quieres una función que usarás solo una vez."
   ]
  },
  {
   "cell_type": "markdown",
   "id": "b22b9d1c",
   "metadata": {},
   "source": [
    "- Solo pueden realizar una operación. No es posible tener varias operaciones independientes en una función lambda.\n",
    "- Malo para operaciones que abarcarían más de una línea en una función def normal."
   ]
  },
  {
   "cell_type": "code",
   "execution_count": 29,
   "id": "eb0a9a28",
   "metadata": {},
   "outputs": [
    {
     "data": {
      "text/plain": [
       "True"
      ]
     },
     "execution_count": 29,
     "metadata": {},
     "output_type": "execute_result"
    }
   ],
   "source": [
    "(lambda x: x*2)(12) == doble(12)"
   ]
  },
  {
   "cell_type": "markdown",
   "id": "1629d6c8",
   "metadata": {},
   "source": [
    "## Trabajando con listas"
   ]
  },
  {
   "cell_type": "code",
   "execution_count": 30,
   "id": "d53c722d",
   "metadata": {},
   "outputs": [],
   "source": [
    "# Creamos una lista vacía para después llenarla\n",
    "materias = []"
   ]
  },
  {
   "cell_type": "code",
   "execution_count": 31,
   "id": "aa3d0bce",
   "metadata": {},
   "outputs": [
    {
     "data": {
      "text/plain": [
       "['A']"
      ]
     },
     "execution_count": 31,
     "metadata": {},
     "output_type": "execute_result"
    }
   ],
   "source": [
    "# Los objetos como las listas tienen \"métodos\" = función que pertenece a un objeto\n",
    "\n",
    "# append nos ayuda a insertar un objeto al final de la lista\n",
    "\n",
    "materias.append(\"A\")\n",
    "materias"
   ]
  },
  {
   "cell_type": "code",
   "execution_count": 32,
   "id": "dd4789f8",
   "metadata": {},
   "outputs": [],
   "source": [
    "# ¿Qué pasa si queremos insertar más de un elemento\n",
    "# Por ejemplo, otra lista\n",
    "materias.append([\"B\",\"C\"])"
   ]
  },
  {
   "cell_type": "code",
   "execution_count": 33,
   "id": "c8a31062",
   "metadata": {},
   "outputs": [
    {
     "data": {
      "text/plain": [
       "['A', ['B', 'C']]"
      ]
     },
     "execution_count": 33,
     "metadata": {},
     "output_type": "execute_result"
    }
   ],
   "source": [
    "materias"
   ]
  },
  {
   "cell_type": "code",
   "execution_count": 34,
   "id": "ef3df24f",
   "metadata": {},
   "outputs": [
    {
     "data": {
      "text/plain": [
       "2"
      ]
     },
     "execution_count": 34,
     "metadata": {},
     "output_type": "execute_result"
    }
   ],
   "source": [
    "# Función para conocer la longitud del vector\n",
    "len(materias)"
   ]
  },
  {
   "cell_type": "code",
   "execution_count": 35,
   "id": "3a3d072f",
   "metadata": {},
   "outputs": [
    {
     "data": {
      "text/plain": [
       "['A', 'B', 'C']"
      ]
     },
     "execution_count": 35,
     "metadata": {},
     "output_type": "execute_result"
    }
   ],
   "source": [
    "materias = [\"A\"]\n",
    "materias.extend([\"B\",\"C\"])\n",
    "materias"
   ]
  },
  {
   "cell_type": "code",
   "execution_count": 36,
   "id": "2eb75af9",
   "metadata": {},
   "outputs": [],
   "source": [
    "materias = [\"A\"]"
   ]
  },
  {
   "cell_type": "code",
   "execution_count": 37,
   "id": "8ca719f0",
   "metadata": {},
   "outputs": [
    {
     "data": {
      "text/plain": [
       "['Z', 'A']"
      ]
     },
     "execution_count": 37,
     "metadata": {},
     "output_type": "execute_result"
    }
   ],
   "source": [
    "# Si queremos controlar donde coloca el nuevo elemento podemos utilizar insert \n",
    "materias.insert(0,\"Z\")\n",
    "materias"
   ]
  },
  {
   "cell_type": "code",
   "execution_count": 38,
   "id": "28b6d7bd",
   "metadata": {
    "slideshow": {
     "slide_type": "slide"
    }
   },
   "outputs": [],
   "source": [
    "materias = [\"Historia\", \"Geografía\", \"Matemáticas\", \"Economía\"]"
   ]
  },
  {
   "cell_type": "code",
   "execution_count": 39,
   "id": "56cffe2e",
   "metadata": {},
   "outputs": [
    {
     "data": {
      "text/plain": [
       "['Historia', 'Geografía', 'Matemáticas']"
      ]
     },
     "execution_count": 39,
     "metadata": {},
     "output_type": "execute_result"
    }
   ],
   "source": [
    "# Eliminar un elemento de una lista\n",
    "\n",
    "# Subset la parte que nos interesa\n",
    "# Es un método que preserva el objeto original = hay que asignar a nueva variable\n",
    "\n",
    "sin_eco = materias[:3]\n",
    "sin_eco"
   ]
  },
  {
   "cell_type": "code",
   "execution_count": 40,
   "id": "02ce6bb2",
   "metadata": {
    "slideshow": {
     "slide_type": "slide"
    }
   },
   "outputs": [
    {
     "data": {
      "text/plain": [
       "['Historia', 'Geografía', 'Matemáticas']"
      ]
     },
     "execution_count": 40,
     "metadata": {},
     "output_type": "execute_result"
    }
   ],
   "source": [
    "# Otros métodos modifican el objeto directamente\n",
    "\n",
    "materias.remove(\"Economía\")\n",
    "materias"
   ]
  },
  {
   "cell_type": "code",
   "execution_count": 41,
   "id": "97fcefda",
   "metadata": {},
   "outputs": [
    {
     "data": {
      "text/plain": [
       "'Economía'"
      ]
     },
     "execution_count": 41,
     "metadata": {},
     "output_type": "execute_result"
    }
   ],
   "source": [
    "materias = [\"Historia\", \"Geografía\", \"Matemáticas\", \"Economía\"]\n",
    "materias.pop()"
   ]
  },
  {
   "cell_type": "code",
   "execution_count": 42,
   "id": "41751b0b",
   "metadata": {
    "slideshow": {
     "slide_type": "slide"
    }
   },
   "outputs": [
    {
     "data": {
      "text/plain": [
       "True"
      ]
     },
     "execution_count": 42,
     "metadata": {},
     "output_type": "execute_result"
    }
   ],
   "source": [
    "# Ordenar nuestras listas\n",
    "# Métodos modifican el objeto original\n",
    "\n",
    "materias = [\"Historia\", \"Geografía\", \"Matemáticas\", \"Economía\"]\n",
    "calif = [10,6,7,5]\n",
    "\n",
    "len(materias) == len(calif)"
   ]
  },
  {
   "cell_type": "code",
   "execution_count": 43,
   "id": "88a2c3ae",
   "metadata": {},
   "outputs": [
    {
     "data": {
      "text/plain": [
       "['Economía', 'Geografía', 'Historia', 'Matemáticas']"
      ]
     },
     "execution_count": 43,
     "metadata": {},
     "output_type": "execute_result"
    }
   ],
   "source": [
    "materias.sort()\n",
    "materias"
   ]
  },
  {
   "cell_type": "code",
   "execution_count": 44,
   "id": "f962851d",
   "metadata": {},
   "outputs": [
    {
     "data": {
      "text/plain": [
       "[5, 6, 7, 10]"
      ]
     },
     "execution_count": 44,
     "metadata": {},
     "output_type": "execute_result"
    }
   ],
   "source": [
    "calif.sort()\n",
    "calif"
   ]
  },
  {
   "cell_type": "code",
   "execution_count": 45,
   "id": "5f0bec79",
   "metadata": {},
   "outputs": [
    {
     "data": {
      "text/plain": [
       "[10, 7, 6, 5]"
      ]
     },
     "execution_count": 45,
     "metadata": {},
     "output_type": "execute_result"
    }
   ],
   "source": [
    "calif.sort(reverse = True)\n",
    "calif"
   ]
  },
  {
   "cell_type": "code",
   "execution_count": 46,
   "id": "a4e4c182",
   "metadata": {},
   "outputs": [
    {
     "data": {
      "text/plain": [
       "[5, 6, 7, 10]"
      ]
     },
     "execution_count": 46,
     "metadata": {},
     "output_type": "execute_result"
    }
   ],
   "source": [
    "# Métodos que no modifican el objeto original\n",
    "sorted(calif)"
   ]
  },
  {
   "cell_type": "code",
   "execution_count": 47,
   "id": "e65647cb",
   "metadata": {
    "slideshow": {
     "slide_type": "slide"
    }
   },
   "outputs": [
    {
     "data": {
      "text/plain": [
       "2"
      ]
     },
     "execution_count": 47,
     "metadata": {},
     "output_type": "execute_result"
    }
   ],
   "source": [
    "# Obtener los índices\n",
    "materias.index(\"Historia\")"
   ]
  },
  {
   "cell_type": "code",
   "execution_count": 48,
   "id": "69bbff68",
   "metadata": {
    "slideshow": {
     "slide_type": "-"
    }
   },
   "outputs": [
    {
     "data": {
      "text/plain": [
       "True"
      ]
     },
     "execution_count": 48,
     "metadata": {},
     "output_type": "execute_result"
    }
   ],
   "source": [
    "# Revisar si un elemento se encuentra en la lista\n",
    "\"Historia\" in materias"
   ]
  },
  {
   "cell_type": "code",
   "execution_count": 49,
   "id": "07547234",
   "metadata": {
    "slideshow": {
     "slide_type": "slide"
    }
   },
   "outputs": [
    {
     "name": "stdout",
     "output_type": "stream",
     "text": [
      "Economía\n",
      "Geografía\n",
      "Historia\n",
      "Matemáticas\n"
     ]
    }
   ],
   "source": [
    "# Las listas son objetos iterables\n",
    "\n",
    "for item in materias:\n",
    "    print(item)"
   ]
  },
  {
   "cell_type": "code",
   "execution_count": 50,
   "id": "90c8b1dc",
   "metadata": {
    "slideshow": {
     "slide_type": "slide"
    }
   },
   "outputs": [],
   "source": [
    "?materias"
   ]
  },
  {
   "cell_type": "markdown",
   "id": "df0dba7d",
   "metadata": {},
   "source": [
    "A menudo, cuando se trata de iteradores, también tenemos la necesidad de llevar un recuento de. Python facilita la tarea de los programadores al proporcionar una función incorporada enumerate() que agrega un contador a un iterable y lo devuelve en forma de objeto enumerador."
   ]
  },
  {
   "cell_type": "code",
   "execution_count": 51,
   "id": "3a5bfe02",
   "metadata": {},
   "outputs": [
    {
     "name": "stdout",
     "output_type": "stream",
     "text": [
      "0 Economía\n",
      "1 Geografía\n",
      "2 Historia\n",
      "3 Matemáticas\n"
     ]
    }
   ],
   "source": [
    "# Las listas son objetos iterables\n",
    "\n",
    "for index, item in enumerate(materias):\n",
    "    print(index, item)"
   ]
  },
  {
   "cell_type": "markdown",
   "id": "90d95506",
   "metadata": {
    "slideshow": {
     "slide_type": "slide"
    }
   },
   "source": [
    "### Funciones base orientadas a matemáticas"
   ]
  },
  {
   "cell_type": "code",
   "execution_count": 52,
   "id": "b098bfea",
   "metadata": {},
   "outputs": [
    {
     "data": {
      "text/plain": [
       "5"
      ]
     },
     "execution_count": 52,
     "metadata": {},
     "output_type": "execute_result"
    }
   ],
   "source": [
    "min(calif)"
   ]
  },
  {
   "cell_type": "code",
   "execution_count": 53,
   "id": "53fbe401",
   "metadata": {},
   "outputs": [
    {
     "data": {
      "text/plain": [
       "10"
      ]
     },
     "execution_count": 53,
     "metadata": {},
     "output_type": "execute_result"
    }
   ],
   "source": [
    "max(calif)"
   ]
  },
  {
   "cell_type": "code",
   "execution_count": 54,
   "id": "c7cc4fc2",
   "metadata": {},
   "outputs": [
    {
     "data": {
      "text/plain": [
       "28"
      ]
     },
     "execution_count": 54,
     "metadata": {},
     "output_type": "execute_result"
    }
   ],
   "source": [
    "sum(calif)"
   ]
  },
  {
   "cell_type": "code",
   "execution_count": 55,
   "id": "89996aba",
   "metadata": {
    "slideshow": {
     "slide_type": "slide"
    }
   },
   "outputs": [],
   "source": [
    "# mean(calif)"
   ]
  }
 ],
 "metadata": {
  "celltoolbar": "Slideshow",
  "kernelspec": {
   "display_name": "Python 3",
   "language": "python",
   "name": "python3"
  },
  "language_info": {
   "codemirror_mode": {
    "name": "ipython",
    "version": 3
   },
   "file_extension": ".py",
   "mimetype": "text/x-python",
   "name": "python",
   "nbconvert_exporter": "python",
   "pygments_lexer": "ipython3",
   "version": "3.8.8"
  }
 },
 "nbformat": 4,
 "nbformat_minor": 5
}
