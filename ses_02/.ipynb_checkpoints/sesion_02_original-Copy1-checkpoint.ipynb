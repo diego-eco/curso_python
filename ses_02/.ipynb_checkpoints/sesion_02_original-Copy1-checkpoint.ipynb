{
 "cells": [
  {
   "cell_type": "markdown",
   "id": "d92a4de3",
   "metadata": {},
   "source": [
    "# Python para economistas\n",
    "\n",
    "### Mtro. Diego López Tamayo\n",
    "#### El Colegio de México\n",
    "#### BBVA Research"
   ]
  },
  {
   "cell_type": "markdown",
   "id": "c63e1d54",
   "metadata": {
    "slideshow": {
     "slide_type": "slide"
    }
   },
   "source": [
    "# Sesión 2\n",
    "\n",
    "- Definición de funciones por el usuario. Alcance, argumentos\n",
    "- Secuencias y loops: `while, if, else, elif` Ejemplo de cada uno\n",
    "- Lambda functions\n",
    "- Modificando listas\n",
    "- Trabajando con diccionarios\n",
    "- Clases y métodos\n",
    "- Introducción a Numpy arrays"
   ]
  },
  {
   "cell_type": "markdown",
   "id": "5d738d28",
   "metadata": {
    "slideshow": {
     "slide_type": "slide"
    }
   },
   "source": [
    "# Funciones\n",
    "\n",
    "* Funciones integradas como `sum` o` print`\n",
    "* Funciones definidas por el usuario con declaración de palabras clave `def`"
   ]
  },
  {
   "cell_type": "code",
   "execution_count": 5,
   "id": "e66ce908",
   "metadata": {},
   "outputs": [
    {
     "name": "stdout",
     "output_type": "stream",
     "text": [
      "Hola mundo\n"
     ]
    }
   ],
   "source": [
    "print(\"Hola mundo\")"
   ]
  },
  {
   "cell_type": "code",
   "execution_count": null,
   "id": "f2f363f6",
   "metadata": {},
   "outputs": [],
   "source": []
  },
  {
   "cell_type": "markdown",
   "id": "d67386c8",
   "metadata": {
    "slideshow": {
     "slide_type": "slide"
    }
   },
   "source": [
    "- Python es un lenguaje indentado (sangrías). Los niveles de indentación vienen dados por un doble espacio / tabulador.\n",
    "- Las variables que definimos dentro de una función, viven sólo dentro de esa función y no podemos acceder a ellas en el ambiente global. \n",
    "- A esto llamamos el **Namespace** -> Todas las variables definidas adentro de un contexto"
   ]
  },
  {
   "cell_type": "code",
   "execution_count": 1,
   "id": "d97877e1",
   "metadata": {},
   "outputs": [],
   "source": [
    "# La sangría se refiere a agregar espacios en blanco antes de una declaración\n",
    "# La sangría de Python es una forma de decirle a un intérprete de Python que el grupo \n",
    "# de declaraciones pertenece a un bloque de código en particular"
   ]
  },
  {
   "cell_type": "code",
   "execution_count": 6,
   "id": "6576ca2e",
   "metadata": {},
   "outputs": [],
   "source": [
    "def funcion_prueba():\n",
    "    pass"
   ]
  },
  {
   "cell_type": "markdown",
   "id": "e85896ea",
   "metadata": {
    "slideshow": {
     "slide_type": "slide"
    }
   },
   "source": [
    "### *if* statement"
   ]
  },
  {
   "cell_type": "code",
   "execution_count": 9,
   "id": "35351ad2",
   "metadata": {},
   "outputs": [
    {
     "name": "stdout",
     "output_type": "stream",
     "text": [
      "Es cierto\n"
     ]
    }
   ],
   "source": [
    "if 2 == 4-2:\n",
    "    print(\"Es cierto\")"
   ]
  },
  {
   "cell_type": "code",
   "execution_count": 26,
   "id": "3cb9b9fe",
   "metadata": {},
   "outputs": [],
   "source": [
    "# Comprobar usuario (anidado = nested)\n",
    "# placeholder\n",
    "def user_name_check(nombre):\n",
    "    if nombre == 'Diego':\n",
    "        return 'Bienvenido Diego'\n",
    "    if nombre != 'Diego':\n",
    "        return 'No eres bienvenido desconocido'\n",
    "# return le dice a la función que regresar como resultado"
   ]
  },
  {
   "cell_type": "code",
   "execution_count": 23,
   "id": "0b8389d2",
   "metadata": {},
   "outputs": [
    {
     "data": {
      "text/plain": [
       "'Bienvenido Diego'"
      ]
     },
     "execution_count": 23,
     "metadata": {},
     "output_type": "execute_result"
    }
   ],
   "source": [
    "user_name_check('Diego')"
   ]
  },
  {
   "cell_type": "code",
   "execution_count": 31,
   "id": "e66d9f7f",
   "metadata": {},
   "outputs": [],
   "source": [
    "def usuario_acceso(x):\n",
    "    if x == 'Diego':\n",
    "        return 'Bienvenido Diego'\n",
    "    if x != 'Diego':\n",
    "        return 'Mensaje de fallo'"
   ]
  },
  {
   "cell_type": "code",
   "execution_count": 35,
   "id": "59674168",
   "metadata": {},
   "outputs": [
    {
     "data": {
      "text/plain": [
       "'Mensaje de fallo'"
      ]
     },
     "execution_count": 35,
     "metadata": {},
     "output_type": "execute_result"
    }
   ],
   "source": [
    "usuario_acceso(1)"
   ]
  },
  {
   "cell_type": "code",
   "execution_count": null,
   "id": "e8f0b1fb",
   "metadata": {},
   "outputs": [],
   "source": []
  },
  {
   "cell_type": "markdown",
   "id": "69ca2062",
   "metadata": {
    "slideshow": {
     "slide_type": "slide"
    }
   },
   "source": [
    "### *else* statement"
   ]
  },
  {
   "cell_type": "code",
   "execution_count": 33,
   "id": "6cda8d6b",
   "metadata": {},
   "outputs": [],
   "source": [
    "def usuario_acceso(x):\n",
    "    if x == 'Diego':\n",
    "        return 'Bienvenido Diego'\n",
    "    else:\n",
    "        return 'Mensaje de fallo'        "
   ]
  },
  {
   "cell_type": "code",
   "execution_count": 34,
   "id": "0a7e9ae4",
   "metadata": {},
   "outputs": [
    {
     "data": {
      "text/plain": [
       "'Mensaje de fallo'"
      ]
     },
     "execution_count": 34,
     "metadata": {},
     "output_type": "execute_result"
    }
   ],
   "source": [
    "usuario_acceso(1)"
   ]
  },
  {
   "cell_type": "markdown",
   "id": "e08efb97",
   "metadata": {
    "slideshow": {
     "slide_type": "slide"
    }
   },
   "source": [
    "### *elif* statement = *else* + *if*"
   ]
  },
  {
   "cell_type": "markdown",
   "id": "2a51b99d",
   "metadata": {},
   "source": [
    "Podemos usar declaraciones elif para controlar el orden en que queremos que nuestro programa verifique cada una de nuestras declaraciones condicionales.   \n",
    "\n",
    "Primero, se verifica la instrucción if, luego se verifica cada instrucción elif de arriba a abajo, luego, finalmente, se ejecuta el código else si no se ha cumplido ninguna de las condiciones anteriores."
   ]
  },
  {
   "cell_type": "code",
   "execution_count": 51,
   "id": "d77b76bc",
   "metadata": {},
   "outputs": [],
   "source": [
    "def convertir_calif(calif):\n",
    "    grade = \"Reprobado\" # Caso base\n",
    "    if calif >= 9.0:\n",
    "        grade = \"Excelente\"\n",
    "    elif calif >= 8.0:\n",
    "        grade = \"Muy bien\"\n",
    "    elif calif >= 6.0:\n",
    "        grade = \"Suficiente\"\n",
    "    return grade"
   ]
  },
  {
   "cell_type": "code",
   "execution_count": 50,
   "id": "8cf77921",
   "metadata": {},
   "outputs": [
    {
     "data": {
      "text/plain": [
       "'Reprobado'"
      ]
     },
     "execution_count": 50,
     "metadata": {},
     "output_type": "execute_result"
    }
   ],
   "source": [
    "convertir_calif(5.4)"
   ]
  },
  {
   "cell_type": "markdown",
   "id": "2e63b2d7",
   "metadata": {
    "slideshow": {
     "slide_type": "slide"
    }
   },
   "source": [
    "## Statements, functions and more\n",
    "\n",
    " * Looping: `for`, `while`\n",
    " * Conditional: `if`, `else`\n",
    " * Catching \"bugs\": `try`, `except`"
   ]
  },
  {
   "cell_type": "code",
   "execution_count": 54,
   "id": "0fc96238",
   "metadata": {},
   "outputs": [
    {
     "name": "stdout",
     "output_type": "stream",
     "text": [
      "hamburguesa\n",
      "pizza\n",
      "tacos\n"
     ]
    }
   ],
   "source": [
    "for i in [\"hamburguesa\", \"pizza\", \"tacos\"]:\n",
    "    print(i)\n",
    "    \n",
    "# Debemos iterar en un objeto(contenedor: lista)\n",
    "# Podemos utilizar cualquier nombre para el placeholder\n",
    "# Convención: Utiliza \"i\" y \"j\" para los loops o varible en contexto"
   ]
  },
  {
   "cell_type": "code",
   "execution_count": 57,
   "id": "f449ed69",
   "metadata": {},
   "outputs": [
    {
     "name": "stdout",
     "output_type": "stream",
     "text": [
      "0\n",
      "1\n",
      "2\n",
      "3\n",
      "4\n",
      "5\n",
      "6\n",
      "7\n",
      "8\n",
      "9\n"
     ]
    }
   ],
   "source": [
    "# range() da un iterador de números enteros entre dos valores dados los argumentos\n",
    "# 8 excluido\n",
    "\n",
    "for i in range(10):\n",
    "    print(i)"
   ]
  },
  {
   "cell_type": "code",
   "execution_count": 58,
   "id": "b3fda99c",
   "metadata": {
    "slideshow": {
     "slide_type": "-"
    }
   },
   "outputs": [],
   "source": [
    "def func_ejemplo(a, b, c, d):\n",
    "    print(d)"
   ]
  },
  {
   "cell_type": "code",
   "execution_count": 61,
   "id": "4be40341",
   "metadata": {
    "slideshow": {
     "slide_type": "slide"
    }
   },
   "outputs": [
    {
     "name": "stdout",
     "output_type": "stream",
     "text": [
      "4\n"
     ]
    }
   ],
   "source": [
    "# Argumentos posicionales\n",
    "\n",
    "func_ejemplo(1,2,3,4)"
   ]
  },
  {
   "cell_type": "code",
   "execution_count": 62,
   "id": "01b2e1b6",
   "metadata": {},
   "outputs": [
    {
     "name": "stdout",
     "output_type": "stream",
     "text": [
      "1\n"
     ]
    }
   ],
   "source": [
    "# Argumentos no posicional\n",
    "\n",
    "func_ejemplo(d = 1,c = 2,a = 3,b = 4)"
   ]
  },
  {
   "cell_type": "code",
   "execution_count": 82,
   "id": "9efab5f1",
   "metadata": {
    "slideshow": {
     "slide_type": "slide"
    }
   },
   "outputs": [],
   "source": [
    "# Parámetros múltiples\n",
    "\n",
    "producto = \"Plátano\" # Variable global\n",
    "\n",
    "precio = \"15.6\"\n",
    "\n",
    "\n",
    "def saludar_cliente(nombre_tienda, producto,precio):\n",
    "    print(\"Bienvenido a \" + nombre_tienda + \".\")\n",
    "    print(\"Hoy en oferta: \" + producto + \".\" + \" A sólo: \" + precio)\n",
    "    print(\"Excelente día.\")"
   ]
  },
  {
   "cell_type": "code",
   "execution_count": 83,
   "id": "a650b6a2",
   "metadata": {},
   "outputs": [
    {
     "name": "stdout",
     "output_type": "stream",
     "text": [
      "Bienvenido a Superama.\n",
      "Hoy en oferta: Plátano. A sólo: 15.6\n",
      "Excelente día.\n"
     ]
    }
   ],
   "source": [
    "saludar_cliente(\"Superama\",producto,precio)"
   ]
  },
  {
   "cell_type": "markdown",
   "id": "068fca9d",
   "metadata": {
    "slideshow": {
     "slide_type": "slide"
    }
   },
   "source": [
    "### `try` & `except` statements"
   ]
  },
  {
   "cell_type": "code",
   "execution_count": 92,
   "id": "b54f40f3",
   "metadata": {},
   "outputs": [],
   "source": [
    "def dividir(a,b):\n",
    "    try:\n",
    "        result = a/b\n",
    "        print(result)\n",
    "    except ZeroDivisionError:\n",
    "        print(\"Cuidado, no puedes dividir entre cero\")"
   ]
  },
  {
   "cell_type": "code",
   "execution_count": 93,
   "id": "76952b9d",
   "metadata": {},
   "outputs": [
    {
     "name": "stdout",
     "output_type": "stream",
     "text": [
      "Cuidado, no puedes dividir entre cero\n"
     ]
    }
   ],
   "source": [
    "dividir(3,0)"
   ]
  },
  {
   "cell_type": "markdown",
   "id": "c33f69e4",
   "metadata": {
    "slideshow": {
     "slide_type": "slide"
    }
   },
   "source": [
    "## Lamda function: Funciones \"al momento\"\n",
    "\n",
    "Algunas definiciones de funciones son lo suficientemente simples como para convertirlas en una función lambda. Al hacer esto, escribe menos líneas de código"
   ]
  },
  {
   "cell_type": "code",
   "execution_count": null,
   "id": "df004fcf",
   "metadata": {},
   "outputs": [],
   "source": [
    "# Sintaxis: \n",
    "\n",
    "# nombre_funcion = lambda argument(s): expression\n",
    "\n",
    "# lambda es una keyword en Python, no la podemos usar para otras cosas"
   ]
  },
  {
   "cell_type": "code",
   "execution_count": 96,
   "id": "ec526bf2",
   "metadata": {},
   "outputs": [
    {
     "data": {
      "text/plain": [
       "4"
      ]
     },
     "execution_count": 96,
     "metadata": {},
     "output_type": "execute_result"
    }
   ],
   "source": [
    "#Normal python function\n",
    "def doble(x):\n",
    "    return 2*x\n",
    "doble(2)"
   ]
  },
  {
   "cell_type": "code",
   "execution_count": 99,
   "id": "3bd4badf",
   "metadata": {},
   "outputs": [
    {
     "data": {
      "text/plain": [
       "4"
      ]
     },
     "execution_count": 99,
     "metadata": {},
     "output_type": "execute_result"
    }
   ],
   "source": [
    "doble = lambda x: 2*x\n",
    "doble(2)"
   ]
  },
  {
   "cell_type": "code",
   "execution_count": 103,
   "id": "96866bef",
   "metadata": {
    "slideshow": {
     "slide_type": "slide"
    }
   },
   "outputs": [
    {
     "data": {
      "text/plain": [
       "20"
      ]
     },
     "execution_count": 103,
     "metadata": {},
     "output_type": "execute_result"
    }
   ],
   "source": [
    "(lambda x, y, z: (x + y + z))(12,3,5)"
   ]
  },
  {
   "cell_type": "markdown",
   "id": "438d1fe3",
   "metadata": {
    "slideshow": {
     "slide_type": "slide"
    }
   },
   "source": [
    "#### Pros:\n",
    "\n",
    "- Bueno para operaciones lógicas simples que son fáciles de entender. Esto también hace que el código sea más legible.\n",
    "\n",
    "- Bueno cuando quieres una función que usarás solo una vez."
   ]
  },
  {
   "cell_type": "markdown",
   "id": "b22b9d1c",
   "metadata": {},
   "source": [
    "#### Contras:\n",
    "\n",
    "- Solo pueden realizar una operación. No es posible tener varias operaciones independientes en una función lambda.\n",
    "- Malo para operaciones que abarcarían más de una línea en una función def normal."
   ]
  },
  {
   "cell_type": "code",
   "execution_count": null,
   "id": "eb0a9a28",
   "metadata": {},
   "outputs": [],
   "source": []
  },
  {
   "cell_type": "markdown",
   "id": "1629d6c8",
   "metadata": {},
   "source": [
    "## Trabajando con listas"
   ]
  },
  {
   "cell_type": "code",
   "execution_count": 104,
   "id": "d53c722d",
   "metadata": {},
   "outputs": [
    {
     "data": {
      "text/plain": [
       "['cuaderno', 'mochila', 'lápices', 8]"
      ]
     },
     "execution_count": 104,
     "metadata": {},
     "output_type": "execute_result"
    }
   ],
   "source": [
    "[3, 5, 7, 8]\n",
    "[\"cuaderno\", \"mochila\", \"lápices\", 8]"
   ]
  },
  {
   "cell_type": "code",
   "execution_count": 119,
   "id": "0249ab4a",
   "metadata": {},
   "outputs": [
    {
     "data": {
      "text/plain": [
       "[]"
      ]
     },
     "execution_count": 119,
     "metadata": {},
     "output_type": "execute_result"
    }
   ],
   "source": [
    "materias = []\n",
    "materias"
   ]
  },
  {
   "cell_type": "code",
   "execution_count": 120,
   "id": "aa3d0bce",
   "metadata": {},
   "outputs": [],
   "source": [
    "# Los métodos son funciones que pertenecen a un objeto\n",
    "# print()\n",
    "# objeto. "
   ]
  },
  {
   "cell_type": "code",
   "execution_count": 121,
   "id": "dd4789f8",
   "metadata": {},
   "outputs": [],
   "source": [
    "materias.append(\"A\")  #shift + tab\n",
    "\n",
    "# append es un método que modifica el objeto original"
   ]
  },
  {
   "cell_type": "code",
   "execution_count": 131,
   "id": "c8a31062",
   "metadata": {},
   "outputs": [],
   "source": [
    "materias.append([\"B\",\"C\"])"
   ]
  },
  {
   "cell_type": "code",
   "execution_count": 132,
   "id": "ef3df24f",
   "metadata": {},
   "outputs": [
    {
     "data": {
      "text/plain": [
       "['A', ['B', 'C'], ['B', 'C']]"
      ]
     },
     "execution_count": 132,
     "metadata": {},
     "output_type": "execute_result"
    }
   ],
   "source": [
    "materias"
   ]
  },
  {
   "cell_type": "code",
   "execution_count": 142,
   "id": "3a3d072f",
   "metadata": {},
   "outputs": [
    {
     "data": {
      "text/plain": [
       "3"
      ]
     },
     "execution_count": 142,
     "metadata": {},
     "output_type": "execute_result"
    }
   ],
   "source": [
    "# Función para conocer la longitud del vector\n",
    "len(materias) # Objetos de la lista"
   ]
  },
  {
   "cell_type": "code",
   "execution_count": 147,
   "id": "2eb75af9",
   "metadata": {},
   "outputs": [],
   "source": [
    "materias = [\"A\"]\n",
    "materias.extend([\"B\",\"C\"])"
   ]
  },
  {
   "cell_type": "code",
   "execution_count": 148,
   "id": "8ca719f0",
   "metadata": {},
   "outputs": [
    {
     "data": {
      "text/plain": [
       "['A', 'B', 'C']"
      ]
     },
     "execution_count": 148,
     "metadata": {},
     "output_type": "execute_result"
    }
   ],
   "source": [
    "materias"
   ]
  },
  {
   "cell_type": "code",
   "execution_count": 149,
   "id": "28b6d7bd",
   "metadata": {
    "slideshow": {
     "slide_type": "slide"
    }
   },
   "outputs": [
    {
     "data": {
      "text/plain": [
       "['Z', 'A', 'B', 'C']"
      ]
     },
     "execution_count": 149,
     "metadata": {},
     "output_type": "execute_result"
    }
   ],
   "source": [
    "materias.insert(0,\"Z\") # Antes de qué elemento quiero insertar el objeto\n",
    "materias"
   ]
  },
  {
   "cell_type": "code",
   "execution_count": 151,
   "id": "20c825c4",
   "metadata": {},
   "outputs": [
    {
     "data": {
      "text/plain": [
       "['Z', 'A', 'B', 'C', 'final', 'final']"
      ]
     },
     "execution_count": 151,
     "metadata": {},
     "output_type": "execute_result"
    }
   ],
   "source": [
    "materias.insert(len(materias),\"final\") # Antes de qué elemento quiero insertar el objeto\n",
    "materias"
   ]
  },
  {
   "cell_type": "code",
   "execution_count": null,
   "id": "56cffe2e",
   "metadata": {},
   "outputs": [],
   "source": [
    "# Eliminar un elemento de una lista\n",
    "\n",
    "# Subset la parte que nos interesa\n",
    "# Es un método que preserva el objeto original = hay que asignar a nueva variable\n"
   ]
  },
  {
   "cell_type": "code",
   "execution_count": null,
   "id": "02ce6bb2",
   "metadata": {
    "slideshow": {
     "slide_type": "slide"
    }
   },
   "outputs": [],
   "source": [
    "# Otros métodos modifican el objeto directamente\n"
   ]
  },
  {
   "cell_type": "code",
   "execution_count": null,
   "id": "97fcefda",
   "metadata": {},
   "outputs": [],
   "source": []
  },
  {
   "cell_type": "code",
   "execution_count": null,
   "id": "41751b0b",
   "metadata": {
    "slideshow": {
     "slide_type": "slide"
    }
   },
   "outputs": [],
   "source": [
    "# Ordenar nuestras listas\n",
    "# Métodos modifican el objeto original\n"
   ]
  },
  {
   "cell_type": "code",
   "execution_count": null,
   "id": "88a2c3ae",
   "metadata": {},
   "outputs": [],
   "source": []
  },
  {
   "cell_type": "code",
   "execution_count": null,
   "id": "f962851d",
   "metadata": {},
   "outputs": [],
   "source": []
  },
  {
   "cell_type": "code",
   "execution_count": null,
   "id": "5f0bec79",
   "metadata": {},
   "outputs": [],
   "source": []
  },
  {
   "cell_type": "code",
   "execution_count": null,
   "id": "a4e4c182",
   "metadata": {},
   "outputs": [],
   "source": [
    "# Métodos que no modifican el objeto original\n"
   ]
  },
  {
   "cell_type": "code",
   "execution_count": null,
   "id": "e65647cb",
   "metadata": {
    "slideshow": {
     "slide_type": "slide"
    }
   },
   "outputs": [],
   "source": [
    "# Obtener los índices\n"
   ]
  },
  {
   "cell_type": "code",
   "execution_count": null,
   "id": "69bbff68",
   "metadata": {
    "slideshow": {
     "slide_type": "-"
    }
   },
   "outputs": [],
   "source": [
    "# Revisar si un elemento se encuentra en la lista\n"
   ]
  },
  {
   "cell_type": "code",
   "execution_count": null,
   "id": "07547234",
   "metadata": {
    "slideshow": {
     "slide_type": "slide"
    }
   },
   "outputs": [],
   "source": [
    "# Las listas son objetos iterables\n",
    "\n"
   ]
  },
  {
   "cell_type": "code",
   "execution_count": null,
   "id": "90c8b1dc",
   "metadata": {
    "slideshow": {
     "slide_type": "slide"
    }
   },
   "outputs": [],
   "source": []
  },
  {
   "cell_type": "markdown",
   "id": "df0dba7d",
   "metadata": {},
   "source": [
    "A menudo, cuando se trata de iteradores, también tenemos la necesidad de llevar un recuento de. Python facilita la tarea de los programadores al proporcionar una función incorporada enumerate() que agrega un contador a un iterable y lo devuelve en forma de objeto enumerador."
   ]
  },
  {
   "cell_type": "code",
   "execution_count": null,
   "id": "3a5bfe02",
   "metadata": {},
   "outputs": [],
   "source": [
    "# Las listas son objetos iterables\n",
    "\n"
   ]
  },
  {
   "cell_type": "markdown",
   "id": "90d95506",
   "metadata": {
    "slideshow": {
     "slide_type": "slide"
    }
   },
   "source": [
    "### Funciones base orientadas a matemáticas"
   ]
  },
  {
   "cell_type": "code",
   "execution_count": null,
   "id": "b098bfea",
   "metadata": {},
   "outputs": [],
   "source": []
  },
  {
   "cell_type": "code",
   "execution_count": null,
   "id": "53fbe401",
   "metadata": {},
   "outputs": [],
   "source": []
  },
  {
   "cell_type": "code",
   "execution_count": null,
   "id": "c7cc4fc2",
   "metadata": {},
   "outputs": [],
   "source": []
  },
  {
   "cell_type": "code",
   "execution_count": null,
   "id": "89996aba",
   "metadata": {
    "slideshow": {
     "slide_type": "slide"
    }
   },
   "outputs": [],
   "source": [
    "# mean(calif)"
   ]
  },
  {
   "cell_type": "markdown",
   "id": "f2ee5a51",
   "metadata": {},
   "source": [
    "### Hasta aquí llega Python básico para listas"
   ]
  },
  {
   "cell_type": "markdown",
   "id": "2467f90b",
   "metadata": {
    "slideshow": {
     "slide_type": "slide"
    }
   },
   "source": [
    "## Trabajando con diccionarios\n",
    "\n",
    "En otros lenguajes pueden llamarse \"hash maps\""
   ]
  },
  {
   "cell_type": "code",
   "execution_count": null,
   "id": "400c819f",
   "metadata": {},
   "outputs": [],
   "source": []
  },
  {
   "cell_type": "code",
   "execution_count": null,
   "id": "797dcbfd",
   "metadata": {
    "slideshow": {
     "slide_type": "slide"
    }
   },
   "outputs": [],
   "source": []
  },
  {
   "cell_type": "code",
   "execution_count": null,
   "id": "cdd44203",
   "metadata": {
    "slideshow": {
     "slide_type": "-"
    }
   },
   "outputs": [],
   "source": [
    "for key, value in estudiante.items():\n",
    "    print(key)"
   ]
  },
  {
   "cell_type": "code",
   "execution_count": null,
   "id": "cd9afcfc",
   "metadata": {
    "slideshow": {
     "slide_type": "slide"
    }
   },
   "outputs": [],
   "source": [
    "# Acceso directo, pero propenso a errores\n"
   ]
  },
  {
   "cell_type": "code",
   "execution_count": null,
   "id": "ca981f6d",
   "metadata": {},
   "outputs": [],
   "source": [
    "# Método diseñado para diccionarios\n"
   ]
  },
  {
   "cell_type": "code",
   "execution_count": null,
   "id": "8f0b01d5",
   "metadata": {
    "slideshow": {
     "slide_type": "slide"
    }
   },
   "outputs": [],
   "source": []
  },
  {
   "cell_type": "code",
   "execution_count": null,
   "id": "0448c1ab",
   "metadata": {},
   "outputs": [],
   "source": [
    "# Método diseñado para diccionarios\n"
   ]
  },
  {
   "cell_type": "code",
   "execution_count": null,
   "id": "c7bcc9d2",
   "metadata": {
    "slideshow": {
     "slide_type": "slide"
    }
   },
   "outputs": [],
   "source": [
    "# Actualizar un diccionario, utilizo otro diccionario\n"
   ]
  },
  {
   "cell_type": "code",
   "execution_count": null,
   "id": "da68150a",
   "metadata": {
    "slideshow": {
     "slide_type": "slide"
    }
   },
   "outputs": [],
   "source": [
    "# Para eliminiar un campo\n",
    "# help(\"del\")\n"
   ]
  },
  {
   "cell_type": "code",
   "execution_count": null,
   "id": "852bd1e5",
   "metadata": {},
   "outputs": [],
   "source": []
  },
  {
   "cell_type": "code",
   "execution_count": null,
   "id": "8a24e33b",
   "metadata": {},
   "outputs": [],
   "source": []
  },
  {
   "cell_type": "markdown",
   "id": "28d4fb17",
   "metadata": {
    "slideshow": {
     "slide_type": "slide"
    }
   },
   "source": [
    "# Clases en Python\n",
    "\n",
    "Una clase es un tipo de objeto.\n",
    "```python\n",
    "class Perro:\n",
    "    def __init__(self, talla, nariz):\n",
    "        self.size = talla\n",
    "        self.nose = nariz\n",
    "    pass\n",
    "```\n",
    "\n",
    "Una instancia (instance, en inglés) es un ejemplo de objeto.\n",
    "\n",
    "```python\n",
    "\n",
    "# pug es una instancia del objeto Perro\n",
    "pug = Perro(30, \"chata\")\n",
    "```"
   ]
  },
  {
   "cell_type": "markdown",
   "id": "b61994e8",
   "metadata": {
    "slideshow": {
     "slide_type": "slide"
    }
   },
   "source": [
    "Las Clases en Python son un bloque fundamental de la construcción de programas en Python.  \n",
    "\n",
    "Permiten agrupar lógicamente nuestros datos y funciones para reutilizarlas posteriormente y construir sobre estas clases.  \n",
    "\n",
    "No serán utilizadas frecuentemente "
   ]
  },
  {
   "cell_type": "code",
   "execution_count": null,
   "id": "91d2efc8",
   "metadata": {
    "slideshow": {
     "slide_type": "slide"
    }
   },
   "outputs": [],
   "source": [
    "# Automatizar ciertos procesos\n",
    "\n",
    "# self es la instancia, o el constructor en otros lenguajes.\n",
    "# self es un argumento \"fantasma\", los demás son argumentos normales\n",
    "\n",
    "# Las clases inician con mayúscula\n"
   ]
  },
  {
   "cell_type": "code",
   "execution_count": null,
   "id": "04b0687c",
   "metadata": {
    "slideshow": {
     "slide_type": "slide"
    }
   },
   "outputs": [],
   "source": []
  },
  {
   "cell_type": "code",
   "execution_count": null,
   "id": "489ce0e0",
   "metadata": {},
   "outputs": [],
   "source": []
  },
  {
   "cell_type": "code",
   "execution_count": null,
   "id": "7a8caad3",
   "metadata": {},
   "outputs": [],
   "source": []
  },
  {
   "cell_type": "code",
   "execution_count": null,
   "id": "c942ad57",
   "metadata": {
    "slideshow": {
     "slide_type": "slide"
    }
   },
   "outputs": [],
   "source": []
  },
  {
   "cell_type": "code",
   "execution_count": null,
   "id": "32130ba7",
   "metadata": {},
   "outputs": [],
   "source": []
  },
  {
   "cell_type": "markdown",
   "id": "6efd04a2",
   "metadata": {
    "slideshow": {
     "slide_type": "slide"
    }
   },
   "source": [
    "# Introducción a Numpy y la estructura Dataframe"
   ]
  },
  {
   "cell_type": "code",
   "execution_count": null,
   "id": "6da0e475",
   "metadata": {},
   "outputs": [],
   "source": [
    "import numpy as np\n",
    "\n",
    "# Se abrevia generalmente para acceder a sus método más rápido\n",
    "\n",
    "# Por convención, ciertas librerías utilizan abreviaturas estándar."
   ]
  },
  {
   "cell_type": "markdown",
   "id": "7f426eb3",
   "metadata": {
    "slideshow": {
     "slide_type": "slide"
    }
   },
   "source": [
    "### Numerical Python (Numpy)\n",
    "\n",
    "Una de las librerías más utilizadas para manejo de datos.\n",
    "\n",
    "Más rápido que utilizar listas con muchos métodos."
   ]
  },
  {
   "cell_type": "markdown",
   "id": "8f8df38d",
   "metadata": {},
   "source": [
    "La unidad básica es un **numpy array**:  \n",
    "\n",
    "Una forma de vector, similar a una lista pero con más funciones"
   ]
  },
  {
   "cell_type": "code",
   "execution_count": null,
   "id": "998ad776",
   "metadata": {},
   "outputs": [],
   "source": [
    "type(np.array([1,2,3,4]))\n",
    "type([1,2,3,4])"
   ]
  },
  {
   "cell_type": "code",
   "execution_count": null,
   "id": "ba153f76",
   "metadata": {
    "slideshow": {
     "slide_type": "slide"
    }
   },
   "outputs": [],
   "source": [
    "# Array (es un tipo de lista, iterable y permite operaciones vectoriales)\n",
    "\n",
    "numeros = np.array([1,2,3,4])\n",
    "floats = np.array([1.3,2.5,3.7,4.9])\n",
    "strings = np.array(['a','b','c','d'])"
   ]
  },
  {
   "cell_type": "code",
   "execution_count": null,
   "id": "c3b5f167",
   "metadata": {},
   "outputs": [],
   "source": [
    "print(numeros.dtype)\n",
    "print(floats.dtype)\n",
    "print(strings.dtype)"
   ]
  },
  {
   "cell_type": "code",
   "execution_count": null,
   "id": "1543e54a",
   "metadata": {
    "slideshow": {
     "slide_type": "slide"
    }
   },
   "outputs": [],
   "source": [
    "# Operaciones vectoriales\n",
    "int_array * 5"
   ]
  },
  {
   "cell_type": "code",
   "execution_count": null,
   "id": "a1987d2b",
   "metadata": {},
   "outputs": [],
   "source": [
    "# En cambio con una lista se repite 5 veces\n",
    "[1,2,3,4]*5"
   ]
  },
  {
   "cell_type": "code",
   "execution_count": null,
   "id": "fce3c7b5",
   "metadata": {},
   "outputs": [],
   "source": [
    "int_array.shape"
   ]
  },
  {
   "cell_type": "code",
   "execution_count": null,
   "id": "4e2dcc0a",
   "metadata": {
    "slideshow": {
     "slide_type": "slide"
    }
   },
   "outputs": [],
   "source": [
    "# Para matrices defino dos listas\n",
    "\n",
    "A = np.array([[1,2],[3,4]])\n",
    "print(A)"
   ]
  },
  {
   "cell_type": "code",
   "execution_count": null,
   "id": "1f85ffd7",
   "metadata": {},
   "outputs": [],
   "source": [
    "A.shape"
   ]
  },
  {
   "cell_type": "code",
   "execution_count": null,
   "id": "f288ef07",
   "metadata": {},
   "outputs": [],
   "source": [
    "# Para tener ayuda sobre un objeto\n",
    "# ?A\n",
    "# ?A.shape"
   ]
  },
  {
   "cell_type": "code",
   "execution_count": null,
   "id": "39aa559d",
   "metadata": {},
   "outputs": [],
   "source": []
  }
 ],
 "metadata": {
  "celltoolbar": "Slideshow",
  "kernelspec": {
   "display_name": "Python 3",
   "language": "python",
   "name": "python3"
  },
  "language_info": {
   "codemirror_mode": {
    "name": "ipython",
    "version": 3
   },
   "file_extension": ".py",
   "mimetype": "text/x-python",
   "name": "python",
   "nbconvert_exporter": "python",
   "pygments_lexer": "ipython3",
   "version": "3.8.8"
  }
 },
 "nbformat": 4,
 "nbformat_minor": 5
}
